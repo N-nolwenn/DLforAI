{
  "cells": [
    {
      "cell_type": "markdown",
      "metadata": {
        "id": "tpgMagWqWENJ"
      },
      "source": [
        "This is a companion notebook for the book [Deep Learning with Python, Second Edition](https://www.manning.com/books/deep-learning-with-python-second-edition?a_aid=keras&a_bid=76564dff). For readability, it only contains runnable code blocks and section titles, and omits everything else in the book: text paragraphs, figures, and pseudocode.\n",
        "\n",
        "**If you want to be able to follow what's going on, I recommend reading the notebook side by side with your copy of the book.**\n",
        "\n",
        "This notebook was generated for TensorFlow 2.6."
      ]
    },
    {
      "cell_type": "markdown",
      "metadata": {
        "id": "61yR_khUWENO"
      },
      "source": [
        "# The mathematical building blocks of neural networks"
      ]
    },
    {
      "cell_type": "markdown",
      "metadata": {
        "id": "Ln-NEk-hWENP"
      },
      "source": [
        "## A first look at a neural network"
      ]
    },
    {
      "cell_type": "markdown",
      "metadata": {
        "id": "i7QxbvhEWENP"
      },
      "source": [
        "**Loading the MNIST dataset in Keras**"
      ]
    },
    {
      "cell_type": "code",
      "source": [
        "import tensorflow\n",
        "#load tensorflow module\n",
        "#AJOUT "
      ],
      "metadata": {
        "id": "gnPiSY5AW2PF"
      },
      "execution_count": 1,
      "outputs": []
    },
    {
      "cell_type": "code",
      "source": [
        "tensorflow.keras.datasets.mnist.load_data?\n",
        "#q°mark is to see characteristic of f°\n",
        "#AJOUT"
      ],
      "metadata": {
        "id": "Jo_-XbvNYK75"
      },
      "execution_count": 2,
      "outputs": []
    },
    {
      "cell_type": "markdown",
      "source": [
        "MNIST data analysis example\n",
        "\n",
        "Hand written digit (28,28 pixels) for 10 categories (0-9) \n",
        "\n",
        "60000 training set & 10000 test set"
      ],
      "metadata": {
        "id": "g1-GUZK2ypz9"
      }
    },
    {
      "cell_type": "code",
      "source": [
        "(train_images, train_labels), (test_images, test_labels) = tensorflow.keras.datasets.mnist.load_data()\n",
        "#ouput = loading data\n",
        "#same as lines 4&6\n",
        "#AJOUT"
      ],
      "metadata": {
        "id": "TUaJRaJZXJMz",
        "outputId": "7446d620-c215-4851-90e7-53ee5d8d334a",
        "colab": {
          "base_uri": "https://localhost:8080/"
        }
      },
      "execution_count": 3,
      "outputs": [
        {
          "output_type": "stream",
          "name": "stdout",
          "text": [
            "Downloading data from https://storage.googleapis.com/tensorflow/tf-keras-datasets/mnist.npz\n",
            "11493376/11490434 [==============================] - 0s 0us/step\n",
            "11501568/11490434 [==============================] - 0s 0us/step\n"
          ]
        }
      ]
    },
    {
      "cell_type": "code",
      "execution_count": 4,
      "metadata": {
        "id": "twUmkwihWENQ"
      },
      "outputs": [],
      "source": [
        "from tensorflow.keras.datasets import mnist \n",
        "#Loading the MNIST dataset in Keras\n",
        "(train_images, train_labels), (test_images, test_labels) = mnist.load_data() \n",
        "#this is how we load dataset.\n",
        "#same as line 3&6"
      ]
    },
    {
      "cell_type": "code",
      "source": [
        "import tensorflow as tf\n",
        "#renommer tensorflow module pour un nom plus court\n",
        "#AJOUT"
      ],
      "metadata": {
        "id": "w9SXY74JZuE4"
      },
      "execution_count": 5,
      "outputs": []
    },
    {
      "cell_type": "code",
      "source": [
        "(train_images, train_labels), (test_images, test_labels) = tf.keras.datasets.mnist.load_data()\n",
        "#same as lines 3&4\n",
        "#AJOUT"
      ],
      "metadata": {
        "id": "YheIiimRZ25e"
      },
      "execution_count": 6,
      "outputs": []
    },
    {
      "cell_type": "markdown",
      "source": [
        "**We are now gonna check the data \"*train_images*\" \"*train_labels*\" \"*test_images*\" \"*test_labels*\"**"
      ],
      "metadata": {
        "id": "mhK-dnGwaYTW"
      }
    },
    {
      "cell_type": "code",
      "source": [
        "train_images\n",
        "#see this data\n",
        "#AJOUT"
      ],
      "metadata": {
        "colab": {
          "base_uri": "https://localhost:8080/"
        },
        "id": "nGMXnTC8ckYE",
        "outputId": "b04297d0-f0f8-45ab-d3fd-65121e53e908"
      },
      "execution_count": 7,
      "outputs": [
        {
          "output_type": "execute_result",
          "data": {
            "text/plain": [
              "array([[[0, 0, 0, ..., 0, 0, 0],\n",
              "        [0, 0, 0, ..., 0, 0, 0],\n",
              "        [0, 0, 0, ..., 0, 0, 0],\n",
              "        ...,\n",
              "        [0, 0, 0, ..., 0, 0, 0],\n",
              "        [0, 0, 0, ..., 0, 0, 0],\n",
              "        [0, 0, 0, ..., 0, 0, 0]],\n",
              "\n",
              "       [[0, 0, 0, ..., 0, 0, 0],\n",
              "        [0, 0, 0, ..., 0, 0, 0],\n",
              "        [0, 0, 0, ..., 0, 0, 0],\n",
              "        ...,\n",
              "        [0, 0, 0, ..., 0, 0, 0],\n",
              "        [0, 0, 0, ..., 0, 0, 0],\n",
              "        [0, 0, 0, ..., 0, 0, 0]],\n",
              "\n",
              "       [[0, 0, 0, ..., 0, 0, 0],\n",
              "        [0, 0, 0, ..., 0, 0, 0],\n",
              "        [0, 0, 0, ..., 0, 0, 0],\n",
              "        ...,\n",
              "        [0, 0, 0, ..., 0, 0, 0],\n",
              "        [0, 0, 0, ..., 0, 0, 0],\n",
              "        [0, 0, 0, ..., 0, 0, 0]],\n",
              "\n",
              "       ...,\n",
              "\n",
              "       [[0, 0, 0, ..., 0, 0, 0],\n",
              "        [0, 0, 0, ..., 0, 0, 0],\n",
              "        [0, 0, 0, ..., 0, 0, 0],\n",
              "        ...,\n",
              "        [0, 0, 0, ..., 0, 0, 0],\n",
              "        [0, 0, 0, ..., 0, 0, 0],\n",
              "        [0, 0, 0, ..., 0, 0, 0]],\n",
              "\n",
              "       [[0, 0, 0, ..., 0, 0, 0],\n",
              "        [0, 0, 0, ..., 0, 0, 0],\n",
              "        [0, 0, 0, ..., 0, 0, 0],\n",
              "        ...,\n",
              "        [0, 0, 0, ..., 0, 0, 0],\n",
              "        [0, 0, 0, ..., 0, 0, 0],\n",
              "        [0, 0, 0, ..., 0, 0, 0]],\n",
              "\n",
              "       [[0, 0, 0, ..., 0, 0, 0],\n",
              "        [0, 0, 0, ..., 0, 0, 0],\n",
              "        [0, 0, 0, ..., 0, 0, 0],\n",
              "        ...,\n",
              "        [0, 0, 0, ..., 0, 0, 0],\n",
              "        [0, 0, 0, ..., 0, 0, 0],\n",
              "        [0, 0, 0, ..., 0, 0, 0]]], dtype=uint8)"
            ]
          },
          "metadata": {},
          "execution_count": 7
        }
      ]
    },
    {
      "cell_type": "code",
      "execution_count": 8,
      "metadata": {
        "colab": {
          "base_uri": "https://localhost:8080/"
        },
        "id": "66Yg2hi0WENS",
        "outputId": "18529f96-d8e1-4963-ccae-6ff6ae9c0dbb"
      },
      "outputs": [
        {
          "output_type": "execute_result",
          "data": {
            "text/plain": [
              "(60000, 28, 28)"
            ]
          },
          "metadata": {},
          "execution_count": 8
        }
      ],
      "source": [
        "train_images.shape\n",
        "#Check the shape of the data\n",
        "#we have 60000 number of datasets for each one it's 28x28 fixers"
      ]
    },
    {
      "cell_type": "code",
      "execution_count": 9,
      "metadata": {
        "colab": {
          "base_uri": "https://localhost:8080/"
        },
        "id": "Wpy6i46nWENT",
        "outputId": "96785470-645d-43f3-9b70-9261ca8ef248"
      },
      "outputs": [
        {
          "output_type": "execute_result",
          "data": {
            "text/plain": [
              "60000"
            ]
          },
          "metadata": {},
          "execution_count": 9
        }
      ],
      "source": [
        "len(train_labels)\n",
        "#Lengh of train_labels is 60000"
      ]
    },
    {
      "cell_type": "code",
      "execution_count": 10,
      "metadata": {
        "colab": {
          "base_uri": "https://localhost:8080/"
        },
        "id": "xND_h4a-WENT",
        "outputId": "a1dcf2ca-f748-4c98-e8ee-62f058ad225d"
      },
      "outputs": [
        {
          "output_type": "execute_result",
          "data": {
            "text/plain": [
              "array([5, 0, 4, ..., 5, 6, 8], dtype=uint8)"
            ]
          },
          "metadata": {},
          "execution_count": 10
        }
      ],
      "source": [
        "train_labels\n",
        "#see the data\n",
        "#sequence of numbers"
      ]
    },
    {
      "cell_type": "code",
      "source": [
        "test_images"
      ],
      "metadata": {
        "colab": {
          "base_uri": "https://localhost:8080/"
        },
        "id": "N3IyO8mXzkCi",
        "outputId": "ef561a48-db18-4313-c220-814f1945864b"
      },
      "execution_count": 13,
      "outputs": [
        {
          "output_type": "execute_result",
          "data": {
            "text/plain": [
              "array([[[0, 0, 0, ..., 0, 0, 0],\n",
              "        [0, 0, 0, ..., 0, 0, 0],\n",
              "        [0, 0, 0, ..., 0, 0, 0],\n",
              "        ...,\n",
              "        [0, 0, 0, ..., 0, 0, 0],\n",
              "        [0, 0, 0, ..., 0, 0, 0],\n",
              "        [0, 0, 0, ..., 0, 0, 0]],\n",
              "\n",
              "       [[0, 0, 0, ..., 0, 0, 0],\n",
              "        [0, 0, 0, ..., 0, 0, 0],\n",
              "        [0, 0, 0, ..., 0, 0, 0],\n",
              "        ...,\n",
              "        [0, 0, 0, ..., 0, 0, 0],\n",
              "        [0, 0, 0, ..., 0, 0, 0],\n",
              "        [0, 0, 0, ..., 0, 0, 0]],\n",
              "\n",
              "       [[0, 0, 0, ..., 0, 0, 0],\n",
              "        [0, 0, 0, ..., 0, 0, 0],\n",
              "        [0, 0, 0, ..., 0, 0, 0],\n",
              "        ...,\n",
              "        [0, 0, 0, ..., 0, 0, 0],\n",
              "        [0, 0, 0, ..., 0, 0, 0],\n",
              "        [0, 0, 0, ..., 0, 0, 0]],\n",
              "\n",
              "       ...,\n",
              "\n",
              "       [[0, 0, 0, ..., 0, 0, 0],\n",
              "        [0, 0, 0, ..., 0, 0, 0],\n",
              "        [0, 0, 0, ..., 0, 0, 0],\n",
              "        ...,\n",
              "        [0, 0, 0, ..., 0, 0, 0],\n",
              "        [0, 0, 0, ..., 0, 0, 0],\n",
              "        [0, 0, 0, ..., 0, 0, 0]],\n",
              "\n",
              "       [[0, 0, 0, ..., 0, 0, 0],\n",
              "        [0, 0, 0, ..., 0, 0, 0],\n",
              "        [0, 0, 0, ..., 0, 0, 0],\n",
              "        ...,\n",
              "        [0, 0, 0, ..., 0, 0, 0],\n",
              "        [0, 0, 0, ..., 0, 0, 0],\n",
              "        [0, 0, 0, ..., 0, 0, 0]],\n",
              "\n",
              "       [[0, 0, 0, ..., 0, 0, 0],\n",
              "        [0, 0, 0, ..., 0, 0, 0],\n",
              "        [0, 0, 0, ..., 0, 0, 0],\n",
              "        ...,\n",
              "        [0, 0, 0, ..., 0, 0, 0],\n",
              "        [0, 0, 0, ..., 0, 0, 0],\n",
              "        [0, 0, 0, ..., 0, 0, 0]]], dtype=uint8)"
            ]
          },
          "metadata": {},
          "execution_count": 13
        }
      ]
    },
    {
      "cell_type": "code",
      "execution_count": 11,
      "metadata": {
        "colab": {
          "base_uri": "https://localhost:8080/"
        },
        "id": "PIhSeLXuWENU",
        "outputId": "a3dfc075-88c3-42ea-cf86-6f24d36166b1"
      },
      "outputs": [
        {
          "output_type": "execute_result",
          "data": {
            "text/plain": [
              "(10000, 28, 28)"
            ]
          },
          "metadata": {},
          "execution_count": 11
        }
      ],
      "source": [
        "test_images.shape\n",
        "#for the test set we have 10000 observations "
      ]
    },
    {
      "cell_type": "code",
      "execution_count": 15,
      "metadata": {
        "colab": {
          "base_uri": "https://localhost:8080/"
        },
        "id": "Ycl4BvO3WENW",
        "outputId": "98120eeb-2d80-4260-a4a2-61bd79d64e34"
      },
      "outputs": [
        {
          "output_type": "execute_result",
          "data": {
            "text/plain": [
              "array([7, 2, 1, ..., 4, 5, 6], dtype=uint8)"
            ]
          },
          "metadata": {},
          "execution_count": 15
        }
      ],
      "source": [
        "test_labels\n",
        "#see the data "
      ]
    },
    {
      "cell_type": "code",
      "execution_count": 16,
      "metadata": {
        "colab": {
          "base_uri": "https://localhost:8080/"
        },
        "id": "qCws9uDwWENW",
        "outputId": "e30d4e5f-b96c-4b1a-b37c-ae5839e4961d"
      },
      "outputs": [
        {
          "output_type": "execute_result",
          "data": {
            "text/plain": [
              "10000"
            ]
          },
          "metadata": {},
          "execution_count": 16
        }
      ],
      "source": [
        "len(test_labels)\n",
        "#lengh of test_labels is 10000"
      ]
    },
    {
      "cell_type": "markdown",
      "metadata": {
        "id": "4n6hQbGdWENX"
      },
      "source": [
        "**The network architecture**"
      ]
    },
    {
      "cell_type": "markdown",
      "source": [
        "**First newark network example ***"
      ],
      "metadata": {
        "id": "z3WB1o9pnC4T"
      }
    },
    {
      "cell_type": "markdown",
      "source": [
        "Core building block of NN is layers\n",
        "\n",
        "Layers extract representations\n",
        "\n",
        "This step define our model f(x; weights) "
      ],
      "metadata": {
        "id": "ICqVD0Vvz043"
      }
    },
    {
      "cell_type": "code",
      "execution_count": 18,
      "metadata": {
        "id": "VWmBy8TIWENX"
      },
      "outputs": [],
      "source": [
        "from tensorflow import keras\n",
        "from tensorflow.keras import layers #we define our model using layers from tf keras\n",
        "#to import the dense layers, we need to import layers defined from the keras\n",
        "model = keras.Sequential([\n",
        "#using sequential layer design we can define the model sequentially\n",
        "    layers.Dense(512, activation=\"relu\"),\n",
        "#dimension of layer 1 is \"512\" the activation f° sigma is \"relu\"\n",
        "    layers.Dense(10, activation=\"softmax\")\n",
        "])"
      ]
    },
    {
      "cell_type": "markdown",
      "metadata": {
        "id": "bpc8tBsuWENY"
      },
      "source": [
        "**The compilation step**"
      ]
    },
    {
      "cell_type": "markdown",
      "source": [
        "Loss function: how the network measure its performance\n",
        "\n",
        "Optimizer: mechanism through which the network will update itself based on the data it sees and its loss function\n",
        "\n",
        "Metrics to monitor during training and testing: accuracy"
      ],
      "metadata": {
        "id": "yoKs0TOe0IrD"
      }
    },
    {
      "cell_type": "code",
      "execution_count": 19,
      "metadata": {
        "id": "87TJ_xDoWENY"
      },
      "outputs": [],
      "source": [
        "model.compile(optimizer=\"rmsprop\",\n",
        "              loss=\"sparse_categorical_crossentropy\",\n",
        "              metrics=[\"accuracy\"])\n",
        "#optimizer=mechanism through which the network will update itself based on the data it sees and its loss function\n",
        "#loss f°=how the network measure its performance\n",
        "#metrics to monitor during training and testing = accuracy\n",
        "\n",
        "#at the training stage we are monitoring this metric value to see if it increases or decreases"
      ]
    },
    {
      "cell_type": "markdown",
      "metadata": {
        "id": "slRJCKRlWENZ"
      },
      "source": [
        "**Preparing the image data**"
      ]
    },
    {
      "cell_type": "code",
      "source": [
        "train_images[0].shape\n",
        "#look at the dim of the first data set of train_images (0)\n",
        "#its (28,28)"
      ],
      "metadata": {
        "colab": {
          "base_uri": "https://localhost:8080/"
        },
        "id": "RNJUMdAuwFvh",
        "outputId": "9fb37964-c603-4b51-fcad-7eb27eec8a83"
      },
      "execution_count": 20,
      "outputs": [
        {
          "output_type": "execute_result",
          "data": {
            "text/plain": [
              "(28, 28)"
            ]
          },
          "metadata": {},
          "execution_count": 20
        }
      ]
    },
    {
      "cell_type": "code",
      "source": [
        "#we would like to change this dimension w/ 2 element for just dimension w/ just 1 element. \n",
        "train_images = train_images.reshape((60000, 28 * 28))"
      ],
      "metadata": {
        "id": "f0grTCOgwqnO"
      },
      "execution_count": 21,
      "outputs": []
    },
    {
      "cell_type": "code",
      "source": [
        "train_images[0].shape\n",
        "#now the dim is (784,)"
      ],
      "metadata": {
        "colab": {
          "base_uri": "https://localhost:8080/"
        },
        "id": "ntvUl3qmxIrA",
        "outputId": "39a9392c-3bb4-4999-a457-36da4d6d5ad8"
      },
      "execution_count": 22,
      "outputs": [
        {
          "output_type": "execute_result",
          "data": {
            "text/plain": [
              "(784,)"
            ]
          },
          "metadata": {},
          "execution_count": 22
        }
      ]
    },
    {
      "cell_type": "code",
      "source": [
        "#As a result the shape of the all training images become (60000, 784)\n",
        "train_images.shape"
      ],
      "metadata": {
        "colab": {
          "base_uri": "https://localhost:8080/"
        },
        "id": "moN0KK-9xTsY",
        "outputId": "294a4c00-39a3-46e3-ea5f-dd11d871e81b"
      },
      "execution_count": 23,
      "outputs": [
        {
          "output_type": "execute_result",
          "data": {
            "text/plain": [
              "(60000, 784)"
            ]
          },
          "metadata": {},
          "execution_count": 23
        }
      ]
    },
    {
      "cell_type": "code",
      "source": [
        "#Now let's take a look again at the first train data\n",
        "train_images[0]"
      ],
      "metadata": {
        "colab": {
          "base_uri": "https://localhost:8080/"
        },
        "id": "t6LCOQiXxqcA",
        "outputId": "4697df9e-e698-4d75-e09d-3ec488771f68"
      },
      "execution_count": 24,
      "outputs": [
        {
          "output_type": "execute_result",
          "data": {
            "text/plain": [
              "array([  0,   0,   0,   0,   0,   0,   0,   0,   0,   0,   0,   0,   0,\n",
              "         0,   0,   0,   0,   0,   0,   0,   0,   0,   0,   0,   0,   0,\n",
              "         0,   0,   0,   0,   0,   0,   0,   0,   0,   0,   0,   0,   0,\n",
              "         0,   0,   0,   0,   0,   0,   0,   0,   0,   0,   0,   0,   0,\n",
              "         0,   0,   0,   0,   0,   0,   0,   0,   0,   0,   0,   0,   0,\n",
              "         0,   0,   0,   0,   0,   0,   0,   0,   0,   0,   0,   0,   0,\n",
              "         0,   0,   0,   0,   0,   0,   0,   0,   0,   0,   0,   0,   0,\n",
              "         0,   0,   0,   0,   0,   0,   0,   0,   0,   0,   0,   0,   0,\n",
              "         0,   0,   0,   0,   0,   0,   0,   0,   0,   0,   0,   0,   0,\n",
              "         0,   0,   0,   0,   0,   0,   0,   0,   0,   0,   0,   0,   0,\n",
              "         0,   0,   0,   0,   0,   0,   0,   0,   0,   0,   0,   0,   0,\n",
              "         0,   0,   0,   0,   0,   0,   0,   0,   0,   3,  18,  18,  18,\n",
              "       126, 136, 175,  26, 166, 255, 247, 127,   0,   0,   0,   0,   0,\n",
              "         0,   0,   0,   0,   0,   0,   0,  30,  36,  94, 154, 170, 253,\n",
              "       253, 253, 253, 253, 225, 172, 253, 242, 195,  64,   0,   0,   0,\n",
              "         0,   0,   0,   0,   0,   0,   0,   0,  49, 238, 253, 253, 253,\n",
              "       253, 253, 253, 253, 253, 251,  93,  82,  82,  56,  39,   0,   0,\n",
              "         0,   0,   0,   0,   0,   0,   0,   0,   0,   0,  18, 219, 253,\n",
              "       253, 253, 253, 253, 198, 182, 247, 241,   0,   0,   0,   0,   0,\n",
              "         0,   0,   0,   0,   0,   0,   0,   0,   0,   0,   0,   0,   0,\n",
              "        80, 156, 107, 253, 253, 205,  11,   0,  43, 154,   0,   0,   0,\n",
              "         0,   0,   0,   0,   0,   0,   0,   0,   0,   0,   0,   0,   0,\n",
              "         0,   0,   0,  14,   1, 154, 253,  90,   0,   0,   0,   0,   0,\n",
              "         0,   0,   0,   0,   0,   0,   0,   0,   0,   0,   0,   0,   0,\n",
              "         0,   0,   0,   0,   0,   0,   0, 139, 253, 190,   2,   0,   0,\n",
              "         0,   0,   0,   0,   0,   0,   0,   0,   0,   0,   0,   0,   0,\n",
              "         0,   0,   0,   0,   0,   0,   0,   0,   0,  11, 190, 253,  70,\n",
              "         0,   0,   0,   0,   0,   0,   0,   0,   0,   0,   0,   0,   0,\n",
              "         0,   0,   0,   0,   0,   0,   0,   0,   0,   0,   0,   0,  35,\n",
              "       241, 225, 160, 108,   1,   0,   0,   0,   0,   0,   0,   0,   0,\n",
              "         0,   0,   0,   0,   0,   0,   0,   0,   0,   0,   0,   0,   0,\n",
              "         0,   0,  81, 240, 253, 253, 119,  25,   0,   0,   0,   0,   0,\n",
              "         0,   0,   0,   0,   0,   0,   0,   0,   0,   0,   0,   0,   0,\n",
              "         0,   0,   0,   0,   0,  45, 186, 253, 253, 150,  27,   0,   0,\n",
              "         0,   0,   0,   0,   0,   0,   0,   0,   0,   0,   0,   0,   0,\n",
              "         0,   0,   0,   0,   0,   0,   0,   0,  16,  93, 252, 253, 187,\n",
              "         0,   0,   0,   0,   0,   0,   0,   0,   0,   0,   0,   0,   0,\n",
              "         0,   0,   0,   0,   0,   0,   0,   0,   0,   0,   0,   0, 249,\n",
              "       253, 249,  64,   0,   0,   0,   0,   0,   0,   0,   0,   0,   0,\n",
              "         0,   0,   0,   0,   0,   0,   0,   0,   0,   0,   0,  46, 130,\n",
              "       183, 253, 253, 207,   2,   0,   0,   0,   0,   0,   0,   0,   0,\n",
              "         0,   0,   0,   0,   0,   0,   0,   0,   0,   0,   0,  39, 148,\n",
              "       229, 253, 253, 253, 250, 182,   0,   0,   0,   0,   0,   0,   0,\n",
              "         0,   0,   0,   0,   0,   0,   0,   0,   0,   0,   0,  24, 114,\n",
              "       221, 253, 253, 253, 253, 201,  78,   0,   0,   0,   0,   0,   0,\n",
              "         0,   0,   0,   0,   0,   0,   0,   0,   0,   0,   0,  23,  66,\n",
              "       213, 253, 253, 253, 253, 198,  81,   2,   0,   0,   0,   0,   0,\n",
              "         0,   0,   0,   0,   0,   0,   0,   0,   0,   0,   0,  18, 171,\n",
              "       219, 253, 253, 253, 253, 195,  80,   9,   0,   0,   0,   0,   0,\n",
              "         0,   0,   0,   0,   0,   0,   0,   0,   0,   0,   0,  55, 172,\n",
              "       226, 253, 253, 253, 253, 244, 133,  11,   0,   0,   0,   0,   0,\n",
              "         0,   0,   0,   0,   0,   0,   0,   0,   0,   0,   0,   0,   0,\n",
              "       136, 253, 253, 253, 212, 135, 132,  16,   0,   0,   0,   0,   0,\n",
              "         0,   0,   0,   0,   0,   0,   0,   0,   0,   0,   0,   0,   0,\n",
              "         0,   0,   0,   0,   0,   0,   0,   0,   0,   0,   0,   0,   0,\n",
              "         0,   0,   0,   0,   0,   0,   0,   0,   0,   0,   0,   0,   0,\n",
              "         0,   0,   0,   0,   0,   0,   0,   0,   0,   0,   0,   0,   0,\n",
              "         0,   0,   0,   0,   0,   0,   0,   0,   0,   0,   0,   0,   0,\n",
              "         0,   0,   0,   0,   0,   0,   0,   0,   0,   0,   0,   0,   0,\n",
              "         0,   0,   0,   0,   0,   0,   0,   0,   0,   0,   0,   0,   0,\n",
              "         0,   0,   0,   0], dtype=uint8)"
            ]
          },
          "metadata": {},
          "execution_count": 24
        }
      ]
    },
    {
      "cell_type": "code",
      "source": [
        "#to normalize the values of the first training data (which are from 0 to 255 we divide by 255)\n",
        "train_images = train_images.astype(\"float32\") / 255"
      ],
      "metadata": {
        "id": "oy7qYs-Vx2qr"
      },
      "execution_count": 25,
      "outputs": []
    },
    {
      "cell_type": "code",
      "source": [
        "test_images = test_images.reshape((10000, 28 * 28))\n",
        "test_images = test_images.astype(\"float32\") / 255"
      ],
      "metadata": {
        "id": "fD3re4yJyLKJ"
      },
      "execution_count": 26,
      "outputs": []
    },
    {
      "cell_type": "code",
      "execution_count": 27,
      "metadata": {
        "id": "Q5H63B1EWENZ"
      },
      "outputs": [],
      "source": [
        "#we want to rescale the values from [0,255] to [0,1] so we divide by 255\n",
        "\n",
        "train_images = train_images.reshape((60000, 28 * 28))\n",
        "train_images = train_images.astype(\"float32\") / 255\n",
        "test_images = test_images.reshape((10000, 28 * 28))\n",
        "test_images = test_images.astype(\"float32\") / 255"
      ]
    },
    {
      "cell_type": "markdown",
      "metadata": {
        "id": "sibcJIM3WENZ"
      },
      "source": [
        "**\"Fitting\" the model**"
      ]
    },
    {
      "cell_type": "code",
      "execution_count": 28,
      "metadata": {
        "colab": {
          "base_uri": "https://localhost:8080/"
        },
        "id": "GyvBHZhcWENa",
        "outputId": "e963d45c-c90f-4de3-92e8-a5ce33f64549"
      },
      "outputs": [
        {
          "output_type": "stream",
          "name": "stdout",
          "text": [
            "Epoch 1/5\n",
            "469/469 [==============================] - 4s 3ms/step - loss: 1.4756 - accuracy: 0.6630\n",
            "Epoch 2/5\n",
            "469/469 [==============================] - 1s 3ms/step - loss: 0.5948 - accuracy: 0.8511\n",
            "Epoch 3/5\n",
            "469/469 [==============================] - 1s 3ms/step - loss: 0.4155 - accuracy: 0.8872\n",
            "Epoch 4/5\n",
            "469/469 [==============================] - 1s 3ms/step - loss: 0.3558 - accuracy: 0.9008\n",
            "Epoch 5/5\n",
            "469/469 [==============================] - 1s 3ms/step - loss: 0.3259 - accuracy: 0.9066\n"
          ]
        },
        {
          "output_type": "execute_result",
          "data": {
            "text/plain": [
              "<keras.callbacks.History at 0x7f1ca028da50>"
            ]
          },
          "metadata": {},
          "execution_count": 28
        }
      ],
      "source": [
        "model.fit(train_images, train_labels, epochs=5, batch_size=128)\n",
        "#epochs=5 means we are using the training data 5 times\n",
        "#batch_size means every iterations of the training we are using 128 batch size. \n",
        "\n",
        "#in the first round we have 60000 number of obs°\n",
        "#60000/128 (batch_size) = number of updates. \n",
        "\n",
        "#we proceed the training procedure using the previously defined mdoel with 2 layers. "
      ]
    },
    {
      "cell_type": "code",
      "source": [
        "#Finally we check the summary after this training\n",
        "#The first dense layer output is 512 and there are 401920 values\n",
        "#number of weight parameters inside of the W1 matrix and b1 matrix is 401920\n",
        "#the W1 matrix is 784x512\n",
        "#dim of b1 is 512\n",
        "#W1X+b1 = 784x512+512\n",
        "model.summary()"
      ],
      "metadata": {
        "colab": {
          "base_uri": "https://localhost:8080/"
        },
        "id": "QimPHSEbydUI",
        "outputId": "5a93e26b-7c4e-452d-d1b8-d11d1a8d7259"
      },
      "execution_count": 29,
      "outputs": [
        {
          "output_type": "stream",
          "name": "stdout",
          "text": [
            "Model: \"sequential\"\n",
            "_________________________________________________________________\n",
            " Layer (type)                Output Shape              Param #   \n",
            "=================================================================\n",
            " dense (Dense)               (None, 512)               401920    \n",
            "                                                                 \n",
            " dense_1 (Dense)             (None, 10)                5130      \n",
            "                                                                 \n",
            "=================================================================\n",
            "Total params: 407,050\n",
            "Trainable params: 407,050\n",
            "Non-trainable params: 0\n",
            "_________________________________________________________________\n"
          ]
        }
      ]
    },
    {
      "cell_type": "markdown",
      "metadata": {
        "id": "qFyD74srWENa"
      },
      "source": [
        "**Using the model to make predictions**"
      ]
    },
    {
      "cell_type": "code",
      "source": [
        "test_images.shape\n",
        "#we have 10000 of test_images"
      ],
      "metadata": {
        "colab": {
          "base_uri": "https://localhost:8080/"
        },
        "id": "nPHJmnaIzX5b",
        "outputId": "7e79a257-b81c-405f-de91-6e79b72fa9bf"
      },
      "execution_count": 30,
      "outputs": [
        {
          "output_type": "execute_result",
          "data": {
            "text/plain": [
              "(10000, 784)"
            ]
          },
          "metadata": {},
          "execution_count": 30
        }
      ]
    },
    {
      "cell_type": "code",
      "source": [
        "test_digits = test_images[0:10] #we take the first 10"
      ],
      "metadata": {
        "id": "5O5P87vAznA5"
      },
      "execution_count": 31,
      "outputs": []
    },
    {
      "cell_type": "code",
      "source": [
        "#then we run this previous code to obtain the result (10, 784)\n",
        "test_digits.shape"
      ],
      "metadata": {
        "colab": {
          "base_uri": "https://localhost:8080/"
        },
        "id": "s8d6DpNvzphz",
        "outputId": "34f16d54-ee16-459c-d207-e2082f9ee11f"
      },
      "execution_count": 32,
      "outputs": [
        {
          "output_type": "execute_result",
          "data": {
            "text/plain": [
              "(10, 784)"
            ]
          },
          "metadata": {},
          "execution_count": 32
        }
      ]
    },
    {
      "cell_type": "code",
      "execution_count": 33,
      "metadata": {
        "colab": {
          "base_uri": "https://localhost:8080/"
        },
        "id": "lo8E_urHWENb",
        "outputId": "9b5099b3-42cb-40de-af9a-508673280c0c"
      },
      "outputs": [
        {
          "output_type": "execute_result",
          "data": {
            "text/plain": [
              "array([4.4871100e-05, 7.1375673e-08, 1.9154477e-05, 4.7736822e-04,\n",
              "       1.9153517e-06, 3.0363735e-05, 1.1558327e-08, 9.9761689e-01,\n",
              "       8.4715693e-06, 1.8009178e-03], dtype=float32)"
            ]
          },
          "metadata": {},
          "execution_count": 33
        }
      ],
      "source": [
        "test_digits = test_images[0:10] #we take the first 10\n",
        "predictions = model.predict(test_digits) #we predicted the model for the first 10\n",
        "predictions[0] #we check the first prediction \n",
        "\n",
        "#as we can see the largest value is the prediction 7"
      ]
    },
    {
      "cell_type": "code",
      "execution_count": 34,
      "metadata": {
        "colab": {
          "base_uri": "https://localhost:8080/"
        },
        "id": "kcTdCCGaWENb",
        "outputId": "e8f2f856-ebf3-497c-c151-fa6996d100c2"
      },
      "outputs": [
        {
          "output_type": "execute_result",
          "data": {
            "text/plain": [
              "7"
            ]
          },
          "metadata": {},
          "execution_count": 34
        }
      ],
      "source": [
        "# the prediction '7' has the largest value\n",
        "predictions[0].argmax()"
      ]
    },
    {
      "cell_type": "code",
      "execution_count": 35,
      "metadata": {
        "colab": {
          "base_uri": "https://localhost:8080/"
        },
        "id": "07zCZUOXWENb",
        "outputId": "fc178abe-b5b4-405d-f202-854abf73280c"
      },
      "outputs": [
        {
          "output_type": "execute_result",
          "data": {
            "text/plain": [
              "0.9976169"
            ]
          },
          "metadata": {},
          "execution_count": 35
        }
      ],
      "source": [
        "#the preduction value of 7 is '0.997365'\n",
        "predictions[0][7]"
      ]
    },
    {
      "cell_type": "code",
      "execution_count": 36,
      "metadata": {
        "colab": {
          "base_uri": "https://localhost:8080/"
        },
        "id": "Ba4tUD4pWENc",
        "outputId": "e2fbbe58-766b-4fd7-92c9-49419dc5326f"
      },
      "outputs": [
        {
          "output_type": "execute_result",
          "data": {
            "text/plain": [
              "7"
            ]
          },
          "metadata": {},
          "execution_count": 36
        }
      ],
      "source": [
        "test_labels[0]\n",
        "#the prediction and value are both equal to '7' so we made a right prediction"
      ]
    },
    {
      "cell_type": "markdown",
      "metadata": {
        "id": "rDPHQke6WENc"
      },
      "source": [
        "**Evaluating the model on new data**"
      ]
    },
    {
      "cell_type": "code",
      "execution_count": 37,
      "metadata": {
        "colab": {
          "base_uri": "https://localhost:8080/"
        },
        "id": "bZhmTe0NWENc",
        "outputId": "f9061672-6de6-4d44-a646-2f06777b7bc7"
      },
      "outputs": [
        {
          "output_type": "stream",
          "name": "stdout",
          "text": [
            "313/313 [==============================] - 1s 2ms/step - loss: 0.3043 - accuracy: 0.9118\n",
            "test_acc: 0.9118000268936157\n"
          ]
        }
      ],
      "source": [
        "test_loss, test_acc = model.evaluate(test_images, test_labels) \n",
        "print(f\"test_acc: {test_acc}\")\n",
        "#evaluate the model by comapring test_labels and the predicted value.  \n",
        "#with the model.evaluate we feed the X= test_images and Y = test_labels for the test set and we get the evaluation score = test accuracy = 0.9767"
      ]
    },
    {
      "cell_type": "markdown",
      "metadata": {
        "id": "1O__6ny_WENc"
      },
      "source": [
        "## Data representations for neural networks"
      ]
    },
    {
      "cell_type": "markdown",
      "source": [
        "Tensor is a container for data\n",
        "\n",
        "0D tensors = scalars, dimension 0\n",
        "\n",
        "1D tensors = Vectors, dimension 1\n",
        "\n",
        "2D tensors = Matrices, dimension 2"
      ],
      "metadata": {
        "id": "UVdq_GI31fHM"
      }
    },
    {
      "cell_type": "markdown",
      "metadata": {
        "id": "i2u6NzLDWENd"
      },
      "source": [
        "### Scalars (rank-0 tensors)"
      ]
    },
    {
      "cell_type": "code",
      "execution_count": null,
      "metadata": {
        "colab": {
          "base_uri": "https://localhost:8080/"
        },
        "id": "Ti0r-UYzWENd",
        "outputId": "1a7981e0-2f3e-4fb5-9538-8c9e72c24ff6"
      },
      "outputs": [
        {
          "output_type": "execute_result",
          "data": {
            "text/plain": [
              "array(12)"
            ]
          },
          "metadata": {},
          "execution_count": 1
        }
      ],
      "source": [
        "import numpy as np\n",
        "x = np.array(12)\n",
        "x"
      ]
    },
    {
      "cell_type": "code",
      "execution_count": null,
      "metadata": {
        "colab": {
          "base_uri": "https://localhost:8080/"
        },
        "id": "NT_aZKo5WENd",
        "outputId": "64bf7fc4-2b8b-4a32-c465-a69d5c95ed26"
      },
      "outputs": [
        {
          "output_type": "execute_result",
          "data": {
            "text/plain": [
              "0"
            ]
          },
          "metadata": {},
          "execution_count": 2
        }
      ],
      "source": [
        "x.ndim"
      ]
    },
    {
      "cell_type": "markdown",
      "metadata": {
        "id": "4eGuZk0DWENd"
      },
      "source": [
        "### Vectors (rank-1 tensors)"
      ]
    },
    {
      "cell_type": "code",
      "execution_count": null,
      "metadata": {
        "colab": {
          "base_uri": "https://localhost:8080/"
        },
        "id": "QrrFzLURWENd",
        "outputId": "6d649e6d-2394-472c-ca9a-eb9d5eafbef7"
      },
      "outputs": [
        {
          "output_type": "execute_result",
          "data": {
            "text/plain": [
              "array([12,  3,  6, 14,  7])"
            ]
          },
          "metadata": {},
          "execution_count": 3
        }
      ],
      "source": [
        "x = np.array([12, 3, 6, 14, 7])\n",
        "x"
      ]
    },
    {
      "cell_type": "code",
      "execution_count": null,
      "metadata": {
        "colab": {
          "base_uri": "https://localhost:8080/"
        },
        "id": "jdsfrd85WENe",
        "outputId": "76e87835-f8dc-4841-a058-8376c683a626"
      },
      "outputs": [
        {
          "output_type": "execute_result",
          "data": {
            "text/plain": [
              "1"
            ]
          },
          "metadata": {},
          "execution_count": 4
        }
      ],
      "source": [
        "x.ndim"
      ]
    },
    {
      "cell_type": "markdown",
      "metadata": {
        "id": "rgu7apGXWENe"
      },
      "source": [
        "### Matrices (rank-2 tensors)"
      ]
    },
    {
      "cell_type": "code",
      "execution_count": null,
      "metadata": {
        "colab": {
          "base_uri": "https://localhost:8080/"
        },
        "id": "8g4Q6CWIWENe",
        "outputId": "7f048367-fb63-417e-9058-0f686767c68b"
      },
      "outputs": [
        {
          "output_type": "execute_result",
          "data": {
            "text/plain": [
              "2"
            ]
          },
          "metadata": {},
          "execution_count": 5
        }
      ],
      "source": [
        "x = np.array([[5, 78, 2, 34, 0],\n",
        "              [6, 79, 3, 35, 1],\n",
        "              [7, 80, 4, 36, 2]])\n",
        "x.ndim"
      ]
    },
    {
      "cell_type": "markdown",
      "metadata": {
        "id": "8-K8pZV5WENe"
      },
      "source": [
        "### Rank-3 and higher-rank tensors"
      ]
    },
    {
      "cell_type": "code",
      "execution_count": null,
      "metadata": {
        "colab": {
          "base_uri": "https://localhost:8080/"
        },
        "id": "n6xd_vZIWENf",
        "outputId": "9a5dd5eb-b901-4c9e-b1fb-19785b85ea71"
      },
      "outputs": [
        {
          "output_type": "execute_result",
          "data": {
            "text/plain": [
              "3"
            ]
          },
          "metadata": {},
          "execution_count": 6
        }
      ],
      "source": [
        "x = np.array([[[5, 78, 2, 34, 0],\n",
        "               [6, 79, 3, 35, 1],\n",
        "               [7, 80, 4, 36, 2]],\n",
        "              [[5, 78, 2, 34, 0],\n",
        "               [6, 79, 3, 35, 1],\n",
        "               [7, 80, 4, 36, 2]],\n",
        "              [[5, 78, 2, 34, 0],\n",
        "               [6, 79, 3, 35, 1],\n",
        "               [7, 80, 4, 36, 2]]])\n",
        "x.ndim"
      ]
    },
    {
      "cell_type": "markdown",
      "metadata": {
        "id": "55ngP-eOWENf"
      },
      "source": [
        "### Key attributes"
      ]
    },
    {
      "cell_type": "markdown",
      "source": [
        "Number of axes(rank) can be checked by .ndim for numpy objects.\n",
        "\n",
        "Shape: tuple of integers that describes how many dimensions the tensor has along each axis. Can be checked by .shape for numpy objects.\n",
        "\n",
        "Data type (dtype): type of the data in tensor ~ float32, uint8, float64... ~ "
      ],
      "metadata": {
        "id": "Sh72stJp1zyM"
      }
    },
    {
      "cell_type": "code",
      "execution_count": 38,
      "metadata": {
        "id": "V0IJ-9gYWENf"
      },
      "outputs": [],
      "source": [
        "from tensorflow.keras.datasets import mnist\n",
        "(train_images, train_labels), (test_images, test_labels) = mnist.load_data()"
      ]
    },
    {
      "cell_type": "code",
      "execution_count": 39,
      "metadata": {
        "colab": {
          "base_uri": "https://localhost:8080/"
        },
        "id": "1pglyv6TWENf",
        "outputId": "1fe77399-c5f1-498f-e109-34426cc1b4f7"
      },
      "outputs": [
        {
          "output_type": "execute_result",
          "data": {
            "text/plain": [
              "3"
            ]
          },
          "metadata": {},
          "execution_count": 39
        }
      ],
      "source": [
        "train_images.ndim"
      ]
    },
    {
      "cell_type": "code",
      "execution_count": 40,
      "metadata": {
        "colab": {
          "base_uri": "https://localhost:8080/"
        },
        "id": "ftAdJg-WWENg",
        "outputId": "5ffd87c7-9536-4dfe-f18e-24cc3617fcab"
      },
      "outputs": [
        {
          "output_type": "execute_result",
          "data": {
            "text/plain": [
              "(60000, 28, 28)"
            ]
          },
          "metadata": {},
          "execution_count": 40
        }
      ],
      "source": [
        "train_images.shape"
      ]
    },
    {
      "cell_type": "code",
      "execution_count": 41,
      "metadata": {
        "colab": {
          "base_uri": "https://localhost:8080/"
        },
        "id": "n20AOiiyWENg",
        "outputId": "ce630b22-0932-4032-f8f1-6c5d539c3c33"
      },
      "outputs": [
        {
          "output_type": "execute_result",
          "data": {
            "text/plain": [
              "dtype('uint8')"
            ]
          },
          "metadata": {},
          "execution_count": 41
        }
      ],
      "source": [
        "train_images.dtype"
      ]
    },
    {
      "cell_type": "markdown",
      "metadata": {
        "id": "4WcSuo-bWENg"
      },
      "source": [
        "**Displaying the fourth digit**"
      ]
    },
    {
      "cell_type": "code",
      "execution_count": 42,
      "metadata": {
        "colab": {
          "base_uri": "https://localhost:8080/",
          "height": 265
        },
        "id": "bu9tgieQWENg",
        "outputId": "b8d40a04-e568-4d69-8fd0-7e771110f1f5"
      },
      "outputs": [
        {
          "output_type": "display_data",
          "data": {
            "text/plain": [
              "<Figure size 432x288 with 1 Axes>"
            ],
            "image/png": "[encoded data removed]"
          },
          "metadata": {
            "needs_background": "light"
          }
        }
      ],
      "source": [
        "import matplotlib.pyplot as plt\n",
        "digit = train_images[4]\n",
        "plt.imshow(digit, cmap=plt.cm.binary)\n",
        "plt.show()"
      ]
    },
    {
      "cell_type": "code",
      "execution_count": 43,
      "metadata": {
        "colab": {
          "base_uri": "https://localhost:8080/"
        },
        "id": "Pa_IvjttWENh",
        "outputId": "43c9335e-e737-4eb5-92a2-5a3f23071f5f"
      },
      "outputs": [
        {
          "output_type": "execute_result",
          "data": {
            "text/plain": [
              "9"
            ]
          },
          "metadata": {},
          "execution_count": 43
        }
      ],
      "source": [
        "train_labels[4]"
      ]
    },
    {
      "cell_type": "markdown",
      "metadata": {
        "id": "dOdoSgyLWENh"
      },
      "source": [
        "### Manipulating tensors in NumPy"
      ]
    },
    {
      "cell_type": "code",
      "execution_count": 44,
      "metadata": {
        "colab": {
          "base_uri": "https://localhost:8080/"
        },
        "id": "ANw-hVmWWENh",
        "outputId": "e492d8f0-2d0d-4e15-cf44-7777950fc677"
      },
      "outputs": [
        {
          "output_type": "execute_result",
          "data": {
            "text/plain": [
              "(90, 28, 28)"
            ]
          },
          "metadata": {},
          "execution_count": 44
        }
      ],
      "source": [
        "my_slice = train_images[10:100]\n",
        "my_slice.shape"
      ]
    },
    {
      "cell_type": "code",
      "execution_count": 45,
      "metadata": {
        "colab": {
          "base_uri": "https://localhost:8080/"
        },
        "id": "AJ9HGGP0WENh",
        "outputId": "e8ba82ca-4d9c-46d8-bd58-ccd68d6a2c74"
      },
      "outputs": [
        {
          "output_type": "execute_result",
          "data": {
            "text/plain": [
              "(90, 28, 28)"
            ]
          },
          "metadata": {},
          "execution_count": 45
        }
      ],
      "source": [
        "my_slice = train_images[10:100, :, :]\n",
        "my_slice.shape"
      ]
    },
    {
      "cell_type": "code",
      "execution_count": 46,
      "metadata": {
        "colab": {
          "base_uri": "https://localhost:8080/"
        },
        "id": "-81_JAj6WENh",
        "outputId": "a16129c1-0372-4062-c3cd-353a50ee26c1"
      },
      "outputs": [
        {
          "output_type": "execute_result",
          "data": {
            "text/plain": [
              "(90, 28, 28)"
            ]
          },
          "metadata": {},
          "execution_count": 46
        }
      ],
      "source": [
        "my_slice = train_images[10:100, 0:28, 0:28]\n",
        "my_slice.shape"
      ]
    },
    {
      "cell_type": "markdown",
      "source": [
        "Select 14x14 pixels in bottom-right corner of all images"
      ],
      "metadata": {
        "id": "fXuGVyt62Z05"
      }
    },
    {
      "cell_type": "code",
      "execution_count": 47,
      "metadata": {
        "id": "J3NU9NypWENi"
      },
      "outputs": [],
      "source": [
        "my_slice = train_images[:, 14:, 14:]"
      ]
    },
    {
      "cell_type": "markdown",
      "source": [
        "Crop 14 x 14 pixels centered in the middle"
      ],
      "metadata": {
        "id": "Tjfvqvhs2e0a"
      }
    },
    {
      "cell_type": "code",
      "execution_count": 48,
      "metadata": {
        "id": "f0lzxSlOWENi"
      },
      "outputs": [],
      "source": [
        "my_slice = train_images[:, 7:-7, 7:-7]"
      ]
    },
    {
      "cell_type": "code",
      "source": [
        "plt.imshow(my_slice[4], cmap=plt.cm.binary)\n",
        "plt.show()"
      ],
      "metadata": {
        "colab": {
          "base_uri": "https://localhost:8080/",
          "height": 265
        },
        "id": "Mgb_0Rpd2i69",
        "outputId": "36cd1465-3699-4b8a-bba5-7bbbb98b09b7"
      },
      "execution_count": 49,
      "outputs": [
        {
          "output_type": "display_data",
          "data": {
            "text/plain": [
              "<Figure size 432x288 with 1 Axes>"
            ],
            "image/png": "[encoded data removed]"
          },
          "metadata": {
            "needs_background": "light"
          }
        }
      ]
    },
    {
      "cell_type": "markdown",
      "metadata": {
        "id": "EJTMIPHtWENi"
      },
      "source": [
        "### The notion of data batches"
      ]
    },
    {
      "cell_type": "markdown",
      "source": [
        "The 1st axis of data tensors in DL will be sample axis\n",
        "\n",
        "DL models don't process an entire dataset at once"
      ],
      "metadata": {
        "id": "B2vTnDy72v2N"
      }
    },
    {
      "cell_type": "code",
      "execution_count": 50,
      "metadata": {
        "id": "1oOPMuKlWENi"
      },
      "outputs": [],
      "source": [
        "#first batch\n",
        "batch = train_images[:128]"
      ]
    },
    {
      "cell_type": "code",
      "execution_count": 51,
      "metadata": {
        "id": "v2u2UyFFWENi"
      },
      "outputs": [],
      "source": [
        "#2nd batch\n",
        "batch = train_images[128:256]"
      ]
    },
    {
      "cell_type": "code",
      "execution_count": 52,
      "metadata": {
        "id": "IT2aj74oWENi"
      },
      "outputs": [],
      "source": [
        "#nth batch\n",
        "n = 3\n",
        "batch = train_images[128 * n:128 * (n + 1)]"
      ]
    },
    {
      "cell_type": "markdown",
      "metadata": {
        "id": "8hbQp34tWENj"
      },
      "source": [
        "### Real-world examples of data tensors"
      ]
    },
    {
      "cell_type": "markdown",
      "source": [
        "Vector data - 2D tensor of shape (samples, features)\n",
        "\n",
        "Timeseries data or sequence data - 3D tensors of shape (samples, timesteps, features)\n",
        "\n",
        "Images - 4D tensors of shape (samples, height, width, channels) or (samples, channels, height, width)\n",
        "\n",
        "Video - 5D tensors of shape (samples, frames, height, width, channels) or (samples, frames, channels, height, width)"
      ],
      "metadata": {
        "id": "JOQU3WBk3BtV"
      }
    },
    {
      "cell_type": "markdown",
      "metadata": {
        "id": "8qlt32mtWENj"
      },
      "source": [
        "### Vector data"
      ]
    },
    {
      "cell_type": "markdown",
      "source": [
        "Example\n",
        "\n",
        "Dataset of people where we consider each person's age ZIP code and income. \n",
        "\n",
        "Each person can be characterized as a vector of 3 values.\n",
        "\n",
        "Entire dataset of 100000 people can be stored in a 2D tensor of shape (1000000, 3)"
      ],
      "metadata": {
        "id": "kO7wHrYA3axF"
      }
    },
    {
      "cell_type": "markdown",
      "metadata": {
        "id": "N-SXLB1yWENj"
      },
      "source": [
        "### Timeseries data or sequence data"
      ]
    },
    {
      "cell_type": "markdown",
      "source": [
        "Dataset of stock prices.\n",
        "\n",
        "Every minute, we store the current price, the highest and the lowest price in the past minute.\n",
        "\n",
        "Encoded as a 2D tensor of shape (390, 3) for 390 minutes in a trading day.\n",
        "\n",
        "250 days data stored in 3D tensor of shape (250, 390 3)"
      ],
      "metadata": {
        "id": "c1__iE1H3ovg"
      }
    },
    {
      "cell_type": "markdown",
      "metadata": {
        "id": "TPJrDdxHWENj"
      },
      "source": [
        "### Image data"
      ]
    },
    {
      "cell_type": "markdown",
      "metadata": {
        "id": "rXyrkTKCWENk"
      },
      "source": [
        "### Video data"
      ]
    },
    {
      "cell_type": "markdown",
      "source": [
        "A 60 seconds, 144x256 YT video clip sampled at 4 frames per second would have 240 frames. A batch of 4 such video clips would be stored in a tensor of shape (4, 240, 144, 256, 3)"
      ],
      "metadata": {
        "id": "KrhkO7nX3_Qt"
      }
    },
    {
      "cell_type": "markdown",
      "metadata": {
        "id": "DQZRei1JWENk"
      },
      "source": [
        "## The gears of neural networks: tensor operations"
      ]
    },
    {
      "cell_type": "markdown",
      "source": [
        "Tensor operations applied to tensors of numeric data\n",
        "\n",
        "Example ~ keras.layers.Dense(512, activation='relu')\n",
        "\n",
        "Unpack this ~ output=relu(dot(W, input)+b)"
      ],
      "metadata": {
        "id": "P4HEdS6Z4LZB"
      }
    },
    {
      "cell_type": "markdown",
      "source": [
        "3 tensor operations\n",
        "\n",
        "dot product (dot) between input tensor and a tensor W\n",
        "\n",
        "addition (+) between the resulting 2D tensor and a vector b\n",
        "\n",
        "relu operation: relu(x) is max (x, 0)\n"
      ],
      "metadata": {
        "id": "Pnfko3184a8M"
      }
    },
    {
      "cell_type": "markdown",
      "metadata": {
        "id": "EzWe5NqHWENk"
      },
      "source": [
        "### Element-wise operations"
      ]
    },
    {
      "cell_type": "markdown",
      "source": [
        "Naïve implementation of an element-wise relu operation"
      ],
      "metadata": {
        "id": "WhutAQVj4mPV"
      }
    },
    {
      "cell_type": "code",
      "execution_count": 53,
      "metadata": {
        "id": "1QuYcQHJWENk"
      },
      "outputs": [],
      "source": [
        "def naive_relu(x):\n",
        "    assert len(x.shape) == 2\n",
        "    x = x.copy() #avoid overwritting\n",
        "    for i in range(x.shape[0]):\n",
        "        for j in range(x.shape[1]):\n",
        "            x[i, j] = max(x[i, j], 0)\n",
        "    return x"
      ]
    },
    {
      "cell_type": "code",
      "execution_count": 54,
      "metadata": {
        "id": "tVbSSbjZWENk"
      },
      "outputs": [],
      "source": [
        "def naive_add(x, y):\n",
        "    assert len(x.shape) == 2\n",
        "    assert x.shape == y.shape\n",
        "    x = x.copy() #avoid overwritting\n",
        "    for i in range(x.shape[0]):\n",
        "        for j in range(x.shape[1]):\n",
        "            x[i, j] += y[i, j]\n",
        "    return x"
      ]
    },
    {
      "cell_type": "code",
      "execution_count": 58,
      "metadata": {
        "colab": {
          "base_uri": "https://localhost:8080/"
        },
        "id": "5FdwpnRgWENl",
        "outputId": "211020cb-b705-41c9-b097-cf6946e58ecb"
      },
      "outputs": [
        {
          "output_type": "stream",
          "name": "stdout",
          "text": [
            "Took: 0.01 s\n"
          ]
        }
      ],
      "source": [
        "import time\n",
        "\n",
        "x = np.random.random((20, 100))\n",
        "y = np.random.random((20, 100))\n",
        "\n",
        "t0 = time.time()\n",
        "for _ in range(1000):\n",
        "    z = x + y\n",
        "    z = np.maximum(z, 0.)\n",
        "print(\"Took: {0:.2f} s\".format(time.time() - t0))"
      ]
    },
    {
      "cell_type": "code",
      "source": [
        "#element-wise add\n",
        "z=x+y\n",
        "z"
      ],
      "metadata": {
        "colab": {
          "base_uri": "https://localhost:8080/"
        },
        "id": "ymFbCAYx5Fx0",
        "outputId": "904aa7c0-e07c-498b-92c3-9b8bdf2e1c62"
      },
      "execution_count": 60,
      "outputs": [
        {
          "output_type": "execute_result",
          "data": {
            "text/plain": [
              "array([[1.00765366, 0.97508744, 1.58792376, ..., 1.4592476 , 1.28444449,\n",
              "        1.3468522 ],\n",
              "       [0.64099476, 0.43539327, 0.85577043, ..., 1.0110849 , 1.26291756,\n",
              "        1.34628621],\n",
              "       [1.13606776, 1.42964954, 0.32468144, ..., 0.98998929, 1.16608232,\n",
              "        1.09474474],\n",
              "       ...,\n",
              "       [1.02642701, 0.53861302, 0.58200274, ..., 1.34174216, 0.42851134,\n",
              "        1.24874454],\n",
              "       [1.51740929, 0.67567309, 1.21141787, ..., 1.55170508, 0.69866218,\n",
              "        0.65160923],\n",
              "       [0.47365569, 1.49724112, 1.18551364, ..., 0.70799554, 0.55873758,\n",
              "        1.24981286]])"
            ]
          },
          "metadata": {},
          "execution_count": 60
        }
      ]
    },
    {
      "cell_type": "code",
      "source": [
        "#element-wise relu\n",
        "import numpy as np\n",
        "z =np.maximum(z, 0.)\n",
        "z"
      ],
      "metadata": {
        "colab": {
          "base_uri": "https://localhost:8080/"
        },
        "id": "hdGrDhfD457s",
        "outputId": "803be544-411e-47ce-d784-476c4b7eef09"
      },
      "execution_count": 61,
      "outputs": [
        {
          "output_type": "execute_result",
          "data": {
            "text/plain": [
              "array([[1.00765366, 0.97508744, 1.58792376, ..., 1.4592476 , 1.28444449,\n",
              "        1.3468522 ],\n",
              "       [0.64099476, 0.43539327, 0.85577043, ..., 1.0110849 , 1.26291756,\n",
              "        1.34628621],\n",
              "       [1.13606776, 1.42964954, 0.32468144, ..., 0.98998929, 1.16608232,\n",
              "        1.09474474],\n",
              "       ...,\n",
              "       [1.02642701, 0.53861302, 0.58200274, ..., 1.34174216, 0.42851134,\n",
              "        1.24874454],\n",
              "       [1.51740929, 0.67567309, 1.21141787, ..., 1.55170508, 0.69866218,\n",
              "        0.65160923],\n",
              "       [0.47365569, 1.49724112, 1.18551364, ..., 0.70799554, 0.55873758,\n",
              "        1.24981286]])"
            ]
          },
          "metadata": {},
          "execution_count": 61
        }
      ]
    },
    {
      "cell_type": "code",
      "execution_count": 62,
      "metadata": {
        "colab": {
          "base_uri": "https://localhost:8080/"
        },
        "id": "HbijmkikWENl",
        "outputId": "cb0cd576-9257-4815-87b5-34b41a14941e"
      },
      "outputs": [
        {
          "output_type": "stream",
          "name": "stdout",
          "text": [
            "Took: 2.18 s\n"
          ]
        }
      ],
      "source": [
        "t0 = time.time()\n",
        "for _ in range(1000):\n",
        "    z = naive_add(x, y)\n",
        "    z = naive_relu(z)\n",
        "print(\"Took: {0:.2f} s\".format(time.time() - t0))"
      ]
    },
    {
      "cell_type": "markdown",
      "metadata": {
        "id": "WuTdeb8hWENl"
      },
      "source": [
        "### Broadcasting"
      ]
    },
    {
      "cell_type": "markdown",
      "source": [
        "What happens with addition when the shapes of the 2 tensors being added differ?\n",
        "\n",
        "Broadcasting constists of 2 steps\n",
        "\n",
        "1.   Axes (=broadcast axes) are added to the smaller tensor to match the ndim of the larger tensor\n",
        "2.   The smaller tensor is repeated alongside these new axes to match the full shape of the larger tensor\n",
        "\n"
      ],
      "metadata": {
        "id": "mm-5yRvn7O3D"
      }
    },
    {
      "cell_type": "code",
      "source": [
        "import numpy as np\n",
        "x=np.array([1,2,3,4,5])\n",
        "y=np.array([[1,1,1,1,1], [1,1,1,1,1]])"
      ],
      "metadata": {
        "id": "FPGlxACG72wG"
      },
      "execution_count": 66,
      "outputs": []
    },
    {
      "cell_type": "code",
      "execution_count": 63,
      "metadata": {
        "id": "Rs_SrRHlWENl"
      },
      "outputs": [],
      "source": [
        "import numpy as np\n",
        "X = np.random.random((32, 10))\n",
        "y = np.random.random((10,))"
      ]
    },
    {
      "cell_type": "code",
      "execution_count": 64,
      "metadata": {
        "id": "w_3UD69qWENm"
      },
      "outputs": [],
      "source": [
        "y = np.expand_dims(y, axis=0)"
      ]
    },
    {
      "cell_type": "code",
      "execution_count": 77,
      "metadata": {
        "id": "0b76iazYWENm"
      },
      "outputs": [],
      "source": [
        "Y = np.concatenate([y] * 32, axis=0)"
      ]
    },
    {
      "cell_type": "code",
      "execution_count": 78,
      "metadata": {
        "id": "yRjt4s9WWENm"
      },
      "outputs": [],
      "source": [
        "def naive_add_matrix_and_vector (x,y):\n",
        "  assert len(x.shape)==2 #x is a 2D numpy tensor\n",
        "  assert len(y.shape)==1 #y is a numpy vector\n",
        "  assert x.shape[1]==y.shape[0]\n",
        "\n",
        "  x=x.copy() #avoid overwriting the input tensor\n",
        "  for i in range(x.shape[0]):\n",
        "    for j in range (x.shape[1]):\n",
        "      x[i, j]+=y[j]\n",
        "  return x"
      ]
    },
    {
      "cell_type": "markdown",
      "source": [
        "If one tensor has shape (a, b, ..., n, n+1...m) and the other has shape (n, n+1...m). The broadcasting will then automatically happen for axes a through n-1"
      ],
      "metadata": {
        "id": "yuFE80Kx8r8s"
      }
    },
    {
      "cell_type": "code",
      "execution_count": 79,
      "metadata": {
        "id": "zgtUev92WENm"
      },
      "outputs": [],
      "source": [
        "import numpy as nom\n",
        "x=np.random.random((64,3,32,10)) #x is a random tensor with shape (64, 3, 32, 10)\n",
        "y=np.random.random((32,10)) #y is a random tensor with shape (32, 10)\n",
        "z=np.maximum(x, y) #the output z has, same shape as x\n"
      ]
    },
    {
      "cell_type": "markdown",
      "metadata": {
        "id": "T9-JXPYgWENn"
      },
      "source": [
        "### Tensor product"
      ]
    },
    {
      "cell_type": "code",
      "execution_count": 75,
      "metadata": {
        "id": "iH0dS-d4WENn"
      },
      "outputs": [],
      "source": [
        "x = np.random.random((32,))\n",
        "y = np.random.random((32,))\n",
        "z = np.dot(x, y)"
      ]
    },
    {
      "cell_type": "code",
      "execution_count": 80,
      "metadata": {
        "id": "tMQ5G05nWENn"
      },
      "outputs": [],
      "source": [
        "#Tensor dot\n",
        "def naive_vector_dot(x, y):\n",
        "    assert len(x.shape) == 1\n",
        "    assert len(y.shape) == 1 #x & y are numpy vectors\n",
        "    assert x.shape[0] == y.shape[0]\n",
        "    z = 0.\n",
        "    for i in range(x.shape[0]):\n",
        "        z += x[i] * y[i]\n",
        "    return z"
      ]
    },
    {
      "cell_type": "code",
      "execution_count": 81,
      "metadata": {
        "id": "ryB6rH0UWENn"
      },
      "outputs": [],
      "source": [
        "#Matrix vector dot\n",
        "def naive_matrix_vector_dot(x, y):\n",
        "    assert len(x.shape) == 2 #x is numpy matrix\n",
        "    assert len(y.shape) == 1 #y is a numpy vector\n",
        "    assert x.shape[1] == y.shape[0] #the first dimension of x must be the same as the 0th dimension of y\n",
        "    z = np.zeros(x.shape[0]) #this operation returns a vector of 0s with the same shape as y\n",
        "    for i in range(x.shape[0]):\n",
        "        for j in range(x.shape[1]):\n",
        "            z[i] += x[i, j] * y[j]\n",
        "    return z"
      ]
    },
    {
      "cell_type": "markdown",
      "source": [
        "Could also use the previous code"
      ],
      "metadata": {
        "id": "caaVs1q_-B5R"
      }
    },
    {
      "cell_type": "code",
      "execution_count": 82,
      "metadata": {
        "id": "k1h2zDuDWENo"
      },
      "outputs": [],
      "source": [
        "def naive_matrix_vector_dot(x, y):\n",
        "    z = np.zeros(x.shape[0])\n",
        "    for i in range(x.shape[0]):\n",
        "        z[i] = naive_vector_dot(x[i, :], y)\n",
        "    return z"
      ]
    },
    {
      "cell_type": "code",
      "execution_count": 83,
      "metadata": {
        "id": "l6GIP7NZWENo"
      },
      "outputs": [],
      "source": [
        "#Dot product for 2 tensors\n",
        "def naive_matrix_dot(x, y):\n",
        "    assert len(x.shape) == 2 \n",
        "    assert len(y.shape) == 2 #x & y are numpy matrices\n",
        "    assert x.shape[1] == y.shape[0] #the first dimension of x must be the same as the 0th dimension of y\n",
        "    z = np.zeros((x.shape[0], y.shape[1])) #this operation returns a matrix of 0s with a specific shape\n",
        "    for i in range(x.shape[0]): #iterates over the rows of x\n",
        "        for j in range(y.shape[1]): #and over the columns of y\n",
        "            row_x = x[i, :]\n",
        "            column_y = y[:, j]\n",
        "            z[i, j] = naive_vector_dot(row_x, column_y)\n",
        "    return z"
      ]
    },
    {
      "cell_type": "markdown",
      "source": [
        "Tensor dot\n",
        "\n",
        "More generally you can take the dot product between higher dimensional tensors, following the same rules for shape compatibility as outlined earlier for 2D case\n",
        "(a,b,c,d).(d,)->(a,b,c)\n",
        "(a,b,c,d).(d,e)->(a,b,c,e)"
      ],
      "metadata": {
        "id": "1S6vqN9z-lR1"
      }
    },
    {
      "cell_type": "markdown",
      "metadata": {
        "id": "PB9DGbpsWENo"
      },
      "source": [
        "### Tensor reshaping"
      ]
    },
    {
      "cell_type": "markdown",
      "source": [
        "We preprocessed the digits data before feeding it into our network"
      ],
      "metadata": {
        "id": "FyBW3BXl_C-c"
      }
    },
    {
      "cell_type": "code",
      "execution_count": 84,
      "metadata": {
        "id": "LyuXVteoWENo"
      },
      "outputs": [],
      "source": [
        "train_images = train_images.reshape((60000, 28 * 28))"
      ]
    },
    {
      "cell_type": "code",
      "execution_count": 85,
      "metadata": {
        "colab": {
          "base_uri": "https://localhost:8080/"
        },
        "id": "n5ZfNIYpWENp",
        "outputId": "da078867-5fe2-49cd-8b46-78f54292f67c"
      },
      "outputs": [
        {
          "output_type": "execute_result",
          "data": {
            "text/plain": [
              "(3, 2)"
            ]
          },
          "metadata": {},
          "execution_count": 85
        }
      ],
      "source": [
        "x = np.array([[0., 1.],\n",
        "             [2., 3.],\n",
        "             [4., 5.]])\n",
        "x.shape"
      ]
    },
    {
      "cell_type": "code",
      "execution_count": 86,
      "metadata": {
        "colab": {
          "base_uri": "https://localhost:8080/"
        },
        "id": "Hc-lqceHWENp",
        "outputId": "5c62f7e0-b0fe-4a30-fc84-b46a5e900f5c"
      },
      "outputs": [
        {
          "output_type": "execute_result",
          "data": {
            "text/plain": [
              "array([[0.],\n",
              "       [1.],\n",
              "       [2.],\n",
              "       [3.],\n",
              "       [4.],\n",
              "       [5.]])"
            ]
          },
          "metadata": {},
          "execution_count": 86
        }
      ],
      "source": [
        "x = x.reshape((6, 1))\n",
        "x"
      ]
    },
    {
      "cell_type": "code",
      "execution_count": null,
      "metadata": {
        "colab": {
          "base_uri": "https://localhost:8080/"
        },
        "id": "us_3WiE2WENp",
        "outputId": "b7d4fd6b-1566-490f-a7c7-7b23d893891d"
      },
      "outputs": [
        {
          "output_type": "execute_result",
          "data": {
            "text/plain": [
              "(20, 300)"
            ]
          },
          "metadata": {},
          "execution_count": 38
        }
      ],
      "source": [
        "x = np.zeros((300, 20))\n",
        "x = np.transpose(x)\n",
        "x.shape"
      ]
    },
    {
      "cell_type": "markdown",
      "metadata": {
        "id": "OpM53H8oWENp"
      },
      "source": [
        "### Geometric interpretation of tensor operations"
      ]
    },
    {
      "cell_type": "markdown",
      "source": [
        "![geometric interpretation for tensor operation.jpg](data:image/jpeg;base64,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)"
      ],
      "metadata": {
        "id": "1d-7cD7D_cyD"
      }
    },
    {
      "cell_type": "markdown",
      "source": [
        "![geometric interpretation for tensor operation2.jpg](data:image/jpeg;base64,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)"
      ],
      "metadata": {
        "id": "9iwHp7mp_9qR"
      }
    },
    {
      "cell_type": "markdown",
      "metadata": {
        "id": "vASNj3RDWENp"
      },
      "source": [
        "### A geometric interpretation of deep learning"
      ]
    },
    {
      "cell_type": "markdown",
      "source": [
        "Neural networks consist entirely of chains of tensor operations\n",
        "\n",
        "These tensor operations are just simple geometric transformations of the input data"
      ],
      "metadata": {
        "id": "rEd6ApfDBAtg"
      }
    },
    {
      "cell_type": "markdown",
      "metadata": {
        "id": "hqIx3RmeWENq"
      },
      "source": [
        "## The engine of neural networks: gradient-based optimization"
      ]
    },
    {
      "cell_type": "markdown",
      "source": [
        "W and b are weights or trainable parameters\n",
        "\n",
        "Gradual adjustment of them is called trainng"
      ],
      "metadata": {
        "id": "555xGT3xBjC9"
      }
    },
    {
      "cell_type": "markdown",
      "source": [
        "Training loop\n",
        "\n",
        "*   Draw a batch of training samples x and corresponding targets y\n",
        "\n",
        "*   Run the network on x (a step called the forward pass to obtain predictions y_pre\n",
        "*   Compute the loss of the network on the batch a measure of the mismatch between y_pre & y\n",
        "\n",
        "*  Update all weights of the network in a way that slightly reduces the loss on this btach\n",
        "\n"
      ],
      "metadata": {
        "id": "4IUz_q2DB6c1"
      }
    },
    {
      "cell_type": "markdown",
      "metadata": {
        "id": "hJ46rDhsWENq"
      },
      "source": [
        "### What's a derivative?"
      ]
    },
    {
      "cell_type": "markdown",
      "metadata": {
        "id": "lNcUYIpEWENq"
      },
      "source": [
        "### Derivative of a tensor operation: the gradient"
      ]
    },
    {
      "cell_type": "markdown",
      "source": [
        "Gradient descent is a first order (requiring first derivative/gradient) iterative optimization algorithm for finding the minimum of a function"
      ],
      "metadata": {
        "id": "6JRpyUQzJkcb"
      }
    },
    {
      "cell_type": "markdown",
      "source": [
        "Gradient vector indicates the direction & rate of fastest increase"
      ],
      "metadata": {
        "id": "gKI2JTAcJkSW"
      }
    },
    {
      "cell_type": "markdown",
      "metadata": {
        "id": "GMV2iHzQWENq"
      },
      "source": [
        "### Stochastic gradient descent"
      ]
    },
    {
      "cell_type": "markdown",
      "source": [
        "Batch gradient descent: batch size =size of training dataset\n",
        "\n",
        "Stochastik gradient descent: batch size=1\n",
        "\n",
        "Minibatch gradient descent\n",
        "\n",
        "Batchsize=number of samples processed before the model parameters are updated\n",
        "\n",
        "Number of epochs=number of complete passes through the entire training dataset"
      ],
      "metadata": {
        "id": "1Gxe6iByKC07"
      }
    },
    {
      "cell_type": "markdown",
      "metadata": {
        "id": "TMce8gvgWENq"
      },
      "source": [
        "### Chaining derivatives: The Backpropagation algorithm"
      ]
    },
    {
      "cell_type": "markdown",
      "metadata": {
        "id": "unao83KwWENq"
      },
      "source": [
        "#### The chain rule"
      ]
    },
    {
      "cell_type": "markdown",
      "source": [
        "f(g(x))=f'(g(x))g'(x)"
      ],
      "metadata": {
        "id": "EKSlbobSKhAt"
      }
    },
    {
      "cell_type": "markdown",
      "metadata": {
        "id": "_n-IRvqvWENr"
      },
      "source": [
        "#### Automatic differentiation with computation graphs"
      ]
    },
    {
      "cell_type": "markdown",
      "metadata": {
        "id": "2f-FcsgQWENr"
      },
      "source": [
        "#### The gradient tape in TensorFlow"
      ]
    },
    {
      "cell_type": "code",
      "execution_count": 1,
      "metadata": {
        "id": "FVNqKIerWENr"
      },
      "outputs": [],
      "source": [
        "import tensorflow as tf\n",
        "x = tf.Variable(0.) #initiate a scalar variable with an initial value of 0\n",
        "with tf.GradientTape() as tape: #open a GradientTape scope\n",
        "    y = 2 * x + 3 #inside the scope apply some tensor operations to our variable\n",
        "grad_of_y_wrt_x = tape.gradient(y, x) #use the tape to retrieve the gradient of the ouput y wrt our var x"
      ]
    },
    {
      "cell_type": "code",
      "source": [
        "grad_of_y_wrt_x"
      ],
      "metadata": {
        "id": "n4KTfbXZv37w",
        "outputId": "8b0617b4-a726-43e3-e365-b991de114b67",
        "colab": {
          "base_uri": "https://localhost:8080/"
        }
      },
      "execution_count": null,
      "outputs": [
        {
          "output_type": "execute_result",
          "data": {
            "text/plain": [
              "<tf.Tensor: shape=(), dtype=float32, numpy=2.0>"
            ]
          },
          "metadata": {},
          "execution_count": 48
        }
      ]
    },
    {
      "cell_type": "markdown",
      "source": [
        "GradientTape works with tensor operations"
      ],
      "metadata": {
        "id": "UJnQhUipKr2E"
      }
    },
    {
      "cell_type": "code",
      "execution_count": null,
      "metadata": {
        "id": "3p4oXuAXWENr"
      },
      "outputs": [],
      "source": [
        "x = tf.Variable(tf.random.uniform((2, 2))) #initiate a var with shape (2,2) and an initial value of all zeros\n",
        "with tf.GradientTape() as tape:\n",
        "    y = 2 * x + 3\n",
        "grad_of_y_wrt_x = tape.gradient(y, x) #grad_of_y_wrt_x is a tensor of shape (2,2) (like x) describing the curvature of y=2*a+3 arund x=[[0,0],[0,0]]"
      ]
    },
    {
      "cell_type": "code",
      "source": [
        "grad_of_y_wrt_x "
      ],
      "metadata": {
        "id": "bsJS_1ofwNy6",
        "outputId": "106b4c77-a374-4412-aad6-283646c760a5",
        "colab": {
          "base_uri": "https://localhost:8080/"
        }
      },
      "execution_count": null,
      "outputs": [
        {
          "output_type": "execute_result",
          "data": {
            "text/plain": [
              "<tf.Tensor: shape=(2, 2), dtype=float32, numpy=\n",
              "array([[2., 2.],\n",
              "       [2., 2.]], dtype=float32)>"
            ]
          },
          "metadata": {},
          "execution_count": 51
        }
      ]
    },
    {
      "cell_type": "markdown",
      "source": [
        "Also works with lists of variables"
      ],
      "metadata": {
        "id": "qXxVuWUMKwqN"
      }
    },
    {
      "cell_type": "code",
      "execution_count": null,
      "metadata": {
        "id": "leb-1eZzWENr"
      },
      "outputs": [],
      "source": [
        "W = tf.Variable(tf.random.uniform((2, 2)))\n",
        "b = tf.Variable(tf.zeros((2,)))\n",
        "x = tf.random.uniform((2, 2))\n",
        "with tf.GradientTape() as tape:\n",
        "    y = tf.matmul(x, W) + b #matmul is how you say \"don't product\" in TF\n",
        "grad_of_y_wrt_W_and_b = tape.gradient(y, [W, b]) #grad_of_y_wrt_W_and_b is a list of 2 tensors with the same shapes as W and b, respect."
      ]
    },
    {
      "cell_type": "code",
      "source": [
        "grad_of_y_wrt_W_and_b"
      ],
      "metadata": {
        "id": "U_P8uC_PwV5L",
        "outputId": "f306d31f-d406-4c5b-c269-20bfd1edf940",
        "colab": {
          "base_uri": "https://localhost:8080/"
        }
      },
      "execution_count": null,
      "outputs": [
        {
          "output_type": "execute_result",
          "data": {
            "text/plain": [
              "[<tf.Tensor: shape=(2, 2), dtype=float32, numpy=\n",
              " array([[0.47243643, 0.47243643],\n",
              "        [1.1444846 , 1.1444846 ]], dtype=float32)>,\n",
              " <tf.Tensor: shape=(2,), dtype=float32, numpy=array([2., 2.], dtype=float32)>]"
            ]
          },
          "metadata": {},
          "execution_count": 53
        }
      ]
    },
    {
      "cell_type": "markdown",
      "metadata": {
        "id": "oDI1TNYSWENs"
      },
      "source": [
        "## Looking back at our first example"
      ]
    },
    {
      "cell_type": "code",
      "execution_count": null,
      "metadata": {
        "id": "mAwVLAKJWENs"
      },
      "outputs": [],
      "source": [
        "#input data\n",
        "(train_images, train_labels), (test_images, test_labels) = mnist.load_data() #mnist.load_data() f° is to load all the datasets\n",
        "train_images = train_images.reshape((60000, 28 * 28))\n",
        "train_images = train_images.astype(\"float32\") / 255\n",
        "test_images = test_images.reshape((10000, 28 * 28))\n",
        "test_images = test_images.astype(\"float32\") / 255"
      ]
    },
    {
      "cell_type": "code",
      "execution_count": null,
      "metadata": {
        "id": "AHYpwReXWENs"
      },
      "outputs": [],
      "source": [
        "#This was our network\n",
        "#we define our model\n",
        "model = keras.Sequential([\n",
        "    layers.Dense(512, activation=\"relu\"),\n",
        "    layers.Dense(10, activation=\"softmax\")\n",
        "])\n",
        "#we define our model using one input layer and one output layer"
      ]
    },
    {
      "cell_type": "code",
      "execution_count": null,
      "metadata": {
        "id": "NtI8a1fpWENs"
      },
      "outputs": [],
      "source": [
        "#this was our network compilation step\n",
        "#we compile our model\n",
        "model.compile(optimizer=\"SGD\", #we can replace rmsprop by SGD\n",
        "              loss=\"sparse_categorical_crossentropy\",\n",
        "              metrics=[\"accuracy\"])\n"
      ]
    },
    {
      "cell_type": "code",
      "execution_count": null,
      "metadata": {
        "colab": {
          "base_uri": "https://localhost:8080/"
        },
        "id": "LZd760AUWENs",
        "outputId": "65029745-cf80-4631-d258-c840be4a6b1c"
      },
      "outputs": [
        {
          "output_type": "stream",
          "name": "stdout",
          "text": [
            "Epoch 1/5\n",
            "469/469 [==============================] - 2s 4ms/step - loss: 0.0222 - accuracy: 0.9937\n",
            "Epoch 2/5\n",
            "469/469 [==============================] - 2s 3ms/step - loss: 0.0190 - accuracy: 0.9951\n",
            "Epoch 3/5\n",
            "469/469 [==============================] - 2s 3ms/step - loss: 0.0180 - accuracy: 0.9954\n",
            "Epoch 4/5\n",
            "469/469 [==============================] - 2s 3ms/step - loss: 0.0174 - accuracy: 0.9957\n",
            "Epoch 5/5\n",
            "469/469 [==============================] - 2s 3ms/step - loss: 0.0170 - accuracy: 0.9959\n"
          ]
        },
        {
          "output_type": "execute_result",
          "data": {
            "text/plain": [
              "<keras.callbacks.History at 0x7fbc1f2a8850>"
            ]
          },
          "metadata": {},
          "execution_count": 60
        }
      ],
      "source": [
        "#this was the training loop\n",
        "#we fit the model\n",
        "#in the model there are 469 types of updates\n",
        "model.fit(train_images, train_labels, epochs=5, batch_size=128)"
      ]
    },
    {
      "cell_type": "code",
      "source": [
        "#to have the number of updates\n",
        "60000/128 #60000 datasets"
      ],
      "metadata": {
        "id": "9HKZqxXk0sxh",
        "outputId": "396b0117-9dfa-492b-e492-f10737bf8e01",
        "colab": {
          "base_uri": "https://localhost:8080/"
        }
      },
      "execution_count": null,
      "outputs": [
        {
          "output_type": "execute_result",
          "data": {
            "text/plain": [
              "468.75"
            ]
          },
          "metadata": {},
          "execution_count": 58
        }
      ]
    },
    {
      "cell_type": "markdown",
      "metadata": {
        "id": "qL8Afh9NWENt"
      },
      "source": [
        "### Reimplementing our first example from scratch in TensorFlow"
      ]
    },
    {
      "cell_type": "markdown",
      "metadata": {
        "id": "bdXr8DOTWENt"
      },
      "source": [
        "#### A simple Dense class"
      ]
    },
    {
      "cell_type": "code",
      "source": [
        "#Define a simple DL model in KERAS\n",
        "model=keras.Sequential([\n",
        "                        layers.Dense(512, activation=\"relu\"),\n",
        "                        layers.Dense(10, activation=\"softmax\")\n",
        "])"
      ],
      "metadata": {
        "id": "lK-kDM3J11al"
      },
      "execution_count": null,
      "outputs": []
    },
    {
      "cell_type": "code",
      "execution_count": null,
      "metadata": {
        "id": "8KeAMOFQWENt"
      },
      "outputs": [],
      "source": [
        "#how to define a nice dense layer\n",
        "import tensorflow as tf\n",
        "\n",
        "class NaiveDense:\n",
        "    def __init__(self, input_size, output_size, activation):#we need 3 inputs\n",
        "        self.activation = activation #we save selfactivation in activation\n",
        "\n",
        "        w_shape = (input_size, output_size) #create a matric W of shape (input_size, output_size), initialized with random values\n",
        "        w_initial_value = tf.random.uniform(w_shape, minval=0, maxval=1e-1)\n",
        "        self.W = tf.Variable(w_initial_value)\n",
        "\n",
        "        b_shape = (output_size,) #create a vector b of shape (output_size) initialized with zeros\n",
        "        b_initial_value = tf.zeros(b_shape)\n",
        "        self.b = tf.Variable(b_initial_value)\n",
        "\n",
        "    def __call__(self, inputs): #apply the forward pass\n",
        "        return self.activation(tf.matmul(inputs, self.W) + self.b)\n",
        "\n",
        "    @property\n",
        "    def weights(self): #convenience method for retrieving the layer's weights\n",
        "        return [self.W, self.b]"
      ]
    },
    {
      "cell_type": "markdown",
      "metadata": {
        "id": "d9xE-9KTWENt"
      },
      "source": [
        "#### A simple Sequential class"
      ]
    },
    {
      "cell_type": "code",
      "execution_count": null,
      "metadata": {
        "id": "rC3giZJKWENt"
      },
      "outputs": [],
      "source": [
        "class NaiveSequential:\n",
        "    def __init__(self, layers): #input is layers and for the layers we sequentially apply these layers\n",
        "        self.layers = layers\n",
        "\n",
        "    def __call__(self, inputs):\n",
        "        x = inputs \n",
        "        for layer in self.layers:\n",
        "           x = layer(x) #we apply x to layers\n",
        "        return x\n",
        "\n",
        "    @property\n",
        "    def weights(self):\n",
        "       weights = []\n",
        "       for layer in self.layers:\n",
        "           weights += layer.weights\n",
        "       return weights"
      ]
    },
    {
      "cell_type": "code",
      "execution_count": null,
      "metadata": {
        "id": "hM0aaLhwWENu"
      },
      "outputs": [],
      "source": [
        "#Define our model using TF\n",
        "model = NaiveSequential([\n",
        "    NaiveDense(input_size=28 * 28, output_size=512, activation=tf.nn.relu),\n",
        "    NaiveDense(input_size=512, output_size=10, activation=tf.nn.softmax)\n",
        "])\n",
        "assert len(model.weights) == 4"
      ]
    },
    {
      "cell_type": "markdown",
      "metadata": {
        "id": "jERqNrTTWENu"
      },
      "source": [
        "#### A batch generator"
      ]
    },
    {
      "cell_type": "code",
      "execution_count": null,
      "metadata": {
        "id": "aLmgvkFQWENu"
      },
      "outputs": [],
      "source": [
        "import math\n",
        "\n",
        "class BatchGenerator:\n",
        "    def __init__(self, images, labels, batch_size=128):\n",
        "        assert len(images) == len(labels)\n",
        "        self.index = 0\n",
        "        self.images = images\n",
        "        self.labels = labels\n",
        "        self.batch_size = batch_size\n",
        "        self.num_batches = math.ceil(len(images) / batch_size)\n",
        "\n",
        "    def next(self):\n",
        "        images = self.images[self.index : self.index + self.batch_size]\n",
        "        labels = self.labels[self.index : self.index + self.batch_size]\n",
        "        self.index += self.batch_size\n",
        "        return images, labels"
      ]
    },
    {
      "cell_type": "markdown",
      "metadata": {
        "id": "TC65hxtyWENu"
      },
      "source": [
        "### Running one training step"
      ]
    },
    {
      "cell_type": "code",
      "execution_count": null,
      "metadata": {
        "id": "FaO2PUHgWENu"
      },
      "outputs": [],
      "source": [
        "#run the \"forward pass\" (compute the model's preictions under a GradientTape scope)\n",
        "def one_training_step(model, images_batch, labels_batch):\n",
        "    with tf.GradientTape() as tape:\n",
        "        predictions = model(images_batch)\n",
        "        per_sample_losses = tf.keras.losses.sparse_categorical_crossentropy(\n",
        "            labels_batch, predictions)\n",
        "        average_loss = tf.reduce_mean(per_sample_losses)\n",
        "    gradients = tape.gradient(average_loss, model.weights) #compute the gradient of the loss with regard to the weights.The output gradients is a list where each entry corresponds to a weight from the model.weights list.\n",
        "    update_weights(gradients, model.weights)\n",
        "    return average_loss #update the weights using th gradients (we will define this function shortly)"
      ]
    },
    {
      "cell_type": "code",
      "execution_count": null,
      "metadata": {
        "id": "IsO9aoSwWENv"
      },
      "outputs": [],
      "source": [
        "#NAIVE MINI BATCH GRADIENT UPDATE\n",
        "learning_rate = 1e-3\n",
        "#we define a library\n",
        "def update_weights(gradients, weights): #assign_sub is the equivalent of .= for TF var\n",
        "    for g, w in zip(gradients, weights):\n",
        "        w.assign_sub(g * learning_rate)"
      ]
    },
    {
      "cell_type": "code",
      "execution_count": null,
      "metadata": {
        "id": "XwMRRXvDWENv"
      },
      "outputs": [],
      "source": [
        "from tensorflow.keras import optimizers\n",
        "\n",
        "optimizer = optimizers.SGD(learning_rate=1e-3)\n",
        "\n",
        "def update_weights(gradients, weights):\n",
        "    optimizer.apply_gradients(zip(gradients, weights))"
      ]
    },
    {
      "cell_type": "markdown",
      "metadata": {
        "id": "noBdbHRTWENv"
      },
      "source": [
        "### The full training loop"
      ]
    },
    {
      "cell_type": "code",
      "execution_count": null,
      "metadata": {
        "id": "VH0Nk1tRWENv"
      },
      "outputs": [],
      "source": [
        "def fit(model, images, labels, epochs, batch_size=128):\n",
        "    for epoch_counter in range(epochs):\n",
        "        print(f\"Epoch {epoch_counter}\")\n",
        "        batch_generator = BatchGenerator(images, labels)\n",
        "        for batch_counter in range(batch_generator.num_batches):\n",
        "            images_batch, labels_batch = batch_generator.next()\n",
        "            loss = one_training_step(model, images_batch, labels_batch)\n",
        "            if batch_counter % 100 == 0:\n",
        "                print(f\"loss at batch {batch_counter}: {loss:.2f}\")"
      ]
    },
    {
      "cell_type": "code",
      "execution_count": null,
      "metadata": {
        "colab": {
          "base_uri": "https://localhost:8080/"
        },
        "id": "InXtObmBWENw",
        "outputId": "929fae1c-4e03-4539-ed9a-152ece5a22e0"
      },
      "outputs": [
        {
          "output_type": "stream",
          "name": "stdout",
          "text": [
            "Epoch 0\n",
            "loss at batch 0: 3.02\n",
            "loss at batch 100: 2.23\n",
            "loss at batch 200: 2.20\n",
            "loss at batch 300: 2.09\n",
            "loss at batch 400: 2.24\n",
            "Epoch 1\n",
            "loss at batch 0: 1.88\n",
            "loss at batch 100: 1.87\n",
            "loss at batch 200: 1.83\n",
            "loss at batch 300: 1.70\n",
            "loss at batch 400: 1.83\n",
            "Epoch 2\n",
            "loss at batch 0: 1.56\n",
            "loss at batch 100: 1.57\n",
            "loss at batch 200: 1.50\n",
            "loss at batch 300: 1.42\n",
            "loss at batch 400: 1.51\n",
            "Epoch 3\n",
            "loss at batch 0: 1.30\n",
            "loss at batch 100: 1.33\n",
            "loss at batch 200: 1.24\n",
            "loss at batch 300: 1.20\n",
            "loss at batch 400: 1.28\n",
            "Epoch 4\n",
            "loss at batch 0: 1.10\n",
            "loss at batch 100: 1.15\n",
            "loss at batch 200: 1.05\n",
            "loss at batch 300: 1.04\n",
            "loss at batch 400: 1.12\n",
            "Epoch 5\n",
            "loss at batch 0: 0.96\n",
            "loss at batch 100: 1.01\n",
            "loss at batch 200: 0.91\n",
            "loss at batch 300: 0.92\n",
            "loss at batch 400: 1.00\n",
            "Epoch 6\n",
            "loss at batch 0: 0.85\n",
            "loss at batch 100: 0.91\n",
            "loss at batch 200: 0.80\n",
            "loss at batch 300: 0.83\n",
            "loss at batch 400: 0.91\n",
            "Epoch 7\n",
            "loss at batch 0: 0.77\n",
            "loss at batch 100: 0.82\n",
            "loss at batch 200: 0.72\n",
            "loss at batch 300: 0.76\n",
            "loss at batch 400: 0.84\n",
            "Epoch 8\n",
            "loss at batch 0: 0.71\n",
            "loss at batch 100: 0.76\n",
            "loss at batch 200: 0.66\n",
            "loss at batch 300: 0.71\n",
            "loss at batch 400: 0.79\n",
            "Epoch 9\n",
            "loss at batch 0: 0.66\n",
            "loss at batch 100: 0.70\n",
            "loss at batch 200: 0.61\n",
            "loss at batch 300: 0.67\n",
            "loss at batch 400: 0.74\n"
          ]
        }
      ],
      "source": [
        "from tensorflow.keras.datasets import mnist\n",
        "(train_images, train_labels), (test_images, test_labels) = mnist.load_data()\n",
        "\n",
        "train_images = train_images.reshape((60000, 28 * 28))\n",
        "train_images = train_images.astype(\"flo at32\") / 255\n",
        "test_images = test_images.reshape((10000, 28 * 28))\n",
        "test_images = test_images.astype(\"float32\") / 255\n",
        "\n",
        "fit(model, train_images, train_labels, epochs=10, batch_size=128)"
      ]
    },
    {
      "cell_type": "markdown",
      "metadata": {
        "id": "V6pfHCP3WENw"
      },
      "source": [
        "### Evaluating the model"
      ]
    },
    {
      "cell_type": "code",
      "source": [
        "import numpy as np"
      ],
      "metadata": {
        "id": "QOhSwHr_8XnV"
      },
      "execution_count": null,
      "outputs": []
    },
    {
      "cell_type": "code",
      "execution_count": null,
      "metadata": {
        "colab": {
          "base_uri": "https://localhost:8080/"
        },
        "id": "opgH-OuIWENw",
        "outputId": "5f43e20c-dd1f-4f48-9a0d-0322661db97d"
      },
      "outputs": [
        {
          "output_type": "stream",
          "name": "stdout",
          "text": [
            "accuracy: 0.81\n"
          ]
        }
      ],
      "source": [
        "predictions = model(test_images)\n",
        "predictions = predictions.numpy()\n",
        "predicted_labels = np.argmax(predictions, axis=1)\n",
        "matches = predicted_labels == test_labels\n",
        "print(f\"accuracy: {matches.mean():.2f}\")\n",
        "#the result accuracy 0.81 is pretty bad compared to KERAS, one reason is bc in the TF implementation theres not many sets, we didn't shuffle the training values "
      ]
    },
    {
      "cell_type": "markdown",
      "metadata": {
        "id": "zBWaLMWcWENw"
      },
      "source": [
        "## Summary"
      ]
    }
  ],
  "metadata": {
    "colab": {
      "collapsed_sections": [],
      "name": "chapter02_mathematical-building-blocks.i",
      "provenance": []
    },
    "kernelspec": {
      "display_name": "Python 3",
      "language": "python",
      "name": "python3"
    },
    "language_info": {
      "codemirror_mode": {
        "name": "ipython",
        "version": 3
      },
      "file_extension": ".py",
      "mimetype": "text/x-python",
      "name": "python",
      "nbconvert_exporter": "python",
      "pygments_lexer": "ipython3",
      "version": "3.7.0"
    },
    "accelerator": "GPU"
  },
  "nbformat": 4,
  "nbformat_minor": 0
}