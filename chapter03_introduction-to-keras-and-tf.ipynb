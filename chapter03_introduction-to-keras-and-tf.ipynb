{
  "cells": [
    {
      "cell_type": "markdown",
      "metadata": {
        "id": "2Y7LAI3tLjBt"
      },
      "source": [
        "This is a companion notebook for the book [Deep Learning with Python, Second Edition](https://www.manning.com/books/deep-learning-with-python-second-edition?a_aid=keras&a_bid=76564dff). For readability, it only contains runnable code blocks and section titles, and omits everything else in the book: text paragraphs, figures, and pseudocode.\n",
        "\n",
        "**If you want to be able to follow what's going on, I recommend reading the notebook side by side with your copy of the book.**\n",
        "\n",
        "This notebook was generated for TensorFlow 2.6."
      ]
    },
    {
      "cell_type": "markdown",
      "metadata": {
        "id": "6McPoA4HLjBw"
      },
      "source": [
        "# Introduction to Keras and TensorFlow"
      ]
    },
    {
      "cell_type": "markdown",
      "metadata": {
        "id": "VWCOVrZFLjBx"
      },
      "source": [
        "## What's TensorFlow?"
      ]
    },
    {
      "cell_type": "markdown",
      "source": [
        "TF is a pythonbased free open source ML platefor developed by google.\n",
        "\n",
        "\n",
        "*   Compute the gradient of any differentiable expression\n",
        "*   Run not only on CPUS but also on GPUs and TPUs parallel hardware accelerators\n",
        "*   Computation defined in TF can be easily distributed\n",
        "*   TF programs can be exported to other runtimes (C++, java)\n",
        "\n",
        "TF is much more than a signle library, it's a platform \n",
        "\n"
      ],
      "metadata": {
        "id": "M8WERFl6LlZG"
      }
    },
    {
      "cell_type": "markdown",
      "metadata": {
        "id": "La_0zRgxLjBx"
      },
      "source": [
        "## What's Keras?"
      ]
    },
    {
      "cell_type": "markdown",
      "source": [
        "Keras is a deep learning API for Python, built on top of TensorFlow\n",
        "\n",
        "Provides a convenient way to define and train deep learning model.\n",
        "\n",
        "Developed for research with the aim of enabling fast experimentation\n",
        "\n",
        "*   Allows the same code to run seamlessly in CPU or GPU\n",
        "*   Has a user friendly API that makes it easy to quickly prototype deep learning models\n",
        "*   Hast built in support for convolutional networks, recurrent networks and any combination of both\n",
        "\n",
        "\n"
      ],
      "metadata": {
        "id": "F8Kf3PH9MHgB"
      }
    },
    {
      "cell_type": "markdown",
      "metadata": {
        "id": "dmD0UnaFLjBx"
      },
      "source": [
        "## Keras and TensorFlow: A brief history"
      ]
    },
    {
      "cell_type": "markdown",
      "source": [
        "Keras predates TensorFlow by eight months. It was released in March 2015,\n",
        "and TensorFlow was released in November 2015.\n",
        "\n",
        "Keras was originally built on top of Theano, another tensor-manipulation\n",
        "library that provided automatic differentiation and GPU support\n",
        "\n",
        "In late 2015, after the release of TensorFlow, Keras was refactored to a\n",
        "multibackend architecture: Use Keras with either Theano or TensorFlow\n",
        "\n",
        "In 2017, two new additional backend options were added to Keras:\n",
        "CNTK and MXNet\n",
        "\n",
        "In 2018, the TensorFlow leadership picked Keras as TensorFlow’s official\n",
        "high-level API. As a result, the Keras API is front and center in TensorFlow 2.0,\n",
        "released in September 2019"
      ],
      "metadata": {
        "id": "v0-1NxIgMjMx"
      }
    },
    {
      "cell_type": "markdown",
      "metadata": {
        "id": "OmYQUOEcLjBy"
      },
      "source": [
        "## Setting up a deep-learning workspace"
      ]
    },
    {
      "cell_type": "markdown",
      "metadata": {
        "id": "A1omKdEpLjBy"
      },
      "source": [
        "### Jupyter notebooks: The preferred way to run deep-learning experiments"
      ]
    },
    {
      "cell_type": "markdown",
      "metadata": {
        "id": "i4Wmrkh9LjBy"
      },
      "source": [
        "### Using Colaboratory"
      ]
    },
    {
      "cell_type": "markdown",
      "metadata": {
        "id": "4To4CoJiLjBy"
      },
      "source": [
        "#### First steps with Colaboratory"
      ]
    },
    {
      "cell_type": "markdown",
      "metadata": {
        "id": "ahd6cllfLjBz"
      },
      "source": [
        "#### Installing packages with pip"
      ]
    },
    {
      "cell_type": "markdown",
      "metadata": {
        "id": "XZqRrf4TLjBz"
      },
      "source": [
        "#### Using the GPU runtime"
      ]
    },
    {
      "cell_type": "markdown",
      "metadata": {
        "id": "hiIB_rBbLjBz"
      },
      "source": [
        "## First steps with TensorFlow"
      ]
    },
    {
      "cell_type": "markdown",
      "source": [
        "Training a neural network revolves around the following concepts:\n",
        "\n",
        "1. low-level tensor manipulation: tensors, tensor operations, backpropagation\n",
        "2. high-level deep learning concepts: layers, loss function, metrics, training loop"
      ],
      "metadata": {
        "id": "opzKTsM6MwnM"
      }
    },
    {
      "cell_type": "markdown",
      "metadata": {
        "id": "LMaB1BqpLjB0"
      },
      "source": [
        "#### Constant tensors and variables"
      ]
    },
    {
      "cell_type": "markdown",
      "source": [
        "To do anything in TF we ll need some tensors"
      ],
      "metadata": {
        "id": "N9hcbnD5M1zC"
      }
    },
    {
      "cell_type": "markdown",
      "metadata": {
        "id": "Mhmet8diLjB0"
      },
      "source": [
        "**All-ones or all-zeros tensors**"
      ]
    },
    {
      "cell_type": "code",
      "execution_count": 1,
      "metadata": {
        "colab": {
          "base_uri": "https://localhost:8080/"
        },
        "id": "zWnRn8kELjB0",
        "outputId": "1473c18b-a250-40b6-eb79-ff6b443b523d"
      },
      "outputs": [
        {
          "output_type": "stream",
          "name": "stdout",
          "text": [
            "tf.Tensor(\n",
            "[[1.]\n",
            " [1.]], shape=(2, 1), dtype=float32)\n"
          ]
        }
      ],
      "source": [
        "import tensorflow as tf\n",
        "x = tf.ones(shape=(2, 1)) #same as np.ones(shape=(2,1))\n",
        "print(x)"
      ]
    },
    {
      "cell_type": "code",
      "execution_count": 2,
      "metadata": {
        "colab": {
          "base_uri": "https://localhost:8080/"
        },
        "id": "2ZtFrmv7LjB1",
        "outputId": "2b01eada-f2e2-48e4-8ea7-b047e226d303"
      },
      "outputs": [
        {
          "output_type": "stream",
          "name": "stdout",
          "text": [
            "tf.Tensor(\n",
            "[[0.]\n",
            " [0.]], shape=(2, 1), dtype=float32)\n"
          ]
        }
      ],
      "source": [
        "x = tf.zeros(shape=(2, 1)) #same as np.zeros(shape=(2,1))\n",
        "print(x)"
      ]
    },
    {
      "cell_type": "markdown",
      "metadata": {
        "id": "9naAxmcALjB2"
      },
      "source": [
        "**Random tensors**"
      ]
    },
    {
      "cell_type": "code",
      "execution_count": 3,
      "metadata": {
        "colab": {
          "base_uri": "https://localhost:8080/"
        },
        "id": "wMtn8hE5LjB2",
        "outputId": "8afe695c-57f9-4d24-a41a-472e15898dcb"
      },
      "outputs": [
        {
          "output_type": "stream",
          "name": "stdout",
          "text": [
            "tf.Tensor(\n",
            "[[ 0.13020909]\n",
            " [-1.3356739 ]\n",
            " [ 0.8841562 ]], shape=(3, 1), dtype=float32)\n"
          ]
        }
      ],
      "source": [
        "x = tf.random.normal(shape=(3, 1), mean=0., stddev=1.)\n",
        "print(x)\n",
        "#tensor of rv drawn from a normal dstn with mean 0 and sd 1.\n",
        "#same as np.random.normal(size=(3,1), loc=0.,high=1.)"
      ]
    },
    {
      "cell_type": "code",
      "execution_count": 4,
      "metadata": {
        "colab": {
          "base_uri": "https://localhost:8080/"
        },
        "id": "Ev2LkeruLjB2",
        "outputId": "adcff9b6-0241-4bf7-a63c-7ca0da144289"
      },
      "outputs": [
        {
          "output_type": "stream",
          "name": "stdout",
          "text": [
            "tf.Tensor(\n",
            "[[0.13287795]\n",
            " [0.16160393]\n",
            " [0.5037366 ]], shape=(3, 1), dtype=float32)\n"
          ]
        }
      ],
      "source": [
        "x = tf.random.uniform(shape=(3, 1), minval=0., maxval=1.)\n",
        "print(x)"
      ]
    },
    {
      "cell_type": "markdown",
      "source": [
        "A significant difference between NumPy arrays and TensorFlow tensors is\n",
        "that TensorFlow tensors aren’t assignable"
      ],
      "metadata": {
        "id": "iWLwUyaENYX2"
      }
    },
    {
      "cell_type": "markdown",
      "metadata": {
        "id": "vKIo-MqxLjB3"
      },
      "source": [
        "**NumPy arrays are assignable**"
      ]
    },
    {
      "cell_type": "code",
      "execution_count": 5,
      "metadata": {
        "id": "oTc0AgbELjB3"
      },
      "outputs": [],
      "source": [
        "import numpy as np\n",
        "x = np.ones(shape=(2, 2))\n",
        "x[0, 0] = 0."
      ]
    },
    {
      "cell_type": "markdown",
      "source": [
        "If we do the same in TF we ll get an error \"EagerTensor object does not support item assignment\""
      ],
      "metadata": {
        "id": "7diDw4kDNfTH"
      }
    },
    {
      "cell_type": "markdown",
      "source": [
        "To train a model, we’ll need to update its state. That’s where variables\n",
        "come in. tf.Variable is the class meant to manage modifiable state in\n",
        "TensorFlow"
      ],
      "metadata": {
        "id": "KtVvtPODNqcn"
      }
    },
    {
      "cell_type": "markdown",
      "metadata": {
        "id": "Cplge1bgLjB4"
      },
      "source": [
        "**Creating a TensorFlow variable**"
      ]
    },
    {
      "cell_type": "code",
      "execution_count": 6,
      "metadata": {
        "colab": {
          "base_uri": "https://localhost:8080/"
        },
        "id": "iapgucdrLjB4",
        "outputId": "bb2a2ef8-51b0-42a8-c54a-be24d9c3f982"
      },
      "outputs": [
        {
          "output_type": "stream",
          "name": "stdout",
          "text": [
            "<tf.Variable 'Variable:0' shape=(3, 1) dtype=float32, numpy=\n",
            "array([[ 2.3060493 ],\n",
            "       [-0.07314815],\n",
            "       [ 0.17191055]], dtype=float32)>\n"
          ]
        }
      ],
      "source": [
        "v = tf.Variable(initial_value=tf.random.normal(shape=(3, 1)))\n",
        "print(v)"
      ]
    },
    {
      "cell_type": "markdown",
      "source": [
        "State of a variable can be modified via its assign method"
      ],
      "metadata": {
        "id": "CJX5pA0mNvU0"
      }
    },
    {
      "cell_type": "markdown",
      "metadata": {
        "id": "4SlC06dwLjB4"
      },
      "source": [
        "**Assigning a value to a TensorFlow variable**"
      ]
    },
    {
      "cell_type": "code",
      "execution_count": 7,
      "metadata": {
        "colab": {
          "base_uri": "https://localhost:8080/"
        },
        "id": "TaN2U6YwLjB4",
        "outputId": "f30b4577-762e-4db3-ce5f-eefcb1712c56"
      },
      "outputs": [
        {
          "output_type": "execute_result",
          "data": {
            "text/plain": [
              "<tf.Variable 'UnreadVariable' shape=(3, 1) dtype=float32, numpy=\n",
              "array([[1.],\n",
              "       [1.],\n",
              "       [1.]], dtype=float32)>"
            ]
          },
          "metadata": {},
          "execution_count": 7
        }
      ],
      "source": [
        "v.assign(tf.ones((3, 1)))"
      ]
    },
    {
      "cell_type": "markdown",
      "metadata": {
        "id": "KBRXBNSQLjB5"
      },
      "source": [
        "**Assigning a value to a subset of a TensorFlow variable**"
      ]
    },
    {
      "cell_type": "code",
      "execution_count": 8,
      "metadata": {
        "colab": {
          "base_uri": "https://localhost:8080/"
        },
        "id": "Af8OO-QnLjB5",
        "outputId": "257d26f9-2c59-4f97-8dfd-72fc319c49e7"
      },
      "outputs": [
        {
          "output_type": "execute_result",
          "data": {
            "text/plain": [
              "<tf.Variable 'UnreadVariable' shape=(3, 1) dtype=float32, numpy=\n",
              "array([[3.],\n",
              "       [1.],\n",
              "       [1.]], dtype=float32)>"
            ]
          },
          "metadata": {},
          "execution_count": 8
        }
      ],
      "source": [
        "v[0, 0].assign(3.)"
      ]
    },
    {
      "cell_type": "markdown",
      "source": [
        "assign_add() and assign_sub() are efficient equivalents of += and -="
      ],
      "metadata": {
        "id": "LGLt6jMWN3er"
      }
    },
    {
      "cell_type": "markdown",
      "metadata": {
        "id": "yQbKvDSXLjB5"
      },
      "source": [
        "**Using `assign_add`**"
      ]
    },
    {
      "cell_type": "code",
      "execution_count": 9,
      "metadata": {
        "colab": {
          "base_uri": "https://localhost:8080/"
        },
        "id": "VSVBU2TCLjB5",
        "outputId": "127f3d41-42d4-44c5-a468-9609b0890513"
      },
      "outputs": [
        {
          "output_type": "execute_result",
          "data": {
            "text/plain": [
              "<tf.Variable 'UnreadVariable' shape=(3, 1) dtype=float32, numpy=\n",
              "array([[4.],\n",
              "       [2.],\n",
              "       [2.]], dtype=float32)>"
            ]
          },
          "metadata": {},
          "execution_count": 9
        }
      ],
      "source": [
        "v.assign_add(tf.ones((3, 1)))"
      ]
    },
    {
      "cell_type": "markdown",
      "metadata": {
        "id": "J7nN8duXLjB5"
      },
      "source": [
        "#### Tensor operations: Doing math in TensorFlow"
      ]
    },
    {
      "cell_type": "markdown",
      "source": [
        "Just like NumPy, TensorFlow offers a large collection of tensor operations to\n",
        "express mathematical formulas."
      ],
      "metadata": {
        "id": "MGp6r3fSN-Jo"
      }
    },
    {
      "cell_type": "markdown",
      "metadata": {
        "id": "kvHrfQHNLjB6"
      },
      "source": [
        "**A few basic math operations**"
      ]
    },
    {
      "cell_type": "code",
      "execution_count": 11,
      "metadata": {
        "colab": {
          "base_uri": "https://localhost:8080/"
        },
        "id": "t3o81b3_LjB6",
        "outputId": "cff8faff-2952-4f98-a002-ae50c70a5140"
      },
      "outputs": [
        {
          "output_type": "stream",
          "name": "stdout",
          "text": [
            "tf.Tensor(\n",
            "[[1. 1.]\n",
            " [1. 1.]], shape=(2, 2), dtype=float32)\n",
            "tf.Tensor(\n",
            "[[1. 1.]\n",
            " [1. 1.]], shape=(2, 2), dtype=float32)\n",
            "tf.Tensor(\n",
            "[[1. 1.]\n",
            " [1. 1.]], shape=(2, 2), dtype=float32)\n",
            "tf.Tensor(\n",
            "[[2. 2.]\n",
            " [2. 2.]], shape=(2, 2), dtype=float32)\n",
            "tf.Tensor(\n",
            "[[4. 4.]\n",
            " [4. 4.]], shape=(2, 2), dtype=float32)\n"
          ]
        }
      ],
      "source": [
        "a = tf.ones((2, 2))\n",
        "b = tf.square(a) #take square\n",
        "c = tf.sqrt(a) #take square root\n",
        "d = b + c #add 2 tensors (element wise)\n",
        "e = tf.matmul(a, b) #take product of 2 tensors\n",
        "e *= d #multiply 2 tensors (element wise)\n",
        "print(a)\n",
        "print(b)\n",
        "print(c)\n",
        "print(d)\n",
        "print(e)"
      ]
    },
    {
      "cell_type": "markdown",
      "source": [
        "Importantly, each of the preceding operations gets executed on the fly: at any\n",
        "point, you can print what the current result is, just like in NumPy. We call this\n",
        "eager execution"
      ],
      "metadata": {
        "id": "KPPSagd4OL0R"
      }
    },
    {
      "cell_type": "markdown",
      "metadata": {
        "id": "3ef9oib-LjB6"
      },
      "source": [
        "#### A second look at the GradientTape API"
      ]
    },
    {
      "cell_type": "markdown",
      "source": [
        "TensorFlow seems to look a lot like NumPy. But here’s something NumPy\n",
        "can’t do:"
      ],
      "metadata": {
        "id": "2RkL2wGJOeUS"
      }
    },
    {
      "cell_type": "markdown",
      "metadata": {
        "id": "-yDh9h3ALjB6"
      },
      "source": [
        "**Using the `GradientTape`**"
      ]
    },
    {
      "cell_type": "code",
      "execution_count": 13,
      "metadata": {
        "colab": {
          "base_uri": "https://localhost:8080/"
        },
        "id": "BJPqQN9KLjB7",
        "outputId": "03e20d21-cf8e-4874-c9a9-971d09c16972"
      },
      "outputs": [
        {
          "output_type": "execute_result",
          "data": {
            "text/plain": [
              "<tf.Tensor: shape=(), dtype=float32, numpy=6.0>"
            ]
          },
          "metadata": {},
          "execution_count": 13
        }
      ],
      "source": [
        "input_var = tf.Variable(initial_value=3.)\n",
        "with tf.GradientTape() as tape:\n",
        "   result = tf.square(input_var)\n",
        "gradient = tape.gradient(result, input_var)\n",
        "gradient"
      ]
    },
    {
      "cell_type": "markdown",
      "source": [
        "Retrieve the gradients of the loss of a model with respect to its weights:\n",
        "gradients = tape.gradient(loss, weights)"
      ],
      "metadata": {
        "id": "ucI8OsPkOgrR"
      }
    },
    {
      "cell_type": "markdown",
      "source": [
        "Only trainable variables are tracked by default. With a constant tensor, you’d\n",
        "have to manually mark it as being tracked by calling tape.watch() on it"
      ],
      "metadata": {
        "id": "ZaaxQ9vMOj_R"
      }
    },
    {
      "cell_type": "markdown",
      "metadata": {
        "id": "GyGt99EKLjB7"
      },
      "source": [
        "**Using `GradientTape` with constant tensor inputs**"
      ]
    },
    {
      "cell_type": "code",
      "execution_count": 14,
      "metadata": {
        "colab": {
          "base_uri": "https://localhost:8080/"
        },
        "id": "j15iTwKqLjB7",
        "outputId": "cd99106e-6640-4368-8407-fdb5933b5c02"
      },
      "outputs": [
        {
          "output_type": "execute_result",
          "data": {
            "text/plain": [
              "<tf.Tensor: shape=(), dtype=float32, numpy=6.0>"
            ]
          },
          "metadata": {},
          "execution_count": 14
        }
      ],
      "source": [
        "input_const = tf.constant(3.)\n",
        "with tf.GradientTape() as tape:\n",
        "   tape.watch(input_const)\n",
        "   result = tf.square(input_const)\n",
        "gradient = tape.gradient(result, input_const)\n",
        "gradient"
      ]
    },
    {
      "cell_type": "markdown",
      "metadata": {
        "id": "KVwu9L4KLjB8"
      },
      "source": [
        "**Using nested gradient tapes to compute second-order gradients**"
      ]
    },
    {
      "cell_type": "code",
      "execution_count": 15,
      "metadata": {
        "id": "NmU2h5IxLjB8"
      },
      "outputs": [],
      "source": [
        "time = tf.Variable(0.)\n",
        "with tf.GradientTape() as outer_tape:\n",
        "    with tf.GradientTape() as inner_tape:\n",
        "        position =  4.9 * time ** 2\n",
        "    speed = inner_tape.gradient(position, time)\n",
        "acceleration = outer_tape.gradient(speed, time)"
      ]
    },
    {
      "cell_type": "markdown",
      "metadata": {
        "id": "tRNWmMc4LjB8"
      },
      "source": [
        "#### An end-to-end example: A linear classifier in pure TensorFlow"
      ]
    },
    {
      "cell_type": "markdown",
      "metadata": {
        "id": "X58t9TviLjB8"
      },
      "source": [
        "**Generating two classes of random points in a 2D plane**"
      ]
    },
    {
      "cell_type": "code",
      "execution_count": 18,
      "metadata": {
        "id": "NL8nJlGsLjB8"
      },
      "outputs": [],
      "source": [
        "num_samples_per_class = 1000\n",
        "#generate the first class of points\n",
        "#1000 random 2D points, cov=[[1,0.5],[0.5,1]] corresponds to an oval like point cloud oriented from bottom left to top right\n",
        "negative_samples = np.random.multivariate_normal(\n",
        "    mean=[0, 3],\n",
        "    cov=[[1, 0.5],[0.5, 1]],\n",
        "    size=num_samples_per_class)\n",
        "#generate the other class of points with a different mean and same cov matrix\n",
        "positive_samples = np.random.multivariate_normal(\n",
        "    mean=[3, 0],\n",
        "    cov=[[1, 0.5],[0.5, 1]],\n",
        "    size=num_samples_per_class)"
      ]
    },
    {
      "cell_type": "markdown",
      "metadata": {
        "id": "92e92-LILjB9"
      },
      "source": [
        "**Stacking the two classes into an array with shape (2000, 2)**"
      ]
    },
    {
      "cell_type": "code",
      "execution_count": 19,
      "metadata": {
        "id": "IKGshFrGLjB9"
      },
      "outputs": [],
      "source": [
        "inputs = np.vstack((negative_samples, positive_samples)).astype(np.float32)"
      ]
    },
    {
      "cell_type": "markdown",
      "metadata": {
        "id": "4xFpuRU_LjB9"
      },
      "source": [
        "**Generating the corresponding targets (0 and 1)**"
      ]
    },
    {
      "cell_type": "code",
      "execution_count": 20,
      "metadata": {
        "id": "f_g9jIalLjB-"
      },
      "outputs": [],
      "source": [
        "targets = np.vstack((np.zeros((num_samples_per_class, 1), dtype=\"float32\"),\n",
        "                     np.ones((num_samples_per_class, 1), dtype=\"float32\")))"
      ]
    },
    {
      "cell_type": "markdown",
      "metadata": {
        "id": "_1FK5ZTaLjB-"
      },
      "source": [
        "**Plotting the two point classes**"
      ]
    },
    {
      "cell_type": "code",
      "execution_count": 21,
      "metadata": {
        "colab": {
          "base_uri": "https://localhost:8080/",
          "height": 265
        },
        "id": "turEsNy9LjB-",
        "outputId": "6a690896-4c4c-4b84-a593-663a95182480"
      },
      "outputs": [
        {
          "output_type": "display_data",
          "data": {
            "text/plain": [
              "<Figure size 432x288 with 1 Axes>"
            ],
            "image/png": "[encoded data removed]"
          },
          "metadata": {
            "needs_background": "light"
          }
        }
      ],
      "source": [
        "import matplotlib.pyplot as plt\n",
        "plt.scatter(inputs[:, 0], inputs[:, 1], c=targets[:, 0])\n",
        "plt.show()\n",
        "#2 classes of random points in 2D plan"
      ]
    },
    {
      "cell_type": "markdown",
      "metadata": {
        "id": "Qy1cehPDLjB-"
      },
      "source": [
        "**Creating the linear classifier variables**"
      ]
    },
    {
      "cell_type": "code",
      "execution_count": 22,
      "metadata": {
        "id": "YvVREXenLjB-"
      },
      "outputs": [],
      "source": [
        "input_dim = 2 #for 2D points\n",
        "output_dim = 1 #single score per sample (close to 0{1} if sample is predicted to be in class 0{1})\n",
        "W = tf.Variable(initial_value=tf.random.uniform(shape=(input_dim, output_dim)))\n",
        "b = tf.Variable(initial_value=tf.zeros(shape=(output_dim,)))"
      ]
    },
    {
      "cell_type": "markdown",
      "metadata": {
        "id": "sHgoPxNgLjB_"
      },
      "source": [
        "**The forward pass function**"
      ]
    },
    {
      "cell_type": "code",
      "execution_count": 23,
      "metadata": {
        "id": "6S30x7SFLjB_"
      },
      "outputs": [],
      "source": [
        "def model(inputs):\n",
        "    return tf.matmul(inputs, W) + b"
      ]
    },
    {
      "cell_type": "markdown",
      "metadata": {
        "id": "cJBj5kDvLjB_"
      },
      "source": [
        "**The mean squared error loss function**"
      ]
    },
    {
      "cell_type": "code",
      "execution_count": 25,
      "metadata": {
        "id": "iw5igzVaLjB_"
      },
      "outputs": [],
      "source": [
        "def square_loss(targets, predictions):\n",
        "    per_sample_losses = tf.square(targets - predictions) #tensor with same shape as targets & predictions containing per sample loss scores\n",
        "    return tf.reduce_mean(per_sample_losses)#we need to average these per sample loss scores into a single scalar loss value"
      ]
    },
    {
      "cell_type": "markdown",
      "metadata": {
        "id": "91Z7cY8QLjCA"
      },
      "source": [
        "**The training step function using gradient descent**"
      ]
    },
    {
      "cell_type": "code",
      "execution_count": 26,
      "metadata": {
        "id": "T__Stf2eLjCA"
      },
      "outputs": [],
      "source": [
        "learning_rate = 0.1\n",
        "\n",
        "def training_step(inputs, targets):\n",
        "    #forward pass, inside a gradient tape scope\n",
        "    with tf.GradientTape() as tape:\n",
        "        predictions = model(inputs)\n",
        "        loss = square_loss(targets, predictions)\n",
        "    grad_loss_wrt_W, grad_loss_wrt_b = tape.gradient(loss, [W, b]) #retrieve the gradient of the loss with regard to weight\n",
        "    #update the weights\n",
        "    W.assign_sub(grad_loss_wrt_W * learning_rate)\n",
        "    b.assign_sub(grad_loss_wrt_b * learning_rate)\n",
        "    return loss"
      ]
    },
    {
      "cell_type": "markdown",
      "metadata": {
        "id": "5ULQLwGqLjCA"
      },
      "source": [
        "**The batch training loop**"
      ]
    },
    {
      "cell_type": "markdown",
      "source": [
        "40 steps of training (40 epochs)"
      ],
      "metadata": {
        "id": "GCFuRk_0QbAu"
      }
    },
    {
      "cell_type": "code",
      "execution_count": 27,
      "metadata": {
        "colab": {
          "base_uri": "https://localhost:8080/"
        },
        "id": "fecdO45LLjCB",
        "outputId": "2d38a45c-c840-43ac-916b-6c5fb026d24d"
      },
      "outputs": [
        {
          "output_type": "stream",
          "name": "stdout",
          "text": [
            "Loss at step 0: 0.9232\n",
            "Loss at step 1: 0.0857\n",
            "Loss at step 2: 0.0791\n",
            "Loss at step 3: 0.0744\n",
            "Loss at step 4: 0.0702\n",
            "Loss at step 5: 0.0664\n",
            "Loss at step 6: 0.0629\n",
            "Loss at step 7: 0.0596\n",
            "Loss at step 8: 0.0567\n",
            "Loss at step 9: 0.0540\n",
            "Loss at step 10: 0.0516\n",
            "Loss at step 11: 0.0493\n",
            "Loss at step 12: 0.0472\n",
            "Loss at step 13: 0.0453\n",
            "Loss at step 14: 0.0436\n",
            "Loss at step 15: 0.0420\n",
            "Loss at step 16: 0.0406\n",
            "Loss at step 17: 0.0392\n",
            "Loss at step 18: 0.0380\n",
            "Loss at step 19: 0.0369\n",
            "Loss at step 20: 0.0359\n",
            "Loss at step 21: 0.0349\n",
            "Loss at step 22: 0.0341\n",
            "Loss at step 23: 0.0333\n",
            "Loss at step 24: 0.0326\n",
            "Loss at step 25: 0.0319\n",
            "Loss at step 26: 0.0313\n",
            "Loss at step 27: 0.0308\n",
            "Loss at step 28: 0.0303\n",
            "Loss at step 29: 0.0298\n",
            "Loss at step 30: 0.0294\n",
            "Loss at step 31: 0.0290\n",
            "Loss at step 32: 0.0286\n",
            "Loss at step 33: 0.0283\n",
            "Loss at step 34: 0.0280\n",
            "Loss at step 35: 0.0277\n",
            "Loss at step 36: 0.0275\n",
            "Loss at step 37: 0.0273\n",
            "Loss at step 38: 0.0270\n",
            "Loss at step 39: 0.0269\n"
          ]
        }
      ],
      "source": [
        "for step in range(40):\n",
        "    loss = training_step(inputs, targets)\n",
        "    print(f\"Loss at step {step}: {loss:.4f}\")"
      ]
    },
    {
      "cell_type": "code",
      "execution_count": 28,
      "metadata": {
        "colab": {
          "base_uri": "https://localhost:8080/",
          "height": 265
        },
        "id": "4lvIsbQaLjCB",
        "outputId": "be01bde1-185a-4b39-8afd-23f120d278d5"
      },
      "outputs": [
        {
          "output_type": "display_data",
          "data": {
            "text/plain": [
              "<Figure size 432x288 with 1 Axes>"
            ],
            "image/png": "[encoded data removed]"
          },
          "metadata": {
            "needs_background": "light"
          }
        }
      ],
      "source": [
        "predictions = model(inputs)\n",
        "plt.scatter(inputs[:, 0], inputs[:, 1], c=predictions[:, 0] > 0.5)\n",
        "plt.show()"
      ]
    },
    {
      "cell_type": "code",
      "execution_count": 29,
      "metadata": {
        "colab": {
          "base_uri": "https://localhost:8080/",
          "height": 282
        },
        "id": "mGubueVbLjCB",
        "outputId": "f70462df-2d50-4e6a-bc8c-c92202b04fc2"
      },
      "outputs": [
        {
          "output_type": "execute_result",
          "data": {
            "text/plain": [
              "<matplotlib.collections.PathCollection at 0x7f748ceb5610>"
            ]
          },
          "metadata": {},
          "execution_count": 29
        },
        {
          "output_type": "display_data",
          "data": {
            "text/plain": [
              "<Figure size 432x288 with 1 Axes>"
            ],
            "image/png": "[encoded data removed]"
          },
          "metadata": {
            "needs_background": "light"
          }
        }
      ],
      "source": [
        "x = np.linspace(-1, 4, 100) #generate 100 regularly spaced numbers bet/ -1 & 4 which we will use to plot our line\n",
        "y = - W[0] /  W[1] * x + (0.5 - b) / W[1] #line's equation\n",
        "plt.plot(x, y, \"-r\") #plot our line (\"-r\" means \"plot it as red\")\n",
        "plt.scatter(inputs[:, 0], inputs[:, 1], c=predictions[:, 0] > 0.5) #plot our model's pred° on same plot"
      ]
    },
    {
      "cell_type": "markdown",
      "metadata": {
        "id": "GP8Pg8rrLjCB"
      },
      "source": [
        "## Anatomy of a neural network: Understanding core Keras APIs"
      ]
    },
    {
      "cell_type": "markdown",
      "metadata": {
        "id": "gRy8OAtxLjCB"
      },
      "source": [
        "### Layers: The building blocks of deep learning"
      ]
    },
    {
      "cell_type": "markdown",
      "source": [
        "A layer is a data processing module that takes as input tensors and that outputs tensors\n",
        "\n",
        "Ex) densely connected layer, called fully connected or dense layer (Dense class in Keras)"
      ],
      "metadata": {
        "id": "YvGm2s79Q390"
      }
    },
    {
      "cell_type": "markdown",
      "metadata": {
        "id": "N5eaM-h2LjCC"
      },
      "source": [
        "#### The base Layer class in Keras"
      ]
    },
    {
      "cell_type": "markdown",
      "source": [
        "Layer is object that encapsulates some state (weights) and computation (forward pass)\n",
        "\n",
        "weights are typically defined in a build() (although they could also be created in the constructor, __init__()), and the computation is defined in the call() method."
      ],
      "metadata": {
        "id": "SfFbcMNlQ72M"
      }
    },
    {
      "cell_type": "markdown",
      "metadata": {
        "id": "mCl5iZP2LjCC"
      },
      "source": [
        "**A `Dense` layer implemented as a `Layer` subclass**"
      ]
    },
    {
      "cell_type": "code",
      "execution_count": 30,
      "metadata": {
        "id": "49CxSSWOLjCC"
      },
      "outputs": [],
      "source": [
        "from tensorflow import keras\n",
        "\n",
        "class SimpleDense(keras.layers.Layer): #all keras layers inherit from the base layer class\n",
        "\n",
        "    def __init__(self, units, activation=None):\n",
        "        super().__init__()\n",
        "        self.units = units\n",
        "        self.activation = activation\n",
        "\n",
        "    def build(self, input_shape): #weight creation takes place in the build() method\n",
        "        input_dim = input_shape[-1]\n",
        "        self.W = self.add_weight(shape=(input_dim, self.units),\n",
        "                                 initializer=\"random_normal\")\n",
        "        self.b = self.add_weight(shape=(self.units,),\n",
        "                                 initializer=\"zeros\")\n",
        "        #add_weight() is a shortcut method for creating weights. \n",
        "        #It's also possible to create standalone variables & assign them as layer attributes, like self\n",
        "\n",
        "    #We define the forward pass computation in the call() method    \n",
        "    def call(self, inputs):\n",
        "        y = tf.matmul(inputs, self.W) + self.b\n",
        "        if self.activation is not None:\n",
        "            y = self.activation(y)\n",
        "        return y"
      ]
    },
    {
      "cell_type": "markdown",
      "source": [
        "Once instantiated, a layer like this can be used just like a function, taking as input a TensorFlow tensor:"
      ],
      "metadata": {
        "id": "tWyuNTLjRpVH"
      }
    },
    {
      "cell_type": "code",
      "execution_count": 31,
      "metadata": {
        "colab": {
          "base_uri": "https://localhost:8080/"
        },
        "id": "bAhiAFesLjCD",
        "outputId": "cb4b7942-f39f-4c4c-ff6f-ac31a7709162"
      },
      "outputs": [
        {
          "output_type": "stream",
          "name": "stdout",
          "text": [
            "(2, 32)\n"
          ]
        }
      ],
      "source": [
        "my_dense = SimpleDense(units=32, activation=tf.nn.relu) #instantiate our layer defined previously\n",
        "input_tensor = tf.ones(shape=(2, 784)) #create some test inputs\n",
        "output_tensor = my_dense(input_tensor) #call the layer on the inputs, just like a function \n",
        "print(output_tensor.shape)"
      ]
    },
    {
      "cell_type": "markdown",
      "metadata": {
        "id": "iJC8oB6zLjCD"
      },
      "source": [
        "#### Automatic shape inference: Building layers on the fly"
      ]
    },
    {
      "cell_type": "code",
      "execution_count": 32,
      "metadata": {
        "id": "YtQuTmgnLjCD"
      },
      "outputs": [],
      "source": [
        "#dense layer with 32 output units\n",
        "from tensorflow.keras import layers\n",
        "layer = layers.Dense(32, activation=\"relu\")"
      ]
    },
    {
      "cell_type": "markdown",
      "source": [
        "layers didn’t receive any information about the shape of their inputs—instead, they automatically inferred their input shape as being the shape of the first inputs they see."
      ],
      "metadata": {
        "id": "1OyFZzbMR_nC"
      }
    },
    {
      "cell_type": "code",
      "execution_count": 33,
      "metadata": {
        "id": "YpSS2SpeLjCE"
      },
      "outputs": [],
      "source": [
        "from tensorflow.keras import models\n",
        "from tensorflow.keras import layers\n",
        "model = models.Sequential([\n",
        "    layers.Dense(32, activation=\"relu\"),\n",
        "    layers.Dense(32)\n",
        "])"
      ]
    },
    {
      "cell_type": "code",
      "execution_count": null,
      "metadata": {
        "id": "3mUbomimLjCE"
      },
      "outputs": [],
      "source": [
        "model = keras.Sequential([\n",
        "    SimpleDense(32, activation=\"relu\"),\n",
        "    SimpleDense(64, activation=\"relu\"),\n",
        "    SimpleDense(32, activation=\"relu\"),\n",
        "    SimpleDense(10, activation=\"softmax\")\n",
        "])"
      ]
    },
    {
      "cell_type": "markdown",
      "source": [
        "Compare the Dense layer we implemented in CHAP2\n",
        "model=NaiveSequential([\n",
        "  \n",
        "                       NaiveDense(input_size=784, output_size=32, activation=\"relu\"),\n",
        "                       NaiveDense(input_size=32, output_size=64, activation=\"relu\"),\n",
        "                       NaiveDense(input_size=64, output_size=32, activation=\"relu\"),\n",
        "                       NaiveDense(input_size=32, output_size=10, activation=\"softmax\"),\n",
        "])"
      ],
      "metadata": {
        "id": "wTiyPjSeSal8"
      }
    },
    {
      "cell_type": "markdown",
      "metadata": {
        "id": "skD1hoaYLjCE"
      },
      "source": [
        "### From layers to models"
      ]
    },
    {
      "cell_type": "markdown",
      "source": [
        "A deep learning model is a graph of layers. So far we've learned Sequential model\n",
        "\n",
        "There are much broader variety of network\n",
        "topologies: Two-branch networks, Multihead\n",
        "networks, Residual connections, etc.\n",
        "\n",
        "There are generally two ways of building\n",
        "such models in Keras: you could directly\n",
        "subclass the Model class, or you could use\n",
        "the Functional API, which lets you do more\n",
        "with less code. (Will be covered from\n",
        "chapter 7)\n",
        "\n",
        "Picking the right network architecture is\n",
        "more an art than a science, and although\n",
        "there are some best practices and\n",
        "principles you can rely on.\n"
      ],
      "metadata": {
        "id": "rFQLcrjmSkiL"
      }
    },
    {
      "cell_type": "markdown",
      "metadata": {
        "id": "ULoznUnELjCE"
      },
      "source": [
        "### The \"compile\" step: Configuring the learning process"
      ]
    },
    {
      "cell_type": "code",
      "execution_count": 35,
      "metadata": {
        "id": "MZtcF0nkLjCE"
      },
      "outputs": [],
      "source": [
        "model = keras.Sequential([keras.layers.Dense(1)])\n",
        "model.compile(optimizer=\"rmsprop\",\n",
        "              loss=\"mean_squared_error\",\n",
        "              metrics=[\"accuracy\"])"
      ]
    },
    {
      "cell_type": "code",
      "execution_count": 36,
      "metadata": {
        "id": "f4_qRweILjCF"
      },
      "outputs": [],
      "source": [
        "model.compile(optimizer=keras.optimizers.RMSprop(),\n",
        "              loss=keras.losses.MeanSquaredError(),\n",
        "              metrics=[keras.metrics.BinaryAccuracy()])"
      ]
    },
    {
      "cell_type": "markdown",
      "metadata": {
        "id": "g4mPIFkgLjCF"
      },
      "source": [
        "### Picking a loss function"
      ]
    },
    {
      "cell_type": "markdown",
      "source": [
        "Choosing the right loss function for the right problem is extremely important\n",
        "\n",
        "There are simple guidelines you can follow to choose:\n",
        "\n",
        "> Binary crossentropy for a two-class classification\n",
        "\n",
        "> Categorical crossentropy for a many-class classification problem\n",
        "\n",
        "> Mean squared error for regression problem"
      ],
      "metadata": {
        "id": "L3jV_MDISzZF"
      }
    },
    {
      "cell_type": "markdown",
      "metadata": {
        "id": "7L9WUh-QLjCF"
      },
      "source": [
        "### Understanding the fit() method"
      ]
    },
    {
      "cell_type": "markdown",
      "source": [
        "Key arguments:\n",
        "\n",
        "\n",
        "> The data (inputs and targets) to train on: NumPy arrays or a TensorFlow Dataset object.\n",
        "\n",
        "> The number of epochs to train for: how many times the training loop iterate over the data passed.\n",
        "\n",
        "> The batch size to use within each epoch of mini-batch gradient descent: the number of\n",
        "training examples considered to compute the gradients for one weight update step.\n",
        "k\n",
        "\n"
      ],
      "metadata": {
        "id": "1JlcUbyMTFGk"
      }
    },
    {
      "cell_type": "markdown",
      "metadata": {
        "id": "SsG6EfjNLjCF"
      },
      "source": [
        "**Calling `fit()` with NumPy data**"
      ]
    },
    {
      "cell_type": "code",
      "execution_count": 37,
      "metadata": {
        "colab": {
          "base_uri": "https://localhost:8080/"
        },
        "id": "WX4wmXrYLjCF",
        "outputId": "f42c93c2-f498-4700-d6ff-ae47d2b3f1f7"
      },
      "outputs": [
        {
          "output_type": "stream",
          "name": "stdout",
          "text": [
            "Epoch 1/5\n",
            "16/16 [==============================] - 1s 5ms/step - loss: 6.8439 - binary_accuracy: 0.0070\n",
            "Epoch 2/5\n",
            "16/16 [==============================] - 0s 3ms/step - loss: 6.5270 - binary_accuracy: 0.0070\n",
            "Epoch 3/5\n",
            "16/16 [==============================] - 0s 3ms/step - loss: 6.2577 - binary_accuracy: 0.0070\n",
            "Epoch 4/5\n",
            "16/16 [==============================] - 0s 3ms/step - loss: 5.9987 - binary_accuracy: 0.0070\n",
            "Epoch 5/5\n",
            "16/16 [==============================] - 0s 3ms/step - loss: 5.7468 - binary_accuracy: 0.0070\n"
          ]
        }
      ],
      "source": [
        "history = model.fit(\n",
        "    inputs, #input examples, as a numpy array\n",
        "    targets, #corresponding training targets as numpy array\n",
        "    epochs=5, #training loop will iterate over the data 5 times\n",
        "    batch_size=128 #the trainin loop will iterate over the data in batches of 128 examples\n",
        ")"
      ]
    },
    {
      "cell_type": "code",
      "execution_count": 38,
      "metadata": {
        "colab": {
          "base_uri": "https://localhost:8080/"
        },
        "id": "S5Jdg9EVLjCG",
        "outputId": "c9aa23d9-2337-4f3c-8861-90c4977097bb"
      },
      "outputs": [
        {
          "output_type": "execute_result",
          "data": {
            "text/plain": [
              "{'binary_accuracy': [0.007000000216066837,\n",
              "  0.007000000216066837,\n",
              "  0.007000000216066837,\n",
              "  0.007000000216066837,\n",
              "  0.007000000216066837],\n",
              " 'loss': [6.843898773193359,\n",
              "  6.527038097381592,\n",
              "  6.257726192474365,\n",
              "  5.998719692230225,\n",
              "  5.746751308441162]}"
            ]
          },
          "metadata": {},
          "execution_count": 38
        }
      ],
      "source": [
        "history.history"
      ]
    },
    {
      "cell_type": "markdown",
      "metadata": {
        "id": "_hf5-AchLjCG"
      },
      "source": [
        "### Monitoring loss and metrics on validation data"
      ]
    },
    {
      "cell_type": "markdown",
      "source": [
        "To keep an eye on how the model does on new data, it’s standard practice to reserve a subset of the training data as validation data: you won’t be training the model on this data, but you will use it to compute a loss value and metrics value"
      ],
      "metadata": {
        "id": "jvGU9yceTjhE"
      }
    },
    {
      "cell_type": "markdown",
      "metadata": {
        "id": "nIOko4FtLjCG"
      },
      "source": [
        "**Using the `validation_data` argument**"
      ]
    },
    {
      "cell_type": "code",
      "execution_count": 39,
      "metadata": {
        "colab": {
          "base_uri": "https://localhost:8080/"
        },
        "id": "VtmfKVTILjCG",
        "outputId": "4c390c6a-b9b1-4fc7-a8fe-94f26744ab84"
      },
      "outputs": [
        {
          "output_type": "stream",
          "name": "stdout",
          "text": [
            "Epoch 1/5\n",
            "88/88 [==============================] - 1s 8ms/step - loss: 0.3253 - binary_accuracy: 0.9621 - val_loss: 0.0300 - val_binary_accuracy: 0.9967\n",
            "Epoch 2/5\n",
            "88/88 [==============================] - 0s 5ms/step - loss: 0.0748 - binary_accuracy: 0.9593 - val_loss: 0.0695 - val_binary_accuracy: 0.9850\n",
            "Epoch 3/5\n",
            "88/88 [==============================] - 0s 5ms/step - loss: 0.0695 - binary_accuracy: 0.9579 - val_loss: 0.4999 - val_binary_accuracy: 0.6100\n",
            "Epoch 4/5\n",
            "88/88 [==============================] - 0s 3ms/step - loss: 0.0693 - binary_accuracy: 0.9614 - val_loss: 0.4384 - val_binary_accuracy: 0.7483\n",
            "Epoch 5/5\n",
            "88/88 [==============================] - 0s 3ms/step - loss: 0.0794 - binary_accuracy: 0.9471 - val_loss: 0.0379 - val_binary_accuracy: 0.9983\n"
          ]
        },
        {
          "output_type": "execute_result",
          "data": {
            "text/plain": [
              "<keras.callbacks.History at 0x7f748cbd3310>"
            ]
          },
          "metadata": {},
          "execution_count": 39
        }
      ],
      "source": [
        "model = keras.Sequential([keras.layers.Dense(1)])\n",
        "model.compile(optimizer=keras.optimizers.RMSprop(learning_rate=0.1),\n",
        "              loss=keras.losses.MeanSquaredError(),\n",
        "              metrics=[keras.metrics.BinaryAccuracy()])\n",
        "\n",
        "#to avoid having samples from only one class in the validation data, shuffle inputs\n",
        "#&targets using a random indices permutation\n",
        "indices_permutation = np.random.permutation(len(inputs))\n",
        "shuffled_inputs = inputs[indices_permutation]\n",
        "shuffled_targets = targets[indices_permutation]\n",
        "\n",
        "#reserve 30% of the trainin inputs and targets for validation \n",
        "#(we'll exclude these samples from training and reserve them to compute the validation loss & metrics)\n",
        "num_validation_samples = int(0.3 * len(inputs))\n",
        "val_inputs = shuffled_inputs[:num_validation_samples]\n",
        "val_targets = shuffled_targets[:num_validation_samples]\n",
        "training_inputs = shuffled_inputs[num_validation_samples:]\n",
        "training_targets = shuffled_targets[num_validation_samples:]\n",
        "\n",
        "#training data, used to update weights of the model\n",
        "model.fit(\n",
        "    training_inputs,\n",
        "    training_targets,\n",
        "    epochs=5,\n",
        "    batch_size=16,\n",
        "    validation_data=(val_inputs, val_targets) #valdata used only to monitor the validation loss & metrics\n",
        ")"
      ]
    },
    {
      "cell_type": "code",
      "source": [
        "loss_and_metrics=model.evaluate(val_inputs, val_targets, batch_size=128)"
      ],
      "metadata": {
        "colab": {
          "base_uri": "https://localhost:8080/"
        },
        "id": "PytE4cKxUQZ5",
        "outputId": "21b8b479-5b89-4d45-8d12-1a5cfaef2350"
      },
      "execution_count": 40,
      "outputs": [
        {
          "output_type": "stream",
          "name": "stdout",
          "text": [
            "5/5 [==============================] - 0s 4ms/step - loss: 0.0379 - binary_accuracy: 0.9983\n"
          ]
        }
      ]
    },
    {
      "cell_type": "markdown",
      "metadata": {
        "id": "lFY2BqIqLjCG"
      },
      "source": [
        "### Inference: Using a model after training"
      ]
    },
    {
      "cell_type": "markdown",
      "source": [
        "Once you’ve trained your model, you’re going to want to use it to make predictions on new data"
      ],
      "metadata": {
        "id": "2MYL1SooUaXS"
      }
    },
    {
      "cell_type": "markdown",
      "source": [
        "However, this will process all inputs in new_inputs at once, which may not be feasible if you’re looking at a lot of data"
      ],
      "metadata": {
        "id": "BvzvI7iLUf_h"
      }
    },
    {
      "cell_type": "code",
      "execution_count": 41,
      "metadata": {
        "colab": {
          "base_uri": "https://localhost:8080/"
        },
        "id": "VyxVGfwNLjCH",
        "outputId": "d9d76900-21e8-4060-d151-471922d8e147"
      },
      "outputs": [
        {
          "output_type": "stream",
          "name": "stdout",
          "text": [
            "[[-0.25196972]\n",
            " [-0.03334162]\n",
            " [-0.20754603]\n",
            " [-0.10719952]\n",
            " [ 0.01920441]\n",
            " [ 0.7524129 ]\n",
            " [-0.31522563]\n",
            " [ 0.20659682]\n",
            " [ 0.7982116 ]\n",
            " [ 0.2133953 ]]\n"
          ]
        }
      ],
      "source": [
        "predictions = model.predict(val_inputs, batch_size=128) #take a numpy array or dataset & returns a numpy array\n",
        "print(predictions[:10])"
      ]
    },
    {
      "cell_type": "markdown",
      "metadata": {
        "id": "dbqi6XPvLjCH"
      },
      "source": [
        "## Summary"
      ]
    }
  ],
  "metadata": {
    "colab": {
      "collapsed_sections": [],
      "name": "chapter03_introduction-to-keras-and-tf.i",
      "provenance": []
    },
    "kernelspec": {
      "display_name": "Python 3",
      "language": "python",
      "name": "python3"
    },
    "language_info": {
      "codemirror_mode": {
        "name": "ipython",
        "version": 3
      },
      "file_extension": ".py",
      "mimetype": "text/x-python",
      "name": "python",
      "nbconvert_exporter": "python",
      "pygments_lexer": "ipython3",
      "version": "3.7.0"
    },
    "accelerator": "GPU"
  },
  "nbformat": 4,
  "nbformat_minor": 0
}