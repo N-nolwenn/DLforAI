{
  "cells": [
    {
      "cell_type": "markdown",
      "metadata": {
        "id": "view-in-github",
        "colab_type": "text"
      },
      "source": [
        "<a href=\"https://colab.research.google.com/github/N-nolwenn/RepositoryTest/blob/main/Final%20Fall_armyworm.ipynb\" target=\"_parent\"><img src=\"https://colab.research.google.com/assets/colab-badge.svg\" alt=\"Open In Colab\"/></a>"
      ]
    },
    {
      "cell_type": "code",
      "execution_count": null,
      "metadata": {
        "id": "I4muo0kfPp9d"
      },
      "outputs": [],
      "source": [
        "# Importing the relevant libraries\n",
        "import numpy as np\n",
        "import pandas as pd\n",
        "import cv2\n",
        "import matplotlib.pyplot as plt\n",
        "import random\n",
        "from IPython.display import Image as ShowImage\n",
        "\n",
        "# Keras libraries\n",
        "from keras.models import Sequential\n",
        "from keras.layers import Conv2D, MaxPooling2D, Dropout, Flatten, Dense, Activation, BatchNormalization,GlobalMaxPooling2D\n",
        "from tensorflow.keras.applications.vgg16 import VGG16 #16개의 레이어를 제공하는 CNN 아키텍처(사전 훈련된 네트워크로 재사용 가능)\n",
        "from keras.preprocessing.image import ImageDataGenerator # 실시간 데이터 증식으로 텐서 이미지 데이터의 배치를 생성.(크기 조정, 회전, 확대/축소)\n",
        "from tensorflow.keras import optimizers\n",
        "from keras.models import Model"
      ]
    },
    {
      "cell_type": "code",
      "execution_count": null,
      "metadata": {
        "colab": {
          "base_uri": "https://localhost:8080/"
        },
        "id": "_Ag6FSHAQZky",
        "outputId": "1ba555ad-4b04-4fe8-a2c7-57e283c2e13f"
      },
      "outputs": [
        {
          "output_type": "stream",
          "name": "stdout",
          "text": [
            "Mounted at /content/gdrive\n"
          ]
        }
      ],
      "source": [
        "from google.colab import drive\n",
        "drive.mount('/content/gdrive')"
      ]
    },
    {
      "cell_type": "code",
      "execution_count": null,
      "metadata": {
        "colab": {
          "base_uri": "https://localhost:8080/",
          "height": 112,
          "resources": {
            "http://localhost:8080/nbextensions/google.colab/files.js": {
              "data": "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",
              "headers": [
                [
                  "content-type",
                  "application/javascript"
                ]
              ],
              "ok": true,
              "status": 200,
              "status_text": ""
            }
          }
        },
        "id": "N9V9mDAbQadI",
        "outputId": "21a0bb73-7668-4753-bc98-118993851fa4"
      },
      "outputs": [
        {
          "output_type": "display_data",
          "data": {
            "text/plain": [
              "<IPython.core.display.HTML object>"
            ],
            "text/html": [
              "\n",
              "     <input type=\"file\" id=\"files-9c331066-e7ae-4073-8ed6-009cf66defa4\" name=\"files[]\" multiple disabled\n",
              "        style=\"border:none\" />\n",
              "     <output id=\"result-9c331066-e7ae-4073-8ed6-009cf66defa4\">\n",
              "      Upload widget is only available when the cell has been executed in the\n",
              "      current browser session. Please rerun this cell to enable.\n",
              "      </output>\n",
              "      <script src=\"/nbextensions/google.colab/files.js\"></script> "
            ]
          },
          "metadata": {}
        },
        {
          "output_type": "stream",
          "name": "stdout",
          "text": [
            "Saving Test1.csv to Test1.csv\n",
            "Saving Train1.csv to Train1.csv\n"
          ]
        }
      ],
      "source": [
        "from google.colab import files\n",
        "myfile = files.upload()"
      ]
    },
    {
      "cell_type": "code",
      "execution_count": null,
      "metadata": {
        "colab": {
          "base_uri": "https://localhost:8080/",
          "height": 206
        },
        "id": "9x2GcPQKPf04",
        "outputId": "a6c7add7-642d-407b-81c6-0e26c6e6c5b5"
      },
      "outputs": [
        {
          "output_type": "execute_result",
          "data": {
            "text/plain": [
              "               Image_id  Label\n",
              "0  id_02amazy34fgh2.jpg      1\n",
              "1  id_02mh3w48pmyc9.jpg      0\n",
              "2  id_02rpb463h9d3w.jpg      0\n",
              "3  id_02wc3jeeao8ol.jpg      1\n",
              "4  id_03t2hapb8wz8p.jpg      1"
            ],
            "text/html": [
              "\n",
              "  <div id=\"df-cbe56efe-03ce-489e-828f-7bf8f5c09713\">\n",
              "    <div class=\"colab-df-container\">\n",
              "      <div>\n",
              "<style scoped>\n",
              "    .dataframe tbody tr th:only-of-type {\n",
              "        vertical-align: middle;\n",
              "    }\n",
              "\n",
              "    .dataframe tbody tr th {\n",
              "        vertical-align: top;\n",
              "    }\n",
              "\n",
              "    .dataframe thead th {\n",
              "        text-align: right;\n",
              "    }\n",
              "</style>\n",
              "<table border=\"1\" class=\"dataframe\">\n",
              "  <thead>\n",
              "    <tr style=\"text-align: right;\">\n",
              "      <th></th>\n",
              "      <th>Image_id</th>\n",
              "      <th>Label</th>\n",
              "    </tr>\n",
              "  </thead>\n",
              "  <tbody>\n",
              "    <tr>\n",
              "      <th>0</th>\n",
              "      <td>id_02amazy34fgh2.jpg</td>\n",
              "      <td>1</td>\n",
              "    </tr>\n",
              "    <tr>\n",
              "      <th>1</th>\n",
              "      <td>id_02mh3w48pmyc9.jpg</td>\n",
              "      <td>0</td>\n",
              "    </tr>\n",
              "    <tr>\n",
              "      <th>2</th>\n",
              "      <td>id_02rpb463h9d3w.jpg</td>\n",
              "      <td>0</td>\n",
              "    </tr>\n",
              "    <tr>\n",
              "      <th>3</th>\n",
              "      <td>id_02wc3jeeao8ol.jpg</td>\n",
              "      <td>1</td>\n",
              "    </tr>\n",
              "    <tr>\n",
              "      <th>4</th>\n",
              "      <td>id_03t2hapb8wz8p.jpg</td>\n",
              "      <td>1</td>\n",
              "    </tr>\n",
              "  </tbody>\n",
              "</table>\n",
              "</div>\n",
              "      <button class=\"colab-df-convert\" onclick=\"convertToInteractive('df-cbe56efe-03ce-489e-828f-7bf8f5c09713')\"\n",
              "              title=\"Convert this dataframe to an interactive table.\"\n",
              "              style=\"display:none;\">\n",
              "        \n",
              "  <svg xmlns=\"http://www.w3.org/2000/svg\" height=\"24px\"viewBox=\"0 0 24 24\"\n",
              "       width=\"24px\">\n",
              "    <path d=\"M0 0h24v24H0V0z\" fill=\"none\"/>\n",
              "    <path d=\"M18.56 5.44l.94 2.06.94-2.06 2.06-.94-2.06-.94-.94-2.06-.94 2.06-2.06.94zm-11 1L8.5 8.5l.94-2.06 2.06-.94-2.06-.94L8.5 2.5l-.94 2.06-2.06.94zm10 10l.94 2.06.94-2.06 2.06-.94-2.06-.94-.94-2.06-.94 2.06-2.06.94z\"/><path d=\"M17.41 7.96l-1.37-1.37c-.4-.4-.92-.59-1.43-.59-.52 0-1.04.2-1.43.59L10.3 9.45l-7.72 7.72c-.78.78-.78 2.05 0 2.83L4 21.41c.39.39.9.59 1.41.59.51 0 1.02-.2 1.41-.59l7.78-7.78 2.81-2.81c.8-.78.8-2.07 0-2.86zM5.41 20L4 18.59l7.72-7.72 1.47 1.35L5.41 20z\"/>\n",
              "  </svg>\n",
              "      </button>\n",
              "      \n",
              "  <style>\n",
              "    .colab-df-container {\n",
              "      display:flex;\n",
              "      flex-wrap:wrap;\n",
              "      gap: 12px;\n",
              "    }\n",
              "\n",
              "    .colab-df-convert {\n",
              "      background-color: #E8F0FE;\n",
              "      border: none;\n",
              "      border-radius: 50%;\n",
              "      cursor: pointer;\n",
              "      display: none;\n",
              "      fill: #1967D2;\n",
              "      height: 32px;\n",
              "      padding: 0 0 0 0;\n",
              "      width: 32px;\n",
              "    }\n",
              "\n",
              "    .colab-df-convert:hover {\n",
              "      background-color: #E2EBFA;\n",
              "      box-shadow: 0px 1px 2px rgba(60, 64, 67, 0.3), 0px 1px 3px 1px rgba(60, 64, 67, 0.15);\n",
              "      fill: #174EA6;\n",
              "    }\n",
              "\n",
              "    [theme=dark] .colab-df-convert {\n",
              "      background-color: #3B4455;\n",
              "      fill: #D2E3FC;\n",
              "    }\n",
              "\n",
              "    [theme=dark] .colab-df-convert:hover {\n",
              "      background-color: #434B5C;\n",
              "      box-shadow: 0px 1px 3px 1px rgba(0, 0, 0, 0.15);\n",
              "      filter: drop-shadow(0px 1px 2px rgba(0, 0, 0, 0.3));\n",
              "      fill: #FFFFFF;\n",
              "    }\n",
              "  </style>\n",
              "\n",
              "      <script>\n",
              "        const buttonEl =\n",
              "          document.querySelector('#df-cbe56efe-03ce-489e-828f-7bf8f5c09713 button.colab-df-convert');\n",
              "        buttonEl.style.display =\n",
              "          google.colab.kernel.accessAllowed ? 'block' : 'none';\n",
              "\n",
              "        async function convertToInteractive(key) {\n",
              "          const element = document.querySelector('#df-cbe56efe-03ce-489e-828f-7bf8f5c09713');\n",
              "          const dataTable =\n",
              "            await google.colab.kernel.invokeFunction('convertToInteractive',\n",
              "                                                     [key], {});\n",
              "          if (!dataTable) return;\n",
              "\n",
              "          const docLinkHtml = 'Like what you see? Visit the ' +\n",
              "            '<a target=\"_blank\" href=https://colab.research.google.com/notebooks/data_table.ipynb>data table notebook</a>'\n",
              "            + ' to learn more about interactive tables.';\n",
              "          element.innerHTML = '';\n",
              "          dataTable['output_type'] = 'display_data';\n",
              "          await google.colab.output.renderOutput(dataTable, element);\n",
              "          const docLink = document.createElement('div');\n",
              "          docLink.innerHTML = docLinkHtml;\n",
              "          element.appendChild(docLink);\n",
              "        }\n",
              "      </script>\n",
              "    </div>\n",
              "  </div>\n",
              "  "
            ]
          },
          "metadata": {},
          "execution_count": 5
        }
      ],
      "source": [
        "# Reading the data\n",
        "train_labels = pd.read_csv(\"Train1.csv\")\n",
        "# Show the first 5 rows\n",
        "train_labels.head()"
      ]
    },
    {
      "cell_type": "code",
      "execution_count": null,
      "metadata": {
        "colab": {
          "base_uri": "https://localhost:8080/",
          "height": 280
        },
        "id": "YzQoVrm_Po96",
        "outputId": "68c42a69-f642-4a9c-f504-59006e7823d8"
      },
      "outputs": [
        {
          "output_type": "execute_result",
          "data": {
            "text/plain": [
              "<matplotlib.axes._subplots.AxesSubplot at 0x7fd9f2118990>"
            ]
          },
          "metadata": {},
          "execution_count": 6
        },
        {
          "output_type": "display_data",
          "data": {
            "text/plain": [
              "<Figure size 432x288 with 1 Axes>"
            ],
            "image/png": "[encoded data removed]"
          },
          "metadata": {
            "needs_background": "light"
          }
        }
      ],
      "source": [
        "train_labels['Label'].value_counts().plot.bar()"
      ]
    },
    {
      "cell_type": "markdown",
      "metadata": {
        "id": "DEvCtNJdAfgb"
      },
      "source": [
        "**가을 거위충에 영향을 받은 옥수수 작물 이미지와 그렇지 않은 이미지 데이터의 수가 비슷**\n",
        "**--> The number of images of corn crops affected by autumn geese and the number of image data that are not**"
      ]
    },
    {
      "cell_type": "code",
      "execution_count": null,
      "metadata": {
        "colab": {
          "base_uri": "https://localhost:8080/",
          "height": 77,
          "resources": {
            "http://localhost:8080/nbextensions/google.colab/files.js": {
              "data": "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",
              "headers": [
                [
                  "content-type",
                  "application/javascript"
                ]
              ],
              "ok": true,
              "status": 200,
              "status_text": ""
            }
          }
        },
        "id": "0O-56gu5RTfn",
        "outputId": "da24d761-be41-45c2-a388-d26663b8710e"
      },
      "outputs": [
        {
          "output_type": "display_data",
          "data": {
            "text/plain": [
              "<IPython.core.display.HTML object>"
            ],
            "text/html": [
              "\n",
              "     <input type=\"file\" id=\"files-701cdb5c-1acb-47c9-85d4-693cf1baed1a\" name=\"files[]\" multiple disabled\n",
              "        style=\"border:none\" />\n",
              "     <output id=\"result-701cdb5c-1acb-47c9-85d4-693cf1baed1a\">\n",
              "      Upload widget is only available when the cell has been executed in the\n",
              "      current browser session. Please rerun this cell to enable.\n",
              "      </output>\n",
              "      <script src=\"/nbextensions/google.colab/files.js\"></script> "
            ]
          },
          "metadata": {}
        },
        {
          "output_type": "stream",
          "name": "stdout",
          "text": [
            "Saving Images.zip to Images.zip\n"
          ]
        }
      ],
      "source": [
        "from google.colab import files\n",
        "myfile = files.upload()"
      ]
    },
    {
      "cell_type": "code",
      "execution_count": null,
      "metadata": {
        "id": "3q7dq17vV2qz"
      },
      "outputs": [],
      "source": [
        "import zipfile\n",
        "with zipfile.ZipFile(\"Images.zip\", 'r') as zip_ref:\n",
        "    zip_ref.extractall(\"targetdir\")"
      ]
    },
    {
      "cell_type": "code",
      "execution_count": null,
      "metadata": {
        "colab": {
          "base_uri": "https://localhost:8080/",
          "height": 287
        },
        "id": "l67nRW4eQwf0",
        "outputId": "d72e53d0-ce09-417d-b3d7-cece6497416b"
      },
      "outputs": [
        {
          "output_type": "execute_result",
          "data": {
            "text/plain": [
              "<matplotlib.image.AxesImage at 0x7fd9f1935f10>"
            ]
          },
          "metadata": {},
          "execution_count": 9
        },
        {
          "output_type": "display_data",
          "data": {
            "text/plain": [
              "<Figure size 432x288 with 1 Axes>"
            ],
            "image/png": "[encoded data removed]"
          },
          "metadata": {
            "needs_background": "light"
          }
        }
      ],
      "source": [
        "import cv2\n",
        "import random\n",
        "import os\n",
        "\n",
        "# This stores the location of the data source\n",
        "data = os.listdir(\"targetdir\")\n",
        "# Picking random sample from data list\n",
        "sample = random.choice(data)\n",
        "# The imread method loads image from the sprcified file\n",
        "img = cv2.imread(\"targetdir/\"+sample)\n",
        "# The cmap parameter displays the image in gray\n",
        "plt.imshow(img, cmap=\"gray\")"
      ]
    },
    {
      "cell_type": "code",
      "execution_count": null,
      "metadata": {
        "id": "hAQYCdi9QzdP"
      },
      "outputs": [],
      "source": [
        "#Replace 0 and 1 with whether they are affected by pests\n",
        "train_labels[\"Label\"] = train_labels[\"Label\"].replace({0: 'notaffected', 1: 'affected'})"
      ]
    },
    {
      "cell_type": "code",
      "execution_count": null,
      "metadata": {
        "id": "RinKyhyLeN_P"
      },
      "outputs": [],
      "source": [
        "# Defining how data is passed to the input layer \n",
        "image_size = 224\n",
        "input_shape = (image_size, image_size, 3) #(Image Height, Image Width, Image Channel)\n",
        "batch_size = 16"
      ]
    },
    {
      "cell_type": "markdown",
      "source": [
        "First we specify that our pre trained model will be implemented through VGG16's transfer learning. After initialising our pretrained model as a sequential one we create the structure of our CNN model as shown below: (image)\n",
        "We set the filter size of convolution layers as 64 for the block 1, 128 for the block 2, 256 for the block 3, 512 for the block 4 & 5. \n",
        "\n",
        "For all convolution layers we set the kernel size as (3,3) with a stride 1 and always used same padding.\n",
        "\n",
        "We use 2by2 maxpooling with stride 2.\n",
        "\n",
        "We also set a Global maxpooling where the pooling size is equal to the input size leading to the maximum value of the entire input being connected to the output value\n",
        "\n",
        "After the globalMaxpooling we set the number of filters in the dense layer as 512 and use the relu function for activation.\n",
        "\n",
        "We also add a dropout layer with dropout probability 0.5\n",
        "\n",
        "After the droppout we set the number of filters in the dense layer as 512 and use the softmax function for activation.\n",
        "\n",
        "We compile our model using the binary crossentropy loss because we are dealing with a binary classification.\n",
        "We use the stochastic gradient descent optimizer and set the evaluation metric to accuracy because it is a classification problem. "
      ],
      "metadata": {
        "id": "PBDsuMKFom0v"
      }
    },
    {
      "cell_type": "code",
      "execution_count": null,
      "metadata": {
        "colab": {
          "base_uri": "https://localhost:8080/"
        },
        "id": "9AaErsPIePxN",
        "outputId": "5abafe9b-de5a-4600-be9e-b7736dd5a720"
      },
      "outputs": [
        {
          "output_type": "stream",
          "name": "stdout",
          "text": [
            "Downloading data from https://storage.googleapis.com/tensorflow/keras-applications/vgg16/vgg16_weights_tf_dim_ordering_tf_kernels_notop.h5\n",
            "58892288/58889256 [==============================] - 0s 0us/step\n",
            "58900480/58889256 [==============================] - 0s 0us/step\n",
            "Model: \"model\"\n",
            "_________________________________________________________________\n",
            " Layer (type)                Output Shape              Param #   \n",
            "=================================================================\n",
            " input_1 (InputLayer)        [(None, 224, 224, 3)]     0         \n",
            "                                                                 \n",
            " block1_conv1 (Conv2D)       (None, 224, 224, 64)      1792      \n",
            "                                                                 \n",
            " block1_conv2 (Conv2D)       (None, 224, 224, 64)      36928     \n",
            "                                                                 \n",
            " block1_pool (MaxPooling2D)  (None, 112, 112, 64)      0         \n",
            "                                                                 \n",
            " block2_conv1 (Conv2D)       (None, 112, 112, 128)     73856     \n",
            "                                                                 \n",
            " block2_conv2 (Conv2D)       (None, 112, 112, 128)     147584    \n",
            "                                                                 \n",
            " block2_pool (MaxPooling2D)  (None, 56, 56, 128)       0         \n",
            "                                                                 \n",
            " block3_conv1 (Conv2D)       (None, 56, 56, 256)       295168    \n",
            "                                                                 \n",
            " block3_conv2 (Conv2D)       (None, 56, 56, 256)       590080    \n",
            "                                                                 \n",
            " block3_conv3 (Conv2D)       (None, 56, 56, 256)       590080    \n",
            "                                                                 \n",
            " block3_pool (MaxPooling2D)  (None, 28, 28, 256)       0         \n",
            "                                                                 \n",
            " block4_conv1 (Conv2D)       (None, 28, 28, 512)       1180160   \n",
            "                                                                 \n",
            " block4_conv2 (Conv2D)       (None, 28, 28, 512)       2359808   \n",
            "                                                                 \n",
            " block4_conv3 (Conv2D)       (None, 28, 28, 512)       2359808   \n",
            "                                                                 \n",
            " block4_pool (MaxPooling2D)  (None, 14, 14, 512)       0         \n",
            "                                                                 \n",
            " block5_conv1 (Conv2D)       (None, 14, 14, 512)       2359808   \n",
            "                                                                 \n",
            " block5_conv2 (Conv2D)       (None, 14, 14, 512)       2359808   \n",
            "                                                                 \n",
            " block5_conv3 (Conv2D)       (None, 14, 14, 512)       2359808   \n",
            "                                                                 \n",
            " block5_pool (MaxPooling2D)  (None, 7, 7, 512)         0         \n",
            "                                                                 \n",
            " global_max_pooling2d (Globa  (None, 512)              0         \n",
            " lMaxPooling2D)                                                  \n",
            "                                                                 \n",
            " dense (Dense)               (None, 512)               262656    \n",
            "                                                                 \n",
            " dropout (Dropout)           (None, 512)               0         \n",
            "                                                                 \n",
            " dense_1 (Dense)             (None, 2)                 1026      \n",
            "                                                                 \n",
            "=================================================================\n",
            "Total params: 14,978,370\n",
            "Trainable params: 7,343,106\n",
            "Non-trainable params: 7,635,264\n",
            "_________________________________________________________________\n"
          ]
        },
        {
          "output_type": "stream",
          "name": "stderr",
          "text": [
            "/usr/local/lib/python3.7/dist-packages/keras/optimizer_v2/gradient_descent.py:102: UserWarning: The `lr` argument is deprecated, use `learning_rate` instead.\n",
            "  super(SGD, self).__init__(name, **kwargs)\n"
          ]
        }
      ],
      "source": [
        "pre_trained_model = VGG16(input_shape=input_shape, include_top=False, weights=\"imagenet\")\n",
        "# The include_top parameter determines whether to include the output layer, which is false because the output layer of the VGG16 model is not required for our classification problem\n",
        "# The weights parameter specifies a weight checkpoint to initialize the model\n",
        "# The input_shape parameter is the size of the image tensor to enter into the network\n",
        "\n",
        "for layer in pre_trained_model.layers[:15]:\n",
        "  layer.trainable = False\n",
        "for layer in pre_trained_model.layers[15:]:\n",
        "  layer.trainable = True\n",
        "last_layer = pre_trained_model.get_layer('block5_pool')\n",
        "last_output = last_layer.output\n",
        "\n",
        "x = GlobalMaxPooling2D()(last_output) #GlobalMaxPooling2D - Another type of pooling in which the pooling size is set equal to the input size, leading to the maximum value of the entire input being connected to the output value\n",
        "x = Dense(512, activation='relu')(x)\n",
        "x = Dropout(0.5)(x)\n",
        "x = Dense(2, activation='softmax')(x)\n",
        "\n",
        "model = Model(pre_trained_model.input, x)\n",
        "\n",
        "model.compile(loss='binary_crossentropy', #Binary classification\n",
        "optimizer=optimizers.SGD(lr=1e-4, momentum=0.9), #stochastic gradient descent\n",
        "metrics=[\"AUC\"]) #Set to AUC because it is a classification problem\n",
        "model.summary()"
      ]
    },
    {
      "cell_type": "markdown",
      "metadata": {
        "id": "JgWkwtZo-Nkj"
      },
      "source": [
        "1. Input layer - Input layer reads image. The image is displayed in a 3D matrix. Dimensions are height, width, and channel. Width and height are reduced as the network gets deeper.\n",
        "2. Convolutional layer - Image features such as edges are extracted from within this layer.\n",
        "3. Pooling layer - This layer reduces image dimension size. The purpose of this layer is to reduce the computational ability when processing data by reducing the image size. This reduces the likelihood of overfitting in the long run (you can see that the image size decreases as it passes through the MaxPooling2D layer)\n",
        "4. Fully-connected layer - This layer is trained to classify images between different categories, ie nonlinear combinations of high -level features represented by the output of the convolution layer.\n",
        "5. Output layer - Include final label (0 or 1)"
      ]
    },
    {
      "cell_type": "markdown",
      "source": [
        "After the creation of the model, we import EarlyStopping, ReduceLROnPlanteau and train_test_split methods form keras. \n",
        "\n",
        "We implement an early termination. This callback will stop the training when there is no improvement in the loss for ten consecutive epochs.\n",
        "\n",
        "RedueLROnPlateau is used to reduce the learning rates when the accuracy improvement are interrupted.\n",
        "\n",
        "train_test_split is used to split the training data into a train and validation sets. "
      ],
      "metadata": {
        "id": "GIf72UPN1JQv"
      }
    },
    {
      "cell_type": "code",
      "execution_count": null,
      "metadata": {
        "id": "aq7ST-8seSGe"
      },
      "outputs": [],
      "source": [
        "# Implementation of early termination.\n",
        "from keras.callbacks import ReduceLROnPlateau\n",
        "\n",
        "#earlystop = EarlyStopping(patience=10)\n",
        "# ReduceLRonPlateau calls back to reduce learning rates when accuracy improvements are interrupted\n",
        "# The patency parameter is the number of epochs that have not improved since the learning rate has decreased\n",
        "\n",
        "#learning_rate_reduction = ReduceLROnPlateau(monitor='val_acc',patience=2,verbose=1,factor=0.5,min_lr=0.00001)\n",
        "#callbacks = [earlystop, learning_rate_reduction]\n",
        "\n",
        "callbacks = ReduceLROnPlateau(monitor='val_auc',patience=2,verbose=1,factor=0.5,min_lr=0.00001)"
      ]
    },
    {
      "cell_type": "code",
      "execution_count": null,
      "metadata": {
        "id": "wJWU0RnjeVd5"
      },
      "outputs": [],
      "source": [
        "# train_test_split Using methods to divide training data into training and validation datasets\n",
        "from sklearn.model_selection import train_test_split\n",
        "\n",
        "train_df,validate_df=train_test_split(train_labels,test_size=0.2,random_state=42)\n",
        "train_df = train_df.reset_index(drop='True')\n",
        "validate_df = validate_df.reset_index(drop='True')"
      ]
    },
    {
      "cell_type": "code",
      "execution_count": null,
      "metadata": {
        "id": "He-QFtEGeYvK"
      },
      "outputs": [],
      "source": [
        "# Generate batches of tensor image data with real-time data augmentation\n",
        "from keras.preprocessing.image import ImageDataGenerator, load_img\n",
        "\n",
        "# Categorical encodes categorical variables \n",
        "from tensorflow.keras.utils import to_categorical"
      ]
    },
    {
      "cell_type": "markdown",
      "source": [
        "For training, we use data augmentation. \n",
        "\n",
        "Here We are creating and using ImageDataGenerator for both training and validation data and passing the folder which has train_generator to the object train_datagen and similarly passing the folder which has validation generator to the object validation_datagen. \n",
        "\n",
        "The folder structure of the data will be as follows: (image entitled: Folder structure of the data to passed to ImageDataGenerator)\n",
        "\n",
        "The ImageDataGenerator will automatically label all the data inside \"Not Affected\" folder as non affected leaves and same for the affected ones. \n",
        "In this way, data is easily ready to be passed to the neural network. \n",
        "\n",
        "We then apply different function on the train_datagen to formate the training data. We apply rotation,rescale, zoom, horizontal flip, width shift and height shift\n",
        "\n",
        "For the formatting of the validation data we simply apply rescale. "
      ],
      "metadata": {
        "id": "RQef6CWdl-yQ"
      }
    },
    {
      "cell_type": "code",
      "execution_count": null,
      "metadata": {
        "colab": {
          "base_uri": "https://localhost:8080/"
        },
        "id": "t9-ohwYfebkE",
        "outputId": "bd416b6e-7f3d-4f0b-9b92-928365329373"
      },
      "outputs": [
        {
          "output_type": "stream",
          "name": "stdout",
          "text": [
            "Found 1295 validated image filenames belonging to 2 classes.\n",
            "Found 324 validated image filenames belonging to 2 classes.\n"
          ]
        }
      ],
      "source": [
        "# Here we are formatting the training data \n",
        "train_datagen = ImageDataGenerator(rotation_range=15,\n",
        "                                 rescale=1./255,\n",
        "                                 shear_range=0.1,\n",
        "                                 zoom_range=0.2, # zoom range (1-0.2 to 1+0.2)\n",
        "                                 horizontal_flip=True,\n",
        "                                 width_shift_range=0.1,\n",
        "                                 height_shift_range=0.1)\n",
        "\n",
        "train_generator = train_datagen.flow_from_dataframe(dataframe=train_df,\n",
        "                                                  directory=\"targetdir/\",\n",
        "                                                  x_col=\"Image_id\",\n",
        "                                                  y_col=\"Label\",\n",
        "                                                  target_size=(image_size,image_size),\n",
        "                                                  class_mode='binary',\n",
        "                                                  batch_size=15)\n",
        "\n",
        "# Here we are formatting images on the validation data \n",
        "validation_datagen = ImageDataGenerator(rescale=1./255)\n",
        "validation_generator = validation_datagen.flow_from_dataframe(validate_df,\n",
        "                                                  directory=\"targetdir/\",\n",
        "                                                  x_col=\"Image_id\",\n",
        "                                                  y_col=\"Label\",\n",
        "                                                  target_size=(image_size,image_size),\n",
        "                                                  class_mode='binary',\n",
        "                                                  batch_size=15)"
      ]
    },
    {
      "cell_type": "markdown",
      "source": [
        "We train the model using the training dataset and run it for 100 epochs). All the training/validation accuracy and loss are stored in history variable. Once we trained the model we can visualize the training/validation accuracy and loss. "
      ],
      "metadata": {
        "id": "0x0QrHap5wR-"
      }
    },
    {
      "cell_type": "code",
      "execution_count": null,
      "metadata": {
        "colab": {
          "base_uri": "https://localhost:8080/"
        },
        "id": "roMQeC4neg-o",
        "outputId": "e2a6f874-8435-4902-a5e7-e99282299894"
      },
      "outputs": [
        {
          "output_type": "stream",
          "name": "stderr",
          "text": [
            "/usr/local/lib/python3.7/dist-packages/ipykernel_launcher.py:11: UserWarning: `Model.fit_generator` is deprecated and will be removed in a future version. Please use `Model.fit`, which supports generators.\n",
            "  # This is added back by InteractiveShellApp.init_path()\n"
          ]
        },
        {
          "output_type": "stream",
          "name": "stdout",
          "text": [
            "Epoch 1/100\n",
            "80/80 [==============================] - 52s 467ms/step - loss: 0.7441 - auc: 0.6079 - val_loss: 0.6037 - val_auc: 0.8261 - lr: 1.0000e-04\n",
            "Epoch 2/100\n",
            "80/80 [==============================] - 36s 451ms/step - loss: 0.6028 - auc: 0.7929 - val_loss: 0.4708 - val_auc: 0.9306 - lr: 1.0000e-04\n",
            "Epoch 3/100\n",
            "80/80 [==============================] - ETA: 0s - loss: 0.4794 - auc: 0.8981\n",
            "Epoch 3: ReduceLROnPlateau reducing learning rate to 4.999999873689376e-05.\n",
            "80/80 [==============================] - 36s 452ms/step - loss: 0.4794 - auc: 0.8981 - val_loss: 0.3397 - val_auc: 0.9705 - lr: 1.0000e-04\n",
            "Epoch 4/100\n",
            "80/80 [==============================] - 36s 455ms/step - loss: 0.3730 - auc: 0.9462 - val_loss: 0.2772 - val_auc: 0.9797 - lr: 5.0000e-05\n",
            "Epoch 5/100\n",
            "80/80 [==============================] - ETA: 0s - loss: 0.3011 - auc: 0.9702\n",
            "Epoch 5: ReduceLROnPlateau reducing learning rate to 2.499999936844688e-05.\n",
            "80/80 [==============================] - 38s 471ms/step - loss: 0.3011 - auc: 0.9702 - val_loss: 0.2259 - val_auc: 0.9858 - lr: 5.0000e-05\n",
            "Epoch 6/100\n",
            "80/80 [==============================] - 36s 451ms/step - loss: 0.2490 - auc: 0.9829 - val_loss: 0.2007 - val_auc: 0.9894 - lr: 2.5000e-05\n",
            "Epoch 7/100\n",
            "80/80 [==============================] - ETA: 0s - loss: 0.2400 - auc: 0.9805\n",
            "Epoch 7: ReduceLROnPlateau reducing learning rate to 1.249999968422344e-05.\n",
            "80/80 [==============================] - 36s 445ms/step - loss: 0.2400 - auc: 0.9805 - val_loss: 0.1820 - val_auc: 0.9909 - lr: 2.5000e-05\n",
            "Epoch 8/100\n",
            "80/80 [==============================] - 36s 447ms/step - loss: 0.2189 - auc: 0.9838 - val_loss: 0.1739 - val_auc: 0.9922 - lr: 1.2500e-05\n",
            "Epoch 9/100\n",
            "80/80 [==============================] - ETA: 0s - loss: 0.2095 - auc: 0.9870\n",
            "Epoch 9: ReduceLROnPlateau reducing learning rate to 1e-05.\n",
            "80/80 [==============================] - 36s 452ms/step - loss: 0.2095 - auc: 0.9870 - val_loss: 0.1618 - val_auc: 0.9932 - lr: 1.2500e-05\n",
            "Epoch 10/100\n",
            "80/80 [==============================] - 35s 439ms/step - loss: 0.2039 - auc: 0.9870 - val_loss: 0.1571 - val_auc: 0.9940 - lr: 1.0000e-05\n",
            "Epoch 11/100\n",
            "80/80 [==============================] - 36s 447ms/step - loss: 0.1936 - auc: 0.9878 - val_loss: 0.1493 - val_auc: 0.9943 - lr: 1.0000e-05\n",
            "Epoch 12/100\n",
            "80/80 [==============================] - 36s 446ms/step - loss: 0.1834 - auc: 0.9896 - val_loss: 0.1402 - val_auc: 0.9956 - lr: 1.0000e-05\n",
            "Epoch 13/100\n",
            "80/80 [==============================] - 37s 463ms/step - loss: 0.1719 - auc: 0.9911 - val_loss: 0.1422 - val_auc: 0.9944 - lr: 1.0000e-05\n",
            "Epoch 14/100\n",
            "80/80 [==============================] - 35s 443ms/step - loss: 0.1817 - auc: 0.9886 - val_loss: 0.1376 - val_auc: 0.9946 - lr: 1.0000e-05\n",
            "Epoch 15/100\n",
            "80/80 [==============================] - 36s 445ms/step - loss: 0.1657 - auc: 0.9911 - val_loss: 0.1283 - val_auc: 0.9964 - lr: 1.0000e-05\n",
            "Epoch 16/100\n",
            "80/80 [==============================] - 36s 449ms/step - loss: 0.1684 - auc: 0.9886 - val_loss: 0.1276 - val_auc: 0.9954 - lr: 1.0000e-05\n",
            "Epoch 17/100\n",
            "80/80 [==============================] - 36s 445ms/step - loss: 0.1659 - auc: 0.9905 - val_loss: 0.1191 - val_auc: 0.9968 - lr: 1.0000e-05\n",
            "Epoch 18/100\n",
            "80/80 [==============================] - 36s 450ms/step - loss: 0.1554 - auc: 0.9919 - val_loss: 0.1226 - val_auc: 0.9956 - lr: 1.0000e-05\n",
            "Epoch 19/100\n",
            "80/80 [==============================] - 36s 444ms/step - loss: 0.1468 - auc: 0.9941 - val_loss: 0.1156 - val_auc: 0.9964 - lr: 1.0000e-05\n",
            "Epoch 20/100\n",
            "80/80 [==============================] - 35s 439ms/step - loss: 0.1566 - auc: 0.9904 - val_loss: 0.1166 - val_auc: 0.9963 - lr: 1.0000e-05\n",
            "Epoch 21/100\n",
            "80/80 [==============================] - 35s 443ms/step - loss: 0.1420 - auc: 0.9935 - val_loss: 0.1047 - val_auc: 0.9981 - lr: 1.0000e-05\n",
            "Epoch 22/100\n",
            "80/80 [==============================] - 35s 440ms/step - loss: 0.1448 - auc: 0.9917 - val_loss: 0.1116 - val_auc: 0.9963 - lr: 1.0000e-05\n",
            "Epoch 23/100\n",
            "80/80 [==============================] - 35s 441ms/step - loss: 0.1467 - auc: 0.9911 - val_loss: 0.1119 - val_auc: 0.9963 - lr: 1.0000e-05\n",
            "Epoch 24/100\n",
            "80/80 [==============================] - 35s 442ms/step - loss: 0.1378 - auc: 0.9927 - val_loss: 0.1039 - val_auc: 0.9968 - lr: 1.0000e-05\n",
            "Epoch 25/100\n",
            "80/80 [==============================] - 35s 442ms/step - loss: 0.1406 - auc: 0.9926 - val_loss: 0.1042 - val_auc: 0.9967 - lr: 1.0000e-05\n",
            "Epoch 26/100\n",
            "80/80 [==============================] - 36s 451ms/step - loss: 0.1406 - auc: 0.9929 - val_loss: 0.1031 - val_auc: 0.9964 - lr: 1.0000e-05\n",
            "Epoch 27/100\n",
            "80/80 [==============================] - 36s 455ms/step - loss: 0.1338 - auc: 0.9933 - val_loss: 0.0915 - val_auc: 0.9980 - lr: 1.0000e-05\n",
            "Epoch 28/100\n",
            "80/80 [==============================] - 36s 447ms/step - loss: 0.1313 - auc: 0.9929 - val_loss: 0.0984 - val_auc: 0.9971 - lr: 1.0000e-05\n",
            "Epoch 29/100\n",
            "80/80 [==============================] - 36s 452ms/step - loss: 0.1166 - auc: 0.9950 - val_loss: 0.0930 - val_auc: 0.9974 - lr: 1.0000e-05\n",
            "Epoch 30/100\n",
            "80/80 [==============================] - 37s 466ms/step - loss: 0.1116 - auc: 0.9956 - val_loss: 0.0968 - val_auc: 0.9973 - lr: 1.0000e-05\n",
            "Epoch 31/100\n",
            "80/80 [==============================] - 36s 446ms/step - loss: 0.1281 - auc: 0.9927 - val_loss: 0.0854 - val_auc: 0.9985 - lr: 1.0000e-05\n",
            "Epoch 32/100\n",
            "80/80 [==============================] - 36s 451ms/step - loss: 0.1163 - auc: 0.9948 - val_loss: 0.0910 - val_auc: 0.9974 - lr: 1.0000e-05\n",
            "Epoch 33/100\n",
            "80/80 [==============================] - 36s 452ms/step - loss: 0.1151 - auc: 0.9952 - val_loss: 0.0883 - val_auc: 0.9977 - lr: 1.0000e-05\n",
            "Epoch 34/100\n",
            "80/80 [==============================] - 36s 450ms/step - loss: 0.1163 - auc: 0.9945 - val_loss: 0.0746 - val_auc: 0.9991 - lr: 1.0000e-05\n",
            "Epoch 35/100\n",
            "80/80 [==============================] - 36s 444ms/step - loss: 0.1236 - auc: 0.9905 - val_loss: 0.0863 - val_auc: 0.9976 - lr: 1.0000e-05\n",
            "Epoch 36/100\n",
            "80/80 [==============================] - 36s 448ms/step - loss: 0.1182 - auc: 0.9945 - val_loss: 0.0814 - val_auc: 0.9978 - lr: 1.0000e-05\n",
            "Epoch 37/100\n",
            "80/80 [==============================] - 35s 442ms/step - loss: 0.1194 - auc: 0.9927 - val_loss: 0.0826 - val_auc: 0.9981 - lr: 1.0000e-05\n",
            "Epoch 38/100\n",
            "80/80 [==============================] - 35s 440ms/step - loss: 0.1073 - auc: 0.9956 - val_loss: 0.0828 - val_auc: 0.9978 - lr: 1.0000e-05\n",
            "Epoch 39/100\n",
            "80/80 [==============================] - 36s 444ms/step - loss: 0.1105 - auc: 0.9940 - val_loss: 0.0796 - val_auc: 0.9980 - lr: 1.0000e-05\n",
            "Epoch 40/100\n",
            "80/80 [==============================] - 36s 446ms/step - loss: 0.1043 - auc: 0.9946 - val_loss: 0.0824 - val_auc: 0.9977 - lr: 1.0000e-05\n",
            "Epoch 41/100\n",
            "80/80 [==============================] - 37s 463ms/step - loss: 0.1098 - auc: 0.9943 - val_loss: 0.0811 - val_auc: 0.9977 - lr: 1.0000e-05\n",
            "Epoch 42/100\n",
            "80/80 [==============================] - 36s 450ms/step - loss: 0.1007 - auc: 0.9951 - val_loss: 0.0801 - val_auc: 0.9977 - lr: 1.0000e-05\n",
            "Epoch 43/100\n",
            "80/80 [==============================] - 36s 451ms/step - loss: 0.1046 - auc: 0.9939 - val_loss: 0.0794 - val_auc: 0.9978 - lr: 1.0000e-05\n",
            "Epoch 44/100\n",
            "80/80 [==============================] - 36s 451ms/step - loss: 0.1113 - auc: 0.9945 - val_loss: 0.0771 - val_auc: 0.9979 - lr: 1.0000e-05\n",
            "Epoch 45/100\n",
            "80/80 [==============================] - 36s 451ms/step - loss: 0.1076 - auc: 0.9932 - val_loss: 0.0736 - val_auc: 0.9980 - lr: 1.0000e-05\n",
            "Epoch 46/100\n",
            "80/80 [==============================] - 36s 447ms/step - loss: 0.0972 - auc: 0.9936 - val_loss: 0.0718 - val_auc: 0.9983 - lr: 1.0000e-05\n",
            "Epoch 47/100\n",
            "80/80 [==============================] - 37s 466ms/step - loss: 0.1015 - auc: 0.9944 - val_loss: 0.0758 - val_auc: 0.9979 - lr: 1.0000e-05\n",
            "Epoch 48/100\n",
            "80/80 [==============================] - 35s 441ms/step - loss: 0.1012 - auc: 0.9940 - val_loss: 0.0698 - val_auc: 0.9986 - lr: 1.0000e-05\n",
            "Epoch 49/100\n",
            "80/80 [==============================] - 36s 449ms/step - loss: 0.1016 - auc: 0.9932 - val_loss: 0.0715 - val_auc: 0.9982 - lr: 1.0000e-05\n",
            "Epoch 50/100\n",
            "80/80 [==============================] - 36s 455ms/step - loss: 0.0976 - auc: 0.9941 - val_loss: 0.0681 - val_auc: 0.9984 - lr: 1.0000e-05\n",
            "Epoch 51/100\n",
            "80/80 [==============================] - 36s 452ms/step - loss: 0.0920 - auc: 0.9944 - val_loss: 0.0751 - val_auc: 0.9979 - lr: 1.0000e-05\n",
            "Epoch 52/100\n",
            "80/80 [==============================] - 36s 449ms/step - loss: 0.0986 - auc: 0.9955 - val_loss: 0.0670 - val_auc: 0.9984 - lr: 1.0000e-05\n",
            "Epoch 53/100\n",
            "80/80 [==============================] - 37s 465ms/step - loss: 0.0933 - auc: 0.9960 - val_loss: 0.0751 - val_auc: 0.9978 - lr: 1.0000e-05\n",
            "Epoch 54/100\n",
            "80/80 [==============================] - 36s 452ms/step - loss: 0.0881 - auc: 0.9966 - val_loss: 0.0651 - val_auc: 0.9984 - lr: 1.0000e-05\n",
            "Epoch 55/100\n",
            "80/80 [==============================] - 36s 450ms/step - loss: 0.0866 - auc: 0.9972 - val_loss: 0.0721 - val_auc: 0.9979 - lr: 1.0000e-05\n",
            "Epoch 56/100\n",
            "80/80 [==============================] - 37s 458ms/step - loss: 0.0833 - auc: 0.9962 - val_loss: 0.0714 - val_auc: 0.9979 - lr: 1.0000e-05\n",
            "Epoch 57/100\n",
            "80/80 [==============================] - 36s 450ms/step - loss: 0.0879 - auc: 0.9971 - val_loss: 0.0663 - val_auc: 0.9982 - lr: 1.0000e-05\n",
            "Epoch 58/100\n",
            "80/80 [==============================] - 36s 455ms/step - loss: 0.0943 - auc: 0.9957 - val_loss: 0.0731 - val_auc: 0.9979 - lr: 1.0000e-05\n",
            "Epoch 59/100\n",
            "80/80 [==============================] - 37s 467ms/step - loss: 0.0778 - auc: 0.9958 - val_loss: 0.0605 - val_auc: 0.9986 - lr: 1.0000e-05\n",
            "Epoch 60/100\n",
            "80/80 [==============================] - 36s 450ms/step - loss: 0.0817 - auc: 0.9969 - val_loss: 0.0654 - val_auc: 0.9983 - lr: 1.0000e-05\n",
            "Epoch 61/100\n",
            "80/80 [==============================] - 36s 450ms/step - loss: 0.0939 - auc: 0.9942 - val_loss: 0.0706 - val_auc: 0.9952 - lr: 1.0000e-05\n",
            "Epoch 62/100\n",
            "80/80 [==============================] - 36s 454ms/step - loss: 0.0829 - auc: 0.9953 - val_loss: 0.0686 - val_auc: 0.9981 - lr: 1.0000e-05\n",
            "Epoch 63/100\n",
            "80/80 [==============================] - 36s 452ms/step - loss: 0.0848 - auc: 0.9934 - val_loss: 0.0665 - val_auc: 0.9981 - lr: 1.0000e-05\n",
            "Epoch 64/100\n",
            "80/80 [==============================] - 36s 453ms/step - loss: 0.0944 - auc: 0.9963 - val_loss: 0.0670 - val_auc: 0.9981 - lr: 1.0000e-05\n",
            "Epoch 65/100\n",
            "80/80 [==============================] - 36s 453ms/step - loss: 0.0882 - auc: 0.9955 - val_loss: 0.0627 - val_auc: 0.9983 - lr: 1.0000e-05\n",
            "Epoch 66/100\n",
            "80/80 [==============================] - 38s 469ms/step - loss: 0.0862 - auc: 0.9948 - val_loss: 0.0613 - val_auc: 0.9984 - lr: 1.0000e-05\n",
            "Epoch 67/100\n",
            "80/80 [==============================] - 36s 454ms/step - loss: 0.0817 - auc: 0.9961 - val_loss: 0.0652 - val_auc: 0.9981 - lr: 1.0000e-05\n",
            "Epoch 68/100\n",
            "80/80 [==============================] - 36s 455ms/step - loss: 0.0770 - auc: 0.9963 - val_loss: 0.0640 - val_auc: 0.9982 - lr: 1.0000e-05\n",
            "Epoch 69/100\n",
            "80/80 [==============================] - 36s 449ms/step - loss: 0.0811 - auc: 0.9938 - val_loss: 0.0638 - val_auc: 0.9983 - lr: 1.0000e-05\n",
            "Epoch 70/100\n",
            "80/80 [==============================] - 37s 456ms/step - loss: 0.0800 - auc: 0.9959 - val_loss: 0.0505 - val_auc: 0.9992 - lr: 1.0000e-05\n",
            "Epoch 71/100\n",
            "80/80 [==============================] - 43s 530ms/step - loss: 0.0738 - auc: 0.9967 - val_loss: 0.0588 - val_auc: 0.9985 - lr: 1.0000e-05\n",
            "Epoch 72/100\n",
            "80/80 [==============================] - 37s 464ms/step - loss: 0.0928 - auc: 0.9919 - val_loss: 0.0618 - val_auc: 0.9983 - lr: 1.0000e-05\n",
            "Epoch 73/100\n",
            "80/80 [==============================] - 37s 460ms/step - loss: 0.0723 - auc: 0.9975 - val_loss: 0.0530 - val_auc: 0.9990 - lr: 1.0000e-05\n",
            "Epoch 74/100\n",
            "80/80 [==============================] - 37s 458ms/step - loss: 0.0720 - auc: 0.9973 - val_loss: 0.0622 - val_auc: 0.9983 - lr: 1.0000e-05\n",
            "Epoch 75/100\n",
            "80/80 [==============================] - 37s 459ms/step - loss: 0.0843 - auc: 0.9935 - val_loss: 0.0633 - val_auc: 0.9982 - lr: 1.0000e-05\n",
            "Epoch 76/100\n",
            "80/80 [==============================] - 38s 477ms/step - loss: 0.0728 - auc: 0.9956 - val_loss: 0.0608 - val_auc: 0.9983 - lr: 1.0000e-05\n",
            "Epoch 77/100\n",
            "80/80 [==============================] - 36s 455ms/step - loss: 0.0844 - auc: 0.9933 - val_loss: 0.0624 - val_auc: 0.9983 - lr: 1.0000e-05\n",
            "Epoch 78/100\n",
            "80/80 [==============================] - 36s 455ms/step - loss: 0.0791 - auc: 0.9954 - val_loss: 0.0558 - val_auc: 0.9987 - lr: 1.0000e-05\n",
            "Epoch 79/100\n",
            "80/80 [==============================] - 37s 458ms/step - loss: 0.0773 - auc: 0.9952 - val_loss: 0.0623 - val_auc: 0.9984 - lr: 1.0000e-05\n",
            "Epoch 80/100\n",
            "80/80 [==============================] - 36s 451ms/step - loss: 0.0761 - auc: 0.9972 - val_loss: 0.0589 - val_auc: 0.9985 - lr: 1.0000e-05\n",
            "Epoch 81/100\n",
            "80/80 [==============================] - 36s 450ms/step - loss: 0.0799 - auc: 0.9966 - val_loss: 0.0622 - val_auc: 0.9983 - lr: 1.0000e-05\n",
            "Epoch 82/100\n",
            "80/80 [==============================] - 37s 459ms/step - loss: 0.0728 - auc: 0.9970 - val_loss: 0.0589 - val_auc: 0.9985 - lr: 1.0000e-05\n",
            "Epoch 83/100\n",
            "80/80 [==============================] - 38s 471ms/step - loss: 0.0776 - auc: 0.9945 - val_loss: 0.0567 - val_auc: 0.9987 - lr: 1.0000e-05\n",
            "Epoch 84/100\n",
            "80/80 [==============================] - 36s 451ms/step - loss: 0.0758 - auc: 0.9968 - val_loss: 0.0617 - val_auc: 0.9984 - lr: 1.0000e-05\n",
            "Epoch 85/100\n",
            "80/80 [==============================] - 36s 456ms/step - loss: 0.0718 - auc: 0.9964 - val_loss: 0.0623 - val_auc: 0.9954 - lr: 1.0000e-05\n",
            "Epoch 86/100\n",
            "80/80 [==============================] - 39s 486ms/step - loss: 0.0677 - auc: 0.9982 - val_loss: 0.0589 - val_auc: 0.9985 - lr: 1.0000e-05\n",
            "Epoch 87/100\n",
            "80/80 [==============================] - 37s 458ms/step - loss: 0.0761 - auc: 0.9962 - val_loss: 0.0604 - val_auc: 0.9955 - lr: 1.0000e-05\n",
            "Epoch 88/100\n",
            "80/80 [==============================] - 36s 451ms/step - loss: 0.0751 - auc: 0.9976 - val_loss: 0.0566 - val_auc: 0.9956 - lr: 1.0000e-05\n",
            "Epoch 89/100\n",
            "80/80 [==============================] - 38s 468ms/step - loss: 0.0748 - auc: 0.9947 - val_loss: 0.0594 - val_auc: 0.9984 - lr: 1.0000e-05\n",
            "Epoch 90/100\n",
            "80/80 [==============================] - 36s 459ms/step - loss: 0.0701 - auc: 0.9966 - val_loss: 0.0588 - val_auc: 0.9984 - lr: 1.0000e-05\n",
            "Epoch 91/100\n",
            "80/80 [==============================] - 36s 452ms/step - loss: 0.0692 - auc: 0.9974 - val_loss: 0.0514 - val_auc: 0.9989 - lr: 1.0000e-05\n",
            "Epoch 92/100\n",
            "80/80 [==============================] - 36s 447ms/step - loss: 0.0730 - auc: 0.9949 - val_loss: 0.0586 - val_auc: 0.9984 - lr: 1.0000e-05\n",
            "Epoch 93/100\n",
            "80/80 [==============================] - 36s 452ms/step - loss: 0.0632 - auc: 0.9978 - val_loss: 0.0469 - val_auc: 0.9992 - lr: 1.0000e-05\n",
            "Epoch 94/100\n",
            "80/80 [==============================] - 38s 475ms/step - loss: 0.0733 - auc: 0.9965 - val_loss: 0.0591 - val_auc: 0.9984 - lr: 1.0000e-05\n",
            "Epoch 95/100\n",
            "80/80 [==============================] - 36s 449ms/step - loss: 0.0719 - auc: 0.9972 - val_loss: 0.0619 - val_auc: 0.9954 - lr: 1.0000e-05\n",
            "Epoch 96/100\n",
            "80/80 [==============================] - 36s 451ms/step - loss: 0.0704 - auc: 0.9958 - val_loss: 0.0554 - val_auc: 0.9955 - lr: 1.0000e-05\n",
            "Epoch 97/100\n",
            "80/80 [==============================] - 36s 451ms/step - loss: 0.0757 - auc: 0.9955 - val_loss: 0.0473 - val_auc: 0.9991 - lr: 1.0000e-05\n",
            "Epoch 98/100\n",
            "80/80 [==============================] - 36s 453ms/step - loss: 0.0771 - auc: 0.9946 - val_loss: 0.0570 - val_auc: 0.9984 - lr: 1.0000e-05\n",
            "Epoch 99/100\n",
            "80/80 [==============================] - 36s 455ms/step - loss: 0.0617 - auc: 0.9978 - val_loss: 0.0508 - val_auc: 0.9990 - lr: 1.0000e-05\n",
            "Epoch 100/100\n",
            "80/80 [==============================] - 38s 471ms/step - loss: 0.0718 - auc: 0.9956 - val_loss: 0.0579 - val_auc: 0.9984 - lr: 1.0000e-05\n"
          ]
        }
      ],
      "source": [
        "#Train the model using the training dataset and run it for 100 epochs\n",
        "epochs=100 \n",
        "\n",
        "total_validate = validate_df.shape[0]\n",
        "total_train = train_df.shape[0]\n",
        "\n",
        "history = model.fit_generator(\n",
        "    train_generator, \n",
        "    epochs=epochs,\n",
        "    validation_data=validation_generator,\n",
        "    validation_steps=total_validate//batch_size,\n",
        "    steps_per_epoch=total_train//batch_size,\n",
        "    callbacks=callbacks)"
      ]
    },
    {
      "cell_type": "code",
      "source": [
        "import matplotlib.pyplot as plt\n",
        "plt.plot(history.history[\"auc\"])\n",
        "plt.plot(history.history['val_auc'])\n",
        "plt.plot(history.history['loss'])\n",
        "plt.plot(history.history['val_loss'])\n",
        "plt.title(\"model auc\")\n",
        "plt.ylabel(\"Auc\")\n",
        "plt.xlabel(\"Epoch\")\n",
        "plt.legend([\"Auc\",\"Validation Auc\",\"loss\",\"Validation Loss\"])\n",
        "plt.show()"
      ],
      "metadata": {
        "colab": {
          "base_uri": "https://localhost:8080/",
          "height": 295
        },
        "id": "QXsQBfud7BNf",
        "outputId": "30f97e8c-f9f4-4837-febe-ebd5321a3f99"
      },
      "execution_count": null,
      "outputs": [
        {
          "output_type": "display_data",
          "data": {
            "text/plain": [
              "<Figure size 432x288 with 1 Axes>"
            ],
            "image/png": "[encoded data removed]"
          },
          "metadata": {
            "needs_background": "light"
          }
        }
      ]
    },
    {
      "cell_type": "code",
      "execution_count": null,
      "metadata": {
        "id": "ARhyzDrzZfqv",
        "colab": {
          "base_uri": "https://localhost:8080/",
          "height": 206
        },
        "outputId": "0e0a2e9e-0eef-4ddc-b5a0-622b0e008502"
      },
      "outputs": [
        {
          "output_type": "execute_result",
          "data": {
            "text/plain": [
              "               Image_id\n",
              "0  id_00exusbkgzw1b.jpg\n",
              "1  id_03dqinf6w0znv.jpg\n",
              "2  id_046yl0cxn3ybz.jpg\n",
              "3  id_04athdtx2abyg.jpg\n",
              "4  id_062aauf9e9jk0.jpg"
            ],
            "text/html": [
              "\n",
              "  <div id=\"df-9e5d61a2-04fa-482f-a5cd-313a76d30e55\">\n",
              "    <div class=\"colab-df-container\">\n",
              "      <div>\n",
              "<style scoped>\n",
              "    .dataframe tbody tr th:only-of-type {\n",
              "        vertical-align: middle;\n",
              "    }\n",
              "\n",
              "    .dataframe tbody tr th {\n",
              "        vertical-align: top;\n",
              "    }\n",
              "\n",
              "    .dataframe thead th {\n",
              "        text-align: right;\n",
              "    }\n",
              "</style>\n",
              "<table border=\"1\" class=\"dataframe\">\n",
              "  <thead>\n",
              "    <tr style=\"text-align: right;\">\n",
              "      <th></th>\n",
              "      <th>Image_id</th>\n",
              "    </tr>\n",
              "  </thead>\n",
              "  <tbody>\n",
              "    <tr>\n",
              "      <th>0</th>\n",
              "      <td>id_00exusbkgzw1b.jpg</td>\n",
              "    </tr>\n",
              "    <tr>\n",
              "      <th>1</th>\n",
              "      <td>id_03dqinf6w0znv.jpg</td>\n",
              "    </tr>\n",
              "    <tr>\n",
              "      <th>2</th>\n",
              "      <td>id_046yl0cxn3ybz.jpg</td>\n",
              "    </tr>\n",
              "    <tr>\n",
              "      <th>3</th>\n",
              "      <td>id_04athdtx2abyg.jpg</td>\n",
              "    </tr>\n",
              "    <tr>\n",
              "      <th>4</th>\n",
              "      <td>id_062aauf9e9jk0.jpg</td>\n",
              "    </tr>\n",
              "  </tbody>\n",
              "</table>\n",
              "</div>\n",
              "      <button class=\"colab-df-convert\" onclick=\"convertToInteractive('df-9e5d61a2-04fa-482f-a5cd-313a76d30e55')\"\n",
              "              title=\"Convert this dataframe to an interactive table.\"\n",
              "              style=\"display:none;\">\n",
              "        \n",
              "  <svg xmlns=\"http://www.w3.org/2000/svg\" height=\"24px\"viewBox=\"0 0 24 24\"\n",
              "       width=\"24px\">\n",
              "    <path d=\"M0 0h24v24H0V0z\" fill=\"none\"/>\n",
              "    <path d=\"M18.56 5.44l.94 2.06.94-2.06 2.06-.94-2.06-.94-.94-2.06-.94 2.06-2.06.94zm-11 1L8.5 8.5l.94-2.06 2.06-.94-2.06-.94L8.5 2.5l-.94 2.06-2.06.94zm10 10l.94 2.06.94-2.06 2.06-.94-2.06-.94-.94-2.06-.94 2.06-2.06.94z\"/><path d=\"M17.41 7.96l-1.37-1.37c-.4-.4-.92-.59-1.43-.59-.52 0-1.04.2-1.43.59L10.3 9.45l-7.72 7.72c-.78.78-.78 2.05 0 2.83L4 21.41c.39.39.9.59 1.41.59.51 0 1.02-.2 1.41-.59l7.78-7.78 2.81-2.81c.8-.78.8-2.07 0-2.86zM5.41 20L4 18.59l7.72-7.72 1.47 1.35L5.41 20z\"/>\n",
              "  </svg>\n",
              "      </button>\n",
              "      \n",
              "  <style>\n",
              "    .colab-df-container {\n",
              "      display:flex;\n",
              "      flex-wrap:wrap;\n",
              "      gap: 12px;\n",
              "    }\n",
              "\n",
              "    .colab-df-convert {\n",
              "      background-color: #E8F0FE;\n",
              "      border: none;\n",
              "      border-radius: 50%;\n",
              "      cursor: pointer;\n",
              "      display: none;\n",
              "      fill: #1967D2;\n",
              "      height: 32px;\n",
              "      padding: 0 0 0 0;\n",
              "      width: 32px;\n",
              "    }\n",
              "\n",
              "    .colab-df-convert:hover {\n",
              "      background-color: #E2EBFA;\n",
              "      box-shadow: 0px 1px 2px rgba(60, 64, 67, 0.3), 0px 1px 3px 1px rgba(60, 64, 67, 0.15);\n",
              "      fill: #174EA6;\n",
              "    }\n",
              "\n",
              "    [theme=dark] .colab-df-convert {\n",
              "      background-color: #3B4455;\n",
              "      fill: #D2E3FC;\n",
              "    }\n",
              "\n",
              "    [theme=dark] .colab-df-convert:hover {\n",
              "      background-color: #434B5C;\n",
              "      box-shadow: 0px 1px 3px 1px rgba(0, 0, 0, 0.15);\n",
              "      filter: drop-shadow(0px 1px 2px rgba(0, 0, 0, 0.3));\n",
              "      fill: #FFFFFF;\n",
              "    }\n",
              "  </style>\n",
              "\n",
              "      <script>\n",
              "        const buttonEl =\n",
              "          document.querySelector('#df-9e5d61a2-04fa-482f-a5cd-313a76d30e55 button.colab-df-convert');\n",
              "        buttonEl.style.display =\n",
              "          google.colab.kernel.accessAllowed ? 'block' : 'none';\n",
              "\n",
              "        async function convertToInteractive(key) {\n",
              "          const element = document.querySelector('#df-9e5d61a2-04fa-482f-a5cd-313a76d30e55');\n",
              "          const dataTable =\n",
              "            await google.colab.kernel.invokeFunction('convertToInteractive',\n",
              "                                                     [key], {});\n",
              "          if (!dataTable) return;\n",
              "\n",
              "          const docLinkHtml = 'Like what you see? Visit the ' +\n",
              "            '<a target=\"_blank\" href=https://colab.research.google.com/notebooks/data_table.ipynb>data table notebook</a>'\n",
              "            + ' to learn more about interactive tables.';\n",
              "          element.innerHTML = '';\n",
              "          dataTable['output_type'] = 'display_data';\n",
              "          await google.colab.output.renderOutput(dataTable, element);\n",
              "          const docLink = document.createElement('div');\n",
              "          docLink.innerHTML = docLinkHtml;\n",
              "          element.appendChild(docLink);\n",
              "        }\n",
              "      </script>\n",
              "    </div>\n",
              "  </div>\n",
              "  "
            ]
          },
          "metadata": {},
          "execution_count": 21
        }
      ],
      "source": [
        "# Reading the data\n",
        "test_labels = pd.read_csv(\"Test1.csv\")\n",
        "# Show the first 5 rows\n",
        "test_labels.head()"
      ]
    },
    {
      "cell_type": "code",
      "source": [
        "#creating a test dataframe with images and the target is unmask for all images\n",
        "test = pd.DataFrame({\n",
        "    'image': test_labels[\"Image_id\"],\n",
        "    'target':\"affected\"\n",
        "})\n",
        "test.head()"
      ],
      "metadata": {
        "colab": {
          "base_uri": "https://localhost:8080/",
          "height": 206
        },
        "id": "gjblsutTB_vl",
        "outputId": "0c889a86-42a1-404e-c773-7f2b7730f85e"
      },
      "execution_count": null,
      "outputs": [
        {
          "output_type": "execute_result",
          "data": {
            "text/plain": [
              "                  image    target\n",
              "0  id_00exusbkgzw1b.jpg  affected\n",
              "1  id_03dqinf6w0znv.jpg  affected\n",
              "2  id_046yl0cxn3ybz.jpg  affected\n",
              "3  id_04athdtx2abyg.jpg  affected\n",
              "4  id_062aauf9e9jk0.jpg  affected"
            ],
            "text/html": [
              "\n",
              "  <div id=\"df-86f2a4af-0aaa-4e43-9a90-f4a78fc7599d\">\n",
              "    <div class=\"colab-df-container\">\n",
              "      <div>\n",
              "<style scoped>\n",
              "    .dataframe tbody tr th:only-of-type {\n",
              "        vertical-align: middle;\n",
              "    }\n",
              "\n",
              "    .dataframe tbody tr th {\n",
              "        vertical-align: top;\n",
              "    }\n",
              "\n",
              "    .dataframe thead th {\n",
              "        text-align: right;\n",
              "    }\n",
              "</style>\n",
              "<table border=\"1\" class=\"dataframe\">\n",
              "  <thead>\n",
              "    <tr style=\"text-align: right;\">\n",
              "      <th></th>\n",
              "      <th>image</th>\n",
              "      <th>target</th>\n",
              "    </tr>\n",
              "  </thead>\n",
              "  <tbody>\n",
              "    <tr>\n",
              "      <th>0</th>\n",
              "      <td>id_00exusbkgzw1b.jpg</td>\n",
              "      <td>affected</td>\n",
              "    </tr>\n",
              "    <tr>\n",
              "      <th>1</th>\n",
              "      <td>id_03dqinf6w0znv.jpg</td>\n",
              "      <td>affected</td>\n",
              "    </tr>\n",
              "    <tr>\n",
              "      <th>2</th>\n",
              "      <td>id_046yl0cxn3ybz.jpg</td>\n",
              "      <td>affected</td>\n",
              "    </tr>\n",
              "    <tr>\n",
              "      <th>3</th>\n",
              "      <td>id_04athdtx2abyg.jpg</td>\n",
              "      <td>affected</td>\n",
              "    </tr>\n",
              "    <tr>\n",
              "      <th>4</th>\n",
              "      <td>id_062aauf9e9jk0.jpg</td>\n",
              "      <td>affected</td>\n",
              "    </tr>\n",
              "  </tbody>\n",
              "</table>\n",
              "</div>\n",
              "      <button class=\"colab-df-convert\" onclick=\"convertToInteractive('df-86f2a4af-0aaa-4e43-9a90-f4a78fc7599d')\"\n",
              "              title=\"Convert this dataframe to an interactive table.\"\n",
              "              style=\"display:none;\">\n",
              "        \n",
              "  <svg xmlns=\"http://www.w3.org/2000/svg\" height=\"24px\"viewBox=\"0 0 24 24\"\n",
              "       width=\"24px\">\n",
              "    <path d=\"M0 0h24v24H0V0z\" fill=\"none\"/>\n",
              "    <path d=\"M18.56 5.44l.94 2.06.94-2.06 2.06-.94-2.06-.94-.94-2.06-.94 2.06-2.06.94zm-11 1L8.5 8.5l.94-2.06 2.06-.94-2.06-.94L8.5 2.5l-.94 2.06-2.06.94zm10 10l.94 2.06.94-2.06 2.06-.94-2.06-.94-.94-2.06-.94 2.06-2.06.94z\"/><path d=\"M17.41 7.96l-1.37-1.37c-.4-.4-.92-.59-1.43-.59-.52 0-1.04.2-1.43.59L10.3 9.45l-7.72 7.72c-.78.78-.78 2.05 0 2.83L4 21.41c.39.39.9.59 1.41.59.51 0 1.02-.2 1.41-.59l7.78-7.78 2.81-2.81c.8-.78.8-2.07 0-2.86zM5.41 20L4 18.59l7.72-7.72 1.47 1.35L5.41 20z\"/>\n",
              "  </svg>\n",
              "      </button>\n",
              "      \n",
              "  <style>\n",
              "    .colab-df-container {\n",
              "      display:flex;\n",
              "      flex-wrap:wrap;\n",
              "      gap: 12px;\n",
              "    }\n",
              "\n",
              "    .colab-df-convert {\n",
              "      background-color: #E8F0FE;\n",
              "      border: none;\n",
              "      border-radius: 50%;\n",
              "      cursor: pointer;\n",
              "      display: none;\n",
              "      fill: #1967D2;\n",
              "      height: 32px;\n",
              "      padding: 0 0 0 0;\n",
              "      width: 32px;\n",
              "    }\n",
              "\n",
              "    .colab-df-convert:hover {\n",
              "      background-color: #E2EBFA;\n",
              "      box-shadow: 0px 1px 2px rgba(60, 64, 67, 0.3), 0px 1px 3px 1px rgba(60, 64, 67, 0.15);\n",
              "      fill: #174EA6;\n",
              "    }\n",
              "\n",
              "    [theme=dark] .colab-df-convert {\n",
              "      background-color: #3B4455;\n",
              "      fill: #D2E3FC;\n",
              "    }\n",
              "\n",
              "    [theme=dark] .colab-df-convert:hover {\n",
              "      background-color: #434B5C;\n",
              "      box-shadow: 0px 1px 3px 1px rgba(0, 0, 0, 0.15);\n",
              "      filter: drop-shadow(0px 1px 2px rgba(0, 0, 0, 0.3));\n",
              "      fill: #FFFFFF;\n",
              "    }\n",
              "  </style>\n",
              "\n",
              "      <script>\n",
              "        const buttonEl =\n",
              "          document.querySelector('#df-86f2a4af-0aaa-4e43-9a90-f4a78fc7599d button.colab-df-convert');\n",
              "        buttonEl.style.display =\n",
              "          google.colab.kernel.accessAllowed ? 'block' : 'none';\n",
              "\n",
              "        async function convertToInteractive(key) {\n",
              "          const element = document.querySelector('#df-86f2a4af-0aaa-4e43-9a90-f4a78fc7599d');\n",
              "          const dataTable =\n",
              "            await google.colab.kernel.invokeFunction('convertToInteractive',\n",
              "                                                     [key], {});\n",
              "          if (!dataTable) return;\n",
              "\n",
              "          const docLinkHtml = 'Like what you see? Visit the ' +\n",
              "            '<a target=\"_blank\" href=https://colab.research.google.com/notebooks/data_table.ipynb>data table notebook</a>'\n",
              "            + ' to learn more about interactive tables.';\n",
              "          element.innerHTML = '';\n",
              "          dataTable['output_type'] = 'display_data';\n",
              "          await google.colab.output.renderOutput(dataTable, element);\n",
              "          const docLink = document.createElement('div');\n",
              "          docLink.innerHTML = docLinkHtml;\n",
              "          element.appendChild(docLink);\n",
              "        }\n",
              "      </script>\n",
              "    </div>\n",
              "  </div>\n",
              "  "
            ]
          },
          "metadata": {},
          "execution_count": 90
        }
      ]
    },
    {
      "cell_type": "code",
      "source": [
        "len(test)"
      ],
      "metadata": {
        "colab": {
          "base_uri": "https://localhost:8080/"
        },
        "id": "qk1F9NzRDf5v",
        "outputId": "92e72d57-2c78-4ee5-93ec-b6b46fa20053"
      },
      "execution_count": null,
      "outputs": [
        {
          "output_type": "execute_result",
          "data": {
            "text/plain": [
              "1080"
            ]
          },
          "metadata": {},
          "execution_count": 69
        }
      ]
    },
    {
      "cell_type": "code",
      "execution_count": null,
      "metadata": {
        "id": "okep2M7AekQM",
        "colab": {
          "base_uri": "https://localhost:8080/"
        },
        "outputId": "2f0dbef4-0aa4-4776-81e3-41be28dfce1e"
      },
      "outputs": [
        {
          "output_type": "stream",
          "name": "stdout",
          "text": [
            "Found 1080 validated image filenames belonging to 1 classes.\n"
          ]
        },
        {
          "output_type": "stream",
          "name": "stderr",
          "text": [
            "/usr/local/lib/python3.7/dist-packages/ipykernel_launcher.py:17: UserWarning: `Model.predict_generator` is deprecated and will be removed in a future version. Please use `Model.predict`, which supports generators.\n"
          ]
        }
      ],
      "source": [
        "#Finally, pass the test data to the ImageDataGenerator to fit the model to the test data\n",
        "test_gen = ImageDataGenerator(rescale=1./255)\n",
        "\n",
        "test_labels = test_labels.reset_index(drop='True')\n",
        "test_generator = test_gen.flow_from_dataframe(\n",
        "    dataframe=test,\n",
        "    directory=\"targetdir/\",\n",
        "    x_col=\"image\",\n",
        "    y_col=\"target\",\n",
        "    target_size=(image_size,image_size),\n",
        "    class_mode='categorical',\n",
        "    batch_size=15,\n",
        "    shuffle=False)\n",
        "nb_samples = test.shape[0]\n",
        "#The model.predict_generator helps predict new image data.\n",
        "\n",
        "predict = model.predict_generator(test_generator)"
      ]
    },
    {
      "cell_type": "code",
      "source": [
        "test.shape[0]"
      ],
      "metadata": {
        "colab": {
          "base_uri": "https://localhost:8080/"
        },
        "id": "7UQSXUcuD5xO",
        "outputId": "7bd3aba9-bcf1-4727-8a97-94d1fc613a6e"
      },
      "execution_count": null,
      "outputs": [
        {
          "output_type": "execute_result",
          "data": {
            "text/plain": [
              "1080"
            ]
          },
          "metadata": {},
          "execution_count": 76
        }
      ]
    },
    {
      "cell_type": "code",
      "source": [
        "len(predict)"
      ],
      "metadata": {
        "colab": {
          "base_uri": "https://localhost:8080/"
        },
        "id": "Gya7ZA3sDnh9",
        "outputId": "e12c8c64-735d-4549-8a6d-13c7358867d3"
      },
      "execution_count": null,
      "outputs": [
        {
          "output_type": "execute_result",
          "data": {
            "text/plain": [
              "1080"
            ]
          },
          "metadata": {},
          "execution_count": 79
        }
      ]
    },
    {
      "cell_type": "code",
      "execution_count": null,
      "metadata": {
        "id": "e0XdqoFvemF8"
      },
      "outputs": [],
      "source": [
        "# Here we are converting the submission data to a dataframe\n",
        "# Save the predict object that stores the predicted results above in the target row of the test dataset.\n",
        "test_labels[\"Label\"]=predict\n",
        "\n",
        "#here we are converting to a csv file\n",
        "test_labels.to_csv(\"submission.csv\",index=False)"
      ]
    },
    {
      "cell_type": "code",
      "source": [
        "pwd"
      ],
      "metadata": {
        "id": "lAhqv98wHITn",
        "outputId": "afc0f6b4-e092-4a80-963f-29cfa496fbb3",
        "colab": {
          "base_uri": "https://localhost:8080/",
          "height": 35
        }
      },
      "execution_count": null,
      "outputs": [
        {
          "output_type": "execute_result",
          "data": {
            "text/plain": [
              "'/content'"
            ],
            "application/vnd.google.colaboratory.intrinsic+json": {
              "type": "string"
            }
          },
          "metadata": {},
          "execution_count": 94
        }
      ]
    },
    {
      "cell_type": "code",
      "source": [
        ""
      ],
      "metadata": {
        "id": "ERnindqhHJN0"
      },
      "execution_count": null,
      "outputs": []
    }
  ],
  "metadata": {
    "accelerator": "GPU",
    "colab": {
      "collapsed_sections": [],
      "name": "Fall armyworm.ipynb",
      "provenance": [],
      "include_colab_link": true
    },
    "kernelspec": {
      "display_name": "Python 3",
      "name": "python3"
    },
    "language_info": {
      "name": "python"
    }
  },
  "nbformat": 4,
  "nbformat_minor": 0
}