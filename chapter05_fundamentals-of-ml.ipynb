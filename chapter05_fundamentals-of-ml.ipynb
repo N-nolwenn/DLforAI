{
  "cells": [
    {
      "cell_type": "markdown",
      "metadata": {
        "id": "__URtGCpdXAA"
      },
      "source": [
        "This is a companion notebook for the book [Deep Learning with Python, Second Edition](https://www.manning.com/books/deep-learning-with-python-second-edition?a_aid=keras&a_bid=76564dff). For readability, it only contains runnable code blocks and section titles, and omits everything else in the book: text paragraphs, figures, and pseudocode.\n",
        "\n",
        "**If you want to be able to follow what's going on, I recommend reading the notebook side by side with your copy of the book.**\n",
        "\n",
        "This notebook was generated for TensorFlow 2.6."
      ]
    },
    {
      "cell_type": "markdown",
      "metadata": {
        "id": "uWUpCiqxdXAD"
      },
      "source": [
        "# Fundamentals of machine learning"
      ]
    },
    {
      "cell_type": "markdown",
      "metadata": {
        "id": "wKVFG0qQdXAD"
      },
      "source": [
        "## Generalization: The goal of machine learning"
      ]
    },
    {
      "cell_type": "markdown",
      "metadata": {
        "id": "Vk9tNnH-dXAE"
      },
      "source": [
        "### Underfitting and overfitting"
      ]
    },
    {
      "cell_type": "markdown",
      "metadata": {
        "id": "lA8C72G3dXAE"
      },
      "source": [
        "#### Noisy training data"
      ]
    },
    {
      "cell_type": "markdown",
      "metadata": {
        "id": "RB-Uu-J5dXAE"
      },
      "source": [
        "#### Ambiguous features"
      ]
    },
    {
      "cell_type": "markdown",
      "metadata": {
        "id": "x092a-O-dXAF"
      },
      "source": [
        "#### Rare features and spurious correlations"
      ]
    },
    {
      "cell_type": "markdown",
      "metadata": {
        "id": "dvOa6KnUdXAF"
      },
      "source": [
        "**Adding white-noise channels or all-zeros channels to MNIST**"
      ]
    },
    {
      "cell_type": "code",
      "execution_count": 1,
      "metadata": {
        "id": "xPcAFjTndXAG",
        "outputId": "946590ec-43c5-43f5-861c-f25019f4e2bc",
        "colab": {
          "base_uri": "https://localhost:8080/"
        }
      },
      "outputs": [
        {
          "output_type": "stream",
          "name": "stdout",
          "text": [
            "Downloading data from https://storage.googleapis.com/tensorflow/tf-keras-datasets/mnist.npz\n",
            "11493376/11490434 [==============================] - 0s 0us/step\n",
            "11501568/11490434 [==============================] - 0s 0us/step\n"
          ]
        }
      ],
      "source": [
        "from tensorflow.keras.datasets import mnist\n",
        "import numpy as np\n",
        "\n",
        "(train_images, train_labels), _ = mnist.load_data()\n",
        "train_images = train_images.reshape((60000, 28 * 28))\n",
        "train_images = train_images.astype(\"float32\") / 255\n",
        "\n",
        "#Adding random noise with size of len(train_images) using np.random.random we take random value matric of the size len...\n",
        "train_images_with_noise_channels = np.concatenate(\n",
        "    [train_images, np.random.random((len(train_images), 784))], axis=1)\n",
        "\n",
        "#Adding 0 vectors\n",
        "train_images_with_zeros_channels = np.concatenate(\n",
        "    [train_images, np.zeros((len(train_images), 784))], axis=1)"
      ]
    },
    {
      "cell_type": "code",
      "source": [
        "#original dimension\n",
        "train_images.shape "
      ],
      "metadata": {
        "id": "QlN1nnGqgVzi",
        "outputId": "c580fbb0-96bf-40ac-becd-28ea71826e71",
        "colab": {
          "base_uri": "https://localhost:8080/"
        }
      },
      "execution_count": 2,
      "outputs": [
        {
          "output_type": "execute_result",
          "data": {
            "text/plain": [
              "(60000, 784)"
            ]
          },
          "metadata": {},
          "execution_count": 2
        }
      ]
    },
    {
      "cell_type": "code",
      "source": [
        "#we want to add this size of random noise to the original training dataset\n",
        "(len(train_images), 784)"
      ],
      "metadata": {
        "id": "J0HnNbsUgb3J",
        "outputId": "f0f38501-382a-474e-954c-7d2d19f122fb",
        "colab": {
          "base_uri": "https://localhost:8080/"
        }
      },
      "execution_count": 3,
      "outputs": [
        {
          "output_type": "execute_result",
          "data": {
            "text/plain": [
              "(60000, 784)"
            ]
          },
          "metadata": {},
          "execution_count": 3
        }
      ]
    },
    {
      "cell_type": "code",
      "source": [
        "train_images_with_noise_channels.shape"
      ],
      "metadata": {
        "id": "B82j_ORFgftu",
        "outputId": "07ac49f9-7644-4f7b-9ed5-831929b36e62",
        "colab": {
          "base_uri": "https://localhost:8080/"
        }
      },
      "execution_count": 4,
      "outputs": [
        {
          "output_type": "execute_result",
          "data": {
            "text/plain": [
              "(60000, 1568)"
            ]
          },
          "metadata": {},
          "execution_count": 4
        }
      ]
    },
    {
      "cell_type": "code",
      "source": [
        "np.random.random((len(train_images), 784))"
      ],
      "metadata": {
        "id": "GTfbDEtjhb3j",
        "outputId": "670390d9-9e43-426e-da5a-3fff8b3b3ec8",
        "colab": {
          "base_uri": "https://localhost:8080/"
        }
      },
      "execution_count": 5,
      "outputs": [
        {
          "output_type": "execute_result",
          "data": {
            "text/plain": [
              "array([[0.01675526, 0.60610026, 0.82291268, ..., 0.45221824, 0.83034688,\n",
              "        0.38291181],\n",
              "       [0.8683715 , 0.15331478, 0.80765151, ..., 0.52867636, 0.35760709,\n",
              "        0.7303782 ],\n",
              "       [0.06160073, 0.17940989, 0.64246732, ..., 0.97387408, 0.26126295,\n",
              "        0.09349198],\n",
              "       ...,\n",
              "       [0.04106903, 0.2096837 , 0.40706365, ..., 0.05516666, 0.9137041 ,\n",
              "        0.14312474],\n",
              "       [0.39423096, 0.46709035, 0.54084337, ..., 0.95885745, 0.96806881,\n",
              "        0.05380409],\n",
              "       [0.54981259, 0.46920527, 0.56450583, ..., 0.89567434, 0.49803407,\n",
              "        0.31813044]])"
            ]
          },
          "metadata": {},
          "execution_count": 5
        }
      ]
    },
    {
      "cell_type": "code",
      "source": [
        "train_images, np.zeros((len(train_images), 784))"
      ],
      "metadata": {
        "id": "iqBkqSDchlSz",
        "outputId": "9925ae77-e01c-4769-821b-6a4311c8ec69",
        "colab": {
          "base_uri": "https://localhost:8080/"
        }
      },
      "execution_count": 6,
      "outputs": [
        {
          "output_type": "execute_result",
          "data": {
            "text/plain": [
              "(array([[0., 0., 0., ..., 0., 0., 0.],\n",
              "        [0., 0., 0., ..., 0., 0., 0.],\n",
              "        [0., 0., 0., ..., 0., 0., 0.],\n",
              "        ...,\n",
              "        [0., 0., 0., ..., 0., 0., 0.],\n",
              "        [0., 0., 0., ..., 0., 0., 0.],\n",
              "        [0., 0., 0., ..., 0., 0., 0.]], dtype=float32),\n",
              " array([[0., 0., 0., ..., 0., 0., 0.],\n",
              "        [0., 0., 0., ..., 0., 0., 0.],\n",
              "        [0., 0., 0., ..., 0., 0., 0.],\n",
              "        ...,\n",
              "        [0., 0., 0., ..., 0., 0., 0.],\n",
              "        [0., 0., 0., ..., 0., 0., 0.],\n",
              "        [0., 0., 0., ..., 0., 0., 0.]]))"
            ]
          },
          "metadata": {},
          "execution_count": 6
        }
      ]
    },
    {
      "cell_type": "markdown",
      "metadata": {
        "id": "ATHYOqfYdXAH"
      },
      "source": [
        "**Training the same model on MNIST data with noise channels or all-zero channels**"
      ]
    },
    {
      "cell_type": "code",
      "execution_count": 7,
      "metadata": {
        "id": "pct8-5W1dXAH",
        "outputId": "04689119-dddb-4e08-983c-2511904f42f1",
        "colab": {
          "base_uri": "https://localhost:8080/"
        }
      },
      "outputs": [
        {
          "output_type": "stream",
          "name": "stdout",
          "text": [
            "Epoch 1/10\n",
            "375/375 [==============================] - 10s 10ms/step - loss: 0.6023 - accuracy: 0.8143 - val_loss: 0.2489 - val_accuracy: 0.9253\n",
            "Epoch 2/10\n",
            "375/375 [==============================] - 2s 5ms/step - loss: 0.2462 - accuracy: 0.9240 - val_loss: 0.1668 - val_accuracy: 0.9512\n",
            "Epoch 3/10\n",
            "375/375 [==============================] - 2s 5ms/step - loss: 0.1621 - accuracy: 0.9494 - val_loss: 0.1505 - val_accuracy: 0.9572\n",
            "Epoch 4/10\n",
            "375/375 [==============================] - 2s 5ms/step - loss: 0.1160 - accuracy: 0.9631 - val_loss: 0.1494 - val_accuracy: 0.9564\n",
            "Epoch 5/10\n",
            "375/375 [==============================] - 2s 5ms/step - loss: 0.0859 - accuracy: 0.9726 - val_loss: 0.1293 - val_accuracy: 0.9615\n",
            "Epoch 6/10\n",
            "375/375 [==============================] - 2s 6ms/step - loss: 0.0623 - accuracy: 0.9800 - val_loss: 0.1863 - val_accuracy: 0.9457\n",
            "Epoch 7/10\n",
            "375/375 [==============================] - 2s 5ms/step - loss: 0.0479 - accuracy: 0.9844 - val_loss: 0.1075 - val_accuracy: 0.9706\n",
            "Epoch 8/10\n",
            "375/375 [==============================] - 2s 5ms/step - loss: 0.0351 - accuracy: 0.9883 - val_loss: 0.1493 - val_accuracy: 0.9610\n",
            "Epoch 9/10\n",
            "375/375 [==============================] - 2s 5ms/step - loss: 0.0273 - accuracy: 0.9914 - val_loss: 0.1351 - val_accuracy: 0.9673\n",
            "Epoch 10/10\n",
            "375/375 [==============================] - 2s 5ms/step - loss: 0.0215 - accuracy: 0.9933 - val_loss: 0.1243 - val_accuracy: 0.9697\n",
            "Epoch 1/10\n",
            "375/375 [==============================] - 4s 10ms/step - loss: 0.2928 - accuracy: 0.9148 - val_loss: 0.1459 - val_accuracy: 0.9593\n",
            "Epoch 2/10\n",
            "375/375 [==============================] - 3s 8ms/step - loss: 0.1188 - accuracy: 0.9649 - val_loss: 0.1106 - val_accuracy: 0.9658\n",
            "Epoch 3/10\n",
            "375/375 [==============================] - 3s 9ms/step - loss: 0.0787 - accuracy: 0.9765 - val_loss: 0.0884 - val_accuracy: 0.9745\n",
            "Epoch 4/10\n",
            "375/375 [==============================] - 3s 9ms/step - loss: 0.0559 - accuracy: 0.9833 - val_loss: 0.0830 - val_accuracy: 0.9747\n",
            "Epoch 5/10\n",
            "375/375 [==============================] - 4s 10ms/step - loss: 0.0419 - accuracy: 0.9872 - val_loss: 0.0825 - val_accuracy: 0.9765\n",
            "Epoch 6/10\n",
            "375/375 [==============================] - 3s 9ms/step - loss: 0.0319 - accuracy: 0.9904 - val_loss: 0.0814 - val_accuracy: 0.9774\n",
            "Epoch 7/10\n",
            "375/375 [==============================] - 3s 8ms/step - loss: 0.0242 - accuracy: 0.9931 - val_loss: 0.1027 - val_accuracy: 0.9713\n",
            "Epoch 8/10\n",
            "375/375 [==============================] - 3s 7ms/step - loss: 0.0192 - accuracy: 0.9945 - val_loss: 0.0807 - val_accuracy: 0.9787\n",
            "Epoch 9/10\n",
            "375/375 [==============================] - 3s 7ms/step - loss: 0.0140 - accuracy: 0.9960 - val_loss: 0.0910 - val_accuracy: 0.9779\n",
            "Epoch 10/10\n",
            "375/375 [==============================] - 3s 8ms/step - loss: 0.0109 - accuracy: 0.9970 - val_loss: 0.0871 - val_accuracy: 0.9800\n"
          ]
        }
      ],
      "source": [
        "from tensorflow import keras\n",
        "from tensorflow.keras import layers\n",
        "\n",
        "def get_model():\n",
        "    model = keras.Sequential([\n",
        "        layers.Dense(512, activation=\"relu\"),\n",
        "        layers.Dense(10, activation=\"softmax\")\n",
        "    ])\n",
        "    model.compile(optimizer=\"rmsprop\",\n",
        "                  loss=\"sparse_categorical_crossentropy\",\n",
        "                  metrics=[\"accuracy\"])\n",
        "    return model\n",
        "\n",
        "#training\n",
        "model = get_model()\n",
        "history_noise = model.fit(\n",
        "    train_images_with_noise_channels, train_labels,\n",
        "    epochs=10,\n",
        "    batch_size=128,\n",
        "    validation_split=0.2)\n",
        "#plot the history\n",
        "model = get_model()\n",
        "history_zeros = model.fit(\n",
        "    train_images_with_zeros_channels, train_labels,\n",
        "    epochs=10,\n",
        "    batch_size=128,\n",
        "    validation_split=0.2)"
      ]
    },
    {
      "cell_type": "code",
      "source": [
        "#training data with original data\n",
        "#The performance is a little better if we look at the accuracy\n",
        "model = get_model()\n",
        "history1 = model.fit(\n",
        "    train_images, train_labels,\n",
        "    epochs=10,\n",
        "    batch_size=128,\n",
        "    validation_split=0.2)"
      ],
      "metadata": {
        "id": "0jiZsWxDh3wj",
        "outputId": "e87b34bf-e68c-4903-f254-735557f41110",
        "colab": {
          "base_uri": "https://localhost:8080/"
        }
      },
      "execution_count": 8,
      "outputs": [
        {
          "output_type": "stream",
          "name": "stdout",
          "text": [
            "Epoch 1/10\n",
            "375/375 [==============================] - 4s 8ms/step - loss: 0.2886 - accuracy: 0.9165 - val_loss: 0.1486 - val_accuracy: 0.9576\n",
            "Epoch 2/10\n",
            "375/375 [==============================] - 3s 7ms/step - loss: 0.1195 - accuracy: 0.9646 - val_loss: 0.1096 - val_accuracy: 0.9689\n",
            "Epoch 3/10\n",
            "375/375 [==============================] - 2s 5ms/step - loss: 0.0791 - accuracy: 0.9763 - val_loss: 0.1048 - val_accuracy: 0.9668\n",
            "Epoch 4/10\n",
            "375/375 [==============================] - 2s 5ms/step - loss: 0.0561 - accuracy: 0.9833 - val_loss: 0.0891 - val_accuracy: 0.9741\n",
            "Epoch 5/10\n",
            "375/375 [==============================] - 2s 5ms/step - loss: 0.0419 - accuracy: 0.9876 - val_loss: 0.0838 - val_accuracy: 0.9748\n",
            "Epoch 6/10\n",
            "375/375 [==============================] - 2s 5ms/step - loss: 0.0311 - accuracy: 0.9906 - val_loss: 0.0804 - val_accuracy: 0.9773\n",
            "Epoch 7/10\n",
            "375/375 [==============================] - 2s 5ms/step - loss: 0.0233 - accuracy: 0.9935 - val_loss: 0.0801 - val_accuracy: 0.9774\n",
            "Epoch 8/10\n",
            "375/375 [==============================] - 2s 4ms/step - loss: 0.0176 - accuracy: 0.9948 - val_loss: 0.0836 - val_accuracy: 0.9767\n",
            "Epoch 9/10\n",
            "375/375 [==============================] - 2s 5ms/step - loss: 0.0139 - accuracy: 0.9961 - val_loss: 0.0768 - val_accuracy: 0.9803\n",
            "Epoch 10/10\n",
            "375/375 [==============================] - 2s 4ms/step - loss: 0.0101 - accuracy: 0.9974 - val_loss: 0.0906 - val_accuracy: 0.9778\n"
          ]
        }
      ]
    },
    {
      "cell_type": "markdown",
      "metadata": {
        "id": "LfNlKuCgdXAI"
      },
      "source": [
        "**Plotting a validation accuracy comparison**"
      ]
    },
    {
      "cell_type": "code",
      "execution_count": 9,
      "metadata": {
        "id": "DCNjVwEjdXAI",
        "outputId": "3071441e-c4a4-4e7d-b3e0-3c454b65d257",
        "colab": {
          "base_uri": "https://localhost:8080/",
          "height": 312
        }
      },
      "outputs": [
        {
          "output_type": "execute_result",
          "data": {
            "text/plain": [
              "<matplotlib.legend.Legend at 0x7f3d201c8e50>"
            ]
          },
          "metadata": {},
          "execution_count": 9
        },
        {
          "output_type": "display_data",
          "data": {
            "text/plain": [
              "<Figure size 432x288 with 1 Axes>"
            ],
            "image/png": "[encoded data removed]"
          },
          "metadata": {
            "needs_background": "light"
          }
        }
      ],
      "source": [
        "import matplotlib.pyplot as plt\n",
        "val_acc_noise = history_noise.history[\"val_accuracy\"]\n",
        "val_acc_zeros = history_zeros.history[\"val_accuracy\"]\n",
        "epochs = range(1, 11)\n",
        "plt.plot(epochs, val_acc_noise, \"b-\",\n",
        "         label=\"Validation accuracy with noise channels\")\n",
        "plt.plot(epochs, val_acc_zeros, \"b--\",\n",
        "         label=\"Validation accuracy with zeros channels\")\n",
        "plt.title(\"Effect of noise channels on validation accuracy\")\n",
        "plt.xlabel(\"Epochs\")\n",
        "plt.ylabel(\"Accuracy\")\n",
        "plt.legend()\n",
        "#if we had the random noise, it will cause suspisious correlation and perofrmance goes down. \n",
        "#not recommended to add random noise in classification"
      ]
    },
    {
      "cell_type": "code",
      "source": [
        "import matplotlib.pyplot as plt\n",
        "val_acc = history1.history[\"val_accuracy\"]\n",
        "val_acc_zeros = history_zeros.history[\"val_accuracy\"]\n",
        "epochs = range(1, 11)\n",
        "plt.plot(epochs, val_acc, \"b-\",\n",
        "         label=\"Validation accuracy original data\")\n",
        "plt.plot(epochs, val_acc_zeros, \"b--\",\n",
        "         label=\"Validation accuracy with zeros channels\")\n",
        "plt.title(\"Effect of noise channels on validation accuracy\")\n",
        "plt.xlabel(\"Epochs\")\n",
        "plt.ylabel(\"Accuracy\")\n",
        "plt.legend()\n",
        "#the 2 validation are quite similar"
      ],
      "metadata": {
        "id": "5avwnJndiIfH",
        "outputId": "89973c9f-14ed-417c-d0e0-f8c208b452c2",
        "colab": {
          "base_uri": "https://localhost:8080/",
          "height": 312
        }
      },
      "execution_count": 10,
      "outputs": [
        {
          "output_type": "execute_result",
          "data": {
            "text/plain": [
              "<matplotlib.legend.Legend at 0x7f3d20250410>"
            ]
          },
          "metadata": {},
          "execution_count": 10
        },
        {
          "output_type": "display_data",
          "data": {
            "text/plain": [
              "<Figure size 432x288 with 1 Axes>"
            ],
            "image/png": "[encoded data removed]"
          },
          "metadata": {
            "needs_background": "light"
          }
        }
      ]
    },
    {
      "cell_type": "markdown",
      "metadata": {
        "id": "_-kKg-cadXAJ"
      },
      "source": [
        "### The nature of generalization in deep learning"
      ]
    },
    {
      "cell_type": "markdown",
      "metadata": {
        "id": "LSwKReL6dXAJ"
      },
      "source": [
        "**Fitting a MNIST model with randomly shuffled labels**"
      ]
    },
    {
      "cell_type": "code",
      "execution_count": 11,
      "metadata": {
        "id": "RifX-_DldXAJ",
        "outputId": "4fbbe88b-bc27-4225-a852-3278f5714b36",
        "colab": {
          "base_uri": "https://localhost:8080/"
        }
      },
      "outputs": [
        {
          "output_type": "stream",
          "name": "stdout",
          "text": [
            "Epoch 1/100\n",
            "375/375 [==============================] - 3s 6ms/step - loss: 2.3169 - accuracy: 0.1014 - val_loss: 2.3055 - val_accuracy: 0.1112\n",
            "Epoch 2/100\n",
            "375/375 [==============================] - 2s 5ms/step - loss: 2.2998 - accuracy: 0.1174 - val_loss: 2.3099 - val_accuracy: 0.1074\n",
            "Epoch 3/100\n",
            "375/375 [==============================] - 2s 5ms/step - loss: 2.2910 - accuracy: 0.1283 - val_loss: 2.3193 - val_accuracy: 0.1017\n",
            "Epoch 4/100\n",
            "375/375 [==============================] - 2s 5ms/step - loss: 2.2771 - accuracy: 0.1414 - val_loss: 2.3280 - val_accuracy: 0.1008\n",
            "Epoch 5/100\n",
            "375/375 [==============================] - 2s 5ms/step - loss: 2.2597 - accuracy: 0.1535 - val_loss: 2.3433 - val_accuracy: 0.0993\n",
            "Epoch 6/100\n",
            "375/375 [==============================] - 2s 5ms/step - loss: 2.2380 - accuracy: 0.1681 - val_loss: 2.3523 - val_accuracy: 0.1017\n",
            "Epoch 7/100\n",
            "375/375 [==============================] - 2s 5ms/step - loss: 2.2146 - accuracy: 0.1817 - val_loss: 2.3675 - val_accuracy: 0.1024\n",
            "Epoch 8/100\n",
            "375/375 [==============================] - 2s 5ms/step - loss: 2.1873 - accuracy: 0.2015 - val_loss: 2.3846 - val_accuracy: 0.1003\n",
            "Epoch 9/100\n",
            "375/375 [==============================] - 2s 5ms/step - loss: 2.1576 - accuracy: 0.2143 - val_loss: 2.4061 - val_accuracy: 0.1063\n",
            "Epoch 10/100\n",
            "375/375 [==============================] - 2s 5ms/step - loss: 2.1265 - accuracy: 0.2320 - val_loss: 2.4253 - val_accuracy: 0.1028\n",
            "Epoch 11/100\n",
            "375/375 [==============================] - 2s 5ms/step - loss: 2.0943 - accuracy: 0.2460 - val_loss: 2.4490 - val_accuracy: 0.1052\n",
            "Epoch 12/100\n",
            "375/375 [==============================] - 2s 5ms/step - loss: 2.0619 - accuracy: 0.2604 - val_loss: 2.4643 - val_accuracy: 0.0991\n",
            "Epoch 13/100\n",
            "375/375 [==============================] - 2s 5ms/step - loss: 2.0277 - accuracy: 0.2761 - val_loss: 2.4966 - val_accuracy: 0.1022\n",
            "Epoch 14/100\n",
            "375/375 [==============================] - 2s 5ms/step - loss: 1.9940 - accuracy: 0.2913 - val_loss: 2.5247 - val_accuracy: 0.0976\n",
            "Epoch 15/100\n",
            "375/375 [==============================] - 2s 5ms/step - loss: 1.9594 - accuracy: 0.3069 - val_loss: 2.5588 - val_accuracy: 0.1057\n",
            "Epoch 16/100\n",
            "375/375 [==============================] - 2s 5ms/step - loss: 1.9275 - accuracy: 0.3199 - val_loss: 2.5743 - val_accuracy: 0.1033\n",
            "Epoch 17/100\n",
            "375/375 [==============================] - 2s 5ms/step - loss: 1.8920 - accuracy: 0.3332 - val_loss: 2.6207 - val_accuracy: 0.1047\n",
            "Epoch 18/100\n",
            "375/375 [==============================] - 2s 5ms/step - loss: 1.8596 - accuracy: 0.3465 - val_loss: 2.6652 - val_accuracy: 0.1012\n",
            "Epoch 19/100\n",
            "375/375 [==============================] - 2s 5ms/step - loss: 1.8263 - accuracy: 0.3590 - val_loss: 2.6817 - val_accuracy: 0.1058\n",
            "Epoch 20/100\n",
            "375/375 [==============================] - 2s 5ms/step - loss: 1.7958 - accuracy: 0.3717 - val_loss: 2.7255 - val_accuracy: 0.1022\n",
            "Epoch 21/100\n",
            "375/375 [==============================] - 2s 5ms/step - loss: 1.7632 - accuracy: 0.3842 - val_loss: 2.7564 - val_accuracy: 0.0986\n",
            "Epoch 22/100\n",
            "375/375 [==============================] - 2s 5ms/step - loss: 1.7319 - accuracy: 0.3996 - val_loss: 2.7965 - val_accuracy: 0.1015\n",
            "Epoch 23/100\n",
            "375/375 [==============================] - 2s 5ms/step - loss: 1.7027 - accuracy: 0.4087 - val_loss: 2.8394 - val_accuracy: 0.1043\n",
            "Epoch 24/100\n",
            "375/375 [==============================] - 2s 5ms/step - loss: 1.6747 - accuracy: 0.4181 - val_loss: 2.8708 - val_accuracy: 0.1049\n",
            "Epoch 25/100\n",
            "375/375 [==============================] - 2s 5ms/step - loss: 1.6456 - accuracy: 0.4298 - val_loss: 2.8948 - val_accuracy: 0.1046\n",
            "Epoch 26/100\n",
            "375/375 [==============================] - 2s 5ms/step - loss: 1.6163 - accuracy: 0.4415 - val_loss: 2.9510 - val_accuracy: 0.1051\n",
            "Epoch 27/100\n",
            "375/375 [==============================] - 2s 5ms/step - loss: 1.5854 - accuracy: 0.4519 - val_loss: 3.0166 - val_accuracy: 0.1048\n",
            "Epoch 28/100\n",
            "375/375 [==============================] - 2s 5ms/step - loss: 1.5607 - accuracy: 0.4607 - val_loss: 3.0204 - val_accuracy: 0.1059\n",
            "Epoch 29/100\n",
            "375/375 [==============================] - 2s 5ms/step - loss: 1.5337 - accuracy: 0.4731 - val_loss: 3.1003 - val_accuracy: 0.1013\n",
            "Epoch 30/100\n",
            "375/375 [==============================] - 2s 5ms/step - loss: 1.5076 - accuracy: 0.4820 - val_loss: 3.1171 - val_accuracy: 0.1022\n",
            "Epoch 31/100\n",
            "375/375 [==============================] - 2s 5ms/step - loss: 1.4816 - accuracy: 0.4908 - val_loss: 3.1815 - val_accuracy: 0.1040\n",
            "Epoch 32/100\n",
            "375/375 [==============================] - 2s 5ms/step - loss: 1.4573 - accuracy: 0.4998 - val_loss: 3.2106 - val_accuracy: 0.1015\n",
            "Epoch 33/100\n",
            "375/375 [==============================] - 2s 5ms/step - loss: 1.4337 - accuracy: 0.5079 - val_loss: 3.2684 - val_accuracy: 0.1023\n",
            "Epoch 34/100\n",
            "375/375 [==============================] - 2s 5ms/step - loss: 1.4103 - accuracy: 0.5160 - val_loss: 3.3120 - val_accuracy: 0.1003\n",
            "Epoch 35/100\n",
            "375/375 [==============================] - 2s 5ms/step - loss: 1.3867 - accuracy: 0.5236 - val_loss: 3.3729 - val_accuracy: 0.1030\n",
            "Epoch 36/100\n",
            "375/375 [==============================] - 2s 5ms/step - loss: 1.3638 - accuracy: 0.5324 - val_loss: 3.4033 - val_accuracy: 0.1009\n",
            "Epoch 37/100\n",
            "375/375 [==============================] - 2s 5ms/step - loss: 1.3398 - accuracy: 0.5407 - val_loss: 3.4350 - val_accuracy: 0.1028\n",
            "Epoch 38/100\n",
            "375/375 [==============================] - 2s 5ms/step - loss: 1.3206 - accuracy: 0.5487 - val_loss: 3.4717 - val_accuracy: 0.1032\n",
            "Epoch 39/100\n",
            "375/375 [==============================] - 2s 5ms/step - loss: 1.2983 - accuracy: 0.5570 - val_loss: 3.5368 - val_accuracy: 0.1020\n",
            "Epoch 40/100\n",
            "375/375 [==============================] - 2s 5ms/step - loss: 1.2784 - accuracy: 0.5636 - val_loss: 3.5819 - val_accuracy: 0.1046\n",
            "Epoch 41/100\n",
            "375/375 [==============================] - 2s 5ms/step - loss: 1.2563 - accuracy: 0.5737 - val_loss: 3.6931 - val_accuracy: 0.1037\n",
            "Epoch 42/100\n",
            "375/375 [==============================] - 2s 6ms/step - loss: 1.2366 - accuracy: 0.5782 - val_loss: 3.7140 - val_accuracy: 0.0979\n",
            "Epoch 43/100\n",
            "375/375 [==============================] - 2s 5ms/step - loss: 1.2173 - accuracy: 0.5875 - val_loss: 3.7202 - val_accuracy: 0.1038\n",
            "Epoch 44/100\n",
            "375/375 [==============================] - 2s 5ms/step - loss: 1.1990 - accuracy: 0.5912 - val_loss: 3.7878 - val_accuracy: 0.1052\n",
            "Epoch 45/100\n",
            "375/375 [==============================] - 2s 5ms/step - loss: 1.1798 - accuracy: 0.6009 - val_loss: 3.8325 - val_accuracy: 0.1049\n",
            "Epoch 46/100\n",
            "375/375 [==============================] - 2s 5ms/step - loss: 1.1620 - accuracy: 0.6068 - val_loss: 3.9285 - val_accuracy: 0.1032\n",
            "Epoch 47/100\n",
            "375/375 [==============================] - 2s 5ms/step - loss: 1.1447 - accuracy: 0.6126 - val_loss: 3.9318 - val_accuracy: 0.1006\n",
            "Epoch 48/100\n",
            "375/375 [==============================] - 2s 6ms/step - loss: 1.1257 - accuracy: 0.6209 - val_loss: 3.9997 - val_accuracy: 0.1033\n",
            "Epoch 49/100\n",
            "375/375 [==============================] - 2s 5ms/step - loss: 1.1110 - accuracy: 0.6265 - val_loss: 4.0532 - val_accuracy: 0.1038\n",
            "Epoch 50/100\n",
            "375/375 [==============================] - 2s 5ms/step - loss: 1.0937 - accuracy: 0.6293 - val_loss: 4.0910 - val_accuracy: 0.1040\n",
            "Epoch 51/100\n",
            "375/375 [==============================] - 2s 5ms/step - loss: 1.0782 - accuracy: 0.6331 - val_loss: 4.1564 - val_accuracy: 0.1017\n",
            "Epoch 52/100\n",
            "375/375 [==============================] - 2s 5ms/step - loss: 1.0612 - accuracy: 0.6434 - val_loss: 4.2207 - val_accuracy: 0.1023\n",
            "Epoch 53/100\n",
            "375/375 [==============================] - 2s 5ms/step - loss: 1.0457 - accuracy: 0.6481 - val_loss: 4.2751 - val_accuracy: 0.1007\n",
            "Epoch 54/100\n",
            "375/375 [==============================] - 2s 5ms/step - loss: 1.0297 - accuracy: 0.6535 - val_loss: 4.3142 - val_accuracy: 0.1042\n",
            "Epoch 55/100\n",
            "375/375 [==============================] - 2s 5ms/step - loss: 1.0145 - accuracy: 0.6590 - val_loss: 4.4086 - val_accuracy: 0.1032\n",
            "Epoch 56/100\n",
            "375/375 [==============================] - 2s 5ms/step - loss: 0.9995 - accuracy: 0.6651 - val_loss: 4.4377 - val_accuracy: 0.1022\n",
            "Epoch 57/100\n",
            "375/375 [==============================] - 2s 5ms/step - loss: 0.9835 - accuracy: 0.6716 - val_loss: 4.4896 - val_accuracy: 0.1019\n",
            "Epoch 58/100\n",
            "375/375 [==============================] - 2s 5ms/step - loss: 0.9714 - accuracy: 0.6754 - val_loss: 4.5696 - val_accuracy: 0.1064\n",
            "Epoch 59/100\n",
            "375/375 [==============================] - 2s 5ms/step - loss: 0.9566 - accuracy: 0.6805 - val_loss: 4.6119 - val_accuracy: 0.1031\n",
            "Epoch 60/100\n",
            "375/375 [==============================] - 2s 5ms/step - loss: 0.9408 - accuracy: 0.6835 - val_loss: 4.6478 - val_accuracy: 0.1004\n",
            "Epoch 61/100\n",
            "375/375 [==============================] - 2s 5ms/step - loss: 0.9291 - accuracy: 0.6904 - val_loss: 4.7278 - val_accuracy: 0.1061\n",
            "Epoch 62/100\n",
            "375/375 [==============================] - 2s 5ms/step - loss: 0.9166 - accuracy: 0.6924 - val_loss: 4.7601 - val_accuracy: 0.1071\n",
            "Epoch 63/100\n",
            "375/375 [==============================] - 2s 6ms/step - loss: 0.9005 - accuracy: 0.6981 - val_loss: 4.8249 - val_accuracy: 0.1026\n",
            "Epoch 64/100\n",
            "375/375 [==============================] - 2s 5ms/step - loss: 0.8891 - accuracy: 0.7045 - val_loss: 4.8997 - val_accuracy: 0.1022\n",
            "Epoch 65/100\n",
            "375/375 [==============================] - 2s 5ms/step - loss: 0.8768 - accuracy: 0.7083 - val_loss: 4.9816 - val_accuracy: 0.1047\n",
            "Epoch 66/100\n",
            "375/375 [==============================] - 2s 5ms/step - loss: 0.8632 - accuracy: 0.7128 - val_loss: 5.0294 - val_accuracy: 0.1003\n",
            "Epoch 67/100\n",
            "375/375 [==============================] - 2s 5ms/step - loss: 0.8507 - accuracy: 0.7174 - val_loss: 5.0946 - val_accuracy: 0.1034\n",
            "Epoch 68/100\n",
            "375/375 [==============================] - 2s 5ms/step - loss: 0.8381 - accuracy: 0.7211 - val_loss: 5.1548 - val_accuracy: 0.0997\n",
            "Epoch 69/100\n",
            "375/375 [==============================] - 2s 5ms/step - loss: 0.8265 - accuracy: 0.7236 - val_loss: 5.2238 - val_accuracy: 0.1026\n",
            "Epoch 70/100\n",
            "375/375 [==============================] - 2s 5ms/step - loss: 0.8169 - accuracy: 0.7284 - val_loss: 5.2598 - val_accuracy: 0.1015\n",
            "Epoch 71/100\n",
            "375/375 [==============================] - 2s 5ms/step - loss: 0.8037 - accuracy: 0.7334 - val_loss: 5.3220 - val_accuracy: 0.1062\n",
            "Epoch 72/100\n",
            "375/375 [==============================] - 2s 5ms/step - loss: 0.7932 - accuracy: 0.7379 - val_loss: 5.3764 - val_accuracy: 0.1031\n",
            "Epoch 73/100\n",
            "375/375 [==============================] - 2s 5ms/step - loss: 0.7829 - accuracy: 0.7415 - val_loss: 5.4344 - val_accuracy: 0.1054\n",
            "Epoch 74/100\n",
            "375/375 [==============================] - 2s 5ms/step - loss: 0.7710 - accuracy: 0.7459 - val_loss: 5.5205 - val_accuracy: 0.1024\n",
            "Epoch 75/100\n",
            "375/375 [==============================] - 2s 5ms/step - loss: 0.7593 - accuracy: 0.7489 - val_loss: 5.5912 - val_accuracy: 0.1042\n",
            "Epoch 76/100\n",
            "375/375 [==============================] - 2s 5ms/step - loss: 0.7495 - accuracy: 0.7522 - val_loss: 5.6483 - val_accuracy: 0.1035\n",
            "Epoch 77/100\n",
            "375/375 [==============================] - 2s 5ms/step - loss: 0.7377 - accuracy: 0.7569 - val_loss: 5.6950 - val_accuracy: 0.1028\n",
            "Epoch 78/100\n",
            "375/375 [==============================] - 2s 5ms/step - loss: 0.7291 - accuracy: 0.7593 - val_loss: 5.7802 - val_accuracy: 0.1018\n",
            "Epoch 79/100\n",
            "375/375 [==============================] - 2s 5ms/step - loss: 0.7164 - accuracy: 0.7647 - val_loss: 5.8228 - val_accuracy: 0.0991\n",
            "Epoch 80/100\n",
            "375/375 [==============================] - 2s 5ms/step - loss: 0.7085 - accuracy: 0.7673 - val_loss: 5.8991 - val_accuracy: 0.0992\n",
            "Epoch 81/100\n",
            "375/375 [==============================] - 2s 5ms/step - loss: 0.6992 - accuracy: 0.7696 - val_loss: 5.9931 - val_accuracy: 0.1003\n",
            "Epoch 82/100\n",
            "375/375 [==============================] - 2s 5ms/step - loss: 0.6876 - accuracy: 0.7763 - val_loss: 5.9975 - val_accuracy: 0.1013\n",
            "Epoch 83/100\n",
            "375/375 [==============================] - 2s 5ms/step - loss: 0.6795 - accuracy: 0.7780 - val_loss: 6.0971 - val_accuracy: 0.1047\n",
            "Epoch 84/100\n",
            "375/375 [==============================] - 2s 5ms/step - loss: 0.6685 - accuracy: 0.7807 - val_loss: 6.1472 - val_accuracy: 0.1015\n",
            "Epoch 85/100\n",
            "375/375 [==============================] - 2s 5ms/step - loss: 0.6596 - accuracy: 0.7840 - val_loss: 6.2147 - val_accuracy: 0.1027\n",
            "Epoch 86/100\n",
            "375/375 [==============================] - 2s 5ms/step - loss: 0.6514 - accuracy: 0.7865 - val_loss: 6.2781 - val_accuracy: 0.1008\n",
            "Epoch 87/100\n",
            "375/375 [==============================] - 2s 5ms/step - loss: 0.6440 - accuracy: 0.7893 - val_loss: 6.3906 - val_accuracy: 0.1023\n",
            "Epoch 88/100\n",
            "375/375 [==============================] - 2s 5ms/step - loss: 0.6346 - accuracy: 0.7931 - val_loss: 6.4608 - val_accuracy: 0.1007\n",
            "Epoch 89/100\n",
            "375/375 [==============================] - 2s 5ms/step - loss: 0.6251 - accuracy: 0.7966 - val_loss: 6.5043 - val_accuracy: 0.1016\n",
            "Epoch 90/100\n",
            "375/375 [==============================] - 2s 5ms/step - loss: 0.6174 - accuracy: 0.7989 - val_loss: 6.5635 - val_accuracy: 0.1002\n",
            "Epoch 91/100\n",
            "375/375 [==============================] - 2s 5ms/step - loss: 0.6087 - accuracy: 0.8004 - val_loss: 6.6364 - val_accuracy: 0.0985\n",
            "Epoch 92/100\n",
            "375/375 [==============================] - 2s 5ms/step - loss: 0.6001 - accuracy: 0.8052 - val_loss: 6.7523 - val_accuracy: 0.1004\n",
            "Epoch 93/100\n",
            "375/375 [==============================] - 2s 5ms/step - loss: 0.5920 - accuracy: 0.8059 - val_loss: 6.7470 - val_accuracy: 0.1032\n",
            "Epoch 94/100\n",
            "375/375 [==============================] - 2s 5ms/step - loss: 0.5836 - accuracy: 0.8099 - val_loss: 6.7834 - val_accuracy: 0.1010\n",
            "Epoch 95/100\n",
            "375/375 [==============================] - 2s 5ms/step - loss: 0.5753 - accuracy: 0.8140 - val_loss: 6.8420 - val_accuracy: 0.0993\n",
            "Epoch 96/100\n",
            "375/375 [==============================] - 2s 5ms/step - loss: 0.5685 - accuracy: 0.8154 - val_loss: 6.8849 - val_accuracy: 0.1017\n",
            "Epoch 97/100\n",
            "375/375 [==============================] - 2s 5ms/step - loss: 0.5613 - accuracy: 0.8168 - val_loss: 7.0302 - val_accuracy: 0.1026\n",
            "Epoch 98/100\n",
            "375/375 [==============================] - 2s 5ms/step - loss: 0.5541 - accuracy: 0.8202 - val_loss: 7.0797 - val_accuracy: 0.1010\n",
            "Epoch 99/100\n",
            "375/375 [==============================] - 2s 5ms/step - loss: 0.5456 - accuracy: 0.8229 - val_loss: 7.1476 - val_accuracy: 0.1007\n",
            "Epoch 100/100\n",
            "375/375 [==============================] - 2s 5ms/step - loss: 0.5383 - accuracy: 0.8269 - val_loss: 7.2045 - val_accuracy: 0.1007\n"
          ]
        },
        {
          "output_type": "execute_result",
          "data": {
            "text/plain": [
              "<keras.callbacks.History at 0x7f3d20080f50>"
            ]
          },
          "metadata": {},
          "execution_count": 11
        }
      ],
      "source": [
        "(train_images, train_labels), _ = mnist.load_data()\n",
        "train_images = train_images.reshape((60000, 28 * 28))\n",
        "train_images = train_images.astype(\"float32\") / 255\n",
        "\n",
        "random_train_labels = train_labels[:]\n",
        "np.random.shuffle(random_train_labels)\n",
        "\n",
        "model = keras.Sequential([\n",
        "    layers.Dense(512, activation=\"relu\"),\n",
        "    layers.Dense(10, activation=\"softmax\")\n",
        "])\n",
        "model.compile(optimizer=\"rmsprop\",\n",
        "              loss=\"sparse_categorical_crossentropy\",\n",
        "              metrics=[\"accuracy\"])\n",
        "model.fit(train_images, random_train_labels,\n",
        "          epochs=100,\n",
        "          batch_size=128,\n",
        "          validation_split=0.2)\n",
        "#the accuracy is increasing with the epochs. The validation accuracy is constant at 10%\n",
        "#in this case it's overfitting compare to the dataset\n",
        "#If validation accuracy is not increasing then we should review dataset & model"
      ]
    },
    {
      "cell_type": "markdown",
      "metadata": {
        "id": "5w6AxXr2dXAK"
      },
      "source": [
        "#### The manifold hypothesis"
      ]
    },
    {
      "cell_type": "markdown",
      "metadata": {
        "id": "Q87JPhL9dXAK"
      },
      "source": [
        "#### Interpolation as a source of generalization"
      ]
    },
    {
      "cell_type": "markdown",
      "metadata": {
        "id": "fSukhMlcdXAK"
      },
      "source": [
        "#### Why deep learning works"
      ]
    },
    {
      "cell_type": "markdown",
      "metadata": {
        "id": "-S-nBh7cdXAK"
      },
      "source": [
        "#### Training data is paramount"
      ]
    },
    {
      "cell_type": "markdown",
      "metadata": {
        "id": "fSOSoae4dXAL"
      },
      "source": [
        "## Evaluating machine-learning models"
      ]
    },
    {
      "cell_type": "markdown",
      "metadata": {
        "id": "EVq0SnuzdXAL"
      },
      "source": [
        "### Training, validation, and test sets"
      ]
    },
    {
      "cell_type": "markdown",
      "metadata": {
        "id": "RwqBO96JdXAL"
      },
      "source": [
        "#### Simple hold-out validation"
      ]
    },
    {
      "cell_type": "code",
      "source": [
        "num_validation_samples=10000\n",
        "np.random.shuffle(data) #shuffling the data is usually appropriate\n",
        "validation_data=data[:num_validation_samples] #define the validation set\n",
        "training_data=data[num_validation_samples:] #defines the training set\n",
        "\n",
        "#trains a model on the training data, and evaluates it on the validation data\n",
        "model=get_model()\n",
        "model.fit(training_data,...)\n",
        "validation_score=model.evaluate(validation_data,...) \n",
        "\n",
        "#at this point you can tune your model, retrain it, evaluate it, tune it again...\n",
        "#once you've tuned your hyperparameters it's common to train your final model from scratch on all non test data avaliable\n",
        "model=get_model()\n",
        "model.fit(np.concatenate([training_data, validation_data]), ...)\n",
        "test_score = model.evaluate(test_data, ...)"
      ],
      "metadata": {
        "id": "AziU5d--paqD",
        "outputId": "f2ebcf3e-5062-4ac2-dcb0-d3d079743092",
        "colab": {
          "base_uri": "https://localhost:8080/",
          "height": 234
        }
      },
      "execution_count": 23,
      "outputs": [
        {
          "output_type": "error",
          "ename": "NameError",
          "evalue": "ignored",
          "traceback": [
            "\u001b[0;31m---------------------------------------------------------------------------\u001b[0m",
            "\u001b[0;31mNameError\u001b[0m                                 Traceback (most recent call last)",
            "\u001b[0;32m<ipython-input-23-64a44424591e>\u001b[0m in \u001b[0;36m<module>\u001b[0;34m()\u001b[0m\n\u001b[1;32m      1\u001b[0m \u001b[0mnum_validation_samples\u001b[0m\u001b[0;34m=\u001b[0m\u001b[0;36m10000\u001b[0m\u001b[0;34m\u001b[0m\u001b[0;34m\u001b[0m\u001b[0m\n\u001b[0;32m----> 2\u001b[0;31m \u001b[0mnp\u001b[0m\u001b[0;34m.\u001b[0m\u001b[0mrandom\u001b[0m\u001b[0;34m.\u001b[0m\u001b[0mshuffle\u001b[0m\u001b[0;34m(\u001b[0m\u001b[0mdata\u001b[0m\u001b[0;34m)\u001b[0m \u001b[0;31m#shuffling the data is usually appropriate\u001b[0m\u001b[0;34m\u001b[0m\u001b[0;34m\u001b[0m\u001b[0m\n\u001b[0m\u001b[1;32m      3\u001b[0m \u001b[0mvalidation_data\u001b[0m\u001b[0;34m=\u001b[0m\u001b[0mdata\u001b[0m\u001b[0;34m[\u001b[0m\u001b[0;34m:\u001b[0m\u001b[0mnum_validation_samples\u001b[0m\u001b[0;34m]\u001b[0m \u001b[0;31m#define the validation set\u001b[0m\u001b[0;34m\u001b[0m\u001b[0;34m\u001b[0m\u001b[0m\n\u001b[1;32m      4\u001b[0m \u001b[0mtraining_data\u001b[0m\u001b[0;34m=\u001b[0m\u001b[0mdata\u001b[0m\u001b[0;34m[\u001b[0m\u001b[0mnum_validation_samples\u001b[0m\u001b[0;34m:\u001b[0m\u001b[0;34m]\u001b[0m \u001b[0;31m#defines the training set\u001b[0m\u001b[0;34m\u001b[0m\u001b[0;34m\u001b[0m\u001b[0m\n\u001b[1;32m      5\u001b[0m \u001b[0;34m\u001b[0m\u001b[0m\n",
            "\u001b[0;31mNameError\u001b[0m: name 'data' is not defined"
          ]
        }
      ]
    },
    {
      "cell_type": "markdown",
      "metadata": {
        "id": "vLhHzsRGdXAL"
      },
      "source": [
        "#### K-fold validation"
      ]
    },
    {
      "cell_type": "markdown",
      "metadata": {
        "id": "kH_Rr-FndXAL"
      },
      "source": [
        "#### Iterated K-fold validation with shuffling"
      ]
    },
    {
      "cell_type": "markdown",
      "metadata": {
        "id": "Jxm5I9u6dXAL"
      },
      "source": [
        "### Beating a common-sense baseline"
      ]
    },
    {
      "cell_type": "markdown",
      "metadata": {
        "id": "T3oYiGY7dXAL"
      },
      "source": [
        "### Things to keep in mind about model evaluation"
      ]
    },
    {
      "cell_type": "markdown",
      "metadata": {
        "id": "tStnlZpOdXAL"
      },
      "source": [
        "## Improving model fit"
      ]
    },
    {
      "cell_type": "markdown",
      "metadata": {
        "id": "8CQVwGJIdXAM"
      },
      "source": [
        "### Tuning key gradient descent parameters"
      ]
    },
    {
      "cell_type": "markdown",
      "metadata": {
        "id": "OFkvuoLEdXAM"
      },
      "source": [
        "**Training a MNIST model with an incorrectly high learning rate**"
      ]
    },
    {
      "cell_type": "code",
      "execution_count": null,
      "metadata": {
        "id": "1Tp1FyQedXAM"
      },
      "outputs": [],
      "source": [
        "#Training a MNIST model with an incorrectly high learning rate\n",
        "(train_images, train_labels), _ = mnist.load_data()\n",
        "train_images = train_images.reshape((60000, 28 * 28))\n",
        "train_images = train_images.astype(\"float32\") / 255\n",
        "\n",
        "model = keras.Sequential([\n",
        "    layers.Dense(512, activation=\"relu\"),\n",
        "    layers.Dense(10, activation=\"softmax\")\n",
        "])\n",
        "model.compile(optimizer=keras.optimizers.RMSprop(1.),\n",
        "              loss=\"sparse_categorical_crossentropy\",\n",
        "              metrics=[\"accuracy\"])\n",
        "model.fit(train_images, train_labels,\n",
        "          epochs=10,\n",
        "          batch_size=128,\n",
        "          validation_split=0.2)"
      ]
    },
    {
      "cell_type": "markdown",
      "metadata": {
        "id": "BUVCT0TVdXAM"
      },
      "source": [
        "**The same model with a more appropriate learning rate**"
      ]
    },
    {
      "cell_type": "code",
      "execution_count": null,
      "metadata": {
        "id": "w44IA-rtdXAM"
      },
      "outputs": [],
      "source": [
        "#The same model with a more appropriate learning rate\n",
        "model = keras.Sequential([\n",
        "    layers.Dense(512, activation=\"relu\"),\n",
        "    layers.Dense(10, activation=\"softmax\")\n",
        "])\n",
        "model.compile(optimizer=keras.optimizers.RMSprop(1e-2),\n",
        "              loss=\"sparse_categorical_crossentropy\",\n",
        "              metrics=[\"accuracy\"])\n",
        "model.fit(train_images, train_labels,\n",
        "          epochs=10,\n",
        "          batch_size=128,\n",
        "          validation_split=0.2)"
      ]
    },
    {
      "cell_type": "markdown",
      "metadata": {
        "id": "atPlkCv8dXAM"
      },
      "source": [
        "### Leveraging better architecture priors"
      ]
    },
    {
      "cell_type": "markdown",
      "metadata": {
        "id": "dM-RAIQ0dXAM"
      },
      "source": [
        "### Increasing model capacity"
      ]
    },
    {
      "cell_type": "markdown",
      "metadata": {
        "id": "rVuolujcdXAN"
      },
      "source": [
        "**A simple logistic regression on MNIST**"
      ]
    },
    {
      "cell_type": "code",
      "execution_count": 21,
      "metadata": {
        "id": "YiAzoJRLdXAN",
        "outputId": "5984d90b-f751-4226-b5e7-81d8937797e8",
        "colab": {
          "base_uri": "https://localhost:8080/",
          "height": 432
        }
      },
      "outputs": [
        {
          "output_type": "error",
          "ename": "ValueError",
          "evalue": "ignored",
          "traceback": [
            "\u001b[0;31m---------------------------------------------------------------------------\u001b[0m",
            "\u001b[0;31mValueError\u001b[0m                                Traceback (most recent call last)",
            "\u001b[0;32m<ipython-input-21-142767e2f32d>\u001b[0m in \u001b[0;36m<module>\u001b[0;34m()\u001b[0m\n\u001b[1;32m      8\u001b[0m     \u001b[0mepochs\u001b[0m\u001b[0;34m=\u001b[0m\u001b[0;36m20\u001b[0m\u001b[0;34m,\u001b[0m\u001b[0;34m\u001b[0m\u001b[0;34m\u001b[0m\u001b[0m\n\u001b[1;32m      9\u001b[0m     \u001b[0mbatch_size\u001b[0m\u001b[0;34m=\u001b[0m\u001b[0;36m128\u001b[0m\u001b[0;34m,\u001b[0m\u001b[0;34m\u001b[0m\u001b[0;34m\u001b[0m\u001b[0m\n\u001b[0;32m---> 10\u001b[0;31m     validation_split=0.2)\n\u001b[0m\u001b[1;32m     11\u001b[0m \u001b[0;31m#the validation loss is going down so the model is fitting\u001b[0m\u001b[0;34m\u001b[0m\u001b[0;34m\u001b[0m\u001b[0;34m\u001b[0m\u001b[0m\n\u001b[1;32m     12\u001b[0m \u001b[0;31m#validation accuracy goes up always et test accuracy same --> no overfitting\u001b[0m\u001b[0;34m\u001b[0m\u001b[0;34m\u001b[0m\u001b[0;34m\u001b[0m\u001b[0m\n",
            "\u001b[0;32m/usr/local/lib/python3.7/dist-packages/keras/utils/traceback_utils.py\u001b[0m in \u001b[0;36merror_handler\u001b[0;34m(*args, **kwargs)\u001b[0m\n\u001b[1;32m     65\u001b[0m     \u001b[0;32mexcept\u001b[0m \u001b[0mException\u001b[0m \u001b[0;32mas\u001b[0m \u001b[0me\u001b[0m\u001b[0;34m:\u001b[0m  \u001b[0;31m# pylint: disable=broad-except\u001b[0m\u001b[0;34m\u001b[0m\u001b[0;34m\u001b[0m\u001b[0m\n\u001b[1;32m     66\u001b[0m       \u001b[0mfiltered_tb\u001b[0m \u001b[0;34m=\u001b[0m \u001b[0m_process_traceback_frames\u001b[0m\u001b[0;34m(\u001b[0m\u001b[0me\u001b[0m\u001b[0;34m.\u001b[0m\u001b[0m__traceback__\u001b[0m\u001b[0;34m)\u001b[0m\u001b[0;34m\u001b[0m\u001b[0;34m\u001b[0m\u001b[0m\n\u001b[0;32m---> 67\u001b[0;31m       \u001b[0;32mraise\u001b[0m \u001b[0me\u001b[0m\u001b[0;34m.\u001b[0m\u001b[0mwith_traceback\u001b[0m\u001b[0;34m(\u001b[0m\u001b[0mfiltered_tb\u001b[0m\u001b[0;34m)\u001b[0m \u001b[0;32mfrom\u001b[0m \u001b[0;32mNone\u001b[0m\u001b[0;34m\u001b[0m\u001b[0;34m\u001b[0m\u001b[0m\n\u001b[0m\u001b[1;32m     68\u001b[0m     \u001b[0;32mfinally\u001b[0m\u001b[0;34m:\u001b[0m\u001b[0;34m\u001b[0m\u001b[0;34m\u001b[0m\u001b[0m\n\u001b[1;32m     69\u001b[0m       \u001b[0;32mdel\u001b[0m \u001b[0mfiltered_tb\u001b[0m\u001b[0;34m\u001b[0m\u001b[0;34m\u001b[0m\u001b[0m\n",
            "\u001b[0;32m/usr/local/lib/python3.7/dist-packages/keras/engine/data_adapter.py\u001b[0m in \u001b[0;36m_check_data_cardinality\u001b[0;34m(data)\u001b[0m\n\u001b[1;32m   1651\u001b[0m                            for i in tf.nest.flatten(single_data)))\n\u001b[1;32m   1652\u001b[0m     \u001b[0mmsg\u001b[0m \u001b[0;34m+=\u001b[0m \u001b[0;34m\"Make sure all arrays contain the same number of samples.\"\u001b[0m\u001b[0;34m\u001b[0m\u001b[0;34m\u001b[0m\u001b[0m\n\u001b[0;32m-> 1653\u001b[0;31m     \u001b[0;32mraise\u001b[0m \u001b[0mValueError\u001b[0m\u001b[0;34m(\u001b[0m\u001b[0mmsg\u001b[0m\u001b[0;34m)\u001b[0m\u001b[0;34m\u001b[0m\u001b[0;34m\u001b[0m\u001b[0m\n\u001b[0m\u001b[1;32m   1654\u001b[0m \u001b[0;34m\u001b[0m\u001b[0m\n\u001b[1;32m   1655\u001b[0m \u001b[0;34m\u001b[0m\u001b[0m\n",
            "\u001b[0;31mValueError\u001b[0m: Data cardinality is ambiguous:\n  x sizes: 48000\n  y sizes: 25000\nMake sure all arrays contain the same number of samples."
          ]
        }
      ],
      "source": [
        "#a simple logistic regression on MNIST\n",
        "model = keras.Sequential([layers.Dense(10, activation=\"softmax\")]) #we only define 1 simple layer with softmax activation same as logistic regression \n",
        "model.compile(optimizer=\"rmsprop\",\n",
        "              loss=\"sparse_categorical_crossentropy\",\n",
        "              metrics=[\"accuracy\"])\n",
        "history_small_model = model.fit(\n",
        "    train_images, train_labels,\n",
        "    epochs=20,\n",
        "    batch_size=128,\n",
        "    validation_split=0.2)\n",
        "#the validation loss is going down so the model is fitting\n",
        "#validation accuracy goes up always et test accuracy same --> no overfitting\n",
        "\n"
      ]
    },
    {
      "cell_type": "code",
      "execution_count": null,
      "metadata": {
        "id": "an9dgp_ddXAN"
      },
      "outputs": [],
      "source": [
        "import matplotlib.pyplot as plt\n",
        "val_loss = history_small_model.history[\"val_loss\"]\n",
        "epochs = range(1, 21)\n",
        "plt.plot(epochs, val_loss, \"b--\",\n",
        "         label=\"Validation loss\")\n",
        "plt.title(\"Effect of insufficient model capacity on validation loss\")\n",
        "plt.xlabel(\"Epochs\")\n",
        "plt.ylabel(\"Loss\")\n",
        "plt.legend()"
      ]
    },
    {
      "cell_type": "code",
      "source": [
        "import matplotlib.pyplot as plt\n",
        "val_loss = history_large_model.history[\"val_loss\"]\n",
        "epochs = range(1, 21)\n",
        "plt.plot(epochs, val_loss, \"b--\",\n",
        "         label=\"Validation loss\")\n",
        "plt.title(\"Effect of insufficient model capacity on validation loss\")\n",
        "plt.xlabel(\"Epochs\")\n",
        "plt.ylabel(\"Loss\")\n",
        "plt.legend()\n",
        "#better loss here"
      ],
      "metadata": {
        "id": "Iw_GnpvIEjH0"
      },
      "execution_count": null,
      "outputs": []
    },
    {
      "cell_type": "code",
      "execution_count": null,
      "metadata": {
        "id": "tHIbFggJdXAN"
      },
      "outputs": [],
      "source": [
        "#use bigger model\n",
        "#this time 3 layers \n",
        "#we can see the minimum and after it's increasing again (= overfitting)\n",
        "model = keras.Sequential([\n",
        "    layers.Dense(96, activation=\"relu\"),\n",
        "    layers.Dense(96, activation=\"relu\"),\n",
        "    layers.Dense(10, activation=\"softmax\"),\n",
        "])\n",
        "model.compile(optimizer=\"rmsprop\",\n",
        "              loss=\"sparse_categorical_crossentropy\",\n",
        "              metrics=[\"accuracy\"])\n",
        "history_large_model = model.fit(\n",
        "    train_images, train_labels,\n",
        "    epochs=20,\n",
        "    batch_size=128,\n",
        "    validation_split=0.2)"
      ]
    },
    {
      "cell_type": "markdown",
      "metadata": {
        "id": "jRsPu6qJdXAN"
      },
      "source": [
        "## Improving generalization"
      ]
    },
    {
      "cell_type": "markdown",
      "metadata": {
        "id": "p6_KPHzedXAN"
      },
      "source": [
        "### Dataset curation"
      ]
    },
    {
      "cell_type": "markdown",
      "metadata": {
        "id": "JPALH_tKdXAO"
      },
      "source": [
        "### Feature engineering"
      ]
    },
    {
      "cell_type": "markdown",
      "metadata": {
        "id": "fyP0g7TRdXAO"
      },
      "source": [
        "### Using early stopping"
      ]
    },
    {
      "cell_type": "markdown",
      "metadata": {
        "id": "80xkaLcjdXAO"
      },
      "source": [
        "### Regularizing your model"
      ]
    },
    {
      "cell_type": "markdown",
      "metadata": {
        "id": "yfL8Fg-ydXAO"
      },
      "source": [
        "#### Reducing the network's size"
      ]
    },
    {
      "cell_type": "markdown",
      "metadata": {
        "id": "agyIWjAadXAO"
      },
      "source": [
        "**Original model**"
      ]
    },
    {
      "cell_type": "code",
      "execution_count": 13,
      "metadata": {
        "id": "4mqnPyXsdXAO",
        "outputId": "bd2e9d8c-1143-4d05-afdb-06bc99cc697c",
        "colab": {
          "base_uri": "https://localhost:8080/"
        }
      },
      "outputs": [
        {
          "output_type": "stream",
          "name": "stdout",
          "text": [
            "Downloading data from https://storage.googleapis.com/tensorflow/tf-keras-datasets/imdb.npz\n",
            "17465344/17464789 [==============================] - 0s 0us/step\n",
            "17473536/17464789 [==============================] - 0s 0us/step\n",
            "Epoch 1/20\n",
            "30/30 [==============================] - 3s 40ms/step - loss: 0.5193 - accuracy: 0.7930 - val_loss: 0.3937 - val_accuracy: 0.8723\n",
            "Epoch 2/20\n",
            "30/30 [==============================] - 1s 20ms/step - loss: 0.3135 - accuracy: 0.9048 - val_loss: 0.3090 - val_accuracy: 0.8880\n",
            "Epoch 3/20\n",
            "30/30 [==============================] - 1s 21ms/step - loss: 0.2292 - accuracy: 0.9264 - val_loss: 0.2784 - val_accuracy: 0.8908\n",
            "Epoch 4/20\n",
            "30/30 [==============================] - 1s 21ms/step - loss: 0.1784 - accuracy: 0.9431 - val_loss: 0.3025 - val_accuracy: 0.8775\n",
            "Epoch 5/20\n",
            "30/30 [==============================] - 1s 21ms/step - loss: 0.1470 - accuracy: 0.9543 - val_loss: 0.2811 - val_accuracy: 0.8899\n",
            "Epoch 6/20\n",
            "30/30 [==============================] - 1s 21ms/step - loss: 0.1203 - accuracy: 0.9639 - val_loss: 0.2969 - val_accuracy: 0.8854\n",
            "Epoch 7/20\n",
            "30/30 [==============================] - 1s 21ms/step - loss: 0.1011 - accuracy: 0.9697 - val_loss: 0.3474 - val_accuracy: 0.8730\n",
            "Epoch 8/20\n",
            "30/30 [==============================] - 1s 25ms/step - loss: 0.0860 - accuracy: 0.9762 - val_loss: 0.3422 - val_accuracy: 0.8786\n",
            "Epoch 9/20\n",
            "30/30 [==============================] - 1s 21ms/step - loss: 0.0715 - accuracy: 0.9802 - val_loss: 0.3514 - val_accuracy: 0.8774\n",
            "Epoch 10/20\n",
            "30/30 [==============================] - 1s 21ms/step - loss: 0.0613 - accuracy: 0.9834 - val_loss: 0.3725 - val_accuracy: 0.8793\n",
            "Epoch 11/20\n",
            "30/30 [==============================] - 1s 25ms/step - loss: 0.0477 - accuracy: 0.9895 - val_loss: 0.3977 - val_accuracy: 0.8780\n",
            "Epoch 12/20\n",
            "30/30 [==============================] - 1s 21ms/step - loss: 0.0409 - accuracy: 0.9900 - val_loss: 0.4285 - val_accuracy: 0.8761\n",
            "Epoch 13/20\n",
            "30/30 [==============================] - 1s 25ms/step - loss: 0.0338 - accuracy: 0.9930 - val_loss: 0.4539 - val_accuracy: 0.8751\n",
            "Epoch 14/20\n",
            "30/30 [==============================] - 1s 21ms/step - loss: 0.0262 - accuracy: 0.9944 - val_loss: 0.4854 - val_accuracy: 0.8727\n",
            "Epoch 15/20\n",
            "30/30 [==============================] - 1s 21ms/step - loss: 0.0213 - accuracy: 0.9964 - val_loss: 0.5188 - val_accuracy: 0.8719\n",
            "Epoch 16/20\n",
            "30/30 [==============================] - 1s 21ms/step - loss: 0.0164 - accuracy: 0.9971 - val_loss: 0.5557 - val_accuracy: 0.8707\n",
            "Epoch 17/20\n",
            "30/30 [==============================] - 1s 21ms/step - loss: 0.0154 - accuracy: 0.9969 - val_loss: 0.5983 - val_accuracy: 0.8698\n",
            "Epoch 18/20\n",
            "30/30 [==============================] - 1s 21ms/step - loss: 0.0090 - accuracy: 0.9992 - val_loss: 0.6252 - val_accuracy: 0.8675\n",
            "Epoch 19/20\n",
            "30/30 [==============================] - 1s 22ms/step - loss: 0.0101 - accuracy: 0.9983 - val_loss: 0.6592 - val_accuracy: 0.8685\n",
            "Epoch 20/20\n",
            "30/30 [==============================] - 1s 24ms/step - loss: 0.0050 - accuracy: 0.9996 - val_loss: 0.6975 - val_accuracy: 0.8671\n"
          ]
        }
      ],
      "source": [
        "from tensorflow.keras.datasets import imdb\n",
        "(train_data, train_labels), _ = imdb.load_data(num_words=10000)\n",
        "\n",
        "def vectorize_sequences(sequences, dimension=10000):\n",
        "    results = np.zeros((len(sequences), dimension))\n",
        "    for i, sequence in enumerate(sequences):\n",
        "        results[i, sequence] = 1.\n",
        "    return results\n",
        "train_data = vectorize_sequences(train_data)\n",
        "\n",
        "model = keras.Sequential([\n",
        "    layers.Dense(16, activation=\"relu\"), #in this model our layers have 16 output dimension\n",
        "    layers.Dense(16, activation=\"relu\"),\n",
        "    layers.Dense(1, activation=\"sigmoid\")\n",
        "])\n",
        "model.compile(optimizer=\"rmsprop\",\n",
        "              loss=\"binary_crossentropy\",\n",
        "              metrics=[\"accuracy\"])\n",
        "history_original = model.fit(train_data, train_labels,\n",
        "                             epochs=20, batch_size=512, validation_split=0.4)"
      ]
    },
    {
      "cell_type": "markdown",
      "metadata": {
        "id": "p54A-HdGdXAO"
      },
      "source": [
        "**Version of the model with lower capacity**"
      ]
    },
    {
      "cell_type": "code",
      "execution_count": 14,
      "metadata": {
        "id": "w6YgnInpdXAO",
        "outputId": "1718325c-6fa4-475c-832a-3a8fdf31efd9",
        "colab": {
          "base_uri": "https://localhost:8080/"
        }
      },
      "outputs": [
        {
          "output_type": "stream",
          "name": "stdout",
          "text": [
            "Epoch 1/20\n",
            "30/30 [==============================] - 2s 35ms/step - loss: 0.6337 - accuracy: 0.7373 - val_loss: 0.5702 - val_accuracy: 0.8274\n",
            "Epoch 2/20\n",
            "30/30 [==============================] - 1s 21ms/step - loss: 0.5102 - accuracy: 0.8675 - val_loss: 0.4684 - val_accuracy: 0.8616\n",
            "Epoch 3/20\n",
            "30/30 [==============================] - 1s 22ms/step - loss: 0.4108 - accuracy: 0.8889 - val_loss: 0.3962 - val_accuracy: 0.8737\n",
            "Epoch 4/20\n",
            "30/30 [==============================] - 1s 21ms/step - loss: 0.3374 - accuracy: 0.9033 - val_loss: 0.3467 - val_accuracy: 0.8814\n",
            "Epoch 5/20\n",
            "30/30 [==============================] - 1s 25ms/step - loss: 0.2839 - accuracy: 0.9162 - val_loss: 0.3148 - val_accuracy: 0.8870\n",
            "Epoch 6/20\n",
            "30/30 [==============================] - 1s 22ms/step - loss: 0.2433 - accuracy: 0.9275 - val_loss: 0.2951 - val_accuracy: 0.8876\n",
            "Epoch 7/20\n",
            "30/30 [==============================] - 1s 21ms/step - loss: 0.2115 - accuracy: 0.9351 - val_loss: 0.2801 - val_accuracy: 0.8911\n",
            "Epoch 8/20\n",
            "30/30 [==============================] - 1s 21ms/step - loss: 0.1857 - accuracy: 0.9429 - val_loss: 0.2779 - val_accuracy: 0.8902\n",
            "Epoch 9/20\n",
            "30/30 [==============================] - 1s 21ms/step - loss: 0.1641 - accuracy: 0.9493 - val_loss: 0.2738 - val_accuracy: 0.8905\n",
            "Epoch 10/20\n",
            "30/30 [==============================] - 1s 21ms/step - loss: 0.1466 - accuracy: 0.9549 - val_loss: 0.2730 - val_accuracy: 0.8908\n",
            "Epoch 11/20\n",
            "30/30 [==============================] - 1s 25ms/step - loss: 0.1305 - accuracy: 0.9611 - val_loss: 0.2772 - val_accuracy: 0.8895\n",
            "Epoch 12/20\n",
            "30/30 [==============================] - 1s 25ms/step - loss: 0.1175 - accuracy: 0.9653 - val_loss: 0.2837 - val_accuracy: 0.8887\n",
            "Epoch 13/20\n",
            "30/30 [==============================] - 1s 21ms/step - loss: 0.1052 - accuracy: 0.9688 - val_loss: 0.3095 - val_accuracy: 0.8834\n",
            "Epoch 14/20\n",
            "30/30 [==============================] - 1s 21ms/step - loss: 0.0950 - accuracy: 0.9722 - val_loss: 0.3072 - val_accuracy: 0.8866\n",
            "Epoch 15/20\n",
            "30/30 [==============================] - 1s 21ms/step - loss: 0.0852 - accuracy: 0.9764 - val_loss: 0.3166 - val_accuracy: 0.8843\n",
            "Epoch 16/20\n",
            "30/30 [==============================] - 1s 24ms/step - loss: 0.0766 - accuracy: 0.9787 - val_loss: 0.3279 - val_accuracy: 0.8841\n",
            "Epoch 17/20\n",
            "30/30 [==============================] - 1s 25ms/step - loss: 0.0687 - accuracy: 0.9820 - val_loss: 0.3439 - val_accuracy: 0.8821\n",
            "Epoch 18/20\n",
            "30/30 [==============================] - 1s 21ms/step - loss: 0.0617 - accuracy: 0.9853 - val_loss: 0.3609 - val_accuracy: 0.8806\n",
            "Epoch 19/20\n",
            "30/30 [==============================] - 1s 24ms/step - loss: 0.0549 - accuracy: 0.9872 - val_loss: 0.3814 - val_accuracy: 0.8769\n",
            "Epoch 20/20\n",
            "30/30 [==============================] - 1s 21ms/step - loss: 0.0489 - accuracy: 0.9885 - val_loss: 0.3904 - val_accuracy: 0.8788\n"
          ]
        }
      ],
      "source": [
        "model = keras.Sequential([\n",
        "    layers.Dense(4, activation=\"relu\"),\n",
        "    layers.Dense(4, activation=\"relu\"),\n",
        "    layers.Dense(1, activation=\"sigmoid\")\n",
        "])\n",
        "model.compile(optimizer=\"rmsprop\",\n",
        "              loss=\"binary_crossentropy\",\n",
        "              metrics=[\"accuracy\"])\n",
        "history_smaller_model = model.fit(\n",
        "    train_data, train_labels,\n",
        "    epochs=20, batch_size=512, validation_split=0.4)"
      ]
    },
    {
      "cell_type": "code",
      "source": [
        "#to visualize graphs\n",
        "import matplotlib.pyplot as plt\n",
        "val_loss = history_original.history[\"val_loss\"]\n",
        "val_loss2 = history_smaller_model.history[\"val_loss\"]\n",
        "\n",
        "epochs = range(1, 21)\n",
        "plt.plot(epochs, val_loss, \"b--\",\n",
        "         label=\"Validation loss of original model\")\n",
        "plt.plot(epochs, val_loss2, \"b-\",\n",
        "         label=\"Validation loss of smaller model\")\n",
        "plt.title(\"Effect of smaller model capacity on validation loss\")\n",
        "plt.xlabel(\"Epochs\")\n",
        "plt.ylabel(\"Loss\")\n",
        "plt.legend()\n",
        "#effect of validation loss of smaller model is overfitting and doesn't perform really good(curve not near 0)"
      ],
      "metadata": {
        "id": "2E3aKMq7FCYK",
        "outputId": "7acb6526-38e2-4e0f-ca45-ea8ca7b53f3f",
        "colab": {
          "base_uri": "https://localhost:8080/",
          "height": 312
        }
      },
      "execution_count": 27,
      "outputs": [
        {
          "output_type": "execute_result",
          "data": {
            "text/plain": [
              "<matplotlib.legend.Legend at 0x7f3ca3967150>"
            ]
          },
          "metadata": {},
          "execution_count": 27
        },
        {
          "output_type": "display_data",
          "data": {
            "text/plain": [
              "<Figure size 432x288 with 1 Axes>"
            ],
            "image/png": "[encoded data removed]"
          },
          "metadata": {
            "needs_background": "light"
          }
        }
      ]
    },
    {
      "cell_type": "markdown",
      "metadata": {
        "id": "rIR8Lr1IdXAP"
      },
      "source": [
        "**Version of the model with higher capacity**"
      ]
    },
    {
      "cell_type": "code",
      "execution_count": 15,
      "metadata": {
        "id": "9r0O-iROdXAP",
        "outputId": "2c282ca0-90dc-4c70-d7f9-1a218045c0bb",
        "colab": {
          "base_uri": "https://localhost:8080/"
        }
      },
      "outputs": [
        {
          "output_type": "stream",
          "name": "stdout",
          "text": [
            "Epoch 1/20\n",
            "30/30 [==============================] - 2s 46ms/step - loss: 0.5449 - accuracy: 0.7465 - val_loss: 0.3032 - val_accuracy: 0.8791\n",
            "Epoch 2/20\n",
            "30/30 [==============================] - 1s 30ms/step - loss: 0.2571 - accuracy: 0.8957 - val_loss: 0.2788 - val_accuracy: 0.8867\n",
            "Epoch 3/20\n",
            "30/30 [==============================] - 1s 31ms/step - loss: 0.1550 - accuracy: 0.9384 - val_loss: 0.3987 - val_accuracy: 0.8350\n",
            "Epoch 4/20\n",
            "30/30 [==============================] - 1s 29ms/step - loss: 0.0883 - accuracy: 0.9692 - val_loss: 0.3138 - val_accuracy: 0.8918\n",
            "Epoch 5/20\n",
            "30/30 [==============================] - 1s 29ms/step - loss: 0.0229 - accuracy: 0.9938 - val_loss: 1.1956 - val_accuracy: 0.7454\n",
            "Epoch 6/20\n",
            "30/30 [==============================] - 1s 30ms/step - loss: 0.0130 - accuracy: 0.9961 - val_loss: 0.5375 - val_accuracy: 0.8879\n",
            "Epoch 7/20\n",
            "30/30 [==============================] - 1s 30ms/step - loss: 0.0365 - accuracy: 0.9963 - val_loss: 2.0834 - val_accuracy: 0.7286\n",
            "Epoch 8/20\n",
            "30/30 [==============================] - 1s 29ms/step - loss: 0.0208 - accuracy: 0.9946 - val_loss: 0.5711 - val_accuracy: 0.8887\n",
            "Epoch 9/20\n",
            "30/30 [==============================] - 1s 29ms/step - loss: 1.7412e-04 - accuracy: 1.0000 - val_loss: 0.6692 - val_accuracy: 0.8876\n",
            "Epoch 10/20\n",
            "30/30 [==============================] - 1s 28ms/step - loss: 5.0372e-05 - accuracy: 1.0000 - val_loss: 0.7374 - val_accuracy: 0.8865\n",
            "Epoch 11/20\n",
            "30/30 [==============================] - 1s 29ms/step - loss: 1.3052e-05 - accuracy: 1.0000 - val_loss: 0.8199 - val_accuracy: 0.8867\n",
            "Epoch 12/20\n",
            "30/30 [==============================] - 1s 28ms/step - loss: 3.7561e-06 - accuracy: 1.0000 - val_loss: 0.8998 - val_accuracy: 0.8855\n",
            "Epoch 13/20\n",
            "30/30 [==============================] - 1s 29ms/step - loss: 1.2157e-06 - accuracy: 1.0000 - val_loss: 0.9745 - val_accuracy: 0.8861\n",
            "Epoch 14/20\n",
            "30/30 [==============================] - 1s 28ms/step - loss: 4.2556e-07 - accuracy: 1.0000 - val_loss: 1.0555 - val_accuracy: 0.8868\n",
            "Epoch 15/20\n",
            "30/30 [==============================] - 1s 29ms/step - loss: 1.6095e-07 - accuracy: 1.0000 - val_loss: 1.1205 - val_accuracy: 0.8844\n",
            "Epoch 16/20\n",
            "30/30 [==============================] - 1s 29ms/step - loss: 6.4731e-08 - accuracy: 1.0000 - val_loss: 1.1771 - val_accuracy: 0.8871\n",
            "Epoch 17/20\n",
            "30/30 [==============================] - 1s 29ms/step - loss: 3.3002e-08 - accuracy: 1.0000 - val_loss: 1.2129 - val_accuracy: 0.8872\n",
            "Epoch 18/20\n",
            "30/30 [==============================] - 1s 29ms/step - loss: 2.0744e-08 - accuracy: 1.0000 - val_loss: 1.2382 - val_accuracy: 0.8872\n",
            "Epoch 19/20\n",
            "30/30 [==============================] - 1s 29ms/step - loss: 1.4911e-08 - accuracy: 1.0000 - val_loss: 1.2599 - val_accuracy: 0.8872\n",
            "Epoch 20/20\n",
            "30/30 [==============================] - 1s 29ms/step - loss: 1.1472e-08 - accuracy: 1.0000 - val_loss: 1.2720 - val_accuracy: 0.8869\n"
          ]
        }
      ],
      "source": [
        "model = keras.Sequential([\n",
        "    layers.Dense(512, activation=\"relu\"),\n",
        "    layers.Dense(512, activation=\"relu\"),\n",
        "    layers.Dense(1, activation=\"sigmoid\")\n",
        "])\n",
        "model.compile(optimizer=\"rmsprop\",\n",
        "              loss=\"binary_crossentropy\",\n",
        "              metrics=[\"accuracy\"])\n",
        "history_larger_model = model.fit(\n",
        "    train_data, train_labels,\n",
        "    epochs=20, batch_size=512, validation_split=0.4)"
      ]
    },
    {
      "cell_type": "code",
      "source": [
        "#to visualize graphs\n",
        "import matplotlib.pyplot as plt\n",
        "val_loss = history_original.history[\"val_loss\"]\n",
        "val_loss2 = history_larger_model.history[\"val_loss\"]\n",
        "\n",
        "epochs = range(1, 21)\n",
        "plt.plot(epochs, val_loss, \"b--\",#pour a avoir une courbe en pointillée\n",
        "         label=\"Validation loss of original model\")\n",
        "plt.plot(epochs, val_loss2, \"b-\", #pour avoir une courbe pleine\n",
        "         label=\"Validation loss of larger model\")\n",
        "plt.title(\"Effect of larger model capacity on validation loss\")\n",
        "plt.xlabel(\"Epochs\")\n",
        "plt.ylabel(\"Loss\")\n",
        "plt.legend()\n",
        "#overfit really fastly. so validation loss of original model looks better. but still overfitting after 5 epochs"
      ],
      "metadata": {
        "id": "GRm62ttfGFKD",
        "outputId": "ecce2571-df2f-452b-af7a-47973d6c3130",
        "colab": {
          "base_uri": "https://localhost:8080/",
          "height": 312
        }
      },
      "execution_count": 28,
      "outputs": [
        {
          "output_type": "execute_result",
          "data": {
            "text/plain": [
              "<matplotlib.legend.Legend at 0x7f3ca52d17d0>"
            ]
          },
          "metadata": {},
          "execution_count": 28
        },
        {
          "output_type": "display_data",
          "data": {
            "text/plain": [
              "<Figure size 432x288 with 1 Axes>"
            ],
            "image/png": "[encoded data removed]"
          },
          "metadata": {
            "needs_background": "light"
          }
        }
      ]
    },
    {
      "cell_type": "markdown",
      "metadata": {
        "id": "3gS7WkI1dXAP"
      },
      "source": [
        "#### Adding weight regularization"
      ]
    },
    {
      "cell_type": "markdown",
      "metadata": {
        "id": "90NS_FopdXAP"
      },
      "source": [
        "**Adding L2 weight regularization to the model**"
      ]
    },
    {
      "cell_type": "code",
      "execution_count": 16,
      "metadata": {
        "id": "O_AQNe6WdXAP",
        "outputId": "92eadef0-d9c4-4489-ed87-1f549599718d",
        "colab": {
          "base_uri": "https://localhost:8080/"
        }
      },
      "outputs": [
        {
          "output_type": "stream",
          "name": "stdout",
          "text": [
            "Epoch 1/20\n",
            "30/30 [==============================] - 2s 36ms/step - loss: 0.6273 - accuracy: 0.7557 - val_loss: 0.5066 - val_accuracy: 0.8534\n",
            "Epoch 2/20\n",
            "30/30 [==============================] - 1s 21ms/step - loss: 0.4386 - accuracy: 0.8901 - val_loss: 0.4190 - val_accuracy: 0.8836\n",
            "Epoch 3/20\n",
            "30/30 [==============================] - 1s 21ms/step - loss: 0.3609 - accuracy: 0.9113 - val_loss: 0.3777 - val_accuracy: 0.8889\n",
            "Epoch 4/20\n",
            "30/30 [==============================] - 1s 21ms/step - loss: 0.3199 - accuracy: 0.9223 - val_loss: 0.3797 - val_accuracy: 0.8790\n",
            "Epoch 5/20\n",
            "30/30 [==============================] - 1s 22ms/step - loss: 0.2960 - accuracy: 0.9290 - val_loss: 0.3724 - val_accuracy: 0.8810\n",
            "Epoch 6/20\n",
            "30/30 [==============================] - 1s 21ms/step - loss: 0.2786 - accuracy: 0.9363 - val_loss: 0.3722 - val_accuracy: 0.8812\n",
            "Epoch 7/20\n",
            "30/30 [==============================] - 1s 21ms/step - loss: 0.2697 - accuracy: 0.9348 - val_loss: 0.3626 - val_accuracy: 0.8867\n",
            "Epoch 8/20\n",
            "30/30 [==============================] - 1s 21ms/step - loss: 0.2581 - accuracy: 0.9408 - val_loss: 0.3677 - val_accuracy: 0.8876\n",
            "Epoch 9/20\n",
            "30/30 [==============================] - 1s 21ms/step - loss: 0.2473 - accuracy: 0.9465 - val_loss: 0.3812 - val_accuracy: 0.8811\n",
            "Epoch 10/20\n",
            "30/30 [==============================] - 1s 25ms/step - loss: 0.2518 - accuracy: 0.9405 - val_loss: 0.3742 - val_accuracy: 0.8843\n",
            "Epoch 11/20\n",
            "30/30 [==============================] - 1s 21ms/step - loss: 0.2406 - accuracy: 0.9475 - val_loss: 0.3797 - val_accuracy: 0.8820\n",
            "Epoch 12/20\n",
            "30/30 [==============================] - 1s 21ms/step - loss: 0.2329 - accuracy: 0.9521 - val_loss: 0.3815 - val_accuracy: 0.8815\n",
            "Epoch 13/20\n",
            "30/30 [==============================] - 1s 21ms/step - loss: 0.2350 - accuracy: 0.9499 - val_loss: 0.3876 - val_accuracy: 0.8799\n",
            "Epoch 14/20\n",
            "30/30 [==============================] - 1s 22ms/step - loss: 0.2244 - accuracy: 0.9553 - val_loss: 0.4160 - val_accuracy: 0.8737\n",
            "Epoch 15/20\n",
            "30/30 [==============================] - 1s 21ms/step - loss: 0.2284 - accuracy: 0.9514 - val_loss: 0.3992 - val_accuracy: 0.8773\n",
            "Epoch 16/20\n",
            "30/30 [==============================] - 1s 21ms/step - loss: 0.2170 - accuracy: 0.9581 - val_loss: 0.5245 - val_accuracy: 0.8374\n",
            "Epoch 17/20\n",
            "30/30 [==============================] - 1s 22ms/step - loss: 0.2197 - accuracy: 0.9568 - val_loss: 0.4888 - val_accuracy: 0.8524\n",
            "Epoch 18/20\n",
            "30/30 [==============================] - 1s 21ms/step - loss: 0.2135 - accuracy: 0.9585 - val_loss: 0.4299 - val_accuracy: 0.8720\n",
            "Epoch 19/20\n",
            "30/30 [==============================] - 1s 22ms/step - loss: 0.2175 - accuracy: 0.9539 - val_loss: 0.4122 - val_accuracy: 0.8776\n",
            "Epoch 20/20\n",
            "30/30 [==============================] - 1s 24ms/step - loss: 0.2106 - accuracy: 0.9593 - val_loss: 0.4483 - val_accuracy: 0.8671\n"
          ]
        }
      ],
      "source": [
        "from tensorflow.keras import regularizers\n",
        "model = keras.Sequential([\n",
        "    layers.Dense(16,\n",
        "                 kernel_regularizer=regularizers.l2(0.002),\n",
        "                 activation=\"relu\"),\n",
        "    layers.Dense(16,\n",
        "                 kernel_regularizer=regularizers.l2(0.002),\n",
        "                 activation=\"relu\"),\n",
        "    layers.Dense(1, activation=\"sigmoid\")\n",
        "])\n",
        "model.compile(optimizer=\"rmsprop\",\n",
        "              loss=\"binary_crossentropy\",\n",
        "              metrics=[\"accuracy\"])\n",
        "history_l2_reg = model.fit(\n",
        "    train_data, train_labels,\n",
        "    epochs=20, batch_size=512, validation_split=0.4)"
      ]
    },
    {
      "cell_type": "code",
      "source": [
        "#to visualize graphs\n",
        "import matplotlib.pyplot as plt\n",
        "val_loss = history_original.history[\"val_loss\"]\n",
        "val_loss2 = history_l2_reg.history[\"val_loss\"]\n",
        "\n",
        "epochs = range(1, 21)\n",
        "plt.plot(epochs, val_loss, \"b--\",#pour a avoir une courbe en pointillée\n",
        "         label=\"Validation loss of original model\")\n",
        "plt.plot(epochs, val_loss2, \"b-\", #pour avoir une courbe pleine\n",
        "         label=\"Validation loss of original model with l2 regularization\")\n",
        "plt.title(\"Effect of l2 regularization on validation loss\")\n",
        "plt.xlabel(\"Epochs\")\n",
        "plt.ylabel(\"Loss\")\n",
        "plt.legend()\n",
        "#overfitting pb is prevented however loss is worst than original one"
      ],
      "metadata": {
        "id": "1L7_-kYoGuNz",
        "outputId": "a9a4335a-93bc-4028-f6cd-1e158af9c43a",
        "colab": {
          "base_uri": "https://localhost:8080/",
          "height": 312
        }
      },
      "execution_count": 31,
      "outputs": [
        {
          "output_type": "execute_result",
          "data": {
            "text/plain": [
              "<matplotlib.legend.Legend at 0x7f3d206aef90>"
            ]
          },
          "metadata": {},
          "execution_count": 31
        },
        {
          "output_type": "display_data",
          "data": {
            "text/plain": [
              "<Figure size 432x288 with 1 Axes>"
            ],
            "image/png": "[encoded data removed]"
          },
          "metadata": {
            "needs_background": "light"
          }
        }
      ]
    },
    {
      "cell_type": "markdown",
      "metadata": {
        "id": "u45m9qcjdXAP"
      },
      "source": [
        "**Different weight regularizers available in Keras**"
      ]
    },
    {
      "cell_type": "code",
      "execution_count": 17,
      "metadata": {
        "id": "8fbFpVH3dXAP",
        "outputId": "0026602e-6033-4ff2-f1de-77ee9da4541e",
        "colab": {
          "base_uri": "https://localhost:8080/"
        }
      },
      "outputs": [
        {
          "output_type": "execute_result",
          "data": {
            "text/plain": [
              "<keras.regularizers.L1L2 at 0x7f3c9f5a4a50>"
            ]
          },
          "metadata": {},
          "execution_count": 17
        }
      ],
      "source": [
        "from tensorflow.keras import regularizers\n",
        "regularizers.l1(0.001)\n",
        "regularizers.l1_l2(l1=0.001, l2=0.001)"
      ]
    },
    {
      "cell_type": "markdown",
      "metadata": {
        "id": "PZqcCr8bdXAP"
      },
      "source": [
        "#### Adding dropout"
      ]
    },
    {
      "cell_type": "markdown",
      "metadata": {
        "id": "p-TXG2OLdXAQ"
      },
      "source": [
        "**Adding dropout to the IMDB model**"
      ]
    },
    {
      "cell_type": "code",
      "execution_count": 33,
      "metadata": {
        "id": "6S-xZBhYdXAQ",
        "outputId": "9cd19255-9b75-41b1-8516-5a4cc06826e3",
        "colab": {
          "base_uri": "https://localhost:8080/"
        }
      },
      "outputs": [
        {
          "output_type": "stream",
          "name": "stdout",
          "text": [
            "Epoch 1/20\n",
            "30/30 [==============================] - 2s 40ms/step - loss: 0.6257 - accuracy: 0.6373 - val_loss: 0.5041 - val_accuracy: 0.8395\n",
            "Epoch 2/20\n",
            "30/30 [==============================] - 1s 21ms/step - loss: 0.4934 - accuracy: 0.7887 - val_loss: 0.4014 - val_accuracy: 0.8745\n",
            "Epoch 3/20\n",
            "30/30 [==============================] - 1s 20ms/step - loss: 0.4159 - accuracy: 0.8416 - val_loss: 0.3333 - val_accuracy: 0.8833\n",
            "Epoch 4/20\n",
            "30/30 [==============================] - 1s 21ms/step - loss: 0.3535 - accuracy: 0.8764 - val_loss: 0.3001 - val_accuracy: 0.8904\n",
            "Epoch 5/20\n",
            "30/30 [==============================] - 1s 22ms/step - loss: 0.3034 - accuracy: 0.8957 - val_loss: 0.2896 - val_accuracy: 0.8806\n",
            "Epoch 6/20\n",
            "30/30 [==============================] - 1s 21ms/step - loss: 0.2671 - accuracy: 0.9146 - val_loss: 0.2825 - val_accuracy: 0.8826\n",
            "Epoch 7/20\n",
            "30/30 [==============================] - 1s 22ms/step - loss: 0.2358 - accuracy: 0.9265 - val_loss: 0.2868 - val_accuracy: 0.8914\n",
            "Epoch 8/20\n",
            "30/30 [==============================] - 1s 20ms/step - loss: 0.2122 - accuracy: 0.9328 - val_loss: 0.2885 - val_accuracy: 0.8871\n",
            "Epoch 9/20\n",
            "30/30 [==============================] - 1s 21ms/step - loss: 0.1843 - accuracy: 0.9443 - val_loss: 0.3153 - val_accuracy: 0.8903\n",
            "Epoch 10/20\n",
            "30/30 [==============================] - 1s 22ms/step - loss: 0.1638 - accuracy: 0.9489 - val_loss: 0.3238 - val_accuracy: 0.8867\n",
            "Epoch 11/20\n",
            "30/30 [==============================] - 1s 25ms/step - loss: 0.1497 - accuracy: 0.9546 - val_loss: 0.3366 - val_accuracy: 0.8853\n",
            "Epoch 12/20\n",
            "30/30 [==============================] - 1s 21ms/step - loss: 0.1398 - accuracy: 0.9580 - val_loss: 0.3550 - val_accuracy: 0.8882\n",
            "Epoch 13/20\n",
            "30/30 [==============================] - 1s 21ms/step - loss: 0.1226 - accuracy: 0.9607 - val_loss: 0.4077 - val_accuracy: 0.8881\n",
            "Epoch 14/20\n",
            "30/30 [==============================] - 1s 21ms/step - loss: 0.1185 - accuracy: 0.9643 - val_loss: 0.4125 - val_accuracy: 0.8850\n",
            "Epoch 15/20\n",
            "30/30 [==============================] - 1s 27ms/step - loss: 0.1065 - accuracy: 0.9667 - val_loss: 0.4399 - val_accuracy: 0.8850\n",
            "Epoch 16/20\n",
            "30/30 [==============================] - 1s 30ms/step - loss: 0.1014 - accuracy: 0.9690 - val_loss: 0.4492 - val_accuracy: 0.8836\n",
            "Epoch 17/20\n",
            "30/30 [==============================] - 1s 24ms/step - loss: 0.0907 - accuracy: 0.9715 - val_loss: 0.5029 - val_accuracy: 0.8845\n",
            "Epoch 18/20\n",
            "30/30 [==============================] - 1s 25ms/step - loss: 0.0848 - accuracy: 0.9738 - val_loss: 0.5382 - val_accuracy: 0.8837\n",
            "Epoch 19/20\n",
            "30/30 [==============================] - 1s 21ms/step - loss: 0.0865 - accuracy: 0.9731 - val_loss: 0.5722 - val_accuracy: 0.8811\n",
            "Epoch 20/20\n",
            "30/30 [==============================] - 1s 22ms/step - loss: 0.0780 - accuracy: 0.9765 - val_loss: 0.6101 - val_accuracy: 0.8802\n"
          ]
        }
      ],
      "source": [
        "model = keras.Sequential([\n",
        "    layers.Dense(16, activation=\"relu\"),\n",
        "    layers.Dropout(0.5),\n",
        "    layers.Dense(16, activation=\"relu\"),\n",
        "    layers.Dropout(0.5),\n",
        "    layers.Dense(1, activation=\"sigmoid\")\n",
        "])\n",
        "#At testing time\n",
        "#layer_output*=np.random.randint(0,high=2, size=layer_output.shape) #at training time drops out 50% of the units in the output\n",
        "#layer_output*=0.5 \n",
        "\n",
        "#at training time\n",
        "#layer_output*=np.random.randint(0,high=2, size=layer_output.shape)\n",
        "#layer_output/=0.5 #note that we're scalling up rather scaling down in this case.\n",
        "\n",
        "model.compile(optimizer=\"rmsprop\",\n",
        "              loss=\"binary_crossentropy\",\n",
        "              metrics=[\"accuracy\"])\n",
        "history_dropout = model.fit(\n",
        "    train_data, train_labels,\n",
        "    epochs=20, batch_size=512, validation_split=0.4)"
      ]
    },
    {
      "cell_type": "code",
      "source": [
        "#to visualize graphs\n",
        "import matplotlib.pyplot as plt\n",
        "val_loss = history_original.history[\"val_loss\"]\n",
        "val_loss2 = history_dropout.history[\"val_loss\"]\n",
        "\n",
        "epochs = range(1, 21)\n",
        "plt.plot(epochs, val_loss, \"b--\",#pour a avoir une courbe en pointillée\n",
        "         label=\"Validation loss of original model\")\n",
        "plt.plot(epochs, val_loss2, \"b-\", #pour avoir une courbe pleine\n",
        "         label=\"Validation loss of original model with dropout regularization\")\n",
        "plt.title(\"Effect of dropout regularization on validation loss\")\n",
        "plt.xlabel(\"Epochs\")\n",
        "plt.ylabel(\"Loss\")\n",
        "plt.legend()\n",
        "#look similar but with dropout look a bit better"
      ],
      "metadata": {
        "id": "UL3Xq5M-HpV2",
        "outputId": "23706452-375f-420c-af3b-c5d7debd0415",
        "colab": {
          "base_uri": "https://localhost:8080/",
          "height": 312
        }
      },
      "execution_count": 34,
      "outputs": [
        {
          "output_type": "execute_result",
          "data": {
            "text/plain": [
              "<matplotlib.legend.Legend at 0x7f3ca4272b50>"
            ]
          },
          "metadata": {},
          "execution_count": 34
        },
        {
          "output_type": "display_data",
          "data": {
            "text/plain": [
              "<Figure size 432x288 with 1 Axes>"
            ],
            "image/png": "[encoded data removed]"
          },
          "metadata": {
            "needs_background": "light"
          }
        }
      ]
    },
    {
      "cell_type": "markdown",
      "metadata": {
        "id": "n77Q_P8XdXAQ"
      },
      "source": [
        "## Summary"
      ]
    }
  ],
  "metadata": {
    "colab": {
      "collapsed_sections": [],
      "name": "chapter05_fundamentals-of-ml.i",
      "provenance": []
    },
    "kernelspec": {
      "display_name": "Python 3",
      "language": "python",
      "name": "python3"
    },
    "language_info": {
      "codemirror_mode": {
        "name": "ipython",
        "version": 3
      },
      "file_extension": ".py",
      "mimetype": "text/x-python",
      "name": "python",
      "nbconvert_exporter": "python",
      "pygments_lexer": "ipython3",
      "version": "3.7.0"
    },
    "accelerator": "GPU"
  },
  "nbformat": 4,
  "nbformat_minor": 0
}