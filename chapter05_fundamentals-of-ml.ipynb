{
  "cells": [
    {
      "cell_type": "markdown",
      "metadata": {
        "id": "__URtGCpdXAA"
      },
      "source": [
        "This is a companion notebook for the book [Deep Learning with Python, Second Edition](https://www.manning.com/books/deep-learning-with-python-second-edition?a_aid=keras&a_bid=76564dff). For readability, it only contains runnable code blocks and section titles, and omits everything else in the book: text paragraphs, figures, and pseudocode.\n",
        "\n",
        "**If you want to be able to follow what's going on, I recommend reading the notebook side by side with your copy of the book.**\n",
        "\n",
        "This notebook was generated for TensorFlow 2.6."
      ]
    },
    {
      "cell_type": "markdown",
      "metadata": {
        "id": "uWUpCiqxdXAD"
      },
      "source": [
        "# Fundamentals of machine learning"
      ]
    },
    {
      "cell_type": "markdown",
      "metadata": {
        "id": "wKVFG0qQdXAD"
      },
      "source": [
        "## Generalization: The goal of machine learning"
      ]
    },
    {
      "cell_type": "markdown",
      "metadata": {
        "id": "Vk9tNnH-dXAE"
      },
      "source": [
        "### Underfitting and overfitting"
      ]
    },
    {
      "cell_type": "markdown",
      "metadata": {
        "id": "lA8C72G3dXAE"
      },
      "source": [
        "#### Noisy training data"
      ]
    },
    {
      "cell_type": "markdown",
      "metadata": {
        "id": "RB-Uu-J5dXAE"
      },
      "source": [
        "#### Ambiguous features"
      ]
    },
    {
      "cell_type": "markdown",
      "metadata": {
        "id": "x092a-O-dXAF"
      },
      "source": [
        "#### Rare features and spurious correlations"
      ]
    },
    {
      "cell_type": "markdown",
      "metadata": {
        "id": "dvOa6KnUdXAF"
      },
      "source": [
        "**Adding white-noise channels or all-zeros channels to MNIST**"
      ]
    },
    {
      "cell_type": "code",
      "execution_count": 1,
      "metadata": {
        "id": "xPcAFjTndXAG",
        "outputId": "77b45781-d3ea-4e39-abb6-578df4e891b5",
        "colab": {
          "base_uri": "https://localhost:8080/"
        }
      },
      "outputs": [
        {
          "output_type": "stream",
          "name": "stdout",
          "text": [
            "Downloading data from https://storage.googleapis.com/tensorflow/tf-keras-datasets/mnist.npz\n",
            "11493376/11490434 [==============================] - 0s 0us/step\n",
            "11501568/11490434 [==============================] - 0s 0us/step\n"
          ]
        }
      ],
      "source": [
        "from tensorflow.keras.datasets import mnist\n",
        "import numpy as np\n",
        "\n",
        "(train_images, train_labels), _ = mnist.load_data()\n",
        "train_images = train_images.reshape((60000, 28 * 28))\n",
        "train_images = train_images.astype(\"float32\") / 255\n",
        "\n",
        "#Adding random noise with size of len(train_images) using np.random.random we take random value matric of the size len...\n",
        "train_images_with_noise_channels = np.concatenate(\n",
        "    [train_images, np.random.random((len(train_images), 784))], axis=1)\n",
        "\n",
        "#Adding 0 vectors\n",
        "train_images_with_zeros_channels = np.concatenate(\n",
        "    [train_images, np.zeros((len(train_images), 784))], axis=1)"
      ]
    },
    {
      "cell_type": "code",
      "source": [
        "#original dimension\n",
        "train_images.shape "
      ],
      "metadata": {
        "id": "QlN1nnGqgVzi",
        "outputId": "037efcc3-f640-45b1-dcef-7f12f6296f3e",
        "colab": {
          "base_uri": "https://localhost:8080/"
        }
      },
      "execution_count": 2,
      "outputs": [
        {
          "output_type": "execute_result",
          "data": {
            "text/plain": [
              "(60000, 784)"
            ]
          },
          "metadata": {},
          "execution_count": 2
        }
      ]
    },
    {
      "cell_type": "code",
      "source": [
        "#we want to add this size of random noise to the original training dataset\n",
        "(len(train_images), 784)"
      ],
      "metadata": {
        "id": "J0HnNbsUgb3J",
        "outputId": "0293c3bf-de1d-4b08-de0a-977a340a88c5",
        "colab": {
          "base_uri": "https://localhost:8080/"
        }
      },
      "execution_count": 3,
      "outputs": [
        {
          "output_type": "execute_result",
          "data": {
            "text/plain": [
              "(60000, 784)"
            ]
          },
          "metadata": {},
          "execution_count": 3
        }
      ]
    },
    {
      "cell_type": "code",
      "source": [
        "train_images_with_noise_channels.shape"
      ],
      "metadata": {
        "id": "B82j_ORFgftu",
        "outputId": "d24ed49f-5836-4e32-f5d0-457f1f23e647",
        "colab": {
          "base_uri": "https://localhost:8080/"
        }
      },
      "execution_count": 4,
      "outputs": [
        {
          "output_type": "execute_result",
          "data": {
            "text/plain": [
              "(60000, 1568)"
            ]
          },
          "metadata": {},
          "execution_count": 4
        }
      ]
    },
    {
      "cell_type": "code",
      "source": [
        "np.random.random((len(train_images), 784))"
      ],
      "metadata": {
        "id": "GTfbDEtjhb3j",
        "outputId": "1a97b25e-174d-46e7-e5ec-09617539282c",
        "colab": {
          "base_uri": "https://localhost:8080/"
        }
      },
      "execution_count": 5,
      "outputs": [
        {
          "output_type": "execute_result",
          "data": {
            "text/plain": [
              "array([[0.08886975, 0.84628715, 0.31105836, ..., 0.71282508, 0.99709195,\n",
              "        0.77162117],\n",
              "       [0.93146821, 0.05283217, 0.59314458, ..., 0.50798124, 0.11631802,\n",
              "        0.31417045],\n",
              "       [0.05485745, 0.16579159, 0.69359162, ..., 0.73656371, 0.15223689,\n",
              "        0.39200479],\n",
              "       ...,\n",
              "       [0.91451814, 0.96423084, 0.72451082, ..., 0.11539457, 0.41448289,\n",
              "        0.24780548],\n",
              "       [0.50155125, 0.80904093, 0.64260779, ..., 0.35140386, 0.36112268,\n",
              "        0.76316836],\n",
              "       [0.53505507, 0.67521667, 0.79495449, ..., 0.16367806, 0.93261964,\n",
              "        0.65356936]])"
            ]
          },
          "metadata": {},
          "execution_count": 5
        }
      ]
    },
    {
      "cell_type": "code",
      "source": [
        "train_images, np.zeros((len(train_images), 784))"
      ],
      "metadata": {
        "id": "iqBkqSDchlSz",
        "outputId": "e6b363e5-a716-4eaa-9faf-c87ca543d28a",
        "colab": {
          "base_uri": "https://localhost:8080/"
        }
      },
      "execution_count": 6,
      "outputs": [
        {
          "output_type": "execute_result",
          "data": {
            "text/plain": [
              "(array([[0., 0., 0., ..., 0., 0., 0.],\n",
              "        [0., 0., 0., ..., 0., 0., 0.],\n",
              "        [0., 0., 0., ..., 0., 0., 0.],\n",
              "        ...,\n",
              "        [0., 0., 0., ..., 0., 0., 0.],\n",
              "        [0., 0., 0., ..., 0., 0., 0.],\n",
              "        [0., 0., 0., ..., 0., 0., 0.]], dtype=float32),\n",
              " array([[0., 0., 0., ..., 0., 0., 0.],\n",
              "        [0., 0., 0., ..., 0., 0., 0.],\n",
              "        [0., 0., 0., ..., 0., 0., 0.],\n",
              "        ...,\n",
              "        [0., 0., 0., ..., 0., 0., 0.],\n",
              "        [0., 0., 0., ..., 0., 0., 0.],\n",
              "        [0., 0., 0., ..., 0., 0., 0.]]))"
            ]
          },
          "metadata": {},
          "execution_count": 6
        }
      ]
    },
    {
      "cell_type": "markdown",
      "metadata": {
        "id": "ATHYOqfYdXAH"
      },
      "source": [
        "**Training the same model on MNIST data with noise channels or all-zero channels**"
      ]
    },
    {
      "cell_type": "code",
      "execution_count": 7,
      "metadata": {
        "id": "pct8-5W1dXAH",
        "outputId": "7bfd664b-0e7a-4cee-8f76-5e4c459fdae1",
        "colab": {
          "base_uri": "https://localhost:8080/"
        }
      },
      "outputs": [
        {
          "output_type": "stream",
          "name": "stdout",
          "text": [
            "Epoch 1/10\n",
            "375/375 [==============================] - 5s 5ms/step - loss: 0.6287 - accuracy: 0.8099 - val_loss: 0.3531 - val_accuracy: 0.8928\n",
            "Epoch 2/10\n",
            "375/375 [==============================] - 1s 3ms/step - loss: 0.2570 - accuracy: 0.9211 - val_loss: 0.1961 - val_accuracy: 0.9406\n",
            "Epoch 3/10\n",
            "375/375 [==============================] - 1s 4ms/step - loss: 0.1630 - accuracy: 0.9498 - val_loss: 0.1602 - val_accuracy: 0.9523\n",
            "Epoch 4/10\n",
            "375/375 [==============================] - 1s 4ms/step - loss: 0.1143 - accuracy: 0.9638 - val_loss: 0.1885 - val_accuracy: 0.9414\n",
            "Epoch 5/10\n",
            "375/375 [==============================] - 1s 4ms/step - loss: 0.0838 - accuracy: 0.9727 - val_loss: 0.1228 - val_accuracy: 0.9638\n",
            "Epoch 6/10\n",
            "375/375 [==============================] - 1s 4ms/step - loss: 0.0630 - accuracy: 0.9797 - val_loss: 0.1559 - val_accuracy: 0.9586\n",
            "Epoch 7/10\n",
            "375/375 [==============================] - 2s 4ms/step - loss: 0.0458 - accuracy: 0.9850 - val_loss: 0.1643 - val_accuracy: 0.9554\n",
            "Epoch 8/10\n",
            "375/375 [==============================] - 2s 4ms/step - loss: 0.0349 - accuracy: 0.9886 - val_loss: 0.1313 - val_accuracy: 0.9648\n",
            "Epoch 9/10\n",
            "375/375 [==============================] - 1s 4ms/step - loss: 0.0259 - accuracy: 0.9918 - val_loss: 0.1231 - val_accuracy: 0.9692\n",
            "Epoch 10/10\n",
            "375/375 [==============================] - 1s 4ms/step - loss: 0.0211 - accuracy: 0.9928 - val_loss: 0.1403 - val_accuracy: 0.9674\n",
            "Epoch 1/10\n",
            "375/375 [==============================] - 3s 7ms/step - loss: 0.2900 - accuracy: 0.9164 - val_loss: 0.1474 - val_accuracy: 0.9559\n",
            "Epoch 2/10\n",
            "375/375 [==============================] - 2s 4ms/step - loss: 0.1196 - accuracy: 0.9641 - val_loss: 0.1154 - val_accuracy: 0.9662\n",
            "Epoch 3/10\n",
            "375/375 [==============================] - 2s 4ms/step - loss: 0.0781 - accuracy: 0.9769 - val_loss: 0.0930 - val_accuracy: 0.9714\n",
            "Epoch 4/10\n",
            "375/375 [==============================] - 2s 4ms/step - loss: 0.0551 - accuracy: 0.9843 - val_loss: 0.0862 - val_accuracy: 0.9759\n",
            "Epoch 5/10\n",
            "375/375 [==============================] - 2s 5ms/step - loss: 0.0418 - accuracy: 0.9875 - val_loss: 0.0813 - val_accuracy: 0.9775\n",
            "Epoch 6/10\n",
            "375/375 [==============================] - 1s 4ms/step - loss: 0.0316 - accuracy: 0.9910 - val_loss: 0.0867 - val_accuracy: 0.9758\n",
            "Epoch 7/10\n",
            "375/375 [==============================] - 1s 3ms/step - loss: 0.0245 - accuracy: 0.9924 - val_loss: 0.0768 - val_accuracy: 0.9793\n",
            "Epoch 8/10\n",
            "375/375 [==============================] - 1s 3ms/step - loss: 0.0181 - accuracy: 0.9949 - val_loss: 0.0786 - val_accuracy: 0.9791\n",
            "Epoch 9/10\n",
            "375/375 [==============================] - 1s 4ms/step - loss: 0.0135 - accuracy: 0.9961 - val_loss: 0.0953 - val_accuracy: 0.9766\n",
            "Epoch 10/10\n",
            "375/375 [==============================] - 1s 4ms/step - loss: 0.0106 - accuracy: 0.9966 - val_loss: 0.0907 - val_accuracy: 0.9792\n"
          ]
        }
      ],
      "source": [
        "from tensorflow import keras\n",
        "from tensorflow.keras import layers\n",
        "\n",
        "def get_model():\n",
        "    model = keras.Sequential([\n",
        "        layers.Dense(512, activation=\"relu\"),\n",
        "        layers.Dense(10, activation=\"softmax\")\n",
        "    ])\n",
        "    model.compile(optimizer=\"rmsprop\",\n",
        "                  loss=\"sparse_categorical_crossentropy\",\n",
        "                  metrics=[\"accuracy\"])\n",
        "    return model\n",
        "\n",
        "#training\n",
        "model = get_model()\n",
        "history_noise = model.fit(\n",
        "    train_images_with_noise_channels, train_labels,\n",
        "    epochs=10,\n",
        "    batch_size=128,\n",
        "    validation_split=0.2)\n",
        "#plot the history\n",
        "model = get_model()\n",
        "history_zeros = model.fit(\n",
        "    train_images_with_zeros_channels, train_labels,\n",
        "    epochs=10,\n",
        "    batch_size=128,\n",
        "    validation_split=0.2)"
      ]
    },
    {
      "cell_type": "code",
      "source": [
        "#training data with original data\n",
        "#The performance is a little better if we look at the accuracy\n",
        "model = get_model()\n",
        "history1 = model.fit(\n",
        "    train_images, train_labels,\n",
        "    epochs=10,\n",
        "    batch_size=128,\n",
        "    validation_split=0.2)"
      ],
      "metadata": {
        "id": "0jiZsWxDh3wj",
        "outputId": "f17afd02-0bc6-4475-b7a9-a38d7deafd89",
        "colab": {
          "base_uri": "https://localhost:8080/"
        }
      },
      "execution_count": 8,
      "outputs": [
        {
          "output_type": "stream",
          "name": "stdout",
          "text": [
            "Epoch 1/10\n",
            "375/375 [==============================] - 2s 4ms/step - loss: 0.2890 - accuracy: 0.9162 - val_loss: 0.1521 - val_accuracy: 0.9562\n",
            "Epoch 2/10\n",
            "375/375 [==============================] - 1s 3ms/step - loss: 0.1209 - accuracy: 0.9646 - val_loss: 0.1065 - val_accuracy: 0.9680\n",
            "Epoch 3/10\n",
            "375/375 [==============================] - 1s 4ms/step - loss: 0.0784 - accuracy: 0.9766 - val_loss: 0.0967 - val_accuracy: 0.9703\n",
            "Epoch 4/10\n",
            "375/375 [==============================] - 1s 4ms/step - loss: 0.0555 - accuracy: 0.9840 - val_loss: 0.0819 - val_accuracy: 0.9772\n",
            "Epoch 5/10\n",
            "375/375 [==============================] - 1s 4ms/step - loss: 0.0411 - accuracy: 0.9876 - val_loss: 0.0816 - val_accuracy: 0.9769\n",
            "Epoch 6/10\n",
            "375/375 [==============================] - 1s 4ms/step - loss: 0.0319 - accuracy: 0.9904 - val_loss: 0.0804 - val_accuracy: 0.9766\n",
            "Epoch 7/10\n",
            "375/375 [==============================] - 2s 4ms/step - loss: 0.0239 - accuracy: 0.9934 - val_loss: 0.0787 - val_accuracy: 0.9783\n",
            "Epoch 8/10\n",
            "375/375 [==============================] - 2s 4ms/step - loss: 0.0181 - accuracy: 0.9946 - val_loss: 0.0837 - val_accuracy: 0.9771\n",
            "Epoch 9/10\n",
            "375/375 [==============================] - 1s 4ms/step - loss: 0.0147 - accuracy: 0.9960 - val_loss: 0.0864 - val_accuracy: 0.9775\n",
            "Epoch 10/10\n",
            "375/375 [==============================] - 1s 4ms/step - loss: 0.0105 - accuracy: 0.9970 - val_loss: 0.0876 - val_accuracy: 0.9787\n"
          ]
        }
      ]
    },
    {
      "cell_type": "markdown",
      "metadata": {
        "id": "LfNlKuCgdXAI"
      },
      "source": [
        "**Plotting a validation accuracy comparison**"
      ]
    },
    {
      "cell_type": "code",
      "execution_count": 9,
      "metadata": {
        "id": "DCNjVwEjdXAI",
        "outputId": "cde40d3f-1262-4ae0-b7b7-96659fe3a653",
        "colab": {
          "base_uri": "https://localhost:8080/",
          "height": 312
        }
      },
      "outputs": [
        {
          "output_type": "execute_result",
          "data": {
            "text/plain": [
              "<matplotlib.legend.Legend at 0x7f43cdcbeb90>"
            ]
          },
          "metadata": {},
          "execution_count": 9
        },
        {
          "output_type": "display_data",
          "data": {
            "text/plain": [
              "<Figure size 432x288 with 1 Axes>"
            ],
            "image/png": "[encoded data removed]"
          },
          "metadata": {
            "needs_background": "light"
          }
        }
      ],
      "source": [
        "import matplotlib.pyplot as plt\n",
        "val_acc_noise = history_noise.history[\"val_accuracy\"]\n",
        "val_acc_zeros = history_zeros.history[\"val_accuracy\"]\n",
        "epochs = range(1, 11)\n",
        "plt.plot(epochs, val_acc_noise, \"b-\",\n",
        "         label=\"Validation accuracy with noise channels\")\n",
        "plt.plot(epochs, val_acc_zeros, \"b--\",\n",
        "         label=\"Validation accuracy with zeros channels\")\n",
        "plt.title(\"Effect of noise channels on validation accuracy\")\n",
        "plt.xlabel(\"Epochs\")\n",
        "plt.ylabel(\"Accuracy\")\n",
        "plt.legend()\n",
        "#if we had the random noise, it will cause suspisious correlation and perofrmance goes down. \n",
        "#not recommended to add random noise in classification"
      ]
    },
    {
      "cell_type": "code",
      "source": [
        "import matplotlib.pyplot as plt\n",
        "val_acc = history1.history[\"val_accuracy\"]\n",
        "val_acc_zeros = history_zeros.history[\"val_accuracy\"]\n",
        "epochs = range(1, 11)\n",
        "plt.plot(epochs, val_acc, \"b-\",\n",
        "         label=\"Validation accuracy original data\")\n",
        "plt.plot(epochs, val_acc_zeros, \"b--\",\n",
        "         label=\"Validation accuracy with zeros channels\")\n",
        "plt.title(\"Effect of noise channels on validation accuracy\")\n",
        "plt.xlabel(\"Epochs\")\n",
        "plt.ylabel(\"Accuracy\")\n",
        "plt.legend()\n",
        "#the 2 validation are quite similar"
      ],
      "metadata": {
        "id": "5avwnJndiIfH",
        "outputId": "a988f717-233c-437d-84bd-c89af150ab8f",
        "colab": {
          "base_uri": "https://localhost:8080/",
          "height": 312
        }
      },
      "execution_count": 10,
      "outputs": [
        {
          "output_type": "execute_result",
          "data": {
            "text/plain": [
              "<matplotlib.legend.Legend at 0x7f43cda12650>"
            ]
          },
          "metadata": {},
          "execution_count": 10
        },
        {
          "output_type": "display_data",
          "data": {
            "text/plain": [
              "<Figure size 432x288 with 1 Axes>"
            ],
            "image/png": "[encoded data removed]"
          },
          "metadata": {
            "needs_background": "light"
          }
        }
      ]
    },
    {
      "cell_type": "markdown",
      "metadata": {
        "id": "_-kKg-cadXAJ"
      },
      "source": [
        "### The nature of generalization in deep learning"
      ]
    },
    {
      "cell_type": "markdown",
      "metadata": {
        "id": "LSwKReL6dXAJ"
      },
      "source": [
        "**Fitting a MNIST model with randomly shuffled labels**"
      ]
    },
    {
      "cell_type": "code",
      "execution_count": 11,
      "metadata": {
        "id": "RifX-_DldXAJ",
        "outputId": "14641b0e-79b8-4bd5-9c72-bf41a35711ef",
        "colab": {
          "base_uri": "https://localhost:8080/"
        }
      },
      "outputs": [
        {
          "output_type": "stream",
          "name": "stdout",
          "text": [
            "Epoch 1/100\n",
            "375/375 [==============================] - 2s 4ms/step - loss: 2.3180 - accuracy: 0.1059 - val_loss: 2.3073 - val_accuracy: 0.0995\n",
            "Epoch 2/100\n",
            "375/375 [==============================] - 1s 3ms/step - loss: 2.2996 - accuracy: 0.1162 - val_loss: 2.3143 - val_accuracy: 0.0978\n",
            "Epoch 3/100\n",
            "375/375 [==============================] - 1s 4ms/step - loss: 2.2906 - accuracy: 0.1285 - val_loss: 2.3194 - val_accuracy: 0.1028\n",
            "Epoch 4/100\n",
            "375/375 [==============================] - 2s 6ms/step - loss: 2.2758 - accuracy: 0.1392 - val_loss: 2.3287 - val_accuracy: 0.0994\n",
            "Epoch 5/100\n",
            "375/375 [==============================] - 2s 4ms/step - loss: 2.2581 - accuracy: 0.1544 - val_loss: 2.3465 - val_accuracy: 0.1023\n",
            "Epoch 6/100\n",
            "375/375 [==============================] - 2s 4ms/step - loss: 2.2368 - accuracy: 0.1688 - val_loss: 2.3486 - val_accuracy: 0.1000\n",
            "Epoch 7/100\n",
            "375/375 [==============================] - 2s 4ms/step - loss: 2.2115 - accuracy: 0.1853 - val_loss: 2.3757 - val_accuracy: 0.0983\n",
            "Epoch 8/100\n",
            "375/375 [==============================] - 2s 4ms/step - loss: 2.1828 - accuracy: 0.2018 - val_loss: 2.3878 - val_accuracy: 0.0992\n",
            "Epoch 9/100\n",
            "375/375 [==============================] - 2s 5ms/step - loss: 2.1547 - accuracy: 0.2144 - val_loss: 2.4232 - val_accuracy: 0.1042\n",
            "Epoch 10/100\n",
            "375/375 [==============================] - 2s 5ms/step - loss: 2.1232 - accuracy: 0.2342 - val_loss: 2.4369 - val_accuracy: 0.0983\n",
            "Epoch 11/100\n",
            "375/375 [==============================] - 1s 4ms/step - loss: 2.0893 - accuracy: 0.2494 - val_loss: 2.4621 - val_accuracy: 0.0960\n",
            "Epoch 12/100\n",
            "375/375 [==============================] - 1s 4ms/step - loss: 2.0562 - accuracy: 0.2653 - val_loss: 2.4934 - val_accuracy: 0.0958\n",
            "Epoch 13/100\n",
            "375/375 [==============================] - 1s 4ms/step - loss: 2.0211 - accuracy: 0.2812 - val_loss: 2.5155 - val_accuracy: 0.0974\n",
            "Epoch 14/100\n",
            "375/375 [==============================] - 2s 4ms/step - loss: 1.9863 - accuracy: 0.2956 - val_loss: 2.5412 - val_accuracy: 0.0997\n",
            "Epoch 15/100\n",
            "375/375 [==============================] - 1s 4ms/step - loss: 1.9517 - accuracy: 0.3093 - val_loss: 2.5841 - val_accuracy: 0.0984\n",
            "Epoch 16/100\n",
            "375/375 [==============================] - 1s 3ms/step - loss: 1.9169 - accuracy: 0.3268 - val_loss: 2.6005 - val_accuracy: 0.0992\n",
            "Epoch 17/100\n",
            "375/375 [==============================] - 2s 4ms/step - loss: 1.8838 - accuracy: 0.3420 - val_loss: 2.6300 - val_accuracy: 0.0974\n",
            "Epoch 18/100\n",
            "375/375 [==============================] - 2s 5ms/step - loss: 1.8493 - accuracy: 0.3519 - val_loss: 2.6753 - val_accuracy: 0.1025\n",
            "Epoch 19/100\n",
            "375/375 [==============================] - 1s 3ms/step - loss: 1.8180 - accuracy: 0.3635 - val_loss: 2.7095 - val_accuracy: 0.0963\n",
            "Epoch 20/100\n",
            "375/375 [==============================] - 1s 4ms/step - loss: 1.7835 - accuracy: 0.3797 - val_loss: 2.7550 - val_accuracy: 0.0966\n",
            "Epoch 21/100\n",
            "375/375 [==============================] - 1s 4ms/step - loss: 1.7529 - accuracy: 0.3911 - val_loss: 2.7788 - val_accuracy: 0.1011\n",
            "Epoch 22/100\n",
            "375/375 [==============================] - 1s 4ms/step - loss: 1.7211 - accuracy: 0.4025 - val_loss: 2.8071 - val_accuracy: 0.0979\n",
            "Epoch 23/100\n",
            "375/375 [==============================] - 1s 3ms/step - loss: 1.6899 - accuracy: 0.4135 - val_loss: 2.8546 - val_accuracy: 0.0966\n",
            "Epoch 24/100\n",
            "375/375 [==============================] - 1s 3ms/step - loss: 1.6620 - accuracy: 0.4261 - val_loss: 2.9180 - val_accuracy: 0.0994\n",
            "Epoch 25/100\n",
            "375/375 [==============================] - 1s 4ms/step - loss: 1.6321 - accuracy: 0.4385 - val_loss: 2.9384 - val_accuracy: 0.0988\n",
            "Epoch 26/100\n",
            "375/375 [==============================] - 1s 4ms/step - loss: 1.6041 - accuracy: 0.4477 - val_loss: 2.9855 - val_accuracy: 0.0964\n",
            "Epoch 27/100\n",
            "375/375 [==============================] - 1s 4ms/step - loss: 1.5779 - accuracy: 0.4572 - val_loss: 3.0263 - val_accuracy: 0.0993\n",
            "Epoch 28/100\n",
            "375/375 [==============================] - 1s 4ms/step - loss: 1.5493 - accuracy: 0.4676 - val_loss: 3.0658 - val_accuracy: 0.0976\n",
            "Epoch 29/100\n",
            "375/375 [==============================] - 1s 4ms/step - loss: 1.5216 - accuracy: 0.4794 - val_loss: 3.1241 - val_accuracy: 0.0962\n",
            "Epoch 30/100\n",
            "375/375 [==============================] - 1s 3ms/step - loss: 1.4963 - accuracy: 0.4879 - val_loss: 3.1848 - val_accuracy: 0.0992\n",
            "Epoch 31/100\n",
            "375/375 [==============================] - 1s 3ms/step - loss: 1.4721 - accuracy: 0.4988 - val_loss: 3.1962 - val_accuracy: 0.0982\n",
            "Epoch 32/100\n",
            "375/375 [==============================] - 1s 3ms/step - loss: 1.4461 - accuracy: 0.5091 - val_loss: 3.2567 - val_accuracy: 0.0982\n",
            "Epoch 33/100\n",
            "375/375 [==============================] - 1s 3ms/step - loss: 1.4200 - accuracy: 0.5157 - val_loss: 3.2886 - val_accuracy: 0.0973\n",
            "Epoch 34/100\n",
            "375/375 [==============================] - 1s 4ms/step - loss: 1.3964 - accuracy: 0.5250 - val_loss: 3.3261 - val_accuracy: 0.0984\n",
            "Epoch 35/100\n",
            "375/375 [==============================] - 1s 3ms/step - loss: 1.3730 - accuracy: 0.5330 - val_loss: 3.3655 - val_accuracy: 0.0989\n",
            "Epoch 36/100\n",
            "375/375 [==============================] - 1s 3ms/step - loss: 1.3498 - accuracy: 0.5410 - val_loss: 3.4596 - val_accuracy: 0.0981\n",
            "Epoch 37/100\n",
            "375/375 [==============================] - 1s 4ms/step - loss: 1.3288 - accuracy: 0.5499 - val_loss: 3.4674 - val_accuracy: 0.0974\n",
            "Epoch 38/100\n",
            "375/375 [==============================] - 1s 3ms/step - loss: 1.3060 - accuracy: 0.5552 - val_loss: 3.5322 - val_accuracy: 0.0990\n",
            "Epoch 39/100\n",
            "375/375 [==============================] - 1s 4ms/step - loss: 1.2859 - accuracy: 0.5642 - val_loss: 3.5723 - val_accuracy: 0.1007\n",
            "Epoch 40/100\n",
            "375/375 [==============================] - 2s 4ms/step - loss: 1.2644 - accuracy: 0.5723 - val_loss: 3.6303 - val_accuracy: 0.0988\n",
            "Epoch 41/100\n",
            "375/375 [==============================] - 1s 3ms/step - loss: 1.2437 - accuracy: 0.5811 - val_loss: 3.6720 - val_accuracy: 0.0970\n",
            "Epoch 42/100\n",
            "375/375 [==============================] - 1s 3ms/step - loss: 1.2231 - accuracy: 0.5870 - val_loss: 3.7289 - val_accuracy: 0.1024\n",
            "Epoch 43/100\n",
            "375/375 [==============================] - 1s 3ms/step - loss: 1.2052 - accuracy: 0.5935 - val_loss: 3.7579 - val_accuracy: 0.0951\n",
            "Epoch 44/100\n",
            "375/375 [==============================] - 1s 3ms/step - loss: 1.1822 - accuracy: 0.6005 - val_loss: 3.8022 - val_accuracy: 0.0972\n",
            "Epoch 45/100\n",
            "375/375 [==============================] - 1s 4ms/step - loss: 1.1638 - accuracy: 0.6073 - val_loss: 3.8671 - val_accuracy: 0.1013\n",
            "Epoch 46/100\n",
            "375/375 [==============================] - 1s 3ms/step - loss: 1.1468 - accuracy: 0.6152 - val_loss: 3.9246 - val_accuracy: 0.0983\n",
            "Epoch 47/100\n",
            "375/375 [==============================] - 2s 4ms/step - loss: 1.1268 - accuracy: 0.6219 - val_loss: 3.9681 - val_accuracy: 0.0974\n",
            "Epoch 48/100\n",
            "375/375 [==============================] - 1s 4ms/step - loss: 1.1089 - accuracy: 0.6273 - val_loss: 4.0307 - val_accuracy: 0.0972\n",
            "Epoch 49/100\n",
            "375/375 [==============================] - 1s 4ms/step - loss: 1.0921 - accuracy: 0.6350 - val_loss: 4.1191 - val_accuracy: 0.0988\n",
            "Epoch 50/100\n",
            "375/375 [==============================] - 2s 5ms/step - loss: 1.0741 - accuracy: 0.6399 - val_loss: 4.1534 - val_accuracy: 0.0971\n",
            "Epoch 51/100\n",
            "375/375 [==============================] - 1s 4ms/step - loss: 1.0578 - accuracy: 0.6445 - val_loss: 4.2344 - val_accuracy: 0.0988\n",
            "Epoch 52/100\n",
            "375/375 [==============================] - 2s 4ms/step - loss: 1.0416 - accuracy: 0.6521 - val_loss: 4.2526 - val_accuracy: 0.0979\n",
            "Epoch 53/100\n",
            "375/375 [==============================] - 2s 5ms/step - loss: 1.0247 - accuracy: 0.6602 - val_loss: 4.3335 - val_accuracy: 0.0980\n",
            "Epoch 54/100\n",
            "375/375 [==============================] - 1s 4ms/step - loss: 1.0076 - accuracy: 0.6641 - val_loss: 4.3824 - val_accuracy: 0.0958\n",
            "Epoch 55/100\n",
            "375/375 [==============================] - 1s 4ms/step - loss: 0.9940 - accuracy: 0.6680 - val_loss: 4.4482 - val_accuracy: 0.0948\n",
            "Epoch 56/100\n",
            "375/375 [==============================] - 1s 4ms/step - loss: 0.9787 - accuracy: 0.6745 - val_loss: 4.4937 - val_accuracy: 0.0978\n",
            "Epoch 57/100\n",
            "375/375 [==============================] - 1s 3ms/step - loss: 0.9623 - accuracy: 0.6793 - val_loss: 4.5590 - val_accuracy: 0.0982\n",
            "Epoch 58/100\n",
            "375/375 [==============================] - 1s 4ms/step - loss: 0.9468 - accuracy: 0.6859 - val_loss: 4.5994 - val_accuracy: 0.0979\n",
            "Epoch 59/100\n",
            "375/375 [==============================] - 1s 4ms/step - loss: 0.9343 - accuracy: 0.6894 - val_loss: 4.6326 - val_accuracy: 0.0965\n",
            "Epoch 60/100\n",
            "375/375 [==============================] - 1s 3ms/step - loss: 0.9200 - accuracy: 0.6946 - val_loss: 4.7527 - val_accuracy: 0.0984\n",
            "Epoch 61/100\n",
            "375/375 [==============================] - 1s 4ms/step - loss: 0.9060 - accuracy: 0.7018 - val_loss: 4.7553 - val_accuracy: 0.0961\n",
            "Epoch 62/100\n",
            "375/375 [==============================] - 1s 4ms/step - loss: 0.8902 - accuracy: 0.7043 - val_loss: 4.8197 - val_accuracy: 0.0966\n",
            "Epoch 63/100\n",
            "375/375 [==============================] - 1s 3ms/step - loss: 0.8783 - accuracy: 0.7092 - val_loss: 4.8760 - val_accuracy: 0.0955\n",
            "Epoch 64/100\n",
            "375/375 [==============================] - 1s 4ms/step - loss: 0.8648 - accuracy: 0.7143 - val_loss: 4.9275 - val_accuracy: 0.0964\n",
            "Epoch 65/100\n",
            "375/375 [==============================] - 1s 3ms/step - loss: 0.8509 - accuracy: 0.7186 - val_loss: 5.0285 - val_accuracy: 0.0972\n",
            "Epoch 66/100\n",
            "375/375 [==============================] - 1s 3ms/step - loss: 0.8390 - accuracy: 0.7238 - val_loss: 5.0745 - val_accuracy: 0.0984\n",
            "Epoch 67/100\n",
            "375/375 [==============================] - 1s 3ms/step - loss: 0.8280 - accuracy: 0.7277 - val_loss: 5.1179 - val_accuracy: 0.0938\n",
            "Epoch 68/100\n",
            "375/375 [==============================] - 1s 4ms/step - loss: 0.8140 - accuracy: 0.7332 - val_loss: 5.1991 - val_accuracy: 0.0961\n",
            "Epoch 69/100\n",
            "375/375 [==============================] - 1s 3ms/step - loss: 0.8051 - accuracy: 0.7362 - val_loss: 5.2546 - val_accuracy: 0.0959\n",
            "Epoch 70/100\n",
            "375/375 [==============================] - 1s 3ms/step - loss: 0.7921 - accuracy: 0.7385 - val_loss: 5.3015 - val_accuracy: 0.0928\n",
            "Epoch 71/100\n",
            "375/375 [==============================] - 1s 3ms/step - loss: 0.7811 - accuracy: 0.7425 - val_loss: 5.4261 - val_accuracy: 0.0965\n",
            "Epoch 72/100\n",
            "375/375 [==============================] - 1s 4ms/step - loss: 0.7671 - accuracy: 0.7490 - val_loss: 5.4610 - val_accuracy: 0.0963\n",
            "Epoch 73/100\n",
            "375/375 [==============================] - 1s 3ms/step - loss: 0.7573 - accuracy: 0.7530 - val_loss: 5.4789 - val_accuracy: 0.0995\n",
            "Epoch 74/100\n",
            "375/375 [==============================] - 1s 3ms/step - loss: 0.7464 - accuracy: 0.7545 - val_loss: 5.5592 - val_accuracy: 0.0977\n",
            "Epoch 75/100\n",
            "375/375 [==============================] - 1s 3ms/step - loss: 0.7354 - accuracy: 0.7595 - val_loss: 5.6367 - val_accuracy: 0.0974\n",
            "Epoch 76/100\n",
            "375/375 [==============================] - 1s 3ms/step - loss: 0.7252 - accuracy: 0.7623 - val_loss: 5.6791 - val_accuracy: 0.0972\n",
            "Epoch 77/100\n",
            "375/375 [==============================] - 1s 3ms/step - loss: 0.7124 - accuracy: 0.7691 - val_loss: 5.7520 - val_accuracy: 0.0936\n",
            "Epoch 78/100\n",
            "375/375 [==============================] - 1s 4ms/step - loss: 0.7033 - accuracy: 0.7698 - val_loss: 5.8054 - val_accuracy: 0.0959\n",
            "Epoch 79/100\n",
            "375/375 [==============================] - 1s 4ms/step - loss: 0.6948 - accuracy: 0.7738 - val_loss: 5.9007 - val_accuracy: 0.0961\n",
            "Epoch 80/100\n",
            "375/375 [==============================] - 1s 4ms/step - loss: 0.6847 - accuracy: 0.7763 - val_loss: 5.9671 - val_accuracy: 0.0967\n",
            "Epoch 81/100\n",
            "375/375 [==============================] - 1s 4ms/step - loss: 0.6718 - accuracy: 0.7819 - val_loss: 5.9734 - val_accuracy: 0.0957\n",
            "Epoch 82/100\n",
            "375/375 [==============================] - 1s 4ms/step - loss: 0.6638 - accuracy: 0.7846 - val_loss: 6.0522 - val_accuracy: 0.0978\n",
            "Epoch 83/100\n",
            "375/375 [==============================] - 1s 4ms/step - loss: 0.6543 - accuracy: 0.7874 - val_loss: 6.1607 - val_accuracy: 0.0971\n",
            "Epoch 84/100\n",
            "375/375 [==============================] - 1s 4ms/step - loss: 0.6459 - accuracy: 0.7913 - val_loss: 6.1766 - val_accuracy: 0.0979\n",
            "Epoch 85/100\n",
            "375/375 [==============================] - 1s 4ms/step - loss: 0.6378 - accuracy: 0.7921 - val_loss: 6.2701 - val_accuracy: 0.0956\n",
            "Epoch 86/100\n",
            "375/375 [==============================] - 2s 4ms/step - loss: 0.6285 - accuracy: 0.7948 - val_loss: 6.3170 - val_accuracy: 0.0985\n",
            "Epoch 87/100\n",
            "375/375 [==============================] - 2s 4ms/step - loss: 0.6199 - accuracy: 0.7997 - val_loss: 6.3992 - val_accuracy: 0.0951\n",
            "Epoch 88/100\n",
            "375/375 [==============================] - 2s 4ms/step - loss: 0.6085 - accuracy: 0.8040 - val_loss: 6.4613 - val_accuracy: 0.0981\n",
            "Epoch 89/100\n",
            "375/375 [==============================] - 1s 4ms/step - loss: 0.6006 - accuracy: 0.8057 - val_loss: 6.5014 - val_accuracy: 0.0957\n",
            "Epoch 90/100\n",
            "375/375 [==============================] - 1s 3ms/step - loss: 0.5902 - accuracy: 0.8077 - val_loss: 6.6012 - val_accuracy: 0.0971\n",
            "Epoch 91/100\n",
            "375/375 [==============================] - 1s 4ms/step - loss: 0.5839 - accuracy: 0.8105 - val_loss: 6.6474 - val_accuracy: 0.0979\n",
            "Epoch 92/100\n",
            "375/375 [==============================] - 1s 4ms/step - loss: 0.5763 - accuracy: 0.8121 - val_loss: 6.7296 - val_accuracy: 0.0978\n",
            "Epoch 93/100\n",
            "375/375 [==============================] - 1s 4ms/step - loss: 0.5683 - accuracy: 0.8160 - val_loss: 6.7815 - val_accuracy: 0.0974\n",
            "Epoch 94/100\n",
            "375/375 [==============================] - 1s 3ms/step - loss: 0.5598 - accuracy: 0.8200 - val_loss: 6.8689 - val_accuracy: 0.0970\n",
            "Epoch 95/100\n",
            "375/375 [==============================] - 1s 3ms/step - loss: 0.5516 - accuracy: 0.8234 - val_loss: 6.9131 - val_accuracy: 0.0978\n",
            "Epoch 96/100\n",
            "375/375 [==============================] - 1s 3ms/step - loss: 0.5443 - accuracy: 0.8219 - val_loss: 6.9650 - val_accuracy: 0.0973\n",
            "Epoch 97/100\n",
            "375/375 [==============================] - 1s 4ms/step - loss: 0.5353 - accuracy: 0.8275 - val_loss: 7.0212 - val_accuracy: 0.0978\n",
            "Epoch 98/100\n",
            "375/375 [==============================] - 1s 4ms/step - loss: 0.5306 - accuracy: 0.8288 - val_loss: 7.1268 - val_accuracy: 0.0952\n",
            "Epoch 99/100\n",
            "375/375 [==============================] - 1s 3ms/step - loss: 0.5206 - accuracy: 0.8332 - val_loss: 7.2127 - val_accuracy: 0.0982\n",
            "Epoch 100/100\n",
            "375/375 [==============================] - 1s 4ms/step - loss: 0.5156 - accuracy: 0.8354 - val_loss: 7.2745 - val_accuracy: 0.0983\n"
          ]
        },
        {
          "output_type": "execute_result",
          "data": {
            "text/plain": [
              "<keras.callbacks.History at 0x7f43cda0d210>"
            ]
          },
          "metadata": {},
          "execution_count": 11
        }
      ],
      "source": [
        "(train_images, train_labels), _ = mnist.load_data()\n",
        "train_images = train_images.reshape((60000, 28 * 28))\n",
        "train_images = train_images.astype(\"float32\") / 255\n",
        "\n",
        "random_train_labels = train_labels[:]\n",
        "np.random.shuffle(random_train_labels)\n",
        "\n",
        "model = keras.Sequential([\n",
        "    layers.Dense(512, activation=\"relu\"),\n",
        "    layers.Dense(10, activation=\"softmax\")\n",
        "])\n",
        "model.compile(optimizer=\"rmsprop\",\n",
        "              loss=\"sparse_categorical_crossentropy\",\n",
        "              metrics=[\"accuracy\"])\n",
        "model.fit(train_images, random_train_labels,\n",
        "          epochs=100,\n",
        "          batch_size=128,\n",
        "          validation_split=0.2)\n",
        "#the accuracy is increasing with the epochs. The validation accuracy is constant at 10%\n",
        "#in this case it's overfitting compare to the dataset\n",
        "#If validation accuracy is not increasing then we should review dataset & model"
      ]
    },
    {
      "cell_type": "markdown",
      "metadata": {
        "id": "5w6AxXr2dXAK"
      },
      "source": [
        "#### The manifold hypothesis"
      ]
    },
    {
      "cell_type": "markdown",
      "metadata": {
        "id": "Q87JPhL9dXAK"
      },
      "source": [
        "#### Interpolation as a source of generalization"
      ]
    },
    {
      "cell_type": "markdown",
      "metadata": {
        "id": "fSukhMlcdXAK"
      },
      "source": [
        "#### Why deep learning works"
      ]
    },
    {
      "cell_type": "markdown",
      "metadata": {
        "id": "-S-nBh7cdXAK"
      },
      "source": [
        "#### Training data is paramount"
      ]
    },
    {
      "cell_type": "markdown",
      "metadata": {
        "id": "fSOSoae4dXAL"
      },
      "source": [
        "## Evaluating machine-learning models"
      ]
    },
    {
      "cell_type": "markdown",
      "metadata": {
        "id": "EVq0SnuzdXAL"
      },
      "source": [
        "### Training, validation, and test sets"
      ]
    },
    {
      "cell_type": "markdown",
      "metadata": {
        "id": "RwqBO96JdXAL"
      },
      "source": [
        "#### Simple hold-out validation"
      ]
    },
    {
      "cell_type": "code",
      "source": [
        "num_validation_samples=10000\n",
        "np.random.shuffle(data) #shuffling the data is usually appropriate\n",
        "validation_data=data[:num_validation_samples] #define the validation set\n",
        "training_data=data[num_validation_samples:] #defines the training set\n",
        "\n",
        "#trains a model on the training data, and evaluates it on the validation data\n",
        "model=get_model()\n",
        "model.fit(training_data,...)\n",
        "validation_score=model.evaluate(validation_data,...) \n",
        "\n",
        "#at this point you can tune your model, retrain it, evaluate it, tune it again...\n",
        "#once you've tuned your hyperparameters it's common to train your final model from scratch on all non test data avaliable\n",
        "model=get_model()\n",
        "model.fit(np.concatenate([training_data, validation_data]), ...)\n",
        "test_score = model.evaluate(test_data, ...)"
      ],
      "metadata": {
        "id": "AziU5d--paqD",
        "outputId": "db72a29a-f72d-4a91-83ef-e80f77c1b8a8",
        "colab": {
          "base_uri": "https://localhost:8080/",
          "height": 234
        }
      },
      "execution_count": 13,
      "outputs": [
        {
          "output_type": "error",
          "ename": "NameError",
          "evalue": "ignored",
          "traceback": [
            "\u001b[0;31m---------------------------------------------------------------------------\u001b[0m",
            "\u001b[0;31mNameError\u001b[0m                                 Traceback (most recent call last)",
            "\u001b[0;32m<ipython-input-13-64a44424591e>\u001b[0m in \u001b[0;36m<module>\u001b[0;34m()\u001b[0m\n\u001b[1;32m      1\u001b[0m \u001b[0mnum_validation_samples\u001b[0m\u001b[0;34m=\u001b[0m\u001b[0;36m10000\u001b[0m\u001b[0;34m\u001b[0m\u001b[0;34m\u001b[0m\u001b[0m\n\u001b[0;32m----> 2\u001b[0;31m \u001b[0mnp\u001b[0m\u001b[0;34m.\u001b[0m\u001b[0mrandom\u001b[0m\u001b[0;34m.\u001b[0m\u001b[0mshuffle\u001b[0m\u001b[0;34m(\u001b[0m\u001b[0mdata\u001b[0m\u001b[0;34m)\u001b[0m \u001b[0;31m#shuffling the data is usually appropriate\u001b[0m\u001b[0;34m\u001b[0m\u001b[0;34m\u001b[0m\u001b[0m\n\u001b[0m\u001b[1;32m      3\u001b[0m \u001b[0mvalidation_data\u001b[0m\u001b[0;34m=\u001b[0m\u001b[0mdata\u001b[0m\u001b[0;34m[\u001b[0m\u001b[0;34m:\u001b[0m\u001b[0mnum_validation_samples\u001b[0m\u001b[0;34m]\u001b[0m \u001b[0;31m#define the validation set\u001b[0m\u001b[0;34m\u001b[0m\u001b[0;34m\u001b[0m\u001b[0m\n\u001b[1;32m      4\u001b[0m \u001b[0mtraining_data\u001b[0m\u001b[0;34m=\u001b[0m\u001b[0mdata\u001b[0m\u001b[0;34m[\u001b[0m\u001b[0mnum_validation_samples\u001b[0m\u001b[0;34m:\u001b[0m\u001b[0;34m]\u001b[0m \u001b[0;31m#defines the training set\u001b[0m\u001b[0;34m\u001b[0m\u001b[0;34m\u001b[0m\u001b[0m\n\u001b[1;32m      5\u001b[0m \u001b[0;34m\u001b[0m\u001b[0m\n",
            "\u001b[0;31mNameError\u001b[0m: name 'data' is not defined"
          ]
        }
      ]
    },
    {
      "cell_type": "markdown",
      "metadata": {
        "id": "vLhHzsRGdXAL"
      },
      "source": [
        "#### K-fold validation"
      ]
    },
    {
      "cell_type": "markdown",
      "metadata": {
        "id": "kH_Rr-FndXAL"
      },
      "source": [
        "#### Iterated K-fold validation with shuffling"
      ]
    },
    {
      "cell_type": "markdown",
      "metadata": {
        "id": "Jxm5I9u6dXAL"
      },
      "source": [
        "### Beating a common-sense baseline"
      ]
    },
    {
      "cell_type": "markdown",
      "metadata": {
        "id": "T3oYiGY7dXAL"
      },
      "source": [
        "### Things to keep in mind about model evaluation"
      ]
    },
    {
      "cell_type": "markdown",
      "metadata": {
        "id": "tStnlZpOdXAL"
      },
      "source": [
        "## Improving model fit"
      ]
    },
    {
      "cell_type": "markdown",
      "metadata": {
        "id": "8CQVwGJIdXAM"
      },
      "source": [
        "### Tuning key gradient descent parameters"
      ]
    },
    {
      "cell_type": "markdown",
      "metadata": {
        "id": "OFkvuoLEdXAM"
      },
      "source": [
        "**Training a MNIST model with an incorrectly high learning rate**"
      ]
    },
    {
      "cell_type": "code",
      "execution_count": 14,
      "metadata": {
        "id": "1Tp1FyQedXAM",
        "outputId": "33bfbdc2-787c-4f3f-963a-d99782b86a73",
        "colab": {
          "base_uri": "https://localhost:8080/"
        }
      },
      "outputs": [
        {
          "output_type": "stream",
          "name": "stdout",
          "text": [
            "Epoch 1/10\n",
            "375/375 [==============================] - 2s 4ms/step - loss: 969.7648 - accuracy: 0.4630 - val_loss: 2.2133 - val_accuracy: 0.2561\n",
            "Epoch 2/10\n",
            "375/375 [==============================] - 1s 3ms/step - loss: 3.9703 - accuracy: 0.3130 - val_loss: 4.1232 - val_accuracy: 0.3787\n",
            "Epoch 3/10\n",
            "375/375 [==============================] - 1s 4ms/step - loss: 3.4465 - accuracy: 0.3118 - val_loss: 4.9398 - val_accuracy: 0.3423\n",
            "Epoch 4/10\n",
            "375/375 [==============================] - 1s 4ms/step - loss: 2.8468 - accuracy: 0.2984 - val_loss: 2.5461 - val_accuracy: 0.3013\n",
            "Epoch 5/10\n",
            "375/375 [==============================] - 1s 3ms/step - loss: 3.2960 - accuracy: 0.3141 - val_loss: 2.3444 - val_accuracy: 0.3594\n",
            "Epoch 6/10\n",
            "375/375 [==============================] - 1s 3ms/step - loss: 2.6136 - accuracy: 0.3281 - val_loss: 2.3219 - val_accuracy: 0.3243\n",
            "Epoch 7/10\n",
            "375/375 [==============================] - 1s 4ms/step - loss: 2.4512 - accuracy: 0.3282 - val_loss: 2.0257 - val_accuracy: 0.3345\n",
            "Epoch 8/10\n",
            "375/375 [==============================] - 1s 3ms/step - loss: 2.5788 - accuracy: 0.3085 - val_loss: 2.3696 - val_accuracy: 0.3038\n",
            "Epoch 9/10\n",
            "375/375 [==============================] - 1s 3ms/step - loss: 2.4931 - accuracy: 0.3361 - val_loss: 2.3541 - val_accuracy: 0.3648\n",
            "Epoch 10/10\n",
            "375/375 [==============================] - 1s 4ms/step - loss: 2.3053 - accuracy: 0.3289 - val_loss: 2.0728 - val_accuracy: 0.3038\n"
          ]
        },
        {
          "output_type": "execute_result",
          "data": {
            "text/plain": [
              "<keras.callbacks.History at 0x7f437deaa290>"
            ]
          },
          "metadata": {},
          "execution_count": 14
        }
      ],
      "source": [
        "#Training a MNIST model with an incorrectly high learning rate\n",
        "(train_images, train_labels), _ = mnist.load_data()\n",
        "train_images = train_images.reshape((60000, 28 * 28))\n",
        "train_images = train_images.astype(\"float32\") / 255\n",
        "\n",
        "model = keras.Sequential([\n",
        "    layers.Dense(512, activation=\"relu\"),\n",
        "    layers.Dense(10, activation=\"softmax\")\n",
        "])\n",
        "model.compile(optimizer=keras.optimizers.RMSprop(1.),\n",
        "              loss=\"sparse_categorical_crossentropy\",\n",
        "              metrics=[\"accuracy\"])\n",
        "model.fit(train_images, train_labels,\n",
        "          epochs=10,\n",
        "          batch_size=128,\n",
        "          validation_split=0.2)"
      ]
    },
    {
      "cell_type": "markdown",
      "metadata": {
        "id": "BUVCT0TVdXAM"
      },
      "source": [
        "**The same model with a more appropriate learning rate**"
      ]
    },
    {
      "cell_type": "code",
      "execution_count": null,
      "metadata": {
        "id": "w44IA-rtdXAM"
      },
      "outputs": [],
      "source": [
        "#The same model with a more appropriate learning rate\n",
        "model = keras.Sequential([\n",
        "    layers.Dense(512, activation=\"relu\"),\n",
        "    layers.Dense(10, activation=\"softmax\")\n",
        "])\n",
        "model.compile(optimizer=keras.optimizers.RMSprop(1e-2),\n",
        "              loss=\"sparse_categorical_crossentropy\",\n",
        "              metrics=[\"accuracy\"])\n",
        "model.fit(train_images, train_labels,\n",
        "          epochs=10,\n",
        "          batch_size=128,\n",
        "          validation_split=0.2)"
      ]
    },
    {
      "cell_type": "markdown",
      "metadata": {
        "id": "atPlkCv8dXAM"
      },
      "source": [
        "### Leveraging better architecture priors"
      ]
    },
    {
      "cell_type": "markdown",
      "metadata": {
        "id": "dM-RAIQ0dXAM"
      },
      "source": [
        "### Increasing model capacity"
      ]
    },
    {
      "cell_type": "markdown",
      "metadata": {
        "id": "rVuolujcdXAN"
      },
      "source": [
        "**A simple logistic regression on MNIST**"
      ]
    },
    {
      "cell_type": "code",
      "execution_count": 15,
      "metadata": {
        "id": "YiAzoJRLdXAN",
        "outputId": "97f5fbfd-df4d-4dc6-a086-5163eda9575d",
        "colab": {
          "base_uri": "https://localhost:8080/"
        }
      },
      "outputs": [
        {
          "output_type": "stream",
          "name": "stdout",
          "text": [
            "Epoch 1/20\n",
            "375/375 [==============================] - 1s 3ms/step - loss: 0.6868 - accuracy: 0.8279 - val_loss: 0.3606 - val_accuracy: 0.9038\n",
            "Epoch 2/20\n",
            "375/375 [==============================] - 1s 3ms/step - loss: 0.3518 - accuracy: 0.9038 - val_loss: 0.3088 - val_accuracy: 0.9137\n",
            "Epoch 3/20\n",
            "375/375 [==============================] - 1s 3ms/step - loss: 0.3156 - accuracy: 0.9118 - val_loss: 0.2906 - val_accuracy: 0.9183\n",
            "Epoch 4/20\n",
            "375/375 [==============================] - 1s 3ms/step - loss: 0.2993 - accuracy: 0.9161 - val_loss: 0.2812 - val_accuracy: 0.9222\n",
            "Epoch 5/20\n",
            "375/375 [==============================] - 1s 3ms/step - loss: 0.2893 - accuracy: 0.9187 - val_loss: 0.2764 - val_accuracy: 0.9221\n",
            "Epoch 6/20\n",
            "375/375 [==============================] - 1s 3ms/step - loss: 0.2827 - accuracy: 0.9205 - val_loss: 0.2716 - val_accuracy: 0.9251\n",
            "Epoch 7/20\n",
            "375/375 [==============================] - 1s 3ms/step - loss: 0.2775 - accuracy: 0.9226 - val_loss: 0.2687 - val_accuracy: 0.9267\n",
            "Epoch 8/20\n",
            "375/375 [==============================] - 2s 4ms/step - loss: 0.2744 - accuracy: 0.9234 - val_loss: 0.2684 - val_accuracy: 0.9260\n",
            "Epoch 9/20\n",
            "375/375 [==============================] - 2s 5ms/step - loss: 0.2711 - accuracy: 0.9254 - val_loss: 0.2670 - val_accuracy: 0.9265\n",
            "Epoch 10/20\n",
            "375/375 [==============================] - 1s 4ms/step - loss: 0.2684 - accuracy: 0.9258 - val_loss: 0.2645 - val_accuracy: 0.9285\n",
            "Epoch 11/20\n",
            "375/375 [==============================] - 1s 4ms/step - loss: 0.2663 - accuracy: 0.9262 - val_loss: 0.2656 - val_accuracy: 0.9279\n",
            "Epoch 12/20\n",
            "375/375 [==============================] - 1s 4ms/step - loss: 0.2647 - accuracy: 0.9269 - val_loss: 0.2631 - val_accuracy: 0.9298\n",
            "Epoch 13/20\n",
            "375/375 [==============================] - 1s 3ms/step - loss: 0.2631 - accuracy: 0.9273 - val_loss: 0.2630 - val_accuracy: 0.9290\n",
            "Epoch 14/20\n",
            "375/375 [==============================] - 1s 3ms/step - loss: 0.2619 - accuracy: 0.9283 - val_loss: 0.2620 - val_accuracy: 0.9298\n",
            "Epoch 15/20\n",
            "375/375 [==============================] - 1s 3ms/step - loss: 0.2602 - accuracy: 0.9281 - val_loss: 0.2622 - val_accuracy: 0.9297\n",
            "Epoch 16/20\n",
            "375/375 [==============================] - 1s 3ms/step - loss: 0.2593 - accuracy: 0.9286 - val_loss: 0.2607 - val_accuracy: 0.9310\n",
            "Epoch 17/20\n",
            "375/375 [==============================] - 1s 3ms/step - loss: 0.2582 - accuracy: 0.9298 - val_loss: 0.2608 - val_accuracy: 0.9315\n",
            "Epoch 18/20\n",
            "375/375 [==============================] - 1s 3ms/step - loss: 0.2574 - accuracy: 0.9296 - val_loss: 0.2604 - val_accuracy: 0.9309\n",
            "Epoch 19/20\n",
            "375/375 [==============================] - 1s 3ms/step - loss: 0.2563 - accuracy: 0.9304 - val_loss: 0.2630 - val_accuracy: 0.9302\n",
            "Epoch 20/20\n",
            "375/375 [==============================] - 1s 3ms/step - loss: 0.2556 - accuracy: 0.9302 - val_loss: 0.2611 - val_accuracy: 0.9318\n"
          ]
        }
      ],
      "source": [
        "#a simple logistic regression on MNIST\n",
        "model = keras.Sequential([layers.Dense(10, activation=\"softmax\")]) #we only define 1 simple layer with softmax activation same as logistic regression \n",
        "model.compile(optimizer=\"rmsprop\",\n",
        "              loss=\"sparse_categorical_crossentropy\",\n",
        "              metrics=[\"accuracy\"])\n",
        "history_small_model = model.fit(\n",
        "    train_images, train_labels,\n",
        "    epochs=20,\n",
        "    batch_size=128,\n",
        "    validation_split=0.2)\n",
        "#the validation loss is going down so the model is fitting "
      ]
    },
    {
      "cell_type": "code",
      "execution_count": 16,
      "metadata": {
        "id": "an9dgp_ddXAN",
        "outputId": "5dd3523f-2e61-45a6-8c90-0095ab61c2ea",
        "colab": {
          "base_uri": "https://localhost:8080/",
          "height": 312
        }
      },
      "outputs": [
        {
          "output_type": "execute_result",
          "data": {
            "text/plain": [
              "<matplotlib.legend.Legend at 0x7f437d28ac10>"
            ]
          },
          "metadata": {},
          "execution_count": 16
        },
        {
          "output_type": "display_data",
          "data": {
            "text/plain": [
              "<Figure size 432x288 with 1 Axes>"
            ],
            "image/png": "[encoded data removed]"
          },
          "metadata": {
            "needs_background": "light"
          }
        }
      ],
      "source": [
        "import matplotlib.pyplot as plt\n",
        "val_loss = history_small_model.history[\"val_loss\"]\n",
        "epochs = range(1, 21)\n",
        "plt.plot(epochs, val_loss, \"b--\",\n",
        "         label=\"Validation loss\")\n",
        "plt.title(\"Effect of insufficient model capacity on validation loss\")\n",
        "plt.xlabel(\"Epochs\")\n",
        "plt.ylabel(\"Loss\")\n",
        "plt.legend()"
      ]
    },
    {
      "cell_type": "code",
      "execution_count": null,
      "metadata": {
        "id": "tHIbFggJdXAN"
      },
      "outputs": [],
      "source": [
        "#use bigger model\n",
        "#this time 3 layers \n",
        "#we can see the minimum and after it's increasing again (= overfitting)\n",
        "model = keras.Sequential([\n",
        "    layers.Dense(96, activation=\"relu\"),\n",
        "    layers.Dense(96, activation=\"relu\"),\n",
        "    layers.Dense(10, activation=\"softmax\"),\n",
        "])\n",
        "model.compile(optimizer=\"rmsprop\",\n",
        "              loss=\"sparse_categorical_crossentropy\",\n",
        "              metrics=[\"accuracy\"])\n",
        "history_large_model = model.fit(\n",
        "    train_images, train_labels,\n",
        "    epochs=20,\n",
        "    batch_size=128,\n",
        "    validation_split=0.2)"
      ]
    },
    {
      "cell_type": "markdown",
      "metadata": {
        "id": "jRsPu6qJdXAN"
      },
      "source": [
        "## Improving generalization"
      ]
    },
    {
      "cell_type": "markdown",
      "metadata": {
        "id": "p6_KPHzedXAN"
      },
      "source": [
        "### Dataset curation"
      ]
    },
    {
      "cell_type": "markdown",
      "metadata": {
        "id": "JPALH_tKdXAO"
      },
      "source": [
        "### Feature engineering"
      ]
    },
    {
      "cell_type": "markdown",
      "metadata": {
        "id": "fyP0g7TRdXAO"
      },
      "source": [
        "### Using early stopping"
      ]
    },
    {
      "cell_type": "markdown",
      "metadata": {
        "id": "80xkaLcjdXAO"
      },
      "source": [
        "### Regularizing your model"
      ]
    },
    {
      "cell_type": "markdown",
      "metadata": {
        "id": "yfL8Fg-ydXAO"
      },
      "source": [
        "#### Reducing the network's size"
      ]
    },
    {
      "cell_type": "markdown",
      "metadata": {
        "id": "agyIWjAadXAO"
      },
      "source": [
        "**Original model**"
      ]
    },
    {
      "cell_type": "code",
      "execution_count": null,
      "metadata": {
        "id": "4mqnPyXsdXAO"
      },
      "outputs": [],
      "source": [
        "from tensorflow.keras.datasets import imdb\n",
        "(train_data, train_labels), _ = imdb.load_data(num_words=10000)\n",
        "\n",
        "def vectorize_sequences(sequences, dimension=10000):\n",
        "    results = np.zeros((len(sequences), dimension))\n",
        "    for i, sequence in enumerate(sequences):\n",
        "        results[i, sequence] = 1.\n",
        "    return results\n",
        "train_data = vectorize_sequences(train_data)\n",
        "\n",
        "model = keras.Sequential([\n",
        "    layers.Dense(16, activation=\"relu\"),\n",
        "    layers.Dense(16, activation=\"relu\"),\n",
        "    layers.Dense(1, activation=\"sigmoid\")\n",
        "])\n",
        "model.compile(optimizer=\"rmsprop\",\n",
        "              loss=\"binary_crossentropy\",\n",
        "              metrics=[\"accuracy\"])\n",
        "history_original = model.fit(train_data, train_labels,\n",
        "                             epochs=20, batch_size=512, validation_split=0.4)"
      ]
    },
    {
      "cell_type": "markdown",
      "metadata": {
        "id": "p54A-HdGdXAO"
      },
      "source": [
        "**Version of the model with lower capacity**"
      ]
    },
    {
      "cell_type": "code",
      "execution_count": null,
      "metadata": {
        "id": "w6YgnInpdXAO"
      },
      "outputs": [],
      "source": [
        "model = keras.Sequential([\n",
        "    layers.Dense(4, activation=\"relu\"),\n",
        "    layers.Dense(4, activation=\"relu\"),\n",
        "    layers.Dense(1, activation=\"sigmoid\")\n",
        "])\n",
        "model.compile(optimizer=\"rmsprop\",\n",
        "              loss=\"binary_crossentropy\",\n",
        "              metrics=[\"accuracy\"])\n",
        "history_smaller_model = model.fit(\n",
        "    train_data, train_labels,\n",
        "    epochs=20, batch_size=512, validation_split=0.4)"
      ]
    },
    {
      "cell_type": "markdown",
      "metadata": {
        "id": "rIR8Lr1IdXAP"
      },
      "source": [
        "**Version of the model with higher capacity**"
      ]
    },
    {
      "cell_type": "code",
      "execution_count": null,
      "metadata": {
        "id": "9r0O-iROdXAP"
      },
      "outputs": [],
      "source": [
        "model = keras.Sequential([\n",
        "    layers.Dense(512, activation=\"relu\"),\n",
        "    layers.Dense(512, activation=\"relu\"),\n",
        "    layers.Dense(1, activation=\"sigmoid\")\n",
        "])\n",
        "model.compile(optimizer=\"rmsprop\",\n",
        "              loss=\"binary_crossentropy\",\n",
        "              metrics=[\"accuracy\"])\n",
        "history_larger_model = model.fit(\n",
        "    train_data, train_labels,\n",
        "    epochs=20, batch_size=512, validation_split=0.4)"
      ]
    },
    {
      "cell_type": "markdown",
      "metadata": {
        "id": "3gS7WkI1dXAP"
      },
      "source": [
        "#### Adding weight regularization"
      ]
    },
    {
      "cell_type": "markdown",
      "metadata": {
        "id": "90NS_FopdXAP"
      },
      "source": [
        "**Adding L2 weight regularization to the model**"
      ]
    },
    {
      "cell_type": "code",
      "execution_count": null,
      "metadata": {
        "id": "O_AQNe6WdXAP"
      },
      "outputs": [],
      "source": [
        "from tensorflow.keras import regularizers\n",
        "model = keras.Sequential([\n",
        "    layers.Dense(16,\n",
        "                 kernel_regularizer=regularizers.l2(0.002),\n",
        "                 activation=\"relu\"),\n",
        "    layers.Dense(16,\n",
        "                 kernel_regularizer=regularizers.l2(0.002),\n",
        "                 activation=\"relu\"),\n",
        "    layers.Dense(1, activation=\"sigmoid\")\n",
        "])\n",
        "model.compile(optimizer=\"rmsprop\",\n",
        "              loss=\"binary_crossentropy\",\n",
        "              metrics=[\"accuracy\"])\n",
        "history_l2_reg = model.fit(\n",
        "    train_data, train_labels,\n",
        "    epochs=20, batch_size=512, validation_split=0.4)"
      ]
    },
    {
      "cell_type": "markdown",
      "metadata": {
        "id": "u45m9qcjdXAP"
      },
      "source": [
        "**Different weight regularizers available in Keras**"
      ]
    },
    {
      "cell_type": "code",
      "execution_count": null,
      "metadata": {
        "id": "8fbFpVH3dXAP"
      },
      "outputs": [],
      "source": [
        "from tensorflow.keras import regularizers\n",
        "regularizers.l1(0.001)\n",
        "regularizers.l1_l2(l1=0.001, l2=0.001)"
      ]
    },
    {
      "cell_type": "markdown",
      "metadata": {
        "id": "PZqcCr8bdXAP"
      },
      "source": [
        "#### Adding dropout"
      ]
    },
    {
      "cell_type": "markdown",
      "metadata": {
        "id": "p-TXG2OLdXAQ"
      },
      "source": [
        "**Adding dropout to the IMDB model**"
      ]
    },
    {
      "cell_type": "code",
      "execution_count": null,
      "metadata": {
        "id": "6S-xZBhYdXAQ"
      },
      "outputs": [],
      "source": [
        "model = keras.Sequential([\n",
        "    layers.Dense(16, activation=\"relu\"),\n",
        "    layers.Dropout(0.5),\n",
        "    layers.Dense(16, activation=\"relu\"),\n",
        "    layers.Dropout(0.5),\n",
        "    layers.Dense(1, activation=\"sigmoid\")\n",
        "])\n",
        "model.compile(optimizer=\"rmsprop\",\n",
        "              loss=\"binary_crossentropy\",\n",
        "              metrics=[\"accuracy\"])\n",
        "history_dropout = model.fit(\n",
        "    train_data, train_labels,\n",
        "    epochs=20, batch_size=512, validation_split=0.4)"
      ]
    },
    {
      "cell_type": "markdown",
      "metadata": {
        "id": "n77Q_P8XdXAQ"
      },
      "source": [
        "## Summary"
      ]
    }
  ],
  "metadata": {
    "colab": {
      "collapsed_sections": [],
      "name": "chapter05_fundamentals-of-ml.i",
      "provenance": []
    },
    "kernelspec": {
      "display_name": "Python 3",
      "language": "python",
      "name": "python3"
    },
    "language_info": {
      "codemirror_mode": {
        "name": "ipython",
        "version": 3
      },
      "file_extension": ".py",
      "mimetype": "text/x-python",
      "name": "python",
      "nbconvert_exporter": "python",
      "pygments_lexer": "ipython3",
      "version": "3.7.0"
    },
    "accelerator": "GPU"
  },
  "nbformat": 4,
  "nbformat_minor": 0
}