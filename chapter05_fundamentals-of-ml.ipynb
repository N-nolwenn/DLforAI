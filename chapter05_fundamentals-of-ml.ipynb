{
  "cells": [
    {
      "cell_type": "markdown",
      "metadata": {
        "id": "__URtGCpdXAA"
      },
      "source": [
        "This is a companion notebook for the book [Deep Learning with Python, Second Edition](https://www.manning.com/books/deep-learning-with-python-second-edition?a_aid=keras&a_bid=76564dff). For readability, it only contains runnable code blocks and section titles, and omits everything else in the book: text paragraphs, figures, and pseudocode.\n",
        "\n",
        "**If you want to be able to follow what's going on, I recommend reading the notebook side by side with your copy of the book.**\n",
        "\n",
        "This notebook was generated for TensorFlow 2.6."
      ]
    },
    {
      "cell_type": "markdown",
      "metadata": {
        "id": "uWUpCiqxdXAD"
      },
      "source": [
        "# Fundamentals of machine learning"
      ]
    },
    {
      "cell_type": "markdown",
      "metadata": {
        "id": "wKVFG0qQdXAD"
      },
      "source": [
        "## Generalization: The goal of machine learning"
      ]
    },
    {
      "cell_type": "markdown",
      "source": [
        "The fundamental issue in machine learning is the tension between optimization and generalization\n",
        "\n",
        "Optimization refers to the process of\n",
        "adjusting a model to get the best\n",
        "performance possible on the training data\n",
        "\n",
        "\n",
        "Generalization refers to how well the\n",
        "trained model performs on data it has\n",
        "never seen before\n",
        "\n",
        "\n",
        "The processing of fighting overfitting is\n",
        "called regularization"
      ],
      "metadata": {
        "id": "A2PjbDhTbPp9"
      }
    },
    {
      "cell_type": "markdown",
      "metadata": {
        "id": "Vk9tNnH-dXAE"
      },
      "source": [
        "### Underfitting and overfitting"
      ]
    },
    {
      "cell_type": "markdown",
      "source": [
        "Under fitting= too simple to explain the variance\n",
        "\n",
        "appropriate fitting\n",
        "\n",
        "Over fitting = forcefitting too good to be true"
      ],
      "metadata": {
        "id": "7nxdZJYVbf-p"
      }
    },
    {
      "cell_type": "markdown",
      "source": [
        "Before training: the model starts with a random initial state.\n",
        "\n",
        "Beginning of training: the model gradually moves toward a better fit\n",
        "\n",
        "Further training: a robust fit is achieved, transitevely in the process of morphing the model from its initial state to its final state\n",
        "\n",
        "Final state: the model overfits the training data reaching perfect training loss\n",
        "\n",
        "Test time: perf of robusty fit model on new data points, perf of overfit on new data points"
      ],
      "metadata": {
        "id": "sp176FbKbqS8"
      }
    },
    {
      "cell_type": "markdown",
      "metadata": {
        "id": "lA8C72G3dXAE"
      },
      "source": [
        "#### Noisy training data"
      ]
    },
    {
      "cell_type": "markdown",
      "source": [
        "In real-world datasets, it’s fairly common for some inputs to be invalid. "
      ],
      "metadata": {
        "id": "iUMIh8qecKJC"
      }
    },
    {
      "cell_type": "markdown",
      "metadata": {
        "id": "RB-Uu-J5dXAE"
      },
      "source": [
        "#### Ambiguous features"
      ]
    },
    {
      "cell_type": "markdown",
      "metadata": {
        "id": "x092a-O-dXAF"
      },
      "source": [
        "#### Rare features and spurious correlations"
      ]
    },
    {
      "cell_type": "markdown",
      "source": [
        "Datasets that include rare feature values are highly susceptible to overfitting"
      ],
      "metadata": {
        "id": "A8zaUkAxcPoS"
      }
    },
    {
      "cell_type": "markdown",
      "metadata": {
        "id": "dvOa6KnUdXAF"
      },
      "source": [
        "**Adding white-noise channels or all-zeros channels to MNIST**"
      ]
    },
    {
      "cell_type": "code",
      "execution_count": 1,
      "metadata": {
        "id": "xPcAFjTndXAG",
        "outputId": "7e224c5f-7aaf-40c5-8e93-db29489bd0e9",
        "colab": {
          "base_uri": "https://localhost:8080/"
        }
      },
      "outputs": [
        {
          "output_type": "stream",
          "name": "stdout",
          "text": [
            "Downloading data from https://storage.googleapis.com/tensorflow/tf-keras-datasets/mnist.npz\n",
            "11493376/11490434 [==============================] - 0s 0us/step\n",
            "11501568/11490434 [==============================] - 0s 0us/step\n"
          ]
        }
      ],
      "source": [
        "#example of suspicious correlations\n",
        "from tensorflow.keras.datasets import mnist\n",
        "import numpy as np\n",
        "\n",
        "(train_images, train_labels), _ = mnist.load_data()\n",
        "train_images = train_images.reshape((60000, 28 * 28))\n",
        "train_images = train_images.astype(\"float32\") / 255\n",
        "\n",
        "#Adding random noise with size of len(train_images) using np.random.random we take random value matric of the size len...\n",
        "train_images_with_noise_channels = np.concatenate(\n",
        "    [train_images, np.random.random((len(train_images), 784))], axis=1)\n",
        "\n",
        "#Adding 0 vectors\n",
        "train_images_with_zeros_channels = np.concatenate(\n",
        "    [train_images, np.zeros((len(train_images), 784))], axis=1)"
      ]
    },
    {
      "cell_type": "code",
      "source": [
        "#original dimension\n",
        "train_images.shape "
      ],
      "metadata": {
        "id": "QlN1nnGqgVzi",
        "outputId": "c580fbb0-96bf-40ac-becd-28ea71826e71",
        "colab": {
          "base_uri": "https://localhost:8080/"
        }
      },
      "execution_count": null,
      "outputs": [
        {
          "output_type": "execute_result",
          "data": {
            "text/plain": [
              "(60000, 784)"
            ]
          },
          "metadata": {},
          "execution_count": 2
        }
      ]
    },
    {
      "cell_type": "code",
      "source": [
        "#we want to add this size of random noise to the original training dataset\n",
        "(len(train_images), 784)"
      ],
      "metadata": {
        "id": "J0HnNbsUgb3J",
        "outputId": "f0f38501-382a-474e-954c-7d2d19f122fb",
        "colab": {
          "base_uri": "https://localhost:8080/"
        }
      },
      "execution_count": null,
      "outputs": [
        {
          "output_type": "execute_result",
          "data": {
            "text/plain": [
              "(60000, 784)"
            ]
          },
          "metadata": {},
          "execution_count": 3
        }
      ]
    },
    {
      "cell_type": "code",
      "source": [
        "train_images_with_noise_channels.shape"
      ],
      "metadata": {
        "id": "B82j_ORFgftu",
        "outputId": "07ac49f9-7644-4f7b-9ed5-831929b36e62",
        "colab": {
          "base_uri": "https://localhost:8080/"
        }
      },
      "execution_count": null,
      "outputs": [
        {
          "output_type": "execute_result",
          "data": {
            "text/plain": [
              "(60000, 1568)"
            ]
          },
          "metadata": {},
          "execution_count": 4
        }
      ]
    },
    {
      "cell_type": "code",
      "source": [
        "np.random.random((len(train_images), 784))"
      ],
      "metadata": {
        "id": "GTfbDEtjhb3j",
        "outputId": "670390d9-9e43-426e-da5a-3fff8b3b3ec8",
        "colab": {
          "base_uri": "https://localhost:8080/"
        }
      },
      "execution_count": null,
      "outputs": [
        {
          "output_type": "execute_result",
          "data": {
            "text/plain": [
              "array([[0.01675526, 0.60610026, 0.82291268, ..., 0.45221824, 0.83034688,\n",
              "        0.38291181],\n",
              "       [0.8683715 , 0.15331478, 0.80765151, ..., 0.52867636, 0.35760709,\n",
              "        0.7303782 ],\n",
              "       [0.06160073, 0.17940989, 0.64246732, ..., 0.97387408, 0.26126295,\n",
              "        0.09349198],\n",
              "       ...,\n",
              "       [0.04106903, 0.2096837 , 0.40706365, ..., 0.05516666, 0.9137041 ,\n",
              "        0.14312474],\n",
              "       [0.39423096, 0.46709035, 0.54084337, ..., 0.95885745, 0.96806881,\n",
              "        0.05380409],\n",
              "       [0.54981259, 0.46920527, 0.56450583, ..., 0.89567434, 0.49803407,\n",
              "        0.31813044]])"
            ]
          },
          "metadata": {},
          "execution_count": 5
        }
      ]
    },
    {
      "cell_type": "code",
      "source": [
        "train_images, np.zeros((len(train_images), 784))"
      ],
      "metadata": {
        "id": "iqBkqSDchlSz",
        "outputId": "9925ae77-e01c-4769-821b-6a4311c8ec69",
        "colab": {
          "base_uri": "https://localhost:8080/"
        }
      },
      "execution_count": null,
      "outputs": [
        {
          "output_type": "execute_result",
          "data": {
            "text/plain": [
              "(array([[0., 0., 0., ..., 0., 0., 0.],\n",
              "        [0., 0., 0., ..., 0., 0., 0.],\n",
              "        [0., 0., 0., ..., 0., 0., 0.],\n",
              "        ...,\n",
              "        [0., 0., 0., ..., 0., 0., 0.],\n",
              "        [0., 0., 0., ..., 0., 0., 0.],\n",
              "        [0., 0., 0., ..., 0., 0., 0.]], dtype=float32),\n",
              " array([[0., 0., 0., ..., 0., 0., 0.],\n",
              "        [0., 0., 0., ..., 0., 0., 0.],\n",
              "        [0., 0., 0., ..., 0., 0., 0.],\n",
              "        ...,\n",
              "        [0., 0., 0., ..., 0., 0., 0.],\n",
              "        [0., 0., 0., ..., 0., 0., 0.],\n",
              "        [0., 0., 0., ..., 0., 0., 0.]]))"
            ]
          },
          "metadata": {},
          "execution_count": 6
        }
      ]
    },
    {
      "cell_type": "markdown",
      "metadata": {
        "id": "ATHYOqfYdXAH"
      },
      "source": [
        "**Training the same model on MNIST data with noise channels or all-zero channels**"
      ]
    },
    {
      "cell_type": "code",
      "execution_count": 2,
      "metadata": {
        "id": "pct8-5W1dXAH",
        "outputId": "9636cd93-aee7-44ce-f0bd-65220942f1ec",
        "colab": {
          "base_uri": "https://localhost:8080/"
        }
      },
      "outputs": [
        {
          "output_type": "stream",
          "name": "stdout",
          "text": [
            "Epoch 1/10\n",
            "375/375 [==============================] - 6s 4ms/step - loss: 0.6134 - accuracy: 0.8144 - val_loss: 0.2681 - val_accuracy: 0.9253\n",
            "Epoch 2/10\n",
            "375/375 [==============================] - 1s 3ms/step - loss: 0.2444 - accuracy: 0.9238 - val_loss: 0.1944 - val_accuracy: 0.9408\n",
            "Epoch 3/10\n",
            "375/375 [==============================] - 1s 3ms/step - loss: 0.1562 - accuracy: 0.9514 - val_loss: 0.1792 - val_accuracy: 0.9458\n",
            "Epoch 4/10\n",
            "375/375 [==============================] - 1s 3ms/step - loss: 0.1099 - accuracy: 0.9660 - val_loss: 0.1195 - val_accuracy: 0.9643\n",
            "Epoch 5/10\n",
            "375/375 [==============================] - 1s 4ms/step - loss: 0.0801 - accuracy: 0.9755 - val_loss: 0.1186 - val_accuracy: 0.9667\n",
            "Epoch 6/10\n",
            "375/375 [==============================] - 1s 3ms/step - loss: 0.0587 - accuracy: 0.9818 - val_loss: 0.1433 - val_accuracy: 0.9611\n",
            "Epoch 7/10\n",
            "375/375 [==============================] - 1s 3ms/step - loss: 0.0432 - accuracy: 0.9857 - val_loss: 0.1481 - val_accuracy: 0.9602\n",
            "Epoch 8/10\n",
            "375/375 [==============================] - 1s 3ms/step - loss: 0.0322 - accuracy: 0.9893 - val_loss: 0.1156 - val_accuracy: 0.9698\n",
            "Epoch 9/10\n",
            "375/375 [==============================] - 1s 3ms/step - loss: 0.0255 - accuracy: 0.9918 - val_loss: 0.1558 - val_accuracy: 0.9629\n",
            "Epoch 10/10\n",
            "375/375 [==============================] - 2s 5ms/step - loss: 0.0208 - accuracy: 0.9931 - val_loss: 0.1653 - val_accuracy: 0.9633\n",
            "Epoch 1/10\n",
            "375/375 [==============================] - 2s 4ms/step - loss: 0.2903 - accuracy: 0.9159 - val_loss: 0.1717 - val_accuracy: 0.9502\n",
            "Epoch 2/10\n",
            "375/375 [==============================] - 1s 3ms/step - loss: 0.1222 - accuracy: 0.9635 - val_loss: 0.1179 - val_accuracy: 0.9658\n",
            "Epoch 3/10\n",
            "375/375 [==============================] - 1s 3ms/step - loss: 0.0799 - accuracy: 0.9760 - val_loss: 0.0905 - val_accuracy: 0.9741\n",
            "Epoch 4/10\n",
            "375/375 [==============================] - 1s 3ms/step - loss: 0.0570 - accuracy: 0.9827 - val_loss: 0.0842 - val_accuracy: 0.9758\n",
            "Epoch 5/10\n",
            "375/375 [==============================] - 1s 3ms/step - loss: 0.0428 - accuracy: 0.9873 - val_loss: 0.0823 - val_accuracy: 0.9762\n",
            "Epoch 6/10\n",
            "375/375 [==============================] - 1s 3ms/step - loss: 0.0331 - accuracy: 0.9902 - val_loss: 0.0858 - val_accuracy: 0.9763\n",
            "Epoch 7/10\n",
            "375/375 [==============================] - 1s 3ms/step - loss: 0.0255 - accuracy: 0.9926 - val_loss: 0.0896 - val_accuracy: 0.9759\n",
            "Epoch 8/10\n",
            "375/375 [==============================] - 1s 3ms/step - loss: 0.0192 - accuracy: 0.9942 - val_loss: 0.0824 - val_accuracy: 0.9794\n",
            "Epoch 9/10\n",
            "375/375 [==============================] - 1s 3ms/step - loss: 0.0144 - accuracy: 0.9959 - val_loss: 0.0880 - val_accuracy: 0.9778\n",
            "Epoch 10/10\n",
            "375/375 [==============================] - 1s 3ms/step - loss: 0.0112 - accuracy: 0.9969 - val_loss: 0.0858 - val_accuracy: 0.9796\n"
          ]
        }
      ],
      "source": [
        "from tensorflow import keras\n",
        "from tensorflow.keras import layers\n",
        "\n",
        "def get_model():\n",
        "    model = keras.Sequential([\n",
        "        layers.Dense(512, activation=\"relu\"),\n",
        "        layers.Dense(10, activation=\"softmax\")\n",
        "    ])\n",
        "    model.compile(optimizer=\"rmsprop\",\n",
        "                  loss=\"sparse_categorical_crossentropy\",\n",
        "                  metrics=[\"accuracy\"])\n",
        "    return model\n",
        "\n",
        "#training\n",
        "model = get_model()\n",
        "history_noise = model.fit(\n",
        "    train_images_with_noise_channels, train_labels,\n",
        "    epochs=10,\n",
        "    batch_size=128,\n",
        "    validation_split=0.2)\n",
        "#plot the history\n",
        "model = get_model()\n",
        "history_zeros = model.fit(\n",
        "    train_images_with_zeros_channels, train_labels,\n",
        "    epochs=10,\n",
        "    batch_size=128,\n",
        "    validation_split=0.2)"
      ]
    },
    {
      "cell_type": "code",
      "source": [
        "#training data with original data\n",
        "#The performance is a little better if we look at the accuracy\n",
        "model = get_model()\n",
        "history1 = model.fit(\n",
        "    train_images, train_labels,\n",
        "    epochs=10,\n",
        "    batch_size=128,\n",
        "    validation_split=0.2)"
      ],
      "metadata": {
        "id": "0jiZsWxDh3wj",
        "outputId": "f14dfe9f-f660-425b-96c4-56f36728db5c",
        "colab": {
          "base_uri": "https://localhost:8080/"
        }
      },
      "execution_count": 3,
      "outputs": [
        {
          "output_type": "stream",
          "name": "stdout",
          "text": [
            "Epoch 1/10\n",
            "375/375 [==============================] - 2s 3ms/step - loss: 0.2849 - accuracy: 0.9178 - val_loss: 0.1452 - val_accuracy: 0.9582\n",
            "Epoch 2/10\n",
            "375/375 [==============================] - 1s 3ms/step - loss: 0.1190 - accuracy: 0.9644 - val_loss: 0.1016 - val_accuracy: 0.9683\n",
            "Epoch 3/10\n",
            "375/375 [==============================] - 1s 3ms/step - loss: 0.0770 - accuracy: 0.9771 - val_loss: 0.0972 - val_accuracy: 0.9714\n",
            "Epoch 4/10\n",
            "375/375 [==============================] - 1s 3ms/step - loss: 0.0552 - accuracy: 0.9843 - val_loss: 0.0779 - val_accuracy: 0.9772\n",
            "Epoch 5/10\n",
            "375/375 [==============================] - 1s 3ms/step - loss: 0.0410 - accuracy: 0.9879 - val_loss: 0.0806 - val_accuracy: 0.9748\n",
            "Epoch 6/10\n",
            "375/375 [==============================] - 1s 3ms/step - loss: 0.0309 - accuracy: 0.9906 - val_loss: 0.0791 - val_accuracy: 0.9785\n",
            "Epoch 7/10\n",
            "375/375 [==============================] - 1s 3ms/step - loss: 0.0233 - accuracy: 0.9933 - val_loss: 0.0812 - val_accuracy: 0.9785\n",
            "Epoch 8/10\n",
            "375/375 [==============================] - 1s 3ms/step - loss: 0.0182 - accuracy: 0.9946 - val_loss: 0.0766 - val_accuracy: 0.9803\n",
            "Epoch 9/10\n",
            "375/375 [==============================] - 1s 3ms/step - loss: 0.0130 - accuracy: 0.9963 - val_loss: 0.0779 - val_accuracy: 0.9810\n",
            "Epoch 10/10\n",
            "375/375 [==============================] - 1s 3ms/step - loss: 0.0102 - accuracy: 0.9972 - val_loss: 0.0911 - val_accuracy: 0.9782\n"
          ]
        }
      ]
    },
    {
      "cell_type": "markdown",
      "metadata": {
        "id": "LfNlKuCgdXAI"
      },
      "source": [
        "**Plotting a validation accuracy comparison**"
      ]
    },
    {
      "cell_type": "code",
      "execution_count": 4,
      "metadata": {
        "id": "DCNjVwEjdXAI",
        "outputId": "ce22fea2-0a35-414a-b4a1-ea73aa89502d",
        "colab": {
          "base_uri": "https://localhost:8080/",
          "height": 312
        }
      },
      "outputs": [
        {
          "output_type": "execute_result",
          "data": {
            "text/plain": [
              "<matplotlib.legend.Legend at 0x7f7920217cd0>"
            ]
          },
          "metadata": {},
          "execution_count": 4
        },
        {
          "output_type": "display_data",
          "data": {
            "text/plain": [
              "<Figure size 432x288 with 1 Axes>"
            ],
            "image/png": "[encoded data removed]"
          },
          "metadata": {
            "needs_background": "light"
          }
        }
      ],
      "source": [
        "import matplotlib.pyplot as plt\n",
        "val_acc_noise = history_noise.history[\"val_accuracy\"]\n",
        "val_acc_zeros = history_zeros.history[\"val_accuracy\"]\n",
        "epochs = range(1, 11)\n",
        "plt.plot(epochs, val_acc_noise, \"b-\",\n",
        "         label=\"Validation accuracy with noise channels\")\n",
        "plt.plot(epochs, val_acc_zeros, \"b--\",\n",
        "         label=\"Validation accuracy with zeros channels\")\n",
        "plt.title(\"Effect of noise channels on validation accuracy\")\n",
        "plt.xlabel(\"Epochs\")\n",
        "plt.ylabel(\"Accuracy\")\n",
        "plt.legend()\n",
        "#if we had the random noise, it will cause suspisious correlation and perofrmance goes down. \n",
        "#not recommended to add random noise in classification"
      ]
    },
    {
      "cell_type": "markdown",
      "source": [
        "Noisy features inevitably lead to overfitting. As such, in cases where\n",
        "you aren’t sure whether the features you have are informative or distracting, it’s common to do feature selection before training"
      ],
      "metadata": {
        "id": "QLFlrEUBcmsG"
      }
    },
    {
      "cell_type": "code",
      "source": [
        "import matplotlib.pyplot as plt\n",
        "val_acc = history1.history[\"val_accuracy\"]\n",
        "val_acc_zeros = history_zeros.history[\"val_accuracy\"]\n",
        "epochs = range(1, 11)\n",
        "plt.plot(epochs, val_acc, \"b-\",\n",
        "         label=\"Validation accuracy original data\")\n",
        "plt.plot(epochs, val_acc_zeros, \"b--\",\n",
        "         label=\"Validation accuracy with zeros channels\")\n",
        "plt.title(\"Effect of noise channels on validation accuracy\")\n",
        "plt.xlabel(\"Epochs\")\n",
        "plt.ylabel(\"Accuracy\")\n",
        "plt.legend()\n",
        "#the 2 validation are quite similar"
      ],
      "metadata": {
        "id": "5avwnJndiIfH",
        "outputId": "89973c9f-14ed-417c-d0e0-f8c208b452c2",
        "colab": {
          "base_uri": "https://localhost:8080/",
          "height": 312
        }
      },
      "execution_count": null,
      "outputs": [
        {
          "output_type": "execute_result",
          "data": {
            "text/plain": [
              "<matplotlib.legend.Legend at 0x7f3d20250410>"
            ]
          },
          "metadata": {},
          "execution_count": 10
        },
        {
          "output_type": "display_data",
          "data": {
            "text/plain": [
              "<Figure size 432x288 with 1 Axes>"
            ],
            "image/png": "[encoded data removed]"
          },
          "metadata": {
            "needs_background": "light"
          }
        }
      ]
    },
    {
      "cell_type": "markdown",
      "metadata": {
        "id": "_-kKg-cadXAJ"
      },
      "source": [
        "### The nature of generalization in deep learning"
      ]
    },
    {
      "cell_type": "markdown",
      "source": [
        "A remarkable fact about deep learning models is that they can be trained to\n",
        "fit anything, as long as they have enough representational power"
      ],
      "metadata": {
        "id": "xMosNlONczHZ"
      }
    },
    {
      "cell_type": "markdown",
      "metadata": {
        "id": "LSwKReL6dXAJ"
      },
      "source": [
        "**Fitting a MNIST model with randomly shuffled labels**"
      ]
    },
    {
      "cell_type": "markdown",
      "source": [
        "Even though there is no relationship\n",
        "whatsoever between the inputs and\n",
        "the shuffled labels, the training loss\n",
        "goes down just fine \n",
        "\n",
        "Naturally, the validation loss does not\n",
        "improve at all over time"
      ],
      "metadata": {
        "id": "L0yZDOTzc3N7"
      }
    },
    {
      "cell_type": "code",
      "execution_count": 5,
      "metadata": {
        "id": "RifX-_DldXAJ",
        "outputId": "e5b83168-8c4e-4c5e-9984-105af7e1e94b",
        "colab": {
          "base_uri": "https://localhost:8080/"
        }
      },
      "outputs": [
        {
          "output_type": "stream",
          "name": "stdout",
          "text": [
            "Epoch 1/100\n",
            "375/375 [==============================] - 3s 7ms/step - loss: 2.3166 - accuracy: 0.1049 - val_loss: 2.3060 - val_accuracy: 0.1080\n",
            "Epoch 2/100\n",
            "375/375 [==============================] - 2s 5ms/step - loss: 2.2999 - accuracy: 0.1162 - val_loss: 2.3132 - val_accuracy: 0.1079\n",
            "Epoch 3/100\n",
            "375/375 [==============================] - 2s 5ms/step - loss: 2.2902 - accuracy: 0.1271 - val_loss: 2.3155 - val_accuracy: 0.1005\n",
            "Epoch 4/100\n",
            "375/375 [==============================] - 2s 5ms/step - loss: 2.2754 - accuracy: 0.1413 - val_loss: 2.3260 - val_accuracy: 0.1072\n",
            "Epoch 5/100\n",
            "375/375 [==============================] - 1s 3ms/step - loss: 2.2576 - accuracy: 0.1545 - val_loss: 2.3353 - val_accuracy: 0.1039\n",
            "Epoch 6/100\n",
            "375/375 [==============================] - 1s 3ms/step - loss: 2.2360 - accuracy: 0.1687 - val_loss: 2.3490 - val_accuracy: 0.1068\n",
            "Epoch 7/100\n",
            "375/375 [==============================] - 1s 3ms/step - loss: 2.2114 - accuracy: 0.1852 - val_loss: 2.3577 - val_accuracy: 0.1079\n",
            "Epoch 8/100\n",
            "375/375 [==============================] - 1s 3ms/step - loss: 2.1846 - accuracy: 0.1986 - val_loss: 2.3805 - val_accuracy: 0.1042\n",
            "Epoch 9/100\n",
            "375/375 [==============================] - 1s 3ms/step - loss: 2.1537 - accuracy: 0.2178 - val_loss: 2.4046 - val_accuracy: 0.1010\n",
            "Epoch 10/100\n",
            "375/375 [==============================] - 1s 4ms/step - loss: 2.1230 - accuracy: 0.2307 - val_loss: 2.4282 - val_accuracy: 0.1009\n",
            "Epoch 11/100\n",
            "375/375 [==============================] - 1s 3ms/step - loss: 2.0908 - accuracy: 0.2486 - val_loss: 2.4467 - val_accuracy: 0.1044\n",
            "Epoch 12/100\n",
            "375/375 [==============================] - 1s 3ms/step - loss: 2.0577 - accuracy: 0.2621 - val_loss: 2.4668 - val_accuracy: 0.1077\n",
            "Epoch 13/100\n",
            "375/375 [==============================] - 1s 3ms/step - loss: 2.0217 - accuracy: 0.2796 - val_loss: 2.5132 - val_accuracy: 0.1010\n",
            "Epoch 14/100\n",
            "375/375 [==============================] - 1s 3ms/step - loss: 1.9881 - accuracy: 0.2948 - val_loss: 2.5377 - val_accuracy: 0.1030\n",
            "Epoch 15/100\n",
            "375/375 [==============================] - 1s 3ms/step - loss: 1.9525 - accuracy: 0.3104 - val_loss: 2.5494 - val_accuracy: 0.0977\n",
            "Epoch 16/100\n",
            "375/375 [==============================] - 1s 3ms/step - loss: 1.9185 - accuracy: 0.3229 - val_loss: 2.5891 - val_accuracy: 0.1028\n",
            "Epoch 17/100\n",
            "375/375 [==============================] - 1s 3ms/step - loss: 1.8833 - accuracy: 0.3383 - val_loss: 2.6151 - val_accuracy: 0.1041\n",
            "Epoch 18/100\n",
            "375/375 [==============================] - 1s 3ms/step - loss: 1.8509 - accuracy: 0.3502 - val_loss: 2.6514 - val_accuracy: 0.1021\n",
            "Epoch 19/100\n",
            "375/375 [==============================] - 1s 3ms/step - loss: 1.8176 - accuracy: 0.3657 - val_loss: 2.7002 - val_accuracy: 0.1012\n",
            "Epoch 20/100\n",
            "375/375 [==============================] - 1s 3ms/step - loss: 1.7850 - accuracy: 0.3765 - val_loss: 2.7285 - val_accuracy: 0.1040\n",
            "Epoch 21/100\n",
            "375/375 [==============================] - 1s 3ms/step - loss: 1.7539 - accuracy: 0.3879 - val_loss: 2.7645 - val_accuracy: 0.1069\n",
            "Epoch 22/100\n",
            "375/375 [==============================] - 1s 3ms/step - loss: 1.7244 - accuracy: 0.4010 - val_loss: 2.8239 - val_accuracy: 0.1064\n",
            "Epoch 23/100\n",
            "375/375 [==============================] - 1s 3ms/step - loss: 1.6927 - accuracy: 0.4139 - val_loss: 2.8361 - val_accuracy: 0.1063\n",
            "Epoch 24/100\n",
            "375/375 [==============================] - 1s 3ms/step - loss: 1.6617 - accuracy: 0.4257 - val_loss: 2.8834 - val_accuracy: 0.1008\n",
            "Epoch 25/100\n",
            "375/375 [==============================] - 1s 3ms/step - loss: 1.6339 - accuracy: 0.4340 - val_loss: 2.9210 - val_accuracy: 0.1039\n",
            "Epoch 26/100\n",
            "375/375 [==============================] - 1s 3ms/step - loss: 1.6064 - accuracy: 0.4487 - val_loss: 2.9838 - val_accuracy: 0.1009\n",
            "Epoch 27/100\n",
            "375/375 [==============================] - 1s 3ms/step - loss: 1.5771 - accuracy: 0.4587 - val_loss: 3.0488 - val_accuracy: 0.1016\n",
            "Epoch 28/100\n",
            "375/375 [==============================] - 1s 3ms/step - loss: 1.5491 - accuracy: 0.4652 - val_loss: 3.0561 - val_accuracy: 0.1042\n",
            "Epoch 29/100\n",
            "375/375 [==============================] - 1s 3ms/step - loss: 1.5249 - accuracy: 0.4759 - val_loss: 3.0966 - val_accuracy: 0.1052\n",
            "Epoch 30/100\n",
            "375/375 [==============================] - 1s 3ms/step - loss: 1.4991 - accuracy: 0.4843 - val_loss: 3.1445 - val_accuracy: 0.1006\n",
            "Epoch 31/100\n",
            "375/375 [==============================] - 1s 3ms/step - loss: 1.4739 - accuracy: 0.4947 - val_loss: 3.1768 - val_accuracy: 0.1023\n",
            "Epoch 32/100\n",
            "375/375 [==============================] - 1s 3ms/step - loss: 1.4489 - accuracy: 0.5033 - val_loss: 3.2214 - val_accuracy: 0.1038\n",
            "Epoch 33/100\n",
            "375/375 [==============================] - 1s 3ms/step - loss: 1.4262 - accuracy: 0.5119 - val_loss: 3.2762 - val_accuracy: 0.1035\n",
            "Epoch 34/100\n",
            "375/375 [==============================] - 1s 3ms/step - loss: 1.4013 - accuracy: 0.5203 - val_loss: 3.3319 - val_accuracy: 0.1028\n",
            "Epoch 35/100\n",
            "375/375 [==============================] - 1s 3ms/step - loss: 1.3788 - accuracy: 0.5306 - val_loss: 3.3508 - val_accuracy: 0.1033\n",
            "Epoch 36/100\n",
            "375/375 [==============================] - 1s 3ms/step - loss: 1.3555 - accuracy: 0.5386 - val_loss: 3.4391 - val_accuracy: 0.1007\n",
            "Epoch 37/100\n",
            "375/375 [==============================] - 1s 3ms/step - loss: 1.3357 - accuracy: 0.5447 - val_loss: 3.4711 - val_accuracy: 0.1007\n",
            "Epoch 38/100\n",
            "375/375 [==============================] - 1s 3ms/step - loss: 1.3134 - accuracy: 0.5514 - val_loss: 3.5029 - val_accuracy: 0.1039\n",
            "Epoch 39/100\n",
            "375/375 [==============================] - 1s 3ms/step - loss: 1.2913 - accuracy: 0.5598 - val_loss: 3.5795 - val_accuracy: 0.1038\n",
            "Epoch 40/100\n",
            "375/375 [==============================] - 1s 3ms/step - loss: 1.2709 - accuracy: 0.5680 - val_loss: 3.6122 - val_accuracy: 0.1017\n",
            "Epoch 41/100\n",
            "375/375 [==============================] - 1s 3ms/step - loss: 1.2510 - accuracy: 0.5772 - val_loss: 3.6529 - val_accuracy: 0.1042\n",
            "Epoch 42/100\n",
            "375/375 [==============================] - 1s 3ms/step - loss: 1.2316 - accuracy: 0.5829 - val_loss: 3.6876 - val_accuracy: 0.1058\n",
            "Epoch 43/100\n",
            "375/375 [==============================] - 1s 3ms/step - loss: 1.2132 - accuracy: 0.5903 - val_loss: 3.7530 - val_accuracy: 0.1005\n",
            "Epoch 44/100\n",
            "375/375 [==============================] - 1s 3ms/step - loss: 1.1920 - accuracy: 0.5981 - val_loss: 3.8191 - val_accuracy: 0.1045\n",
            "Epoch 45/100\n",
            "375/375 [==============================] - 1s 4ms/step - loss: 1.1737 - accuracy: 0.6039 - val_loss: 3.8426 - val_accuracy: 0.1041\n",
            "Epoch 46/100\n",
            "375/375 [==============================] - 1s 3ms/step - loss: 1.1563 - accuracy: 0.6111 - val_loss: 3.9157 - val_accuracy: 0.1017\n",
            "Epoch 47/100\n",
            "375/375 [==============================] - 1s 3ms/step - loss: 1.1389 - accuracy: 0.6160 - val_loss: 3.9393 - val_accuracy: 0.1016\n",
            "Epoch 48/100\n",
            "375/375 [==============================] - 1s 3ms/step - loss: 1.1199 - accuracy: 0.6228 - val_loss: 4.0355 - val_accuracy: 0.0991\n",
            "Epoch 49/100\n",
            "375/375 [==============================] - 1s 3ms/step - loss: 1.1041 - accuracy: 0.6289 - val_loss: 4.0820 - val_accuracy: 0.1002\n",
            "Epoch 50/100\n",
            "375/375 [==============================] - 1s 3ms/step - loss: 1.0877 - accuracy: 0.6322 - val_loss: 4.1407 - val_accuracy: 0.1023\n",
            "Epoch 51/100\n",
            "375/375 [==============================] - 1s 3ms/step - loss: 1.0695 - accuracy: 0.6417 - val_loss: 4.1745 - val_accuracy: 0.1052\n",
            "Epoch 52/100\n",
            "375/375 [==============================] - 1s 3ms/step - loss: 1.0537 - accuracy: 0.6477 - val_loss: 4.2214 - val_accuracy: 0.1048\n",
            "Epoch 53/100\n",
            "375/375 [==============================] - 1s 3ms/step - loss: 1.0364 - accuracy: 0.6518 - val_loss: 4.2637 - val_accuracy: 0.1069\n",
            "Epoch 54/100\n",
            "375/375 [==============================] - 1s 3ms/step - loss: 1.0215 - accuracy: 0.6595 - val_loss: 4.3464 - val_accuracy: 0.1030\n",
            "Epoch 55/100\n",
            "375/375 [==============================] - 1s 3ms/step - loss: 1.0074 - accuracy: 0.6634 - val_loss: 4.3920 - val_accuracy: 0.0999\n",
            "Epoch 56/100\n",
            "375/375 [==============================] - 1s 3ms/step - loss: 0.9922 - accuracy: 0.6684 - val_loss: 4.4521 - val_accuracy: 0.1025\n",
            "Epoch 57/100\n",
            "375/375 [==============================] - 1s 3ms/step - loss: 0.9765 - accuracy: 0.6731 - val_loss: 4.5174 - val_accuracy: 0.1019\n",
            "Epoch 58/100\n",
            "375/375 [==============================] - 1s 3ms/step - loss: 0.9634 - accuracy: 0.6769 - val_loss: 4.5730 - val_accuracy: 0.1010\n",
            "Epoch 59/100\n",
            "375/375 [==============================] - 1s 3ms/step - loss: 0.9492 - accuracy: 0.6842 - val_loss: 4.6342 - val_accuracy: 0.1019\n",
            "Epoch 60/100\n",
            "375/375 [==============================] - 1s 3ms/step - loss: 0.9347 - accuracy: 0.6891 - val_loss: 4.7235 - val_accuracy: 0.1025\n",
            "Epoch 61/100\n",
            "375/375 [==============================] - 1s 4ms/step - loss: 0.9216 - accuracy: 0.6924 - val_loss: 4.7450 - val_accuracy: 0.1009\n",
            "Epoch 62/100\n",
            "375/375 [==============================] - 1s 4ms/step - loss: 0.9075 - accuracy: 0.6985 - val_loss: 4.8188 - val_accuracy: 0.1031\n",
            "Epoch 63/100\n",
            "375/375 [==============================] - 1s 3ms/step - loss: 0.8933 - accuracy: 0.7018 - val_loss: 4.8348 - val_accuracy: 0.1037\n",
            "Epoch 64/100\n",
            "375/375 [==============================] - 1s 3ms/step - loss: 0.8816 - accuracy: 0.7081 - val_loss: 4.9308 - val_accuracy: 0.1000\n",
            "Epoch 65/100\n",
            "375/375 [==============================] - 1s 3ms/step - loss: 0.8695 - accuracy: 0.7108 - val_loss: 4.9704 - val_accuracy: 0.1032\n",
            "Epoch 66/100\n",
            "375/375 [==============================] - 1s 3ms/step - loss: 0.8564 - accuracy: 0.7169 - val_loss: 4.9997 - val_accuracy: 0.1047\n",
            "Epoch 67/100\n",
            "375/375 [==============================] - 1s 3ms/step - loss: 0.8433 - accuracy: 0.7208 - val_loss: 5.1162 - val_accuracy: 0.1011\n",
            "Epoch 68/100\n",
            "375/375 [==============================] - 1s 3ms/step - loss: 0.8296 - accuracy: 0.7241 - val_loss: 5.1682 - val_accuracy: 0.1034\n",
            "Epoch 69/100\n",
            "375/375 [==============================] - 1s 3ms/step - loss: 0.8186 - accuracy: 0.7306 - val_loss: 5.2383 - val_accuracy: 0.1028\n",
            "Epoch 70/100\n",
            "375/375 [==============================] - 1s 3ms/step - loss: 0.8075 - accuracy: 0.7343 - val_loss: 5.2915 - val_accuracy: 0.1052\n",
            "Epoch 71/100\n",
            "375/375 [==============================] - 1s 3ms/step - loss: 0.7959 - accuracy: 0.7358 - val_loss: 5.3477 - val_accuracy: 0.1031\n",
            "Epoch 72/100\n",
            "375/375 [==============================] - 1s 3ms/step - loss: 0.7866 - accuracy: 0.7371 - val_loss: 5.3895 - val_accuracy: 0.1048\n",
            "Epoch 73/100\n",
            "375/375 [==============================] - 1s 3ms/step - loss: 0.7733 - accuracy: 0.7458 - val_loss: 5.4673 - val_accuracy: 0.1023\n",
            "Epoch 74/100\n",
            "375/375 [==============================] - 1s 3ms/step - loss: 0.7631 - accuracy: 0.7486 - val_loss: 5.4863 - val_accuracy: 0.1001\n",
            "Epoch 75/100\n",
            "375/375 [==============================] - 1s 3ms/step - loss: 0.7535 - accuracy: 0.7511 - val_loss: 5.5781 - val_accuracy: 0.1018\n",
            "Epoch 76/100\n",
            "375/375 [==============================] - 1s 3ms/step - loss: 0.7402 - accuracy: 0.7568 - val_loss: 5.6459 - val_accuracy: 0.1028\n",
            "Epoch 77/100\n",
            "375/375 [==============================] - 1s 3ms/step - loss: 0.7308 - accuracy: 0.7599 - val_loss: 5.7041 - val_accuracy: 0.1042\n",
            "Epoch 78/100\n",
            "375/375 [==============================] - 1s 3ms/step - loss: 0.7208 - accuracy: 0.7632 - val_loss: 5.7676 - val_accuracy: 0.1000\n",
            "Epoch 79/100\n",
            "375/375 [==============================] - 1s 3ms/step - loss: 0.7099 - accuracy: 0.7673 - val_loss: 5.8288 - val_accuracy: 0.1031\n",
            "Epoch 80/100\n",
            "375/375 [==============================] - 1s 3ms/step - loss: 0.7016 - accuracy: 0.7700 - val_loss: 5.9176 - val_accuracy: 0.1024\n",
            "Epoch 81/100\n",
            "375/375 [==============================] - 1s 3ms/step - loss: 0.6886 - accuracy: 0.7730 - val_loss: 5.9719 - val_accuracy: 0.1029\n",
            "Epoch 82/100\n",
            "375/375 [==============================] - 1s 3ms/step - loss: 0.6802 - accuracy: 0.7779 - val_loss: 6.0311 - val_accuracy: 0.1033\n",
            "Epoch 83/100\n",
            "375/375 [==============================] - 1s 3ms/step - loss: 0.6718 - accuracy: 0.7804 - val_loss: 6.0877 - val_accuracy: 0.1016\n",
            "Epoch 84/100\n",
            "375/375 [==============================] - 1s 3ms/step - loss: 0.6623 - accuracy: 0.7843 - val_loss: 6.1459 - val_accuracy: 0.1022\n",
            "Epoch 85/100\n",
            "375/375 [==============================] - 1s 3ms/step - loss: 0.6545 - accuracy: 0.7849 - val_loss: 6.2105 - val_accuracy: 0.1013\n",
            "Epoch 86/100\n",
            "375/375 [==============================] - 2s 4ms/step - loss: 0.6433 - accuracy: 0.7901 - val_loss: 6.2838 - val_accuracy: 0.0995\n",
            "Epoch 87/100\n",
            "375/375 [==============================] - 2s 4ms/step - loss: 0.6330 - accuracy: 0.7921 - val_loss: 6.3369 - val_accuracy: 0.1058\n",
            "Epoch 88/100\n",
            "375/375 [==============================] - 1s 3ms/step - loss: 0.6279 - accuracy: 0.7954 - val_loss: 6.4020 - val_accuracy: 0.1025\n",
            "Epoch 89/100\n",
            "375/375 [==============================] - 1s 3ms/step - loss: 0.6194 - accuracy: 0.7993 - val_loss: 6.5156 - val_accuracy: 0.1029\n",
            "Epoch 90/100\n",
            "375/375 [==============================] - 1s 3ms/step - loss: 0.6099 - accuracy: 0.8013 - val_loss: 6.5743 - val_accuracy: 0.1036\n",
            "Epoch 91/100\n",
            "375/375 [==============================] - 1s 3ms/step - loss: 0.6026 - accuracy: 0.8045 - val_loss: 6.5799 - val_accuracy: 0.1010\n",
            "Epoch 92/100\n",
            "375/375 [==============================] - 1s 3ms/step - loss: 0.5942 - accuracy: 0.8063 - val_loss: 6.6652 - val_accuracy: 0.1051\n",
            "Epoch 93/100\n",
            "375/375 [==============================] - 1s 3ms/step - loss: 0.5837 - accuracy: 0.8111 - val_loss: 6.7183 - val_accuracy: 0.1009\n",
            "Epoch 94/100\n",
            "375/375 [==============================] - 1s 3ms/step - loss: 0.5774 - accuracy: 0.8121 - val_loss: 6.7881 - val_accuracy: 0.0988\n",
            "Epoch 95/100\n",
            "375/375 [==============================] - 1s 3ms/step - loss: 0.5699 - accuracy: 0.8150 - val_loss: 6.9252 - val_accuracy: 0.0999\n",
            "Epoch 96/100\n",
            "375/375 [==============================] - 1s 3ms/step - loss: 0.5615 - accuracy: 0.8202 - val_loss: 6.9859 - val_accuracy: 0.1015\n",
            "Epoch 97/100\n",
            "375/375 [==============================] - 1s 3ms/step - loss: 0.5542 - accuracy: 0.8228 - val_loss: 6.9899 - val_accuracy: 0.0996\n",
            "Epoch 98/100\n",
            "375/375 [==============================] - 1s 3ms/step - loss: 0.5467 - accuracy: 0.8237 - val_loss: 7.1055 - val_accuracy: 0.1005\n",
            "Epoch 99/100\n",
            "375/375 [==============================] - 1s 3ms/step - loss: 0.5407 - accuracy: 0.8254 - val_loss: 7.1738 - val_accuracy: 0.1020\n",
            "Epoch 100/100\n",
            "375/375 [==============================] - 1s 3ms/step - loss: 0.5316 - accuracy: 0.8279 - val_loss: 7.2044 - val_accuracy: 0.1047\n"
          ]
        },
        {
          "output_type": "execute_result",
          "data": {
            "text/plain": [
              "<keras.callbacks.History at 0x7f78b65aa990>"
            ]
          },
          "metadata": {},
          "execution_count": 5
        }
      ],
      "source": [
        "(train_images, train_labels), _ = mnist.load_data()\n",
        "train_images = train_images.reshape((60000, 28 * 28))\n",
        "train_images = train_images.astype(\"float32\") / 255\n",
        "\n",
        "random_train_labels = train_labels[:]\n",
        "np.random.shuffle(random_train_labels)\n",
        "\n",
        "model = keras.Sequential([\n",
        "    layers.Dense(512, activation=\"relu\"),\n",
        "    layers.Dense(10, activation=\"softmax\")\n",
        "])\n",
        "model.compile(optimizer=\"rmsprop\",\n",
        "              loss=\"sparse_categorical_crossentropy\",\n",
        "              metrics=[\"accuracy\"])\n",
        "model.fit(train_images, random_train_labels,\n",
        "          epochs=100,\n",
        "          batch_size=128,\n",
        "          validation_split=0.2)\n",
        "#the accuracy is increasing with the epochs. The validation accuracy is constant at 10%\n",
        "#in this case it's overfitting compare to the dataset\n",
        "#If validation accuracy is not increasing then we should review dataset & model"
      ]
    },
    {
      "cell_type": "markdown",
      "metadata": {
        "id": "5w6AxXr2dXAK"
      },
      "source": [
        "#### The manifold hypothesis"
      ]
    },
    {
      "cell_type": "markdown",
      "source": [
        "Actual handwritten digits only occupy a tiny subspace of the parent space of all possible 28 × 28 uint8 arrays\n",
        "\n",
        "All samples in the valid subspace are connected by smooth paths that run through the subspace"
      ],
      "metadata": {
        "id": "6_2m43ngdByb"
      }
    },
    {
      "cell_type": "markdown",
      "source": [
        "Manifold hypothesis posits that all natural data lies on a low-dimensional\n",
        "manifold within the high-dimensional space where it is encoded\n",
        "\n",
        "Machine learning models only have to fit relatively simple, lowdimensional, highly structured subspaces within their potential input space (latent manifolds).\n",
        "\n",
        "Within one of these manifolds, it’s always possible to interpolate between two inputs, that is to say, morph one into another via a continuous path along which all points fall on the manifold."
      ],
      "metadata": {
        "id": "uDn2Jk_SdL59"
      }
    },
    {
      "cell_type": "markdown",
      "metadata": {
        "id": "Q87JPhL9dXAK"
      },
      "source": [
        "#### Interpolation as a source of generalization"
      ]
    },
    {
      "cell_type": "markdown",
      "source": [
        "Deep learning achieves generalization via interpolation on a learned approximation of the data manifold\n"
      ],
      "metadata": {
        "id": "Qt21DDrddXkT"
      }
    },
    {
      "cell_type": "markdown",
      "source": [
        "Manifold interpolation= intermediate point on the latent manifold\n",
        "\n",
        "Linear interpolation= average in the encoding space"
      ],
      "metadata": {
        "id": "UqZbS-gKddpK"
      }
    },
    {
      "cell_type": "markdown",
      "metadata": {
        "id": "fSukhMlcdXAK"
      },
      "source": [
        "#### Why deep learning works"
      ]
    },
    {
      "cell_type": "markdown",
      "source": [
        "A sheet of paper represents a 2D manifold within 3D space. A deep learning model is a tool for uncrumpling paper balls, that is, for disentangling latent manifolds."
      ],
      "metadata": {
        "id": "gqyBAX6DdrUW"
      }
    },
    {
      "cell_type": "markdown",
      "metadata": {
        "id": "-S-nBh7cdXAK"
      },
      "source": [
        "#### Training data is paramount"
      ]
    },
    {
      "cell_type": "markdown",
      "source": [
        "Deep learning is curve fitting, for a model to perform well it needs to be\n",
        "trained on a dense sampling of its input space"
      ],
      "metadata": {
        "id": "9WevRay-dz4J"
      }
    },
    {
      "cell_type": "markdown",
      "source": [
        "Sparse sampling=the model learned doesn't match the latent space and leads to incorrect interpolation\n",
        "\n",
        "Dense sampling= the model learned approximates the latent space well, & interpola° leads to generalization"
      ],
      "metadata": {
        "id": "z4sgmMpGd2m-"
      }
    },
    {
      "cell_type": "markdown",
      "metadata": {
        "id": "fSOSoae4dXAL"
      },
      "source": [
        "## Evaluating machine-learning models"
      ]
    },
    {
      "cell_type": "markdown",
      "source": [
        "Goal is to achieve models that generalize\n",
        "\n",
        "It’s essential to be able to reliably measure the generalization power of your model"
      ],
      "metadata": {
        "id": "lNe-r0FHeK3c"
      }
    },
    {
      "cell_type": "markdown",
      "metadata": {
        "id": "EVq0SnuzdXAL"
      },
      "source": [
        "### Training, validation, and test sets"
      ]
    },
    {
      "cell_type": "markdown",
      "source": [
        "Tuning parameters and hyperparameters is a form of learning\n",
        "\n",
        "Tuning is based on its performance on validation set\n",
        "\n",
        "Tuning a lot would cause information leak\n",
        "\n",
        "Thus, you need never-before-seen test dataset"
      ],
      "metadata": {
        "id": "Dca9bxPSePfU"
      }
    },
    {
      "cell_type": "markdown",
      "metadata": {
        "id": "RwqBO96JdXAL"
      },
      "source": [
        "#### Simple hold-out validation"
      ]
    },
    {
      "cell_type": "code",
      "source": [
        "num_validation_samples=10000\n",
        "np.random.shuffle(data) #shuffling the data is usually appropriate\n",
        "validation_data=data[:num_validation_samples] #define the validation set\n",
        "training_data=data[num_validation_samples:] #defines the training set\n",
        "\n",
        "#trains a model on the training data, and evaluates it on the validation data\n",
        "model=get_model()\n",
        "model.fit(training_data,...)\n",
        "validation_score=model.evaluate(validation_data,...) \n",
        "\n",
        "#at this point you can tune your model, retrain it, evaluate it, tune it again...\n",
        "#once you've tuned your hyperparameters it's common to train your final model from scratch on all non test data avaliable\n",
        "model=get_model()\n",
        "model.fit(np.concatenate([training_data, validation_data]), ...)\n",
        "test_score = model.evaluate(test_data, ...)"
      ],
      "metadata": {
        "id": "AziU5d--paqD",
        "outputId": "c776eba2-6c69-4eab-a813-a7e597641c77",
        "colab": {
          "base_uri": "https://localhost:8080/",
          "height": 235
        }
      },
      "execution_count": 6,
      "outputs": [
        {
          "output_type": "error",
          "ename": "NameError",
          "evalue": "ignored",
          "traceback": [
            "\u001b[0;31m---------------------------------------------------------------------------\u001b[0m",
            "\u001b[0;31mNameError\u001b[0m                                 Traceback (most recent call last)",
            "\u001b[0;32m<ipython-input-6-64a44424591e>\u001b[0m in \u001b[0;36m<module>\u001b[0;34m()\u001b[0m\n\u001b[1;32m      1\u001b[0m \u001b[0mnum_validation_samples\u001b[0m\u001b[0;34m=\u001b[0m\u001b[0;36m10000\u001b[0m\u001b[0;34m\u001b[0m\u001b[0;34m\u001b[0m\u001b[0m\n\u001b[0;32m----> 2\u001b[0;31m \u001b[0mnp\u001b[0m\u001b[0;34m.\u001b[0m\u001b[0mrandom\u001b[0m\u001b[0;34m.\u001b[0m\u001b[0mshuffle\u001b[0m\u001b[0;34m(\u001b[0m\u001b[0mdata\u001b[0m\u001b[0;34m)\u001b[0m \u001b[0;31m#shuffling the data is usually appropriate\u001b[0m\u001b[0;34m\u001b[0m\u001b[0;34m\u001b[0m\u001b[0m\n\u001b[0m\u001b[1;32m      3\u001b[0m \u001b[0mvalidation_data\u001b[0m\u001b[0;34m=\u001b[0m\u001b[0mdata\u001b[0m\u001b[0;34m[\u001b[0m\u001b[0;34m:\u001b[0m\u001b[0mnum_validation_samples\u001b[0m\u001b[0;34m]\u001b[0m \u001b[0;31m#define the validation set\u001b[0m\u001b[0;34m\u001b[0m\u001b[0;34m\u001b[0m\u001b[0m\n\u001b[1;32m      4\u001b[0m \u001b[0mtraining_data\u001b[0m\u001b[0;34m=\u001b[0m\u001b[0mdata\u001b[0m\u001b[0;34m[\u001b[0m\u001b[0mnum_validation_samples\u001b[0m\u001b[0;34m:\u001b[0m\u001b[0;34m]\u001b[0m \u001b[0;31m#defines the training set\u001b[0m\u001b[0;34m\u001b[0m\u001b[0;34m\u001b[0m\u001b[0m\n\u001b[1;32m      5\u001b[0m \u001b[0;34m\u001b[0m\u001b[0m\n",
            "\u001b[0;31mNameError\u001b[0m: name 'data' is not defined"
          ]
        }
      ]
    },
    {
      "cell_type": "markdown",
      "metadata": {
        "id": "vLhHzsRGdXAL"
      },
      "source": [
        "#### K-fold validation"
      ]
    },
    {
      "cell_type": "code",
      "source": [
        "k=3\n",
        "num_validation_samples=len(data)//k\n",
        "np.random.shuffle(data)\n",
        "validation_scores=[]\n",
        "for fold in range (k):\n",
        "  validation_data = data[num_validation_samples*fold:num_validation_samples*(fold+1)]#select the valdata part°\n",
        "  training_data=np.concatenate( #use the remainder of the data as training data. Note that the +operator represents list concatenation not summation\n",
        "      data[:num_validation_samples*fold],\n",
        "      data[num_validation_samples*(fold+1):])\n",
        "  model=get_model()#create a brandnew instance of the model (untrained)\n",
        "  model.fit(training_data,...)\n",
        "  validation_score=model.evaluate(validation_data,...)\n",
        "  validation_scores.append(validation_score)\n",
        "validation_score=np.average(validation_scores)#val°score: average of the validation scores of the k folds\n",
        "model=get_model() #train the final model on all non test data available\n",
        "model.fit(data,...)\n",
        "test_score=model.evaluate(test_data,...)"
      ],
      "metadata": {
        "id": "pEzbml-OejQY"
      },
      "execution_count": 7,
      "outputs": []
    },
    {
      "cell_type": "markdown",
      "metadata": {
        "id": "kH_Rr-FndXAL"
      },
      "source": [
        "#### Iterated K-fold validation with shuffling"
      ]
    },
    {
      "cell_type": "markdown",
      "source": [
        "This one is for situations in which you have relatively little data available\n",
        "and you need to evaluate your model as precisely as possible\n",
        "\n",
        "Applying K-fold validation multiple times, shuffling the data every time\n",
        "before splitting it K ways"
      ],
      "metadata": {
        "id": "ktEJNAcMgJ5X"
      }
    },
    {
      "cell_type": "markdown",
      "metadata": {
        "id": "Jxm5I9u6dXAL"
      },
      "source": [
        "### Beating a common-sense baseline"
      ]
    },
    {
      "cell_type": "markdown",
      "metadata": {
        "id": "T3oYiGY7dXAL"
      },
      "source": [
        "### Things to keep in mind about model evaluation"
      ]
    },
    {
      "cell_type": "markdown",
      "source": [
        "Data representativeness:Randomly shuffle data before splitting it\n",
        "\n",
        "The arrow of time:If you are predicting future event, don’t shuffle. Use future data as test set\n",
        "\n",
        "Redundancy in your data: Remove redundant data before the start"
      ],
      "metadata": {
        "id": "ZyEFEorXgQYt"
      }
    },
    {
      "cell_type": "markdown",
      "metadata": {
        "id": "tStnlZpOdXAL"
      },
      "source": [
        "## Improving model fit"
      ]
    },
    {
      "cell_type": "markdown",
      "source": [
        "To achieve the perfect fit, you must first overfit. Since you don’t know in advance where the boundary lies, you must\n",
        "cross it to find it.\n",
        "\n",
        "Once you have such a model, you’ll focus on refining generalization by fighting overfitting.\n",
        "\n",
        "Three common problems: 1) training loss doesn’t go down,\n",
        "2) model doesn’t meaningfully generalize, 3) training and\n",
        "validation loss both go down but model still underfitting"
      ],
      "metadata": {
        "id": "ZbCFw8V5gdnq"
      }
    },
    {
      "cell_type": "markdown",
      "metadata": {
        "id": "8CQVwGJIdXAM"
      },
      "source": [
        "### Tuning key gradient descent parameters"
      ]
    },
    {
      "cell_type": "markdown",
      "source": [
        "Sometimes training doesn’t get started\n",
        "\n",
        "When this happens, it’s always a problem with the configuration of the gradient descent process"
      ],
      "metadata": {
        "id": "prONEfi-gkfp"
      }
    },
    {
      "cell_type": "markdown",
      "metadata": {
        "id": "OFkvuoLEdXAM"
      },
      "source": [
        "**Training a MNIST model with an incorrectly high learning rate**"
      ]
    },
    {
      "cell_type": "code",
      "execution_count": 8,
      "metadata": {
        "id": "1Tp1FyQedXAM",
        "colab": {
          "base_uri": "https://localhost:8080/"
        },
        "outputId": "6f2a967a-57b4-4edd-8118-b13f2f682473"
      },
      "outputs": [
        {
          "output_type": "stream",
          "name": "stdout",
          "text": [
            "Epoch 1/10\n",
            "375/375 [==============================] - 2s 3ms/step - loss: 791.4219 - accuracy: 0.3554 - val_loss: 2.1079 - val_accuracy: 0.2750\n",
            "Epoch 2/10\n",
            "375/375 [==============================] - 1s 3ms/step - loss: 6.4736 - accuracy: 0.2524 - val_loss: 2.2071 - val_accuracy: 0.2072\n",
            "Epoch 3/10\n",
            "375/375 [==============================] - 1s 3ms/step - loss: 2.8820 - accuracy: 0.2367 - val_loss: 2.2384 - val_accuracy: 0.2529\n",
            "Epoch 4/10\n",
            "375/375 [==============================] - 1s 3ms/step - loss: 3.2342 - accuracy: 0.2356 - val_loss: 2.3407 - val_accuracy: 0.2366\n",
            "Epoch 5/10\n",
            "375/375 [==============================] - 1s 3ms/step - loss: 2.7408 - accuracy: 0.2428 - val_loss: 2.4204 - val_accuracy: 0.2304\n",
            "Epoch 6/10\n",
            "375/375 [==============================] - 1s 3ms/step - loss: 2.6818 - accuracy: 0.2281 - val_loss: 2.0799 - val_accuracy: 0.2401\n",
            "Epoch 7/10\n",
            "375/375 [==============================] - 1s 3ms/step - loss: 2.5804 - accuracy: 0.2298 - val_loss: 2.1018 - val_accuracy: 0.2577\n",
            "Epoch 8/10\n",
            "375/375 [==============================] - 1s 3ms/step - loss: 2.2800 - accuracy: 0.2355 - val_loss: 2.1859 - val_accuracy: 0.2720\n",
            "Epoch 9/10\n",
            "375/375 [==============================] - 1s 3ms/step - loss: 2.4366 - accuracy: 0.2313 - val_loss: 2.1062 - val_accuracy: 0.2462\n",
            "Epoch 10/10\n",
            "375/375 [==============================] - 1s 3ms/step - loss: 2.4883 - accuracy: 0.2413 - val_loss: 2.9605 - val_accuracy: 0.3066\n"
          ]
        },
        {
          "output_type": "execute_result",
          "data": {
            "text/plain": [
              "<keras.callbacks.History at 0x7f7873711590>"
            ]
          },
          "metadata": {},
          "execution_count": 8
        }
      ],
      "source": [
        "#Training a MNIST model with an incorrectly high learning rate\n",
        "(train_images, train_labels), _ = mnist.load_data()\n",
        "train_images = train_images.reshape((60000, 28 * 28))\n",
        "train_images = train_images.astype(\"float32\") / 255\n",
        "\n",
        "model = keras.Sequential([\n",
        "    layers.Dense(512, activation=\"relu\"),\n",
        "    layers.Dense(10, activation=\"softmax\")\n",
        "])\n",
        "model.compile(optimizer=keras.optimizers.RMSprop(1.),\n",
        "              loss=\"sparse_categorical_crossentropy\",\n",
        "              metrics=[\"accuracy\"])\n",
        "model.fit(train_images, train_labels,\n",
        "          epochs=10,\n",
        "          batch_size=128,\n",
        "          validation_split=0.2)"
      ]
    },
    {
      "cell_type": "markdown",
      "metadata": {
        "id": "BUVCT0TVdXAM"
      },
      "source": [
        "**The same model with a more appropriate learning rate**"
      ]
    },
    {
      "cell_type": "code",
      "execution_count": 9,
      "metadata": {
        "id": "w44IA-rtdXAM",
        "colab": {
          "base_uri": "https://localhost:8080/"
        },
        "outputId": "52a28d30-72ec-4180-e161-efb4773f95e3"
      },
      "outputs": [
        {
          "output_type": "stream",
          "name": "stdout",
          "text": [
            "Epoch 1/10\n",
            "375/375 [==============================] - 2s 3ms/step - loss: 0.3686 - accuracy: 0.9102 - val_loss: 0.1423 - val_accuracy: 0.9605\n",
            "Epoch 2/10\n",
            "375/375 [==============================] - 1s 3ms/step - loss: 0.1377 - accuracy: 0.9637 - val_loss: 0.1354 - val_accuracy: 0.9668\n",
            "Epoch 3/10\n",
            "375/375 [==============================] - 1s 3ms/step - loss: 0.1107 - accuracy: 0.9731 - val_loss: 0.1908 - val_accuracy: 0.9640\n",
            "Epoch 4/10\n",
            "375/375 [==============================] - 1s 3ms/step - loss: 0.0939 - accuracy: 0.9786 - val_loss: 0.2081 - val_accuracy: 0.9683\n",
            "Epoch 5/10\n",
            "375/375 [==============================] - 1s 3ms/step - loss: 0.0898 - accuracy: 0.9820 - val_loss: 0.2277 - val_accuracy: 0.9679\n",
            "Epoch 6/10\n",
            "375/375 [==============================] - 1s 3ms/step - loss: 0.0738 - accuracy: 0.9851 - val_loss: 0.2497 - val_accuracy: 0.9682\n",
            "Epoch 7/10\n",
            "375/375 [==============================] - 1s 3ms/step - loss: 0.0673 - accuracy: 0.9865 - val_loss: 0.2469 - val_accuracy: 0.9722\n",
            "Epoch 8/10\n",
            "375/375 [==============================] - 1s 3ms/step - loss: 0.0660 - accuracy: 0.9880 - val_loss: 0.2573 - val_accuracy: 0.9725\n",
            "Epoch 9/10\n",
            "375/375 [==============================] - 1s 3ms/step - loss: 0.0558 - accuracy: 0.9892 - val_loss: 0.2895 - val_accuracy: 0.9720\n",
            "Epoch 10/10\n",
            "375/375 [==============================] - 2s 4ms/step - loss: 0.0586 - accuracy: 0.9896 - val_loss: 0.2813 - val_accuracy: 0.9760\n"
          ]
        },
        {
          "output_type": "execute_result",
          "data": {
            "text/plain": [
              "<keras.callbacks.History at 0x7f7920381710>"
            ]
          },
          "metadata": {},
          "execution_count": 9
        }
      ],
      "source": [
        "#The same model with a more appropriate learning rate\n",
        "model = keras.Sequential([\n",
        "    layers.Dense(512, activation=\"relu\"),\n",
        "    layers.Dense(10, activation=\"softmax\")\n",
        "])\n",
        "model.compile(optimizer=keras.optimizers.RMSprop(1e-2),\n",
        "              loss=\"sparse_categorical_crossentropy\",\n",
        "              metrics=[\"accuracy\"])\n",
        "model.fit(train_images, train_labels,\n",
        "          epochs=10,\n",
        "          batch_size=128,\n",
        "          validation_split=0.2)"
      ]
    },
    {
      "cell_type": "markdown",
      "metadata": {
        "id": "atPlkCv8dXAM"
      },
      "source": [
        "### Leveraging better architecture priors"
      ]
    },
    {
      "cell_type": "markdown",
      "source": [
        "Model trains but doesn’t generalize. What’s going on?\n",
        "\n",
        "The kind of model you’re using is not suited for the problem\n",
        "\n",
        "In the following chapters, you’ll learn about the best architectures to use for a variety of data modalities—images,\n",
        "text, timeseries, and so on."
      ],
      "metadata": {
        "id": "qGoVXopAguUX"
      }
    },
    {
      "cell_type": "markdown",
      "metadata": {
        "id": "dM-RAIQ0dXAM"
      },
      "source": [
        "### Increasing model capacity"
      ]
    },
    {
      "cell_type": "markdown",
      "source": [
        "If you manage to get to a model that fits, you need to get your model to start overfitting."
      ],
      "metadata": {
        "id": "9dDLjbk0g0Xv"
      }
    },
    {
      "cell_type": "markdown",
      "metadata": {
        "id": "rVuolujcdXAN"
      },
      "source": [
        "**A simple logistic regression on MNIST**"
      ]
    },
    {
      "cell_type": "code",
      "execution_count": 10,
      "metadata": {
        "id": "YiAzoJRLdXAN",
        "outputId": "9986db3b-f9cd-4e6c-87b9-653700180a44",
        "colab": {
          "base_uri": "https://localhost:8080/"
        }
      },
      "outputs": [
        {
          "output_type": "stream",
          "name": "stdout",
          "text": [
            "Epoch 1/20\n",
            "375/375 [==============================] - 2s 3ms/step - loss: 0.6745 - accuracy: 0.8331 - val_loss: 0.3584 - val_accuracy: 0.9050\n",
            "Epoch 2/20\n",
            "375/375 [==============================] - 1s 3ms/step - loss: 0.3516 - accuracy: 0.9029 - val_loss: 0.3079 - val_accuracy: 0.9151\n",
            "Epoch 3/20\n",
            "375/375 [==============================] - 1s 3ms/step - loss: 0.3155 - accuracy: 0.9114 - val_loss: 0.2916 - val_accuracy: 0.9180\n",
            "Epoch 4/20\n",
            "375/375 [==============================] - 1s 3ms/step - loss: 0.2994 - accuracy: 0.9162 - val_loss: 0.2815 - val_accuracy: 0.9215\n",
            "Epoch 5/20\n",
            "375/375 [==============================] - 1s 3ms/step - loss: 0.2895 - accuracy: 0.9189 - val_loss: 0.2771 - val_accuracy: 0.9222\n",
            "Epoch 6/20\n",
            "375/375 [==============================] - 1s 3ms/step - loss: 0.2828 - accuracy: 0.9213 - val_loss: 0.2728 - val_accuracy: 0.9249\n",
            "Epoch 7/20\n",
            "375/375 [==============================] - 1s 3ms/step - loss: 0.2779 - accuracy: 0.9227 - val_loss: 0.2709 - val_accuracy: 0.9244\n",
            "Epoch 8/20\n",
            "375/375 [==============================] - 1s 3ms/step - loss: 0.2742 - accuracy: 0.9240 - val_loss: 0.2668 - val_accuracy: 0.9267\n",
            "Epoch 9/20\n",
            "375/375 [==============================] - 1s 3ms/step - loss: 0.2712 - accuracy: 0.9244 - val_loss: 0.2662 - val_accuracy: 0.9273\n",
            "Epoch 10/20\n",
            "375/375 [==============================] - 1s 3ms/step - loss: 0.2688 - accuracy: 0.9257 - val_loss: 0.2647 - val_accuracy: 0.9277\n",
            "Epoch 11/20\n",
            "375/375 [==============================] - 1s 3ms/step - loss: 0.2667 - accuracy: 0.9267 - val_loss: 0.2628 - val_accuracy: 0.9283\n",
            "Epoch 12/20\n",
            "375/375 [==============================] - 1s 3ms/step - loss: 0.2646 - accuracy: 0.9268 - val_loss: 0.2656 - val_accuracy: 0.9279\n",
            "Epoch 13/20\n",
            "375/375 [==============================] - 1s 3ms/step - loss: 0.2629 - accuracy: 0.9270 - val_loss: 0.2624 - val_accuracy: 0.9288\n",
            "Epoch 14/20\n",
            "375/375 [==============================] - 1s 3ms/step - loss: 0.2617 - accuracy: 0.9279 - val_loss: 0.2632 - val_accuracy: 0.9279\n",
            "Epoch 15/20\n",
            "375/375 [==============================] - 1s 3ms/step - loss: 0.2604 - accuracy: 0.9286 - val_loss: 0.2602 - val_accuracy: 0.9298\n",
            "Epoch 16/20\n",
            "375/375 [==============================] - 1s 3ms/step - loss: 0.2595 - accuracy: 0.9287 - val_loss: 0.2611 - val_accuracy: 0.9296\n",
            "Epoch 17/20\n",
            "375/375 [==============================] - 1s 3ms/step - loss: 0.2581 - accuracy: 0.9294 - val_loss: 0.2626 - val_accuracy: 0.9305\n",
            "Epoch 18/20\n",
            "375/375 [==============================] - 1s 3ms/step - loss: 0.2574 - accuracy: 0.9298 - val_loss: 0.2608 - val_accuracy: 0.9302\n",
            "Epoch 19/20\n",
            "375/375 [==============================] - 1s 3ms/step - loss: 0.2558 - accuracy: 0.9300 - val_loss: 0.2606 - val_accuracy: 0.9302\n",
            "Epoch 20/20\n",
            "375/375 [==============================] - 1s 3ms/step - loss: 0.2557 - accuracy: 0.9299 - val_loss: 0.2601 - val_accuracy: 0.9311\n"
          ]
        }
      ],
      "source": [
        "#a simple logistic regression on MNIST\n",
        "model = keras.Sequential([layers.Dense(10, activation=\"softmax\")]) #we only define 1 simple layer with softmax activation same as logistic regression \n",
        "model.compile(optimizer=\"rmsprop\",\n",
        "              loss=\"sparse_categorical_crossentropy\",\n",
        "              metrics=[\"accuracy\"])\n",
        "history_small_model = model.fit(\n",
        "    train_images, train_labels,\n",
        "    epochs=20,\n",
        "    batch_size=128,\n",
        "    validation_split=0.2)\n",
        "#the validation loss is going down so the model is fitting\n",
        "#validation accuracy goes up always et test accuracy same --> no overfitting\n",
        "\n"
      ]
    },
    {
      "cell_type": "markdown",
      "source": [
        "it’s likely a problem with the\n",
        "representational power of your model"
      ],
      "metadata": {
        "id": "Qq1ofOPYg6Jg"
      }
    },
    {
      "cell_type": "code",
      "execution_count": 11,
      "metadata": {
        "id": "an9dgp_ddXAN",
        "colab": {
          "base_uri": "https://localhost:8080/",
          "height": 312
        },
        "outputId": "7eff9871-3a34-4d79-e6c8-2fcea2612fe5"
      },
      "outputs": [
        {
          "output_type": "execute_result",
          "data": {
            "text/plain": [
              "<matplotlib.legend.Legend at 0x7f78732e67d0>"
            ]
          },
          "metadata": {},
          "execution_count": 11
        },
        {
          "output_type": "display_data",
          "data": {
            "text/plain": [
              "<Figure size 432x288 with 1 Axes>"
            ],
            "image/png": "[encoded data removed]"
          },
          "metadata": {
            "needs_background": "light"
          }
        }
      ],
      "source": [
        "import matplotlib.pyplot as plt\n",
        "val_loss = history_small_model.history[\"val_loss\"]\n",
        "epochs = range(1, 21)\n",
        "plt.plot(epochs, val_loss, \"b--\",\n",
        "         label=\"Validation loss\")\n",
        "plt.title(\"Effect of insufficient model capacity on validation loss\")\n",
        "plt.xlabel(\"Epochs\")\n",
        "plt.ylabel(\"Loss\")\n",
        "plt.legend()"
      ]
    },
    {
      "cell_type": "code",
      "execution_count": 13,
      "metadata": {
        "id": "tHIbFggJdXAN",
        "colab": {
          "base_uri": "https://localhost:8080/"
        },
        "outputId": "a9529267-b196-4c35-e72e-e909a97d6f5d"
      },
      "outputs": [
        {
          "output_type": "stream",
          "name": "stdout",
          "text": [
            "Epoch 1/20\n",
            "375/375 [==============================] - 2s 3ms/step - loss: 0.3644 - accuracy: 0.8959 - val_loss: 0.2072 - val_accuracy: 0.9399\n",
            "Epoch 2/20\n",
            "375/375 [==============================] - 1s 3ms/step - loss: 0.1643 - accuracy: 0.9520 - val_loss: 0.1435 - val_accuracy: 0.9582\n",
            "Epoch 3/20\n",
            "375/375 [==============================] - 1s 3ms/step - loss: 0.1164 - accuracy: 0.9650 - val_loss: 0.1236 - val_accuracy: 0.9641\n",
            "Epoch 4/20\n",
            "375/375 [==============================] - 1s 3ms/step - loss: 0.0903 - accuracy: 0.9729 - val_loss: 0.1129 - val_accuracy: 0.9676\n",
            "Epoch 5/20\n",
            "375/375 [==============================] - 1s 4ms/step - loss: 0.0721 - accuracy: 0.9783 - val_loss: 0.1018 - val_accuracy: 0.9696\n",
            "Epoch 6/20\n",
            "375/375 [==============================] - 1s 3ms/step - loss: 0.0583 - accuracy: 0.9820 - val_loss: 0.0962 - val_accuracy: 0.9725\n",
            "Epoch 7/20\n",
            "375/375 [==============================] - 1s 3ms/step - loss: 0.0484 - accuracy: 0.9844 - val_loss: 0.1062 - val_accuracy: 0.9692\n",
            "Epoch 8/20\n",
            "375/375 [==============================] - 1s 3ms/step - loss: 0.0398 - accuracy: 0.9874 - val_loss: 0.0868 - val_accuracy: 0.9756\n",
            "Epoch 9/20\n",
            "375/375 [==============================] - 1s 3ms/step - loss: 0.0327 - accuracy: 0.9900 - val_loss: 0.0902 - val_accuracy: 0.9743\n",
            "Epoch 10/20\n",
            "375/375 [==============================] - 1s 3ms/step - loss: 0.0282 - accuracy: 0.9914 - val_loss: 0.1213 - val_accuracy: 0.9701\n",
            "Epoch 11/20\n",
            "375/375 [==============================] - 1s 3ms/step - loss: 0.0231 - accuracy: 0.9930 - val_loss: 0.0961 - val_accuracy: 0.9738\n",
            "Epoch 12/20\n",
            "375/375 [==============================] - 1s 3ms/step - loss: 0.0192 - accuracy: 0.9936 - val_loss: 0.1022 - val_accuracy: 0.9758\n",
            "Epoch 13/20\n",
            "375/375 [==============================] - 1s 3ms/step - loss: 0.0174 - accuracy: 0.9949 - val_loss: 0.1061 - val_accuracy: 0.9759\n",
            "Epoch 14/20\n",
            "375/375 [==============================] - 1s 3ms/step - loss: 0.0145 - accuracy: 0.9955 - val_loss: 0.1243 - val_accuracy: 0.9708\n",
            "Epoch 15/20\n",
            "375/375 [==============================] - 1s 3ms/step - loss: 0.0126 - accuracy: 0.9962 - val_loss: 0.1317 - val_accuracy: 0.9718\n",
            "Epoch 16/20\n",
            "375/375 [==============================] - 1s 3ms/step - loss: 0.0102 - accuracy: 0.9970 - val_loss: 0.1275 - val_accuracy: 0.9726\n",
            "Epoch 17/20\n",
            "375/375 [==============================] - 1s 3ms/step - loss: 0.0092 - accuracy: 0.9971 - val_loss: 0.1151 - val_accuracy: 0.9762\n",
            "Epoch 18/20\n",
            "375/375 [==============================] - 1s 3ms/step - loss: 0.0077 - accuracy: 0.9977 - val_loss: 0.1374 - val_accuracy: 0.9735\n",
            "Epoch 19/20\n",
            "375/375 [==============================] - 1s 3ms/step - loss: 0.0068 - accuracy: 0.9981 - val_loss: 0.1221 - val_accuracy: 0.9768\n",
            "Epoch 20/20\n",
            "375/375 [==============================] - 1s 3ms/step - loss: 0.0059 - accuracy: 0.9980 - val_loss: 0.1296 - val_accuracy: 0.9758\n"
          ]
        }
      ],
      "source": [
        "#use bigger model\n",
        "#this time 3 layers \n",
        "#we can see the minimum and after it's increasing again (= overfitting)\n",
        "model = keras.Sequential([\n",
        "    layers.Dense(96, activation=\"relu\"),\n",
        "    layers.Dense(96, activation=\"relu\"),\n",
        "    layers.Dense(10, activation=\"softmax\"),\n",
        "])\n",
        "model.compile(optimizer=\"rmsprop\",\n",
        "              loss=\"sparse_categorical_crossentropy\",\n",
        "              metrics=[\"accuracy\"])\n",
        "history_large_model = model.fit(\n",
        "    train_images, train_labels,\n",
        "    epochs=20,\n",
        "    batch_size=128,\n",
        "    validation_split=0.2)"
      ]
    },
    {
      "cell_type": "code",
      "source": [
        "import matplotlib.pyplot as plt\n",
        "val_loss = history_large_model.history[\"val_loss\"]\n",
        "epochs = range(1, 21)\n",
        "plt.plot(epochs, val_loss, \"b--\",\n",
        "         label=\"Validation loss\")\n",
        "plt.title(\"Effect of insufficient model capacity on validation loss\")\n",
        "plt.xlabel(\"Epochs\")\n",
        "plt.ylabel(\"Loss\")\n",
        "plt.legend()\n",
        "#better loss here"
      ],
      "metadata": {
        "id": "Iw_GnpvIEjH0",
        "colab": {
          "base_uri": "https://localhost:8080/",
          "height": 312
        },
        "outputId": "faae9035-48b7-46f7-d273-52f9f9d8f306"
      },
      "execution_count": 14,
      "outputs": [
        {
          "output_type": "execute_result",
          "data": {
            "text/plain": [
              "<matplotlib.legend.Legend at 0x7f7873083090>"
            ]
          },
          "metadata": {},
          "execution_count": 14
        },
        {
          "output_type": "display_data",
          "data": {
            "text/plain": [
              "<Figure size 432x288 with 1 Axes>"
            ],
            "image/png": "[encoded data removed]"
          },
          "metadata": {
            "needs_background": "light"
          }
        }
      ]
    },
    {
      "cell_type": "markdown",
      "metadata": {
        "id": "jRsPu6qJdXAN"
      },
      "source": [
        "## Improving generalization"
      ]
    },
    {
      "cell_type": "markdown",
      "source": [
        "Once your model has shown itself to have some generalization power and to be able to overfit, it’s time to switch your focus to maximizing generalization.\n",
        "\n",
        "Dataset curation: Make sure you have enough data, Minimize labeling errors, Clean your data and deal with missing values, Feature selection, etc"
      ],
      "metadata": {
        "id": "Cb0FJMr6hNJP"
      }
    },
    {
      "cell_type": "markdown",
      "metadata": {
        "id": "p6_KPHzedXAN"
      },
      "source": [
        "### Dataset curation"
      ]
    },
    {
      "cell_type": "markdown",
      "metadata": {
        "id": "JPALH_tKdXAO"
      },
      "source": [
        "### Feature engineering"
      ]
    },
    {
      "cell_type": "markdown",
      "source": [
        "Feature engineering is the process of using your own knowledge about the data to make the algorithm work better by\n",
        "applying hardcoded (non-learned) transformations to the data\n",
        "\n",
        "Good features allow you to solve problems using fewer resources\n",
        "\n",
        "Good features let you solve a problem with far less data"
      ],
      "metadata": {
        "id": "bAkxejcUhWiQ"
      }
    },
    {
      "cell_type": "markdown",
      "metadata": {
        "id": "fyP0g7TRdXAO"
      },
      "source": [
        "### Using early stopping"
      ]
    },
    {
      "cell_type": "markdown",
      "source": [
        "In deep learning, we always use models that are vastly overparameterized. Interrupt training long before you’ve\n",
        "reached the minimum possible training loss.\n",
        "\n",
        "In Keras, it’s typical to do this with an EarlyStopping callback"
      ],
      "metadata": {
        "id": "QlHGD74phftB"
      }
    },
    {
      "cell_type": "markdown",
      "metadata": {
        "id": "80xkaLcjdXAO"
      },
      "source": [
        "### Regularizing your model"
      ]
    },
    {
      "cell_type": "markdown",
      "source": [
        "Regularization techniques are a set of best practices that actively impede the model’s ability to fit perfectly to the\n",
        "training data, with the goal of making the model perform better during validation"
      ],
      "metadata": {
        "id": "UbfwFl2bhnWz"
      }
    },
    {
      "cell_type": "markdown",
      "metadata": {
        "id": "yfL8Fg-ydXAO"
      },
      "source": [
        "#### Reducing the network's size"
      ]
    },
    {
      "cell_type": "markdown",
      "source": [
        "The simplest way to prevent overfitting is to reduce the size of the model"
      ],
      "metadata": {
        "id": "CjOKQPqWhrWL"
      }
    },
    {
      "cell_type": "markdown",
      "metadata": {
        "id": "agyIWjAadXAO"
      },
      "source": [
        "**Original model**"
      ]
    },
    {
      "cell_type": "code",
      "execution_count": 15,
      "metadata": {
        "id": "4mqnPyXsdXAO",
        "outputId": "b9fe8496-1f04-46c1-f28b-0b06c749a8dd",
        "colab": {
          "base_uri": "https://localhost:8080/"
        }
      },
      "outputs": [
        {
          "output_type": "stream",
          "name": "stdout",
          "text": [
            "Downloading data from https://storage.googleapis.com/tensorflow/tf-keras-datasets/imdb.npz\n",
            "17465344/17464789 [==============================] - 0s 0us/step\n",
            "17473536/17464789 [==============================] - 0s 0us/step\n",
            "Epoch 1/20\n",
            "30/30 [==============================] - 2s 39ms/step - loss: 0.5202 - accuracy: 0.7799 - val_loss: 0.3887 - val_accuracy: 0.8759\n",
            "Epoch 2/20\n",
            "30/30 [==============================] - 1s 19ms/step - loss: 0.3087 - accuracy: 0.9037 - val_loss: 0.3042 - val_accuracy: 0.8886\n",
            "Epoch 3/20\n",
            "30/30 [==============================] - 1s 19ms/step - loss: 0.2204 - accuracy: 0.9293 - val_loss: 0.2811 - val_accuracy: 0.8897\n",
            "Epoch 4/20\n",
            "30/30 [==============================] - 1s 18ms/step - loss: 0.1730 - accuracy: 0.9439 - val_loss: 0.2810 - val_accuracy: 0.8884\n",
            "Epoch 5/20\n",
            "30/30 [==============================] - 1s 19ms/step - loss: 0.1368 - accuracy: 0.9583 - val_loss: 0.2891 - val_accuracy: 0.8875\n",
            "Epoch 6/20\n",
            "30/30 [==============================] - 1s 19ms/step - loss: 0.1131 - accuracy: 0.9649 - val_loss: 0.3014 - val_accuracy: 0.8853\n",
            "Epoch 7/20\n",
            "30/30 [==============================] - 1s 19ms/step - loss: 0.0965 - accuracy: 0.9715 - val_loss: 0.3291 - val_accuracy: 0.8797\n",
            "Epoch 8/20\n",
            "30/30 [==============================] - 1s 20ms/step - loss: 0.0781 - accuracy: 0.9772 - val_loss: 0.3452 - val_accuracy: 0.8808\n",
            "Epoch 9/20\n",
            "30/30 [==============================] - 1s 19ms/step - loss: 0.0643 - accuracy: 0.9829 - val_loss: 0.3682 - val_accuracy: 0.8784\n",
            "Epoch 10/20\n",
            "30/30 [==============================] - 1s 19ms/step - loss: 0.0532 - accuracy: 0.9857 - val_loss: 0.4046 - val_accuracy: 0.8744\n",
            "Epoch 11/20\n",
            "30/30 [==============================] - 1s 18ms/step - loss: 0.0454 - accuracy: 0.9880 - val_loss: 0.4177 - val_accuracy: 0.8771\n",
            "Epoch 12/20\n",
            "30/30 [==============================] - 1s 19ms/step - loss: 0.0374 - accuracy: 0.9910 - val_loss: 0.4468 - val_accuracy: 0.8729\n",
            "Epoch 13/20\n",
            "30/30 [==============================] - 1s 19ms/step - loss: 0.0267 - accuracy: 0.9951 - val_loss: 0.4814 - val_accuracy: 0.8734\n",
            "Epoch 14/20\n",
            "30/30 [==============================] - 1s 19ms/step - loss: 0.0250 - accuracy: 0.9944 - val_loss: 0.5141 - val_accuracy: 0.8713\n",
            "Epoch 15/20\n",
            "30/30 [==============================] - 1s 23ms/step - loss: 0.0198 - accuracy: 0.9956 - val_loss: 0.5465 - val_accuracy: 0.8679\n",
            "Epoch 16/20\n",
            "30/30 [==============================] - 1s 20ms/step - loss: 0.0146 - accuracy: 0.9977 - val_loss: 0.5921 - val_accuracy: 0.8663\n",
            "Epoch 17/20\n",
            "30/30 [==============================] - 1s 20ms/step - loss: 0.0096 - accuracy: 0.9991 - val_loss: 0.6546 - val_accuracy: 0.8624\n",
            "Epoch 18/20\n",
            "30/30 [==============================] - 1s 19ms/step - loss: 0.0108 - accuracy: 0.9985 - val_loss: 0.6516 - val_accuracy: 0.8654\n",
            "Epoch 19/20\n",
            "30/30 [==============================] - 1s 19ms/step - loss: 0.0077 - accuracy: 0.9991 - val_loss: 0.6904 - val_accuracy: 0.8635\n",
            "Epoch 20/20\n",
            "30/30 [==============================] - 1s 19ms/step - loss: 0.0064 - accuracy: 0.9991 - val_loss: 0.7348 - val_accuracy: 0.8635\n"
          ]
        }
      ],
      "source": [
        "from tensorflow.keras.datasets import imdb\n",
        "(train_data, train_labels), _ = imdb.load_data(num_words=10000)\n",
        "\n",
        "def vectorize_sequences(sequences, dimension=10000):\n",
        "    results = np.zeros((len(sequences), dimension))\n",
        "    for i, sequence in enumerate(sequences):\n",
        "        results[i, sequence] = 1.\n",
        "    return results\n",
        "train_data = vectorize_sequences(train_data)\n",
        "\n",
        "model = keras.Sequential([\n",
        "    layers.Dense(16, activation=\"relu\"), #in this model our layers have 16 output dimension\n",
        "    layers.Dense(16, activation=\"relu\"),\n",
        "    layers.Dense(1, activation=\"sigmoid\")\n",
        "])\n",
        "model.compile(optimizer=\"rmsprop\",\n",
        "              loss=\"binary_crossentropy\",\n",
        "              metrics=[\"accuracy\"])\n",
        "history_original = model.fit(train_data, train_labels,\n",
        "                             epochs=20, batch_size=512, validation_split=0.4)"
      ]
    },
    {
      "cell_type": "markdown",
      "metadata": {
        "id": "p54A-HdGdXAO"
      },
      "source": [
        "**Version of the model with lower capacity**"
      ]
    },
    {
      "cell_type": "code",
      "execution_count": 16,
      "metadata": {
        "id": "w6YgnInpdXAO",
        "outputId": "d8e8bd1f-8d6d-4f8b-a542-7ae018c15a74",
        "colab": {
          "base_uri": "https://localhost:8080/"
        }
      },
      "outputs": [
        {
          "output_type": "stream",
          "name": "stdout",
          "text": [
            "Epoch 1/20\n",
            "30/30 [==============================] - 2s 39ms/step - loss: 0.5721 - accuracy: 0.7744 - val_loss: 0.4787 - val_accuracy: 0.8500\n",
            "Epoch 2/20\n",
            "30/30 [==============================] - 1s 19ms/step - loss: 0.4079 - accuracy: 0.8880 - val_loss: 0.3818 - val_accuracy: 0.8760\n",
            "Epoch 3/20\n",
            "30/30 [==============================] - 1s 19ms/step - loss: 0.3205 - accuracy: 0.9077 - val_loss: 0.3306 - val_accuracy: 0.8840\n",
            "Epoch 4/20\n",
            "30/30 [==============================] - 1s 19ms/step - loss: 0.2625 - accuracy: 0.9236 - val_loss: 0.2994 - val_accuracy: 0.8892\n",
            "Epoch 5/20\n",
            "30/30 [==============================] - 1s 18ms/step - loss: 0.2217 - accuracy: 0.9347 - val_loss: 0.2833 - val_accuracy: 0.8912\n",
            "Epoch 6/20\n",
            "30/30 [==============================] - 1s 19ms/step - loss: 0.1922 - accuracy: 0.9417 - val_loss: 0.2854 - val_accuracy: 0.8856\n",
            "Epoch 7/20\n",
            "30/30 [==============================] - 1s 19ms/step - loss: 0.1687 - accuracy: 0.9510 - val_loss: 0.2783 - val_accuracy: 0.8876\n",
            "Epoch 8/20\n",
            "30/30 [==============================] - 1s 19ms/step - loss: 0.1501 - accuracy: 0.9563 - val_loss: 0.2742 - val_accuracy: 0.8913\n",
            "Epoch 9/20\n",
            "30/30 [==============================] - 1s 19ms/step - loss: 0.1326 - accuracy: 0.9615 - val_loss: 0.2771 - val_accuracy: 0.8912\n",
            "Epoch 10/20\n",
            "30/30 [==============================] - 1s 19ms/step - loss: 0.1187 - accuracy: 0.9658 - val_loss: 0.2829 - val_accuracy: 0.8901\n",
            "Epoch 11/20\n",
            "30/30 [==============================] - 1s 19ms/step - loss: 0.1067 - accuracy: 0.9708 - val_loss: 0.2928 - val_accuracy: 0.8878\n",
            "Epoch 12/20\n",
            "30/30 [==============================] - 1s 19ms/step - loss: 0.0955 - accuracy: 0.9745 - val_loss: 0.3005 - val_accuracy: 0.8877\n",
            "Epoch 13/20\n",
            "30/30 [==============================] - 1s 19ms/step - loss: 0.0864 - accuracy: 0.9770 - val_loss: 0.3192 - val_accuracy: 0.8814\n",
            "Epoch 14/20\n",
            "30/30 [==============================] - 1s 27ms/step - loss: 0.0776 - accuracy: 0.9808 - val_loss: 0.3223 - val_accuracy: 0.8859\n",
            "Epoch 15/20\n",
            "30/30 [==============================] - 1s 29ms/step - loss: 0.0701 - accuracy: 0.9820 - val_loss: 0.3378 - val_accuracy: 0.8832\n",
            "Epoch 16/20\n",
            "30/30 [==============================] - 1s 24ms/step - loss: 0.0636 - accuracy: 0.9849 - val_loss: 0.3524 - val_accuracy: 0.8806\n",
            "Epoch 17/20\n",
            "30/30 [==============================] - 1s 23ms/step - loss: 0.0568 - accuracy: 0.9869 - val_loss: 0.3645 - val_accuracy: 0.8814\n",
            "Epoch 18/20\n",
            "30/30 [==============================] - 1s 19ms/step - loss: 0.0509 - accuracy: 0.9886 - val_loss: 0.3812 - val_accuracy: 0.8797\n",
            "Epoch 19/20\n",
            "30/30 [==============================] - 1s 19ms/step - loss: 0.0457 - accuracy: 0.9905 - val_loss: 0.3971 - val_accuracy: 0.8784\n",
            "Epoch 20/20\n",
            "30/30 [==============================] - 1s 19ms/step - loss: 0.0409 - accuracy: 0.9915 - val_loss: 0.4191 - val_accuracy: 0.8758\n"
          ]
        }
      ],
      "source": [
        "model = keras.Sequential([\n",
        "    layers.Dense(4, activation=\"relu\"),\n",
        "    layers.Dense(4, activation=\"relu\"),\n",
        "    layers.Dense(1, activation=\"sigmoid\")\n",
        "])\n",
        "model.compile(optimizer=\"rmsprop\",\n",
        "              loss=\"binary_crossentropy\",\n",
        "              metrics=[\"accuracy\"])\n",
        "history_smaller_model = model.fit(\n",
        "    train_data, train_labels,\n",
        "    epochs=20, batch_size=512, validation_split=0.4)"
      ]
    },
    {
      "cell_type": "code",
      "source": [
        "#to visualize graphs\n",
        "import matplotlib.pyplot as plt\n",
        "val_loss = history_original.history[\"val_loss\"]\n",
        "val_loss2 = history_smaller_model.history[\"val_loss\"]\n",
        "\n",
        "epochs = range(1, 21)\n",
        "plt.plot(epochs, val_loss, \"b--\",\n",
        "         label=\"Validation loss of original model\")\n",
        "plt.plot(epochs, val_loss2, \"b-\",\n",
        "         label=\"Validation loss of smaller model\")\n",
        "plt.title(\"Effect of smaller model capacity on validation loss\")\n",
        "plt.xlabel(\"Epochs\")\n",
        "plt.ylabel(\"Loss\")\n",
        "plt.legend()\n",
        "#effect of validation loss of smaller model is overfitting and doesn't perform really good(curve not near 0)"
      ],
      "metadata": {
        "id": "2E3aKMq7FCYK",
        "outputId": "b06cf453-53d4-4a6c-bf78-459ad83c9e21",
        "colab": {
          "base_uri": "https://localhost:8080/",
          "height": 312
        }
      },
      "execution_count": 17,
      "outputs": [
        {
          "output_type": "execute_result",
          "data": {
            "text/plain": [
              "<matplotlib.legend.Legend at 0x7f78031abc10>"
            ]
          },
          "metadata": {},
          "execution_count": 17
        },
        {
          "output_type": "display_data",
          "data": {
            "text/plain": [
              "<Figure size 432x288 with 1 Axes>"
            ],
            "image/png": "[encoded data removed]"
          },
          "metadata": {
            "needs_background": "light"
          }
        }
      ]
    },
    {
      "cell_type": "markdown",
      "metadata": {
        "id": "rIR8Lr1IdXAP"
      },
      "source": [
        "**Version of the model with higher capacity**"
      ]
    },
    {
      "cell_type": "code",
      "execution_count": 18,
      "metadata": {
        "id": "9r0O-iROdXAP",
        "outputId": "79bffe22-c29a-419e-b2c0-a5297959677e",
        "colab": {
          "base_uri": "https://localhost:8080/"
        }
      },
      "outputs": [
        {
          "output_type": "stream",
          "name": "stdout",
          "text": [
            "Epoch 1/20\n",
            "30/30 [==============================] - 2s 41ms/step - loss: 0.5413 - accuracy: 0.7572 - val_loss: 0.3007 - val_accuracy: 0.8835\n",
            "Epoch 2/20\n",
            "30/30 [==============================] - 1s 23ms/step - loss: 0.2527 - accuracy: 0.9040 - val_loss: 0.4339 - val_accuracy: 0.8180\n",
            "Epoch 3/20\n",
            "30/30 [==============================] - 1s 24ms/step - loss: 0.1406 - accuracy: 0.9477 - val_loss: 0.3181 - val_accuracy: 0.8890\n",
            "Epoch 4/20\n",
            "30/30 [==============================] - 1s 24ms/step - loss: 0.1017 - accuracy: 0.9701 - val_loss: 0.3642 - val_accuracy: 0.8875\n",
            "Epoch 5/20\n",
            "30/30 [==============================] - 1s 23ms/step - loss: 0.1469 - accuracy: 0.9751 - val_loss: 0.3209 - val_accuracy: 0.8873\n",
            "Epoch 6/20\n",
            "30/30 [==============================] - 1s 23ms/step - loss: 0.0059 - accuracy: 0.9997 - val_loss: 0.4870 - val_accuracy: 0.8887\n",
            "Epoch 7/20\n",
            "30/30 [==============================] - 1s 23ms/step - loss: 0.0011 - accuracy: 0.9999 - val_loss: 0.5686 - val_accuracy: 0.8875\n",
            "Epoch 8/20\n",
            "30/30 [==============================] - 1s 23ms/step - loss: 1.3572e-04 - accuracy: 1.0000 - val_loss: 0.7018 - val_accuracy: 0.8875\n",
            "Epoch 9/20\n",
            "30/30 [==============================] - 1s 23ms/step - loss: 2.4599e-05 - accuracy: 1.0000 - val_loss: 0.8008 - val_accuracy: 0.8856\n",
            "Epoch 10/20\n",
            "30/30 [==============================] - 1s 22ms/step - loss: 5.1798e-06 - accuracy: 1.0000 - val_loss: 0.9082 - val_accuracy: 0.8858\n",
            "Epoch 11/20\n",
            "30/30 [==============================] - 1s 22ms/step - loss: 1.2948e-06 - accuracy: 1.0000 - val_loss: 0.9977 - val_accuracy: 0.8857\n",
            "Epoch 12/20\n",
            "30/30 [==============================] - 1s 23ms/step - loss: 3.7840e-07 - accuracy: 1.0000 - val_loss: 1.0766 - val_accuracy: 0.8856\n",
            "Epoch 13/20\n",
            "30/30 [==============================] - 1s 22ms/step - loss: 1.3388e-07 - accuracy: 1.0000 - val_loss: 1.1402 - val_accuracy: 0.8856\n",
            "Epoch 14/20\n",
            "30/30 [==============================] - 1s 22ms/step - loss: 5.7079e-08 - accuracy: 1.0000 - val_loss: 1.1941 - val_accuracy: 0.8861\n",
            "Epoch 15/20\n",
            "30/30 [==============================] - 1s 23ms/step - loss: 3.0651e-08 - accuracy: 1.0000 - val_loss: 1.2288 - val_accuracy: 0.8857\n",
            "Epoch 16/20\n",
            "30/30 [==============================] - 1s 22ms/step - loss: 2.0080e-08 - accuracy: 1.0000 - val_loss: 1.2521 - val_accuracy: 0.8857\n",
            "Epoch 17/20\n",
            "30/30 [==============================] - 1s 22ms/step - loss: 1.4812e-08 - accuracy: 1.0000 - val_loss: 1.2700 - val_accuracy: 0.8855\n",
            "Epoch 18/20\n",
            "30/30 [==============================] - 1s 22ms/step - loss: 1.1781e-08 - accuracy: 1.0000 - val_loss: 1.2844 - val_accuracy: 0.8859\n",
            "Epoch 19/20\n",
            "30/30 [==============================] - 1s 22ms/step - loss: 9.7662e-09 - accuracy: 1.0000 - val_loss: 1.2961 - val_accuracy: 0.8858\n",
            "Epoch 20/20\n",
            "30/30 [==============================] - 1s 21ms/step - loss: 8.3620e-09 - accuracy: 1.0000 - val_loss: 1.3061 - val_accuracy: 0.8857\n"
          ]
        }
      ],
      "source": [
        "model = keras.Sequential([\n",
        "    layers.Dense(512, activation=\"relu\"),\n",
        "    layers.Dense(512, activation=\"relu\"),\n",
        "    layers.Dense(1, activation=\"sigmoid\")\n",
        "])\n",
        "model.compile(optimizer=\"rmsprop\",\n",
        "              loss=\"binary_crossentropy\",\n",
        "              metrics=[\"accuracy\"])\n",
        "history_larger_model = model.fit(\n",
        "    train_data, train_labels,\n",
        "    epochs=20, batch_size=512, validation_split=0.4)"
      ]
    },
    {
      "cell_type": "code",
      "source": [
        "#to visualize graphs\n",
        "import matplotlib.pyplot as plt\n",
        "val_loss = history_original.history[\"val_loss\"]\n",
        "val_loss2 = history_larger_model.history[\"val_loss\"]\n",
        "\n",
        "epochs = range(1, 21)\n",
        "plt.plot(epochs, val_loss, \"b--\",#pour a avoir une courbe en pointillée\n",
        "         label=\"Validation loss of original model\")\n",
        "plt.plot(epochs, val_loss2, \"b-\", #pour avoir une courbe pleine\n",
        "         label=\"Validation loss of larger model\")\n",
        "plt.title(\"Effect of larger model capacity on validation loss\")\n",
        "plt.xlabel(\"Epochs\")\n",
        "plt.ylabel(\"Loss\")\n",
        "plt.legend()\n",
        "#overfit really fastly. so validation loss of original model looks better. but still overfitting after 5 epochs"
      ],
      "metadata": {
        "id": "GRm62ttfGFKD",
        "outputId": "980ba0f2-ff7c-4fb0-8a54-6ae89e839273",
        "colab": {
          "base_uri": "https://localhost:8080/",
          "height": 312
        }
      },
      "execution_count": 19,
      "outputs": [
        {
          "output_type": "execute_result",
          "data": {
            "text/plain": [
              "<matplotlib.legend.Legend at 0x7f7808309a90>"
            ]
          },
          "metadata": {},
          "execution_count": 19
        },
        {
          "output_type": "display_data",
          "data": {
            "text/plain": [
              "<Figure size 432x288 with 1 Axes>"
            ],
            "image/png": "[encoded data removed]"
          },
          "metadata": {
            "needs_background": "light"
          }
        }
      ]
    },
    {
      "cell_type": "markdown",
      "metadata": {
        "id": "3gS7WkI1dXAP"
      },
      "source": [
        "#### Adding weight regularization"
      ]
    },
    {
      "cell_type": "markdown",
      "source": [
        "Simpler models are less likely to overfit than complex ones\n",
        "\n",
        "Simple model is a model where the parameter values has less entropy"
      ],
      "metadata": {
        "id": "kOdHt3x1hzxR"
      }
    },
    {
      "cell_type": "markdown",
      "metadata": {
        "id": "90NS_FopdXAP"
      },
      "source": [
        "**Adding L2 weight regularization to the model**"
      ]
    },
    {
      "cell_type": "code",
      "execution_count": 20,
      "metadata": {
        "id": "O_AQNe6WdXAP",
        "outputId": "1596c27f-29e6-4121-ef40-92b808e67d47",
        "colab": {
          "base_uri": "https://localhost:8080/"
        }
      },
      "outputs": [
        {
          "output_type": "stream",
          "name": "stdout",
          "text": [
            "Epoch 1/20\n",
            "30/30 [==============================] - 2s 35ms/step - loss: 0.5872 - accuracy: 0.7939 - val_loss: 0.4894 - val_accuracy: 0.8307\n",
            "Epoch 2/20\n",
            "30/30 [==============================] - 1s 19ms/step - loss: 0.3993 - accuracy: 0.8929 - val_loss: 0.3887 - val_accuracy: 0.8855\n",
            "Epoch 3/20\n",
            "30/30 [==============================] - 1s 19ms/step - loss: 0.3351 - accuracy: 0.9117 - val_loss: 0.3944 - val_accuracy: 0.8666\n",
            "Epoch 4/20\n",
            "30/30 [==============================] - 1s 19ms/step - loss: 0.3024 - accuracy: 0.9231 - val_loss: 0.3619 - val_accuracy: 0.8854\n",
            "Epoch 5/20\n",
            "30/30 [==============================] - 1s 19ms/step - loss: 0.2793 - accuracy: 0.9323 - val_loss: 0.3544 - val_accuracy: 0.8883\n",
            "Epoch 6/20\n",
            "30/30 [==============================] - 1s 19ms/step - loss: 0.2707 - accuracy: 0.9324 - val_loss: 0.3648 - val_accuracy: 0.8822\n",
            "Epoch 7/20\n",
            "30/30 [==============================] - 1s 20ms/step - loss: 0.2576 - accuracy: 0.9383 - val_loss: 0.3756 - val_accuracy: 0.8788\n",
            "Epoch 8/20\n",
            "30/30 [==============================] - 1s 19ms/step - loss: 0.2507 - accuracy: 0.9425 - val_loss: 0.3620 - val_accuracy: 0.8830\n",
            "Epoch 9/20\n",
            "30/30 [==============================] - 1s 20ms/step - loss: 0.2414 - accuracy: 0.9453 - val_loss: 0.3655 - val_accuracy: 0.8830\n",
            "Epoch 10/20\n",
            "30/30 [==============================] - 1s 19ms/step - loss: 0.2411 - accuracy: 0.9445 - val_loss: 0.3771 - val_accuracy: 0.8801\n",
            "Epoch 11/20\n",
            "30/30 [==============================] - 1s 20ms/step - loss: 0.2328 - accuracy: 0.9481 - val_loss: 0.3746 - val_accuracy: 0.8795\n",
            "Epoch 12/20\n",
            "30/30 [==============================] - 1s 23ms/step - loss: 0.2253 - accuracy: 0.9505 - val_loss: 0.3796 - val_accuracy: 0.8784\n",
            "Epoch 13/20\n",
            "30/30 [==============================] - 1s 26ms/step - loss: 0.2242 - accuracy: 0.9517 - val_loss: 0.3811 - val_accuracy: 0.8794\n",
            "Epoch 14/20\n",
            "30/30 [==============================] - 1s 28ms/step - loss: 0.2202 - accuracy: 0.9519 - val_loss: 0.3955 - val_accuracy: 0.8754\n",
            "Epoch 15/20\n",
            "30/30 [==============================] - 1s 19ms/step - loss: 0.2196 - accuracy: 0.9517 - val_loss: 0.3893 - val_accuracy: 0.8770\n",
            "Epoch 16/20\n",
            "30/30 [==============================] - 1s 19ms/step - loss: 0.2140 - accuracy: 0.9549 - val_loss: 0.4253 - val_accuracy: 0.8698\n",
            "Epoch 17/20\n",
            "30/30 [==============================] - 1s 19ms/step - loss: 0.2104 - accuracy: 0.9565 - val_loss: 0.3937 - val_accuracy: 0.8785\n",
            "Epoch 18/20\n",
            "30/30 [==============================] - 1s 20ms/step - loss: 0.2079 - accuracy: 0.9564 - val_loss: 0.4201 - val_accuracy: 0.8701\n",
            "Epoch 19/20\n",
            "30/30 [==============================] - 1s 20ms/step - loss: 0.2074 - accuracy: 0.9557 - val_loss: 0.4088 - val_accuracy: 0.8755\n",
            "Epoch 20/20\n",
            "30/30 [==============================] - 1s 27ms/step - loss: 0.1991 - accuracy: 0.9613 - val_loss: 0.4525 - val_accuracy: 0.8666\n"
          ]
        }
      ],
      "source": [
        "from tensorflow.keras import regularizers\n",
        "model = keras.Sequential([\n",
        "    layers.Dense(16,\n",
        "                 kernel_regularizer=regularizers.l2(0.002),\n",
        "                 activation=\"relu\"),\n",
        "    layers.Dense(16,\n",
        "                 kernel_regularizer=regularizers.l2(0.002),\n",
        "                 activation=\"relu\"),\n",
        "    layers.Dense(1, activation=\"sigmoid\")\n",
        "])\n",
        "model.compile(optimizer=\"rmsprop\",\n",
        "              loss=\"binary_crossentropy\",\n",
        "              metrics=[\"accuracy\"])\n",
        "history_l2_reg = model.fit(\n",
        "    train_data, train_labels,\n",
        "    epochs=20, batch_size=512, validation_split=0.4)"
      ]
    },
    {
      "cell_type": "code",
      "source": [
        "#to visualize graphs\n",
        "import matplotlib.pyplot as plt\n",
        "val_loss = history_original.history[\"val_loss\"]\n",
        "val_loss2 = history_l2_reg.history[\"val_loss\"]\n",
        "\n",
        "epochs = range(1, 21)\n",
        "plt.plot(epochs, val_loss, \"b--\",#pour a avoir une courbe en pointillée\n",
        "         label=\"Validation loss of original model\")\n",
        "plt.plot(epochs, val_loss2, \"b-\", #pour avoir une courbe pleine\n",
        "         label=\"Validation loss of original model with l2 regularization\")\n",
        "plt.title(\"Effect of l2 regularization on validation loss\")\n",
        "plt.xlabel(\"Epochs\")\n",
        "plt.ylabel(\"Loss\")\n",
        "plt.legend()\n",
        "#overfitting pb is prevented however loss is worst than original one"
      ],
      "metadata": {
        "id": "1L7_-kYoGuNz",
        "outputId": "eea0a773-cd77-4a39-db55-39dfd5234662",
        "colab": {
          "base_uri": "https://localhost:8080/",
          "height": 312
        }
      },
      "execution_count": 21,
      "outputs": [
        {
          "output_type": "execute_result",
          "data": {
            "text/plain": [
              "<matplotlib.legend.Legend at 0x7f787275f590>"
            ]
          },
          "metadata": {},
          "execution_count": 21
        },
        {
          "output_type": "display_data",
          "data": {
            "text/plain": [
              "<Figure size 432x288 with 1 Axes>"
            ],
            "image/png": "[encoded data removed]"
          },
          "metadata": {
            "needs_background": "light"
          }
        }
      ]
    },
    {
      "cell_type": "markdown",
      "metadata": {
        "id": "u45m9qcjdXAP"
      },
      "source": [
        "**Different weight regularizers available in Keras**"
      ]
    },
    {
      "cell_type": "code",
      "execution_count": 22,
      "metadata": {
        "id": "8fbFpVH3dXAP",
        "outputId": "273b5ce3-6ab6-4c5e-f8c5-9a5a74f244c6",
        "colab": {
          "base_uri": "https://localhost:8080/"
        }
      },
      "outputs": [
        {
          "output_type": "execute_result",
          "data": {
            "text/plain": [
              "<keras.regularizers.L1L2 at 0x7f78727764d0>"
            ]
          },
          "metadata": {},
          "execution_count": 22
        }
      ],
      "source": [
        "from tensorflow.keras import regularizers\n",
        "regularizers.l1(0.001)\n",
        "regularizers.l1_l2(l1=0.001, l2=0.001)"
      ]
    },
    {
      "cell_type": "markdown",
      "metadata": {
        "id": "PZqcCr8bdXAP"
      },
      "source": [
        "#### Adding dropout"
      ]
    },
    {
      "cell_type": "markdown",
      "source": [
        "Randomly dropping out (setting to zero) a number of output features of the layer during training"
      ],
      "metadata": {
        "id": "LMBAxc0Eh_hF"
      }
    },
    {
      "cell_type": "markdown",
      "metadata": {
        "id": "p-TXG2OLdXAQ"
      },
      "source": [
        "**Adding dropout to the IMDB model**"
      ]
    },
    {
      "cell_type": "code",
      "execution_count": 23,
      "metadata": {
        "id": "6S-xZBhYdXAQ",
        "outputId": "39094f8a-f054-4cd3-cc99-7bfd39ff30ed",
        "colab": {
          "base_uri": "https://localhost:8080/"
        }
      },
      "outputs": [
        {
          "output_type": "stream",
          "name": "stdout",
          "text": [
            "Epoch 1/20\n",
            "30/30 [==============================] - 2s 35ms/step - loss: 0.6535 - accuracy: 0.6047 - val_loss: 0.5777 - val_accuracy: 0.8205\n",
            "Epoch 2/20\n",
            "30/30 [==============================] - 1s 20ms/step - loss: 0.5575 - accuracy: 0.7384 - val_loss: 0.4687 - val_accuracy: 0.8522\n",
            "Epoch 3/20\n",
            "30/30 [==============================] - 1s 23ms/step - loss: 0.4748 - accuracy: 0.8097 - val_loss: 0.3942 - val_accuracy: 0.8737\n",
            "Epoch 4/20\n",
            "30/30 [==============================] - 1s 20ms/step - loss: 0.4133 - accuracy: 0.8525 - val_loss: 0.3516 - val_accuracy: 0.8820\n",
            "Epoch 5/20\n",
            "30/30 [==============================] - 1s 19ms/step - loss: 0.3592 - accuracy: 0.8813 - val_loss: 0.3228 - val_accuracy: 0.8871\n",
            "Epoch 6/20\n",
            "30/30 [==============================] - 1s 20ms/step - loss: 0.3148 - accuracy: 0.8987 - val_loss: 0.3068 - val_accuracy: 0.8899\n",
            "Epoch 7/20\n",
            "30/30 [==============================] - 1s 19ms/step - loss: 0.2740 - accuracy: 0.9159 - val_loss: 0.3129 - val_accuracy: 0.8891\n",
            "Epoch 8/20\n",
            "30/30 [==============================] - 1s 19ms/step - loss: 0.2474 - accuracy: 0.9262 - val_loss: 0.2951 - val_accuracy: 0.8894\n",
            "Epoch 9/20\n",
            "30/30 [==============================] - 1s 19ms/step - loss: 0.2230 - accuracy: 0.9345 - val_loss: 0.3142 - val_accuracy: 0.8901\n",
            "Epoch 10/20\n",
            "30/30 [==============================] - 1s 19ms/step - loss: 0.1968 - accuracy: 0.9427 - val_loss: 0.3548 - val_accuracy: 0.8850\n",
            "Epoch 11/20\n",
            "30/30 [==============================] - 1s 20ms/step - loss: 0.1802 - accuracy: 0.9493 - val_loss: 0.3216 - val_accuracy: 0.8854\n",
            "Epoch 12/20\n",
            "30/30 [==============================] - 1s 19ms/step - loss: 0.1557 - accuracy: 0.9564 - val_loss: 0.3657 - val_accuracy: 0.8886\n",
            "Epoch 13/20\n",
            "30/30 [==============================] - 1s 19ms/step - loss: 0.1475 - accuracy: 0.9589 - val_loss: 0.3982 - val_accuracy: 0.8877\n",
            "Epoch 14/20\n",
            "30/30 [==============================] - 1s 19ms/step - loss: 0.1384 - accuracy: 0.9607 - val_loss: 0.4124 - val_accuracy: 0.8844\n",
            "Epoch 15/20\n",
            "30/30 [==============================] - 1s 19ms/step - loss: 0.1262 - accuracy: 0.9658 - val_loss: 0.4059 - val_accuracy: 0.8833\n",
            "Epoch 16/20\n",
            "30/30 [==============================] - 1s 19ms/step - loss: 0.1122 - accuracy: 0.9692 - val_loss: 0.4181 - val_accuracy: 0.8787\n",
            "Epoch 17/20\n",
            "30/30 [==============================] - 1s 19ms/step - loss: 0.1100 - accuracy: 0.9682 - val_loss: 0.5128 - val_accuracy: 0.8823\n",
            "Epoch 18/20\n",
            "30/30 [==============================] - 1s 19ms/step - loss: 0.0967 - accuracy: 0.9725 - val_loss: 0.5419 - val_accuracy: 0.8828\n",
            "Epoch 19/20\n",
            "30/30 [==============================] - 1s 20ms/step - loss: 0.0932 - accuracy: 0.9746 - val_loss: 0.5067 - val_accuracy: 0.8795\n",
            "Epoch 20/20\n",
            "30/30 [==============================] - 1s 21ms/step - loss: 0.0916 - accuracy: 0.9736 - val_loss: 0.5300 - val_accuracy: 0.8805\n"
          ]
        }
      ],
      "source": [
        "model = keras.Sequential([\n",
        "    layers.Dense(16, activation=\"relu\"),\n",
        "    layers.Dropout(0.5),\n",
        "    layers.Dense(16, activation=\"relu\"),\n",
        "    layers.Dropout(0.5),\n",
        "    layers.Dense(1, activation=\"sigmoid\")\n",
        "])\n",
        "#At testing time\n",
        "#layer_output*=np.random.randint(0,high=2, size=layer_output.shape) #at training time drops out 50% of the units in the output\n",
        "#layer_output*=0.5 \n",
        "\n",
        "#at training time\n",
        "#layer_output*=np.random.randint(0,high=2, size=layer_output.shape)\n",
        "#layer_output/=0.5 #note that we're scalling up rather scaling down in this case.\n",
        "\n",
        "model.compile(optimizer=\"rmsprop\",\n",
        "              loss=\"binary_crossentropy\",\n",
        "              metrics=[\"accuracy\"])\n",
        "history_dropout = model.fit(\n",
        "    train_data, train_labels,\n",
        "    epochs=20, batch_size=512, validation_split=0.4)"
      ]
    },
    {
      "cell_type": "code",
      "source": [
        "#to visualize graphs\n",
        "import matplotlib.pyplot as plt\n",
        "val_loss = history_original.history[\"val_loss\"]\n",
        "val_loss2 = history_dropout.history[\"val_loss\"]\n",
        "\n",
        "epochs = range(1, 21)\n",
        "plt.plot(epochs, val_loss, \"b--\",#pour a avoir une courbe en pointillée\n",
        "         label=\"Validation loss of original model\")\n",
        "plt.plot(epochs, val_loss2, \"b-\", #pour avoir une courbe pleine\n",
        "         label=\"Validation loss of original model with dropout regularization\")\n",
        "plt.title(\"Effect of dropout regularization on validation loss\")\n",
        "plt.xlabel(\"Epochs\")\n",
        "plt.ylabel(\"Loss\")\n",
        "plt.legend()\n",
        "#look similar but with dropout look a bit better"
      ],
      "metadata": {
        "id": "UL3Xq5M-HpV2",
        "outputId": "9055cbbe-fcd3-4d4c-f198-e7db2c7fa646",
        "colab": {
          "base_uri": "https://localhost:8080/",
          "height": 312
        }
      },
      "execution_count": 24,
      "outputs": [
        {
          "output_type": "execute_result",
          "data": {
            "text/plain": [
              "<matplotlib.legend.Legend at 0x7f7808d12490>"
            ]
          },
          "metadata": {},
          "execution_count": 24
        },
        {
          "output_type": "display_data",
          "data": {
            "text/plain": [
              "<Figure size 432x288 with 1 Axes>"
            ],
            "image/png": "[encoded data removed]"
          },
          "metadata": {
            "needs_background": "light"
          }
        }
      ]
    },
    {
      "cell_type": "markdown",
      "metadata": {
        "id": "n77Q_P8XdXAQ"
      },
      "source": [
        "## Summary"
      ]
    }
  ],
  "metadata": {
    "colab": {
      "collapsed_sections": [],
      "name": "chapter05_fundamentals-of-ml.i",
      "provenance": []
    },
    "kernelspec": {
      "display_name": "Python 3",
      "language": "python",
      "name": "python3"
    },
    "language_info": {
      "codemirror_mode": {
        "name": "ipython",
        "version": 3
      },
      "file_extension": ".py",
      "mimetype": "text/x-python",
      "name": "python",
      "nbconvert_exporter": "python",
      "pygments_lexer": "ipython3",
      "version": "3.7.0"
    },
    "accelerator": "GPU"
  },
  "nbformat": 4,
  "nbformat_minor": 0
}