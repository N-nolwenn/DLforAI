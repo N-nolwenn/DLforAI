{
  "nbformat": 4,
  "nbformat_minor": 0,
  "metadata": {
    "colab": {
      "name": "AI for DL g1.ipynb",
      "provenance": [],
      "authorship_tag": "ABX9TyN0ILyAc8sSJbLfd7hm/KtQ",
      "include_colab_link": true
    },
    "kernelspec": {
      "name": "python3",
      "display_name": "Python 3"
    },
    "language_info": {
      "name": "python"
    }
  },
  "cells": [
    {
      "cell_type": "markdown",
      "metadata": {
        "id": "view-in-github",
        "colab_type": "text"
      },
      "source": [
        "<a href=\"https://colab.research.google.com/github/N-nolwenn/RepositoryTest/blob/main/AI_for_DL_g1.ipynb\" target=\"_parent\"><img src=\"https://colab.research.google.com/assets/colab-badge.svg\" alt=\"Open In Colab\"/></a>"
      ]
    },
    {
      "cell_type": "code",
      "execution_count": null,
      "metadata": {
        "id": "hecQwiVVh6R5"
      },
      "outputs": [],
      "source": [
        ""
      ]
    },
    {
      "cell_type": "markdown",
      "source": [
        "- March 10th 2022\n",
        "\n",
        "Group of 4 we have to\n",
        "- introduce ourselves\n",
        "- make a githup ID\n",
        "- make a githup repository for the class\n",
        "- practice colab\n",
        "- upload code in githup repository\n"
      ],
      "metadata": {
        "id": "Ws3d5O5Qh7To"
      }
    },
    {
      "cell_type": "code",
      "source": [
        ""
      ],
      "metadata": {
        "id": "-oR89OIUiTd4"
      },
      "execution_count": null,
      "outputs": []
    }
  ]
}