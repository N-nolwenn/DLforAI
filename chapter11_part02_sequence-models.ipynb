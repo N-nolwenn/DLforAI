{
  "cells": [
    {
      "cell_type": "markdown",
      "metadata": {
        "id": "v0JRvO8w8EN-"
      },
      "source": [
        "This is a companion notebook for the book [Deep Learning with Python, Second Edition](https://www.manning.com/books/deep-learning-with-python-second-edition?a_aid=keras&a_bid=76564dff). For readability, it only contains runnable code blocks and section titles, and omits everything else in the book: text paragraphs, figures, and pseudocode.\n",
        "\n",
        "**If you want to be able to follow what's going on, I recommend reading the notebook side by side with your copy of the book.**\n",
        "\n",
        "This notebook was generated for TensorFlow 2.6."
      ]
    },
    {
      "cell_type": "markdown",
      "metadata": {
        "id": "RB5y6hzr8EOD"
      },
      "source": [
        "### Processing words as a sequence: The sequence model approach"
      ]
    },
    {
      "cell_type": "markdown",
      "metadata": {
        "id": "emE_4YRf8EOD"
      },
      "source": [
        "#### A first practical example"
      ]
    },
    {
      "cell_type": "markdown",
      "metadata": {
        "id": "vOg5v5Jm8EOE"
      },
      "source": [
        "**Downloading the data**"
      ]
    },
    {
      "cell_type": "code",
      "execution_count": 1,
      "metadata": {
        "colab": {
          "base_uri": "https://localhost:8080/"
        },
        "id": "PUyO4ikb8EOE",
        "outputId": "8c68ddc3-aaf2-4d21-9aa5-4ad2c2d00e60"
      },
      "outputs": [
        {
          "output_type": "stream",
          "name": "stdout",
          "text": [
            "  % Total    % Received % Xferd  Average Speed   Time    Time     Time  Current\n",
            "                                 Dload  Upload   Total   Spent    Left  Speed\n",
            "100 80.2M  100 80.2M    0     0  9292k      0  0:00:08  0:00:08 --:--:-- 17.0M\n"
          ]
        }
      ],
      "source": [
        "!curl -O https://ai.stanford.edu/~amaas/data/sentiment/aclImdb_v1.tar.gz\n",
        "!tar -xf aclImdb_v1.tar.gz\n",
        "!rm -r aclImdb/train/unsup"
      ]
    },
    {
      "cell_type": "markdown",
      "metadata": {
        "id": "qjKRcOSf8EOF"
      },
      "source": [
        "**Preparing the data**"
      ]
    },
    {
      "cell_type": "code",
      "execution_count": 2,
      "metadata": {
        "colab": {
          "base_uri": "https://localhost:8080/"
        },
        "id": "eRx4ATWQ8EOG",
        "outputId": "da1b01be-0321-4c96-80c4-f15cf22dce65"
      },
      "outputs": [
        {
          "output_type": "stream",
          "name": "stdout",
          "text": [
            "Found 20000 files belonging to 2 classes.\n",
            "Found 5000 files belonging to 2 classes.\n",
            "Found 25000 files belonging to 2 classes.\n"
          ]
        }
      ],
      "source": [
        "import os, pathlib, shutil, random\n",
        "from tensorflow import keras\n",
        "batch_size = 32\n",
        "base_dir = pathlib.Path(\"aclImdb\")\n",
        "val_dir = base_dir / \"val\"\n",
        "train_dir = base_dir / \"train\"\n",
        "for category in (\"neg\", \"pos\"):\n",
        "    os.makedirs(val_dir / category)\n",
        "    files = os.listdir(train_dir / category)\n",
        "    random.Random(1337).shuffle(files)\n",
        "    num_val_samples = int(0.2 * len(files))\n",
        "    val_files = files[-num_val_samples:]\n",
        "    for fname in val_files:\n",
        "        shutil.move(train_dir / category / fname,\n",
        "                    val_dir / category / fname)\n",
        "\n",
        "train_ds = keras.utils.text_dataset_from_directory(\n",
        "    \"aclImdb/train\", batch_size=batch_size\n",
        ")\n",
        "val_ds = keras.utils.text_dataset_from_directory(\n",
        "    \"aclImdb/val\", batch_size=batch_size\n",
        ")\n",
        "test_ds = keras.utils.text_dataset_from_directory(\n",
        "    \"aclImdb/test\", batch_size=batch_size\n",
        ")\n",
        "text_only_train_ds = train_ds.map(lambda x, y: x)"
      ]
    },
    {
      "cell_type": "markdown",
      "metadata": {
        "id": "hmXIySZ_8EOH"
      },
      "source": [
        "**Preparing integer sequence datasets**"
      ]
    },
    {
      "cell_type": "code",
      "execution_count": 3,
      "metadata": {
        "id": "AiklMnCc8EOI"
      },
      "outputs": [],
      "source": [
        "from tensorflow.keras import layers\n",
        "\n",
        "max_length = 600\n",
        "max_tokens = 20000\n",
        "text_vectorization = layers.TextVectorization(\n",
        "    max_tokens=max_tokens,\n",
        "    output_mode=\"int\", #sequential information is preserved\n",
        "    output_sequence_length=max_length,\n",
        "#In order to keep a manageable input size we ll truncate the inputs after the first 600 words.\n",
        "#This is a reasonable choice, since the average review length is 233 words and only 5% of reviews are longer than 600 words\n",
        ")\n",
        "text_vectorization.adapt(text_only_train_ds)\n",
        "\n",
        "#process train, validation and test data sets\n",
        "int_train_ds = train_ds.map(\n",
        "    lambda x, y: (text_vectorization(x), y),\n",
        "    num_parallel_calls=4)\n",
        "int_val_ds = val_ds.map(\n",
        "    lambda x, y: (text_vectorization(x), y),\n",
        "    num_parallel_calls=4)\n",
        "int_test_ds = test_ds.map(\n",
        "    lambda x, y: (text_vectorization(x), y),\n",
        "    num_parallel_calls=4)"
      ]
    },
    {
      "cell_type": "markdown",
      "metadata": {
        "id": "VGV1crj38EOJ"
      },
      "source": [
        "**A sequence model built on one-hot encoded vector sequences**"
      ]
    },
    {
      "cell_type": "markdown",
      "source": [
        "The simplest way to convert our integer sequences to vector sequences is to use one hot encoding. On top of these one-hot vecotrs we'll add a simple bidirectional LSTM "
      ],
      "metadata": {
        "id": "BVmzQMpRVGgW"
      }
    },
    {
      "cell_type": "code",
      "execution_count": 4,
      "metadata": {
        "colab": {
          "base_uri": "https://localhost:8080/"
        },
        "id": "Z7dbuQtL8EOJ",
        "outputId": "3be7c289-9459-4477-c520-80e6beb64de3"
      },
      "outputs": [
        {
          "output_type": "stream",
          "name": "stdout",
          "text": [
            "Model: \"model\"\n",
            "_________________________________________________________________\n",
            " Layer (type)                Output Shape              Param #   \n",
            "=================================================================\n",
            " input_1 (InputLayer)        [(None, None)]            0         \n",
            "                                                                 \n",
            " tf.one_hot (TFOpLambda)     (None, None, 20000)       0         \n",
            "                                                                 \n",
            " bidirectional (Bidirectiona  (None, 64)               5128448   \n",
            " l)                                                              \n",
            "                                                                 \n",
            " dropout (Dropout)           (None, 64)                0         \n",
            "                                                                 \n",
            " dense (Dense)               (None, 1)                 65        \n",
            "                                                                 \n",
            "=================================================================\n",
            "Total params: 5,128,513\n",
            "Trainable params: 5,128,513\n",
            "Non-trainable params: 0\n",
            "_________________________________________________________________\n"
          ]
        }
      ],
      "source": [
        "import tensorflow as tf\n",
        "inputs = keras.Input(shape=(None,), dtype=\"int64\") #One input is a sequence of integers\n",
        "embedded = tf.one_hot(inputs, depth=max_tokens) #encode the integers into binary 20000 dimensional vectors\n",
        "x = layers.Bidirectional(layers.LSTM(32))(embedded) #add a bidirectional LSTM\n",
        "x = layers.Dropout(0.5)(x)\n",
        "outputs = layers.Dense(1, activation=\"sigmoid\")(x)#Finally add a classification layer\n",
        "model = keras.Model(inputs, outputs)\n",
        "model.compile(optimizer=\"rmsprop\",\n",
        "              loss=\"binary_crossentropy\",\n",
        "              metrics=[\"accuracy\"])\n",
        "model.summary()"
      ]
    },
    {
      "cell_type": "markdown",
      "metadata": {
        "id": "c3s4Bdeh8EOJ"
      },
      "source": [
        "**Training a first basic sequence model**"
      ]
    },
    {
      "cell_type": "code",
      "execution_count": 5,
      "metadata": {
        "colab": {
          "base_uri": "https://localhost:8080/"
        },
        "id": "9Kd8SshH8EOK",
        "outputId": "ad563422-63f5-4037-c9e3-621ed24a1118"
      },
      "outputs": [
        {
          "output_type": "stream",
          "name": "stdout",
          "text": [
            "Epoch 1/10\n",
            "625/625 [==============================] - 179s 274ms/step - loss: 0.5190 - accuracy: 0.7548 - val_loss: 0.3590 - val_accuracy: 0.8664\n",
            "Epoch 2/10\n",
            "625/625 [==============================] - 172s 275ms/step - loss: 0.3422 - accuracy: 0.8737 - val_loss: 0.2921 - val_accuracy: 0.8860\n",
            "Epoch 3/10\n",
            "625/625 [==============================] - 173s 276ms/step - loss: 0.2700 - accuracy: 0.9063 - val_loss: 0.3235 - val_accuracy: 0.8856\n",
            "Epoch 4/10\n",
            "625/625 [==============================] - 173s 277ms/step - loss: 0.2259 - accuracy: 0.9219 - val_loss: 0.6733 - val_accuracy: 0.8472\n",
            "Epoch 5/10\n",
            "625/625 [==============================] - 173s 276ms/step - loss: 0.2004 - accuracy: 0.9342 - val_loss: 0.3724 - val_accuracy: 0.8428\n",
            "Epoch 6/10\n",
            "625/625 [==============================] - 174s 278ms/step - loss: 0.1778 - accuracy: 0.9400 - val_loss: 0.6266 - val_accuracy: 0.8690\n",
            "Epoch 7/10\n",
            "625/625 [==============================] - 173s 277ms/step - loss: 0.1637 - accuracy: 0.9460 - val_loss: 0.3118 - val_accuracy: 0.8836\n",
            "Epoch 8/10\n",
            "625/625 [==============================] - 173s 277ms/step - loss: 0.1412 - accuracy: 0.9553 - val_loss: 0.8751 - val_accuracy: 0.8262\n",
            "Epoch 9/10\n",
            "625/625 [==============================] - 173s 276ms/step - loss: 0.1208 - accuracy: 0.9614 - val_loss: 0.4787 - val_accuracy: 0.8872\n",
            "Epoch 10/10\n",
            "625/625 [==============================] - 173s 277ms/step - loss: 0.1022 - accuracy: 0.9679 - val_loss: 0.3749 - val_accuracy: 0.8870\n",
            "782/782 [==============================] - 105s 133ms/step - loss: 0.2995 - accuracy: 0.8818\n",
            "Test acc: 0.882\n"
          ]
        }
      ],
      "source": [
        "callbacks = [\n",
        "    keras.callbacks.ModelCheckpoint(\"one_hot_bidir_lstm.keras\",\n",
        "                                    save_best_only=True)\n",
        "]\n",
        "model.fit(int_train_ds, validation_data=int_val_ds, epochs=10, callbacks=callbacks)\n",
        "model = keras.models.load_model(\"one_hot_bidir_lstm.keras\")\n",
        "print(f\"Test acc: {model.evaluate(int_test_ds)[1]:.3f}\")"
      ]
    },
    {
      "cell_type": "markdown",
      "metadata": {
        "id": "WdzO1n0O8EOK"
      },
      "source": [
        "#### Understanding word embeddings"
      ]
    },
    {
      "cell_type": "markdown",
      "source": [
        "Another popuar and powerful way to associate a vector with a word is the use of dense word vectos also called word embeddings\n",
        "\n",
        "The geometric relationship betw/ 2 word vectors should reflect the semantic relationchip between these words."
      ],
      "metadata": {
        "id": "myE_QCv8Vvp4"
      }
    },
    {
      "cell_type": "markdown",
      "source": [
        "Two Ways to obtain word embeddings:\n",
        "Learn word embeddings jointy with the main task you care about (such as document classification or sentimentprediction)\n",
        "\n",
        "Load into your model word embeddings that were precomputed using a different machine learning task than the one you're trying to solve. \n",
        "\n",
        "These are called pretrained word embeddings"
      ],
      "metadata": {
        "id": "nX2B-zkjXARN"
      }
    },
    {
      "cell_type": "markdown",
      "metadata": {
        "id": "Z80ZvDnT8EOK"
      },
      "source": [
        "#### Learning word embeddings with the Embedding layer"
      ]
    },
    {
      "cell_type": "markdown",
      "source": [
        "Simplest way to associate a dense vector with a word is to choose the vector at random.\n",
        "\n",
        "To get a bit more abstract the geometric relationships betw/ word vectors should reflect the semantic relationchips bet/ thses words."
      ],
      "metadata": {
        "id": "jPPR14CnXgvw"
      }
    },
    {
      "cell_type": "markdown",
      "source": [
        "To learn a new embedding space with every new task"
      ],
      "metadata": {
        "id": "46zinqrsXyPF"
      }
    },
    {
      "cell_type": "markdown",
      "metadata": {
        "id": "Z9NNCehr8EOL"
      },
      "source": [
        "**Instantiating an `Embedding` layer**"
      ]
    },
    {
      "cell_type": "code",
      "execution_count": 6,
      "metadata": {
        "id": "EvY9XO8E8EOL"
      },
      "outputs": [],
      "source": [
        "embedding_layer = layers.Embedding(input_dim=max_tokens, output_dim=256)\n",
        "#The Embedding layer takes at least 2 arguments: the number of possible tokens and the dimensionality of the embeddings (here, 256)"
      ]
    },
    {
      "cell_type": "markdown",
      "source": [
        "The Embedding layer is best understood as a dictionary that maps integer indices (which stand for specific words) to dense vectors.\n",
        "\n",
        "Word index -> Embedding layer -> Corresponding word vector"
      ],
      "metadata": {
        "id": "vfTamE03X2dQ"
      }
    },
    {
      "cell_type": "markdown",
      "metadata": {
        "id": "rc_NXZcp8EOL"
      },
      "source": [
        "**Model that uses an `Embedding` layer trained from scratch**"
      ]
    },
    {
      "cell_type": "code",
      "execution_count": 7,
      "metadata": {
        "colab": {
          "base_uri": "https://localhost:8080/"
        },
        "id": "RG0pt2-48EOL",
        "outputId": "e6fea0c8-847e-494e-b129-90c6c093f61e"
      },
      "outputs": [
        {
          "output_type": "stream",
          "name": "stdout",
          "text": [
            "Model: \"model_1\"\n",
            "_________________________________________________________________\n",
            " Layer (type)                Output Shape              Param #   \n",
            "=================================================================\n",
            " input_2 (InputLayer)        [(None, None)]            0         \n",
            "                                                                 \n",
            " embedding_1 (Embedding)     (None, None, 256)         5120000   \n",
            "                                                                 \n",
            " bidirectional_1 (Bidirectio  (None, 64)               73984     \n",
            " nal)                                                            \n",
            "                                                                 \n",
            " dropout_1 (Dropout)         (None, 64)                0         \n",
            "                                                                 \n",
            " dense_1 (Dense)             (None, 1)                 65        \n",
            "                                                                 \n",
            "=================================================================\n",
            "Total params: 5,194,049\n",
            "Trainable params: 5,194,049\n",
            "Non-trainable params: 0\n",
            "_________________________________________________________________\n",
            "Epoch 1/10\n",
            "625/625 [==============================] - 34s 50ms/step - loss: 0.4877 - accuracy: 0.7711 - val_loss: 0.3278 - val_accuracy: 0.8750\n",
            "Epoch 2/10\n",
            "625/625 [==============================] - 32s 51ms/step - loss: 0.2940 - accuracy: 0.8926 - val_loss: 0.3516 - val_accuracy: 0.8698\n",
            "Epoch 3/10\n",
            "625/625 [==============================] - 31s 50ms/step - loss: 0.2455 - accuracy: 0.9123 - val_loss: 0.3647 - val_accuracy: 0.8802\n",
            "Epoch 4/10\n",
            "625/625 [==============================] - 32s 50ms/step - loss: 0.2081 - accuracy: 0.9287 - val_loss: 0.3508 - val_accuracy: 0.8722\n",
            "Epoch 5/10\n",
            "625/625 [==============================] - 32s 51ms/step - loss: 0.1712 - accuracy: 0.9427 - val_loss: 0.4333 - val_accuracy: 0.8544\n",
            "Epoch 6/10\n",
            "625/625 [==============================] - 31s 49ms/step - loss: 0.1437 - accuracy: 0.9533 - val_loss: 0.3635 - val_accuracy: 0.8838\n",
            "Epoch 7/10\n",
            "625/625 [==============================] - 31s 50ms/step - loss: 0.1179 - accuracy: 0.9622 - val_loss: 0.4071 - val_accuracy: 0.8752\n",
            "Epoch 8/10\n",
            "625/625 [==============================] - 31s 50ms/step - loss: 0.0968 - accuracy: 0.9683 - val_loss: 0.5245 - val_accuracy: 0.8780\n",
            "Epoch 9/10\n",
            "625/625 [==============================] - 32s 50ms/step - loss: 0.0817 - accuracy: 0.9737 - val_loss: 0.4862 - val_accuracy: 0.8612\n",
            "Epoch 10/10\n",
            "625/625 [==============================] - 31s 50ms/step - loss: 0.0695 - accuracy: 0.9786 - val_loss: 0.5020 - val_accuracy: 0.8696\n",
            "782/782 [==============================] - 26s 32ms/step - loss: 0.3446 - accuracy: 0.8648\n",
            "Test acc: 0.865\n"
          ]
        }
      ],
      "source": [
        "inputs = keras.Input(shape=(None,), dtype=\"int64\")\n",
        "embedded = layers.Embedding(input_dim=max_tokens, output_dim=256)(inputs)\n",
        "x = layers.Bidirectional(layers.LSTM(32))(embedded)\n",
        "x = layers.Dropout(0.5)(x)\n",
        "outputs = layers.Dense(1, activation=\"sigmoid\")(x)\n",
        "model = keras.Model(inputs, outputs)\n",
        "model.compile(optimizer=\"rmsprop\",\n",
        "              loss=\"binary_crossentropy\",\n",
        "              metrics=[\"accuracy\"])\n",
        "model.summary()\n",
        "\n",
        "callbacks = [\n",
        "    keras.callbacks.ModelCheckpoint(\"embeddings_bidir_gru.keras\",\n",
        "                                    save_best_only=True)\n",
        "]\n",
        "model.fit(int_train_ds, validation_data=int_val_ds, epochs=10, callbacks=callbacks)\n",
        "model = keras.models.load_model(\"embeddings_bidir_gru.keras\")\n",
        "print(f\"Test acc: {model.evaluate(int_test_ds)[1]:.3f}\")"
      ]
    },
    {
      "cell_type": "markdown",
      "metadata": {
        "id": "Wt71va528EOM"
      },
      "source": [
        "#### Understanding padding and masking"
      ]
    },
    {
      "cell_type": "markdown",
      "source": [
        "Padding: Sentences longer than K tokens are truncated to a lenght of K tokens, and sentences shorter than K tokens are padded with zeros at the end so that they can be concatenated together with other sequences.\n",
        "\n",
        "We may have too many zeros for shorter sequences. The information stored in the internal state of the RNN will gradually fade out as it gets exposed to these meaningless inputs.\n",
        "\n",
        "Masking: Tell the RNN that is should skip these iterations of zeros"
      ],
      "metadata": {
        "id": "z1Y21Q1jY-fb"
      }
    },
    {
      "cell_type": "markdown",
      "metadata": {
        "id": "bFGfKtYV8EOM"
      },
      "source": [
        "**Using an `Embedding` layer with masking enabled**"
      ]
    },
    {
      "cell_type": "code",
      "execution_count": 8,
      "metadata": {
        "colab": {
          "base_uri": "https://localhost:8080/"
        },
        "id": "3YIw4pjh8EOM",
        "outputId": "c841cd94-28ef-4368-e48a-6e1d973a77d0"
      },
      "outputs": [
        {
          "output_type": "stream",
          "name": "stdout",
          "text": [
            "Model: \"model_2\"\n",
            "_________________________________________________________________\n",
            " Layer (type)                Output Shape              Param #   \n",
            "=================================================================\n",
            " input_3 (InputLayer)        [(None, None)]            0         \n",
            "                                                                 \n",
            " embedding_2 (Embedding)     (None, None, 256)         5120000   \n",
            "                                                                 \n",
            " bidirectional_2 (Bidirectio  (None, 64)               73984     \n",
            " nal)                                                            \n",
            "                                                                 \n",
            " dropout_2 (Dropout)         (None, 64)                0         \n",
            "                                                                 \n",
            " dense_2 (Dense)             (None, 1)                 65        \n",
            "                                                                 \n",
            "=================================================================\n",
            "Total params: 5,194,049\n",
            "Trainable params: 5,194,049\n",
            "Non-trainable params: 0\n",
            "_________________________________________________________________\n",
            "Epoch 1/10\n",
            "625/625 [==============================] - 46s 62ms/step - loss: 0.4014 - accuracy: 0.8150 - val_loss: 0.3401 - val_accuracy: 0.8562\n",
            "Epoch 2/10\n",
            "625/625 [==============================] - 34s 55ms/step - loss: 0.2332 - accuracy: 0.9076 - val_loss: 0.3890 - val_accuracy: 0.8460\n",
            "Epoch 3/10\n",
            "625/625 [==============================] - 33s 53ms/step - loss: 0.1677 - accuracy: 0.9383 - val_loss: 0.3503 - val_accuracy: 0.8730\n",
            "Epoch 4/10\n",
            "625/625 [==============================] - 33s 52ms/step - loss: 0.1233 - accuracy: 0.9571 - val_loss: 0.3447 - val_accuracy: 0.8814\n",
            "Epoch 5/10\n",
            "625/625 [==============================] - 34s 55ms/step - loss: 0.0933 - accuracy: 0.9682 - val_loss: 0.3826 - val_accuracy: 0.8748\n",
            "Epoch 6/10\n",
            "625/625 [==============================] - 34s 54ms/step - loss: 0.0676 - accuracy: 0.9775 - val_loss: 0.4493 - val_accuracy: 0.8758\n",
            "Epoch 7/10\n",
            "625/625 [==============================] - 34s 55ms/step - loss: 0.0506 - accuracy: 0.9841 - val_loss: 0.5466 - val_accuracy: 0.8602\n",
            "Epoch 8/10\n",
            "625/625 [==============================] - 35s 55ms/step - loss: 0.0353 - accuracy: 0.9886 - val_loss: 0.5311 - val_accuracy: 0.8608\n",
            "Epoch 9/10\n",
            "625/625 [==============================] - 35s 56ms/step - loss: 0.0239 - accuracy: 0.9926 - val_loss: 0.6505 - val_accuracy: 0.8588\n",
            "Epoch 10/10\n",
            "625/625 [==============================] - 35s 55ms/step - loss: 0.0192 - accuracy: 0.9940 - val_loss: 0.5954 - val_accuracy: 0.8712\n",
            "782/782 [==============================] - 25s 29ms/step - loss: 0.3407 - accuracy: 0.8538\n",
            "Test acc: 0.854\n"
          ]
        }
      ],
      "source": [
        "inputs = keras.Input(shape=(None,), dtype=\"int64\")\n",
        "embedded = layers.Embedding(\n",
        "    input_dim=max_tokens, output_dim=256, mask_zero=True)(inputs)\n",
        "x = layers.Bidirectional(layers.LSTM(32))(embedded)\n",
        "x = layers.Dropout(0.5)(x)\n",
        "outputs = layers.Dense(1, activation=\"sigmoid\")(x)\n",
        "model = keras.Model(inputs, outputs)\n",
        "model.compile(optimizer=\"rmsprop\",\n",
        "              loss=\"binary_crossentropy\",\n",
        "              metrics=[\"accuracy\"])\n",
        "model.summary()\n",
        "\n",
        "callbacks = [\n",
        "    keras.callbacks.ModelCheckpoint(\"embeddings_bidir_gru_with_masking.keras\",\n",
        "                                    save_best_only=True)\n",
        "]\n",
        "model.fit(int_train_ds, validation_data=int_val_ds, epochs=10, callbacks=callbacks)\n",
        "model = keras.models.load_model(\"embeddings_bidir_gru_with_masking.keras\")\n",
        "print(f\"Test acc: {model.evaluate(int_test_ds)[1]:.3f}\")"
      ]
    },
    {
      "cell_type": "markdown",
      "metadata": {
        "id": "2eetk0qo8EOM"
      },
      "source": [
        "#### Using pretrained word embeddings"
      ]
    },
    {
      "cell_type": "markdown",
      "source": [
        "Somestimes word embeddings have so little training data available that you can't use your data alone to learn an appropriate task specific embedding of your vocabulary\n",
        "\n",
        "In such cases instead of learning word embeddings jointly with the problem you want to solve you can load embedding vectors from a precomputed embedding space that you know is highly structured and exhibits useful properties: Word2Vec, GloVe"
      ],
      "metadata": {
        "id": "Y7q-LX8RaK2U"
      }
    },
    {
      "cell_type": "code",
      "execution_count": 9,
      "metadata": {
        "colab": {
          "base_uri": "https://localhost:8080/"
        },
        "id": "O8fuF6jt8EON",
        "outputId": "f5028821-aa21-4497-f422-087a8b4c9c31"
      },
      "outputs": [
        {
          "output_type": "stream",
          "name": "stdout",
          "text": [
            "--2022-06-04 02:26:27--  http://nlp.stanford.edu/data/glove.6B.zip\n",
            "Resolving nlp.stanford.edu (nlp.stanford.edu)... 171.64.67.140\n",
            "Connecting to nlp.stanford.edu (nlp.stanford.edu)|171.64.67.140|:80... connected.\n",
            "HTTP request sent, awaiting response... 302 Found\n",
            "Location: https://nlp.stanford.edu/data/glove.6B.zip [following]\n",
            "--2022-06-04 02:26:27--  https://nlp.stanford.edu/data/glove.6B.zip\n",
            "Connecting to nlp.stanford.edu (nlp.stanford.edu)|171.64.67.140|:443... connected.\n",
            "HTTP request sent, awaiting response... 301 Moved Permanently\n",
            "Location: http://downloads.cs.stanford.edu/nlp/data/glove.6B.zip [following]\n",
            "--2022-06-04 02:26:28--  http://downloads.cs.stanford.edu/nlp/data/glove.6B.zip\n",
            "Resolving downloads.cs.stanford.edu (downloads.cs.stanford.edu)... 171.64.64.22\n",
            "Connecting to downloads.cs.stanford.edu (downloads.cs.stanford.edu)|171.64.64.22|:80... connected.\n",
            "HTTP request sent, awaiting response... 200 OK\n",
            "Length: 862182613 (822M) [application/zip]\n",
            "Saving to: ‘glove.6B.zip’\n",
            "\n",
            "glove.6B.zip        100%[===================>] 822.24M  5.05MB/s    in 2m 42s  \n",
            "\n",
            "2022-06-04 02:29:11 (5.07 MB/s) - ‘glove.6B.zip’ saved [862182613/862182613]\n",
            "\n"
          ]
        }
      ],
      "source": [
        "!wget http://nlp.stanford.edu/data/glove.6B.zip\n",
        "!unzip -q glove.6B.zip\n",
        "#to download GloVe word embeddings precomputed on the 2014 English Wikipedia dataset"
      ]
    },
    {
      "cell_type": "markdown",
      "metadata": {
        "id": "kwx3ePEP8EON"
      },
      "source": [
        "**Parsing the GloVe word-embeddings file**"
      ]
    },
    {
      "cell_type": "code",
      "execution_count": 10,
      "metadata": {
        "colab": {
          "base_uri": "https://localhost:8080/"
        },
        "id": "e7JUrQcw8EON",
        "outputId": "6ed30f18-2bb1-488c-a388-51876520f599"
      },
      "outputs": [
        {
          "output_type": "stream",
          "name": "stdout",
          "text": [
            "Found 400000 word vectors.\n"
          ]
        }
      ],
      "source": [
        "import numpy as np\n",
        "path_to_glove_file = \"glove.6B.100d.txt\"\n",
        "\n",
        "embeddings_index = {} #create index list = dictionary \n",
        "with open(path_to_glove_file) as f:\n",
        "    for line in f:\n",
        "        word, coefs = line.split(maxsplit=1)\n",
        "        coefs = np.fromstring(coefs, \"f\", sep=\" \")\n",
        "        embeddings_index[word] = coefs #we save the words vectors\n",
        "\n",
        "print(f\"Found {len(embeddings_index)} word vectors.\")"
      ]
    },
    {
      "cell_type": "markdown",
      "metadata": {
        "id": "9wRlmnR58EON"
      },
      "source": [
        "**Preparing the GloVe word-embeddings matrix**"
      ]
    },
    {
      "cell_type": "code",
      "execution_count": 11,
      "metadata": {
        "id": "0WKIdFyn8EON"
      },
      "outputs": [],
      "source": [
        "embedding_dim = 100\n",
        "\n",
        "vocabulary = text_vectorization.get_vocabulary() #1\n",
        "word_index = dict(zip(vocabulary, range(len(vocabulary)))) #2\n",
        "\n",
        "embedding_matrix = np.zeros((max_tokens, embedding_dim)) #3\n",
        "for word, i in word_index.items():\n",
        "    if i < max_tokens:\n",
        "        embedding_vector = embeddings_index.get(word)\n",
        "    if embedding_vector is not None: #4\n",
        "        embedding_matrix[i] = embedding_vector\n",
        "#1 Retrieve the vocab indexed by our previous TextVectorization layer\n",
        "#2 Use it to create a mapping from words to their index in the vocabulary\n",
        "#3 Prepare a matrix that we ll fill with the GloVe vectors\n",
        "#4 Fill entry i in the matrix with the word vector for index i. \n",
        "#Words not found in the embedding index will be all zeros"
      ]
    },
    {
      "cell_type": "markdown",
      "source": [
        "Load the pretrained embedding in an Embedding layer"
      ],
      "metadata": {
        "id": "QDO2J4JyH2K5"
      }
    },
    {
      "cell_type": "code",
      "execution_count": 12,
      "metadata": {
        "id": "2jgFSck48EON"
      },
      "outputs": [],
      "source": [
        "embedding_layer = layers.Embedding(\n",
        "    max_tokens,\n",
        "    embedding_dim,\n",
        "    embeddings_initializer=keras.initializers.Constant(embedding_matrix),\n",
        "    trainable=False,\n",
        "    mask_zero=True,\n",
        ")"
      ]
    },
    {
      "cell_type": "markdown",
      "metadata": {
        "id": "zP3_5UHw8EOO"
      },
      "source": [
        "**Model that uses a pretrained Embedding layer**"
      ]
    },
    {
      "cell_type": "markdown",
      "source": [
        "So as not to disrupt the pretrained representations during training we freeze the layer via trainable) False"
      ],
      "metadata": {
        "id": "Hepu5dYWH7Hn"
      }
    },
    {
      "cell_type": "code",
      "execution_count": 13,
      "metadata": {
        "colab": {
          "base_uri": "https://localhost:8080/"
        },
        "id": "Xybhw0988EOO",
        "outputId": "599d0c61-c52a-43cc-b1a4-a9ca0f1099f3"
      },
      "outputs": [
        {
          "output_type": "stream",
          "name": "stdout",
          "text": [
            "Model: \"model_3\"\n",
            "_________________________________________________________________\n",
            " Layer (type)                Output Shape              Param #   \n",
            "=================================================================\n",
            " input_4 (InputLayer)        [(None, None)]            0         \n",
            "                                                                 \n",
            " embedding_3 (Embedding)     (None, None, 100)         2000000   \n",
            "                                                                 \n",
            " bidirectional_3 (Bidirectio  (None, 64)               34048     \n",
            " nal)                                                            \n",
            "                                                                 \n",
            " dropout_3 (Dropout)         (None, 64)                0         \n",
            "                                                                 \n",
            " dense_3 (Dense)             (None, 1)                 65        \n",
            "                                                                 \n",
            "=================================================================\n",
            "Total params: 2,034,113\n",
            "Trainable params: 34,113\n",
            "Non-trainable params: 2,000,000\n",
            "_________________________________________________________________\n",
            "Epoch 1/10\n",
            "625/625 [==============================] - 43s 56ms/step - loss: 0.5942 - accuracy: 0.6783 - val_loss: 0.5005 - val_accuracy: 0.7594\n",
            "Epoch 2/10\n",
            "625/625 [==============================] - 33s 53ms/step - loss: 0.4711 - accuracy: 0.7843 - val_loss: 0.4074 - val_accuracy: 0.8184\n",
            "Epoch 3/10\n",
            "625/625 [==============================] - 32s 51ms/step - loss: 0.4132 - accuracy: 0.8159 - val_loss: 0.4680 - val_accuracy: 0.7744\n",
            "Epoch 4/10\n",
            "625/625 [==============================] - 33s 53ms/step - loss: 0.3795 - accuracy: 0.8335 - val_loss: 0.3533 - val_accuracy: 0.8444\n",
            "Epoch 5/10\n",
            "625/625 [==============================] - 34s 55ms/step - loss: 0.3501 - accuracy: 0.8500 - val_loss: 0.3337 - val_accuracy: 0.8566\n",
            "Epoch 6/10\n",
            "625/625 [==============================] - 34s 54ms/step - loss: 0.3296 - accuracy: 0.8644 - val_loss: 0.3206 - val_accuracy: 0.8580\n",
            "Epoch 7/10\n",
            "625/625 [==============================] - 33s 52ms/step - loss: 0.3066 - accuracy: 0.8738 - val_loss: 0.3297 - val_accuracy: 0.8620\n",
            "Epoch 8/10\n",
            "625/625 [==============================] - 34s 55ms/step - loss: 0.2937 - accuracy: 0.8799 - val_loss: 0.3137 - val_accuracy: 0.8670\n",
            "Epoch 9/10\n",
            "625/625 [==============================] - 35s 55ms/step - loss: 0.2802 - accuracy: 0.8858 - val_loss: 0.3099 - val_accuracy: 0.8688\n",
            "Epoch 10/10\n",
            "625/625 [==============================] - 31s 50ms/step - loss: 0.2646 - accuracy: 0.8939 - val_loss: 0.3290 - val_accuracy: 0.8594\n",
            "782/782 [==============================] - 21s 24ms/step - loss: 0.3050 - accuracy: 0.8710\n",
            "Test acc: 0.871\n"
          ]
        }
      ],
      "source": [
        "inputs = keras.Input(shape=(None,), dtype=\"int64\")\n",
        "embedded = embedding_layer(inputs)\n",
        "x = layers.Bidirectional(layers.LSTM(32))(embedded)\n",
        "x = layers.Dropout(0.5)(x)\n",
        "outputs = layers.Dense(1, activation=\"sigmoid\")(x)\n",
        "model = keras.Model(inputs, outputs)\n",
        "model.compile(optimizer=\"rmsprop\",\n",
        "              loss=\"binary_crossentropy\",\n",
        "              metrics=[\"accuracy\"])\n",
        "model.summary()\n",
        "\n",
        "callbacks = [\n",
        "    keras.callbacks.ModelCheckpoint(\"glove_embeddings_sequence_model.keras\",\n",
        "                                    save_best_only=True)\n",
        "]\n",
        "model.fit(int_train_ds, validation_data=int_val_ds, epochs=10, callbacks=callbacks)\n",
        "model = keras.models.load_model(\"glove_embeddings_sequence_model.keras\")\n",
        "print(f\"Test acc: {model.evaluate(int_test_ds)[1]:.3f}\")"
      ]
    },
    {
      "cell_type": "markdown",
      "source": [
        "On this particular task, pretrained embeddings aren't very helpful because the dataset contains enough samples that it s possible to learn a specialized enough embedding space from scratch"
      ],
      "metadata": {
        "id": "5YH6Qs8pIOHl"
      }
    }
  ],
  "metadata": {
    "colab": {
      "collapsed_sections": [],
      "name": "chapter11_part02_sequence-models.i",
      "provenance": []
    },
    "kernelspec": {
      "display_name": "Python 3",
      "language": "python",
      "name": "python3"
    },
    "language_info": {
      "codemirror_mode": {
        "name": "ipython",
        "version": 3
      },
      "file_extension": ".py",
      "mimetype": "text/x-python",
      "name": "python",
      "nbconvert_exporter": "python",
      "pygments_lexer": "ipython3",
      "version": "3.7.0"
    },
    "accelerator": "GPU"
  },
  "nbformat": 4,
  "nbformat_minor": 0
}