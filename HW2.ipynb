{
  "nbformat": 4,
  "nbformat_minor": 0,
  "metadata": {
    "colab": {
      "name": "HW2.ipynb",
      "provenance": [],
      "collapsed_sections": [],
      "include_colab_link": true
    },
    "kernelspec": {
      "name": "python3",
      "display_name": "Python 3"
    },
    "language_info": {
      "name": "python"
    },
    "accelerator": "GPU"
  },
  "cells": [
    {
      "cell_type": "markdown",
      "metadata": {
        "id": "view-in-github",
        "colab_type": "text"
      },
      "source": [
        "<a href=\"https://colab.research.google.com/github/N-nolwenn/RepositoryTest/blob/main/HW2.ipynb\" target=\"_parent\"><img src=\"https://colab.research.google.com/assets/colab-badge.svg\" alt=\"Open In Colab\"/></a>"
      ]
    },
    {
      "cell_type": "markdown",
      "source": [
        "## HW 2\n",
        "Answer folloing questions \n",
        "\n"
      ],
      "metadata": {
        "id": "OwBySVVU5h6M"
      }
    },
    {
      "cell_type": "code",
      "execution_count": null,
      "metadata": {
        "id": "aZSgHuiR5W1k"
      },
      "outputs": [],
      "source": [
        ""
      ]
    },
    {
      "cell_type": "markdown",
      "source": [
        "### Below is one of the example code for binary-class classification problem on IMDB dataset"
      ],
      "metadata": {
        "id": "qEqK8L1k6PSd"
      }
    },
    {
      "cell_type": "code",
      "source": [
        "from tensorflow.keras.datasets import imdb\n",
        "(train_data, train_labels), (test_data, test_labels) = imdb.load_data(\n",
        "    num_words=10000)"
      ],
      "metadata": {
        "id": "WKvVq8pQ6YNt",
        "colab": {
          "base_uri": "https://localhost:8080/"
        },
        "outputId": "f9a5f473-f3a5-441c-f308-28f58aa130cc"
      },
      "execution_count": 1,
      "outputs": [
        {
          "output_type": "stream",
          "name": "stdout",
          "text": [
            "Downloading data from https://storage.googleapis.com/tensorflow/tf-keras-datasets/imdb.npz\n",
            "17465344/17464789 [==============================] - 0s 0us/step\n",
            "17473536/17464789 [==============================] - 0s 0us/step\n"
          ]
        }
      ]
    },
    {
      "cell_type": "code",
      "source": [
        "import numpy as np\n",
        "def vectorize_sequences(sequences, dimension=10000):\n",
        "    results = np.zeros((len(sequences), dimension))\n",
        "    for i, sequence in enumerate(sequences):\n",
        "        for j in sequence:\n",
        "            results[i, j] = 1.  \n",
        "    return results\n",
        "x_train = vectorize_sequences(train_data)\n",
        "x_test = vectorize_sequences(test_data)"
      ],
      "metadata": {
        "id": "IFml1LhPXCsk"
      },
      "execution_count": 2,
      "outputs": []
    },
    {
      "cell_type": "code",
      "source": [
        "y_train = np.asarray(train_labels).astype(\"float32\")\n",
        "y_test = np.asarray(test_labels).astype(\"float32\")"
      ],
      "metadata": {
        "id": "FCxmgWVYXHoD"
      },
      "execution_count": 3,
      "outputs": []
    },
    {
      "cell_type": "code",
      "source": [
        "y_train[:5]"
      ],
      "metadata": {
        "colab": {
          "base_uri": "https://localhost:8080/"
        },
        "id": "RMI28KpIXVYE",
        "outputId": "391c2fcd-d72f-424e-db3a-5a30365b6721"
      },
      "execution_count": 4,
      "outputs": [
        {
          "output_type": "execute_result",
          "data": {
            "text/plain": [
              "array([1., 0., 0., 1., 0.], dtype=float32)"
            ]
          },
          "metadata": {},
          "execution_count": 4
        }
      ]
    },
    {
      "cell_type": "code",
      "source": [
        "from tensorflow import keras\n",
        "from tensorflow.keras import layers\n",
        "\n",
        "model = keras.Sequential([\n",
        "    layers.Dense(16, activation=\"relu\"),\n",
        "    layers.Dense(16, activation=\"relu\"),\n",
        "    layers.Dense(1, activation=\"sigmoid\")\n",
        "])"
      ],
      "metadata": {
        "id": "xgDMHxOVXKRE"
      },
      "execution_count": 5,
      "outputs": []
    },
    {
      "cell_type": "code",
      "source": [
        "model.compile(optimizer=\"rmsprop\",\n",
        "              loss=\"binary_crossentropy\",\n",
        "              metrics=[\"accuracy\"])"
      ],
      "metadata": {
        "id": "tT4KACL9XdNE"
      },
      "execution_count": 6,
      "outputs": []
    },
    {
      "cell_type": "code",
      "source": [
        "x_val = x_train[:10000]\n",
        "partial_x_train = x_train[10000:]\n",
        "y_val = y_train[:10000]\n",
        "partial_y_train = y_train[10000:]"
      ],
      "metadata": {
        "id": "k-Ufwj3iXc8l"
      },
      "execution_count": 7,
      "outputs": []
    },
    {
      "cell_type": "code",
      "source": [
        "history = model.fit(partial_x_train,\n",
        "                    partial_y_train,\n",
        "                    epochs=20,\n",
        "                    batch_size=512,\n",
        "                    validation_data=(x_val, y_val))"
      ],
      "metadata": {
        "id": "5kJLbfX3Xp_U",
        "colab": {
          "base_uri": "https://localhost:8080/"
        },
        "outputId": "65cdf59e-de72-4733-a11e-1f9a408b21f7"
      },
      "execution_count": 8,
      "outputs": [
        {
          "output_type": "stream",
          "name": "stdout",
          "text": [
            "Epoch 1/20\n",
            "30/30 [==============================] - 6s 72ms/step - loss: 0.5398 - accuracy: 0.7915 - val_loss: 0.4308 - val_accuracy: 0.8528\n",
            "Epoch 2/20\n",
            "30/30 [==============================] - 1s 24ms/step - loss: 0.3392 - accuracy: 0.8961 - val_loss: 0.3238 - val_accuracy: 0.8840\n",
            "Epoch 3/20\n",
            "30/30 [==============================] - 1s 21ms/step - loss: 0.2463 - accuracy: 0.9201 - val_loss: 0.3007 - val_accuracy: 0.8791\n",
            "Epoch 4/20\n",
            "30/30 [==============================] - 1s 21ms/step - loss: 0.1944 - accuracy: 0.9357 - val_loss: 0.2988 - val_accuracy: 0.8782\n",
            "Epoch 5/20\n",
            "30/30 [==============================] - 1s 21ms/step - loss: 0.1577 - accuracy: 0.9491 - val_loss: 0.2864 - val_accuracy: 0.8869\n",
            "Epoch 6/20\n",
            "30/30 [==============================] - 1s 20ms/step - loss: 0.1278 - accuracy: 0.9607 - val_loss: 0.2877 - val_accuracy: 0.8861\n",
            "Epoch 7/20\n",
            "30/30 [==============================] - 1s 24ms/step - loss: 0.1072 - accuracy: 0.9669 - val_loss: 0.2986 - val_accuracy: 0.8840\n",
            "Epoch 8/20\n",
            "30/30 [==============================] - 1s 21ms/step - loss: 0.0871 - accuracy: 0.9747 - val_loss: 0.3204 - val_accuracy: 0.8839\n",
            "Epoch 9/20\n",
            "30/30 [==============================] - 1s 20ms/step - loss: 0.0732 - accuracy: 0.9795 - val_loss: 0.3428 - val_accuracy: 0.8834\n",
            "Epoch 10/20\n",
            "30/30 [==============================] - 1s 21ms/step - loss: 0.0571 - accuracy: 0.9857 - val_loss: 0.3597 - val_accuracy: 0.8814\n",
            "Epoch 11/20\n",
            "30/30 [==============================] - 1s 25ms/step - loss: 0.0467 - accuracy: 0.9890 - val_loss: 0.3853 - val_accuracy: 0.8794\n",
            "Epoch 12/20\n",
            "30/30 [==============================] - 1s 21ms/step - loss: 0.0367 - accuracy: 0.9921 - val_loss: 0.4396 - val_accuracy: 0.8748\n",
            "Epoch 13/20\n",
            "30/30 [==============================] - 1s 21ms/step - loss: 0.0302 - accuracy: 0.9934 - val_loss: 0.4476 - val_accuracy: 0.8758\n",
            "Epoch 14/20\n",
            "30/30 [==============================] - 1s 21ms/step - loss: 0.0209 - accuracy: 0.9970 - val_loss: 0.4804 - val_accuracy: 0.8742\n",
            "Epoch 15/20\n",
            "30/30 [==============================] - 1s 21ms/step - loss: 0.0194 - accuracy: 0.9960 - val_loss: 0.5158 - val_accuracy: 0.8716\n",
            "Epoch 16/20\n",
            "30/30 [==============================] - 1s 21ms/step - loss: 0.0104 - accuracy: 0.9993 - val_loss: 0.6050 - val_accuracy: 0.8651\n",
            "Epoch 17/20\n",
            "30/30 [==============================] - 1s 21ms/step - loss: 0.0090 - accuracy: 0.9997 - val_loss: 0.5911 - val_accuracy: 0.8697\n",
            "Epoch 18/20\n",
            "30/30 [==============================] - 1s 21ms/step - loss: 0.0088 - accuracy: 0.9986 - val_loss: 0.6273 - val_accuracy: 0.8693\n",
            "Epoch 19/20\n",
            "30/30 [==============================] - 1s 22ms/step - loss: 0.0042 - accuracy: 0.9998 - val_loss: 0.6692 - val_accuracy: 0.8683\n",
            "Epoch 20/20\n",
            "30/30 [==============================] - 1s 24ms/step - loss: 0.0054 - accuracy: 0.9993 - val_loss: 0.6997 - val_accuracy: 0.8672\n"
          ]
        }
      ]
    },
    {
      "cell_type": "markdown",
      "source": [
        "### Q1 Binary classification is multi-class classification with two classes so we can modify our model as below:"
      ],
      "metadata": {
        "id": "AFsXMZmW6e6F"
      }
    },
    {
      "cell_type": "code",
      "source": [
        "model2 = keras.Sequential([\n",
        "    layers.Dense(16, activation=\"relu\"),\n",
        "    layers.Dense(16, activation=\"relu\"),\n",
        "    layers.Dense(2, activation=\"softmax\")\n",
        "])"
      ],
      "metadata": {
        "id": "mXXKBxo36kPl"
      },
      "execution_count": 9,
      "outputs": []
    },
    {
      "cell_type": "markdown",
      "source": [
        "### Complete the codes for compile and model fitting. "
      ],
      "metadata": {
        "id": "PsOrD_13YWn1"
      }
    },
    {
      "cell_type": "code",
      "source": [
        "#model2.compile()\n",
        "model2.compile(optimizer=\"rmsprop\",\n",
        "              loss=\"sparse_categorical_crossentropy\",\n",
        "              metrics=[\"accuracy\"])\n",
        "\n",
        "\n",
        "#model2.fit()\n",
        "history2 = model2.fit(partial_x_train,\n",
        "                    partial_y_train,\n",
        "                    epochs=20,\n",
        "                     verbose=2,\n",
        "                    batch_size=512,\n",
        "                    validation_data=(x_val, y_val))\n"
      ],
      "metadata": {
        "id": "Hj4AauQvYT7F",
        "colab": {
          "base_uri": "https://localhost:8080/"
        },
        "outputId": "f7bf3e3a-b33f-43fb-b0d4-6798ad25eb28"
      },
      "execution_count": 10,
      "outputs": [
        {
          "output_type": "stream",
          "name": "stdout",
          "text": [
            "Epoch 1/20\n",
            "30/30 - 2s - loss: 0.5264 - accuracy: 0.7856 - val_loss: 0.4112 - val_accuracy: 0.8486 - 2s/epoch - 65ms/step\n",
            "Epoch 2/20\n",
            "30/30 - 1s - loss: 0.3156 - accuracy: 0.8984 - val_loss: 0.3607 - val_accuracy: 0.8470 - 530ms/epoch - 18ms/step\n",
            "Epoch 3/20\n",
            "30/30 - 1s - loss: 0.2302 - accuracy: 0.9241 - val_loss: 0.2829 - val_accuracy: 0.8896 - 534ms/epoch - 18ms/step\n",
            "Epoch 4/20\n",
            "30/30 - 1s - loss: 0.1775 - accuracy: 0.9425 - val_loss: 0.2740 - val_accuracy: 0.8915 - 528ms/epoch - 18ms/step\n",
            "Epoch 5/20\n",
            "30/30 - 1s - loss: 0.1462 - accuracy: 0.9521 - val_loss: 0.2817 - val_accuracy: 0.8893 - 649ms/epoch - 22ms/step\n",
            "Epoch 6/20\n",
            "30/30 - 1s - loss: 0.1198 - accuracy: 0.9623 - val_loss: 0.2911 - val_accuracy: 0.8860 - 538ms/epoch - 18ms/step\n",
            "Epoch 7/20\n",
            "30/30 - 1s - loss: 0.0992 - accuracy: 0.9698 - val_loss: 0.3074 - val_accuracy: 0.8853 - 536ms/epoch - 18ms/step\n",
            "Epoch 8/20\n",
            "30/30 - 1s - loss: 0.0840 - accuracy: 0.9750 - val_loss: 0.3345 - val_accuracy: 0.8831 - 531ms/epoch - 18ms/step\n",
            "Epoch 9/20\n",
            "30/30 - 1s - loss: 0.0693 - accuracy: 0.9801 - val_loss: 0.3569 - val_accuracy: 0.8820 - 540ms/epoch - 18ms/step\n",
            "Epoch 10/20\n",
            "30/30 - 1s - loss: 0.0562 - accuracy: 0.9856 - val_loss: 0.3769 - val_accuracy: 0.8789 - 652ms/epoch - 22ms/step\n",
            "Epoch 11/20\n",
            "30/30 - 1s - loss: 0.0450 - accuracy: 0.9887 - val_loss: 0.4170 - val_accuracy: 0.8715 - 634ms/epoch - 21ms/step\n",
            "Epoch 12/20\n",
            "30/30 - 1s - loss: 0.0381 - accuracy: 0.9913 - val_loss: 0.4398 - val_accuracy: 0.8770 - 535ms/epoch - 18ms/step\n",
            "Epoch 13/20\n",
            "30/30 - 1s - loss: 0.0300 - accuracy: 0.9935 - val_loss: 0.4838 - val_accuracy: 0.8695 - 530ms/epoch - 18ms/step\n",
            "Epoch 14/20\n",
            "30/30 - 1s - loss: 0.0235 - accuracy: 0.9961 - val_loss: 0.5056 - val_accuracy: 0.8713 - 532ms/epoch - 18ms/step\n",
            "Epoch 15/20\n",
            "30/30 - 1s - loss: 0.0199 - accuracy: 0.9960 - val_loss: 0.5407 - val_accuracy: 0.8705 - 532ms/epoch - 18ms/step\n",
            "Epoch 16/20\n",
            "30/30 - 1s - loss: 0.0146 - accuracy: 0.9979 - val_loss: 0.5765 - val_accuracy: 0.8671 - 630ms/epoch - 21ms/step\n",
            "Epoch 17/20\n",
            "30/30 - 1s - loss: 0.0102 - accuracy: 0.9995 - val_loss: 0.6294 - val_accuracy: 0.8681 - 535ms/epoch - 18ms/step\n",
            "Epoch 18/20\n",
            "30/30 - 1s - loss: 0.0105 - accuracy: 0.9985 - val_loss: 0.6571 - val_accuracy: 0.8661 - 525ms/epoch - 17ms/step\n",
            "Epoch 19/20\n",
            "30/30 - 1s - loss: 0.0050 - accuracy: 0.9998 - val_loss: 0.7148 - val_accuracy: 0.8626 - 546ms/epoch - 18ms/step\n",
            "Epoch 20/20\n",
            "30/30 - 1s - loss: 0.0080 - accuracy: 0.9978 - val_loss: 0.7303 - val_accuracy: 0.8640 - 642ms/epoch - 21ms/step\n"
          ]
        }
      ]
    },
    {
      "cell_type": "markdown",
      "source": [
        "### Q2 Below is visualization of the validation loss. We can see overfitting after 5 epochs.  "
      ],
      "metadata": {
        "id": "6SGxXX70Ylr_"
      }
    },
    {
      "cell_type": "code",
      "source": [
        "import matplotlib.pyplot as plt\n",
        "history_dict = history.history\n",
        "loss_values = history_dict[\"loss\"]\n",
        "val_loss_values = history_dict[\"val_loss\"]\n",
        "epochs = range(1, len(loss_values) + 1)\n",
        "plt.plot(epochs, loss_values, \"bo\", label=\"Training loss\")\n",
        "plt.plot(epochs, val_loss_values, \"b\", label=\"Validation loss\")\n",
        "plt.title(\"Training and validation loss\")\n",
        "plt.xlabel(\"Epochs\")\n",
        "plt.ylabel(\"Loss\")\n",
        "plt.legend()\n",
        "plt.show()"
      ],
      "metadata": {
        "colab": {
          "base_uri": "https://localhost:8080/",
          "height": 295
        },
        "id": "X8rcODQ7Yk_E",
        "outputId": "929545a3-b66a-4ca6-8f41-77ee2efd63fe"
      },
      "execution_count": 11,
      "outputs": [
        {
          "output_type": "display_data",
          "data": {
            "text/plain": [
              "<Figure size 432x288 with 1 Axes>"
            ],
            "image/png": "[encoded data removed]"
          },
          "metadata": {
            "needs_background": "light"
          }
        }
      ]
    },
    {
      "cell_type": "markdown",
      "source": [
        "### Add dropout layers and visualize the validation loss of your new model."
      ],
      "metadata": {
        "id": "4LbAGmB-aD-d"
      }
    },
    {
      "cell_type": "code",
      "source": [
        "layers.Dropout?"
      ],
      "metadata": {
        "id": "kvJZq2XDS2js"
      },
      "execution_count": null,
      "outputs": []
    },
    {
      "cell_type": "code",
      "source": [
        "## Add dropout layers \n",
        "\n",
        "model2_dr = keras.Sequential([\n",
        "    layers.Dense(16, activation=\"relu\"),\n",
        "    layers.Dropout(0.5),\n",
        "    layers.Dense(16, activation=\"relu\"),\n",
        "    layers.Dropout(0.5),\n",
        "    layers.Dense(2, activation=\"softmax\")\n",
        "])\n",
        "\n",
        "## retrain and visualize the validation loss of new model\n",
        "model2_dr.compile(optimizer=\"rmsprop\",\n",
        "              loss=\"sparse_categorical_crossentropy\",\n",
        "              metrics=[\"accuracy\"])\n",
        "\n",
        "history2_dropout = model2_dr.fit(partial_x_train,\n",
        "                    partial_y_train,\n",
        "                    epochs=20,\n",
        "                    batch_size=512,\n",
        "                    validation_data=(x_val, y_val))\n",
        "\n",
        "#to visualize graphs\n",
        "import matplotlib.pyplot as plt\n",
        "val_loss = history_dict[\"val_loss\"]\n",
        "val_loss2 = history2_dropout.history[\"val_loss\"]\n",
        "\n",
        "epochs = range(1, len(loss_values) + 1)\n",
        "plt.plot(epochs, val_loss, \"bo\", label=\"Validation loss original model\")\n",
        "plt.plot(epochs, val_loss2, \"b\", label=\"Validation loss with dropout regularization\")\n",
        "\n",
        "plt.title(\"Effect of dropout regularization on validation loss\")\n",
        "plt.xlabel(\"Epochs\")\n",
        "plt.ylabel(\"Loss\")\n",
        "plt.legend()\n",
        "plt.show()"
      ],
      "metadata": {
        "id": "uY9QQxR1Z013",
        "colab": {
          "base_uri": "https://localhost:8080/",
          "height": 989
        },
        "outputId": "65362033-48cf-4537-f7c2-f91068b2c9fc"
      },
      "execution_count": 12,
      "outputs": [
        {
          "output_type": "stream",
          "name": "stdout",
          "text": [
            "Epoch 1/20\n",
            "30/30 [==============================] - 2s 35ms/step - loss: 0.6274 - accuracy: 0.6368 - val_loss: 0.4809 - val_accuracy: 0.8425\n",
            "Epoch 2/20\n",
            "30/30 [==============================] - 1s 19ms/step - loss: 0.4848 - accuracy: 0.7785 - val_loss: 0.3718 - val_accuracy: 0.8623\n",
            "Epoch 3/20\n",
            "30/30 [==============================] - 1s 20ms/step - loss: 0.4042 - accuracy: 0.8377 - val_loss: 0.3092 - val_accuracy: 0.8823\n",
            "Epoch 4/20\n",
            "30/30 [==============================] - 1s 20ms/step - loss: 0.3295 - accuracy: 0.8762 - val_loss: 0.2977 - val_accuracy: 0.8811\n",
            "Epoch 5/20\n",
            "30/30 [==============================] - 1s 20ms/step - loss: 0.2800 - accuracy: 0.9012 - val_loss: 0.2748 - val_accuracy: 0.8891\n",
            "Epoch 6/20\n",
            "30/30 [==============================] - 1s 24ms/step - loss: 0.2479 - accuracy: 0.9141 - val_loss: 0.2789 - val_accuracy: 0.8892\n",
            "Epoch 7/20\n",
            "30/30 [==============================] - 1s 20ms/step - loss: 0.2149 - accuracy: 0.9274 - val_loss: 0.2976 - val_accuracy: 0.8869\n",
            "Epoch 8/20\n",
            "30/30 [==============================] - 1s 20ms/step - loss: 0.1858 - accuracy: 0.9380 - val_loss: 0.3184 - val_accuracy: 0.8884\n",
            "Epoch 9/20\n",
            "30/30 [==============================] - 1s 20ms/step - loss: 0.1647 - accuracy: 0.9455 - val_loss: 0.3520 - val_accuracy: 0.8883\n",
            "Epoch 10/20\n",
            "30/30 [==============================] - 1s 20ms/step - loss: 0.1440 - accuracy: 0.9523 - val_loss: 0.3563 - val_accuracy: 0.8870\n",
            "Epoch 11/20\n",
            "30/30 [==============================] - 1s 20ms/step - loss: 0.1282 - accuracy: 0.9568 - val_loss: 0.3991 - val_accuracy: 0.8873\n",
            "Epoch 12/20\n",
            "30/30 [==============================] - 1s 24ms/step - loss: 0.1195 - accuracy: 0.9600 - val_loss: 0.4327 - val_accuracy: 0.8875\n",
            "Epoch 13/20\n",
            "30/30 [==============================] - 1s 20ms/step - loss: 0.1103 - accuracy: 0.9626 - val_loss: 0.4309 - val_accuracy: 0.8865\n",
            "Epoch 14/20\n",
            "30/30 [==============================] - 1s 20ms/step - loss: 0.1005 - accuracy: 0.9687 - val_loss: 0.4699 - val_accuracy: 0.8783\n",
            "Epoch 15/20\n",
            "30/30 [==============================] - 1s 21ms/step - loss: 0.0897 - accuracy: 0.9709 - val_loss: 0.4964 - val_accuracy: 0.8833\n",
            "Epoch 16/20\n",
            "30/30 [==============================] - 1s 20ms/step - loss: 0.0848 - accuracy: 0.9718 - val_loss: 0.5409 - val_accuracy: 0.8838\n",
            "Epoch 17/20\n",
            "30/30 [==============================] - 1s 20ms/step - loss: 0.0794 - accuracy: 0.9730 - val_loss: 0.5827 - val_accuracy: 0.8812\n",
            "Epoch 18/20\n",
            "30/30 [==============================] - 1s 24ms/step - loss: 0.0820 - accuracy: 0.9751 - val_loss: 0.5791 - val_accuracy: 0.8817\n",
            "Epoch 19/20\n",
            "30/30 [==============================] - 1s 20ms/step - loss: 0.0713 - accuracy: 0.9763 - val_loss: 0.6243 - val_accuracy: 0.8780\n",
            "Epoch 20/20\n",
            "30/30 [==============================] - 1s 20ms/step - loss: 0.0725 - accuracy: 0.9789 - val_loss: 0.6195 - val_accuracy: 0.8762\n"
          ]
        },
        {
          "output_type": "display_data",
          "data": {
            "text/plain": [
              "<Figure size 432x288 with 1 Axes>"
            ],
            "image/png": "[encoded data removed]"
          },
          "metadata": {
            "needs_background": "light"
          }
        }
      ]
    },
    {
      "cell_type": "markdown",
      "source": [
        "### Q3 Add l1 regularization on the second dense layer from the original model below. "
      ],
      "metadata": {
        "id": "Xs7jKhJKahhM"
      }
    },
    {
      "cell_type": "code",
      "source": [
        "from tensorflow.keras import regularizers"
      ],
      "metadata": {
        "id": "5G9YjLISS6-9"
      },
      "execution_count": 13,
      "outputs": []
    },
    {
      "cell_type": "code",
      "source": [
        "## Add l1 regularization on the second dense layers \n",
        "\n",
        "model2_ar = keras.Sequential([\n",
        "    layers.Dense(16, activation=\"relu\"),\n",
        "    layers.Dense(16, kernel_regularizer=regularizers.l1(0.002), activation=\"relu\"),    ### add l1 regularization here\n",
        "    layers.Dense(2, activation=\"softmax\")\n",
        "])"
      ],
      "metadata": {
        "id": "VeuwleNJa9r9"
      },
      "execution_count": 14,
      "outputs": []
    },
    {
      "cell_type": "markdown",
      "source": [
        "### Finish the training and compare the dropout model(model from Q2) and l1 regularization model after visualizing their validation losses."
      ],
      "metadata": {
        "id": "e9yx1WLrbJUd"
      }
    },
    {
      "cell_type": "code",
      "source": [
        "model2_ar.compile(optimizer=\"rmsprop\",\n",
        "              loss=\"sparse_categorical_crossentropy\",\n",
        "              metrics=[\"accuracy\"])\n",
        "\n",
        "history2_add = model2_ar.fit(partial_x_train,\n",
        "                    partial_y_train,\n",
        "                    epochs=20,\n",
        "                    batch_size=512,\n",
        "                    validation_data=(x_val, y_val))\n",
        "#to visualize graphs\n",
        "import matplotlib.pyplot as plt\n",
        "#val_loss = history_dict[\"val_loss\"]\n",
        "val_loss2 = history2_dropout.history[\"val_loss\"]\n",
        "val_loss3 = history2_add.history[\"val_loss\"]\n",
        "\n",
        "epochs = range(1, len(loss_values) + 1)\n",
        "#plt.plot(epochs, val_loss, \"bo\", label=\"Validation loss original model\")\n",
        "plt.plot(epochs, val_loss2, \"b\", label=\"Validation loss with dropout regularization\")\n",
        "plt.plot(epochs, val_loss3, \"b--\", label=\"Validation loss with l1 regularization\")\n",
        "\n",
        "plt.title(\"Comparaison of validation losses between dropout model and l1 regulrization model\")\n",
        "plt.xlabel(\"Epochs\")\n",
        "plt.ylabel(\"Loss\")\n",
        "plt.legend()\n",
        "plt.show()"
      ],
      "metadata": {
        "id": "EyL_jfmNbWe_",
        "colab": {
          "base_uri": "https://localhost:8080/",
          "height": 989
        },
        "outputId": "723ecfb3-9eb1-4480-ebb5-ecd4b49b63d1"
      },
      "execution_count": 17,
      "outputs": [
        {
          "output_type": "stream",
          "name": "stdout",
          "text": [
            "Epoch 1/20\n",
            "30/30 [==============================] - 2s 44ms/step - loss: 0.0252 - accuracy: 0.9990 - val_loss: 0.7715 - val_accuracy: 0.8580\n",
            "Epoch 2/20\n",
            "30/30 [==============================] - 1s 20ms/step - loss: 0.0218 - accuracy: 1.0000 - val_loss: 0.7809 - val_accuracy: 0.8578\n",
            "Epoch 3/20\n",
            "30/30 [==============================] - 1s 20ms/step - loss: 0.0217 - accuracy: 1.0000 - val_loss: 0.7790 - val_accuracy: 0.8547\n",
            "Epoch 4/20\n",
            "30/30 [==============================] - 1s 20ms/step - loss: 0.0207 - accuracy: 0.9999 - val_loss: 0.7840 - val_accuracy: 0.8581\n",
            "Epoch 5/20\n",
            "30/30 [==============================] - 1s 19ms/step - loss: 0.0203 - accuracy: 0.9999 - val_loss: 0.7801 - val_accuracy: 0.8571\n",
            "Epoch 6/20\n",
            "30/30 [==============================] - 1s 23ms/step - loss: 0.0189 - accuracy: 1.0000 - val_loss: 0.7839 - val_accuracy: 0.8548\n",
            "Epoch 7/20\n",
            "30/30 [==============================] - 1s 20ms/step - loss: 0.0189 - accuracy: 1.0000 - val_loss: 0.7860 - val_accuracy: 0.8566\n",
            "Epoch 8/20\n",
            "30/30 [==============================] - 1s 20ms/step - loss: 0.0181 - accuracy: 1.0000 - val_loss: 0.7853 - val_accuracy: 0.8583\n",
            "Epoch 9/20\n",
            "30/30 [==============================] - 1s 19ms/step - loss: 0.0174 - accuracy: 1.0000 - val_loss: 0.7858 - val_accuracy: 0.8567\n",
            "Epoch 10/20\n",
            "30/30 [==============================] - 1s 20ms/step - loss: 0.0167 - accuracy: 1.0000 - val_loss: 0.7896 - val_accuracy: 0.8558\n",
            "Epoch 11/20\n",
            "30/30 [==============================] - 1s 20ms/step - loss: 0.0162 - accuracy: 1.0000 - val_loss: 0.7950 - val_accuracy: 0.8572\n",
            "Epoch 12/20\n",
            "30/30 [==============================] - 1s 20ms/step - loss: 0.0156 - accuracy: 1.0000 - val_loss: 0.8153 - val_accuracy: 0.8505\n",
            "Epoch 13/20\n",
            "30/30 [==============================] - 1s 20ms/step - loss: 0.0157 - accuracy: 1.0000 - val_loss: 0.8048 - val_accuracy: 0.8564\n",
            "Epoch 14/20\n",
            "30/30 [==============================] - 1s 20ms/step - loss: 0.0147 - accuracy: 1.0000 - val_loss: 0.8156 - val_accuracy: 0.8544\n",
            "Epoch 15/20\n",
            "30/30 [==============================] - 1s 20ms/step - loss: 0.0141 - accuracy: 1.0000 - val_loss: 0.8093 - val_accuracy: 0.8564\n",
            "Epoch 16/20\n",
            "30/30 [==============================] - 1s 23ms/step - loss: 0.0139 - accuracy: 1.0000 - val_loss: 0.8118 - val_accuracy: 0.8555\n",
            "Epoch 17/20\n",
            "30/30 [==============================] - 1s 20ms/step - loss: 0.0135 - accuracy: 1.0000 - val_loss: 0.8158 - val_accuracy: 0.8543\n",
            "Epoch 18/20\n",
            "30/30 [==============================] - 1s 20ms/step - loss: 0.0130 - accuracy: 1.0000 - val_loss: 0.8264 - val_accuracy: 0.8563\n",
            "Epoch 19/20\n",
            "30/30 [==============================] - 1s 19ms/step - loss: 0.0127 - accuracy: 1.0000 - val_loss: 0.8401 - val_accuracy: 0.8515\n",
            "Epoch 20/20\n",
            "30/30 [==============================] - 1s 20ms/step - loss: 0.0122 - accuracy: 1.0000 - val_loss: 0.8751 - val_accuracy: 0.8447\n"
          ]
        },
        {
          "output_type": "display_data",
          "data": {
            "text/plain": [
              "<Figure size 432x288 with 1 Axes>"
            ],
            "image/png": "[encoded data removed]"
          },
          "metadata": {
            "needs_background": "light"
          }
        }
      ]
    }
  ]
}